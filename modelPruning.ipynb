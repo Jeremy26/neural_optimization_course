{
  "nbformat": 4,
  "nbformat_minor": 0,
  "metadata": {
    "kernelspec": {
      "language": "python",
      "display_name": "Python 3",
      "name": "python3"
    },
    "language_info": {
      "name": "python",
      "version": "3.7.10",
      "mimetype": "text/x-python",
      "codemirror_mode": {
        "name": "ipython",
        "version": 3
      },
      "pygments_lexer": "ipython3",
      "nbconvert_exporter": "python",
      "file_extension": ".py"
    },
    "colab": {
      "name": "modelPruning.ipynb",
      "provenance": [],
      "collapsed_sections": [],
      "include_colab_link": true
    },
    "accelerator": "GPU",
    "widgets": {
      "application/vnd.jupyter.widget-state+json": {
        "03524a3cc3194e29976d02e8dbfd2e0b": {
          "model_module": "@jupyter-widgets/controls",
          "model_name": "HBoxModel",
          "model_module_version": "1.5.0",
          "state": {
            "_view_name": "HBoxView",
            "_dom_classes": [],
            "_model_name": "HBoxModel",
            "_view_module": "@jupyter-widgets/controls",
            "_model_module_version": "1.5.0",
            "_view_count": null,
            "_view_module_version": "1.5.0",
            "box_style": "",
            "layout": "IPY_MODEL_ede054d1d01745aa880686fe50efa1a4",
            "_model_module": "@jupyter-widgets/controls",
            "children": [
              "IPY_MODEL_4661e4639bfa4e3297c935c0ef228fd4",
              "IPY_MODEL_858cffc13d804d29b8aa349062da6709",
              "IPY_MODEL_90c738ae46e241ec9e4cdec3f5bba713"
            ]
          }
        },
        "ede054d1d01745aa880686fe50efa1a4": {
          "model_module": "@jupyter-widgets/base",
          "model_name": "LayoutModel",
          "model_module_version": "1.2.0",
          "state": {
            "_view_name": "LayoutView",
            "grid_template_rows": null,
            "right": null,
            "justify_content": null,
            "_view_module": "@jupyter-widgets/base",
            "overflow": null,
            "_model_module_version": "1.2.0",
            "_view_count": null,
            "flex_flow": null,
            "width": null,
            "min_width": null,
            "border": null,
            "align_items": null,
            "bottom": null,
            "_model_module": "@jupyter-widgets/base",
            "top": null,
            "grid_column": null,
            "overflow_y": null,
            "overflow_x": null,
            "grid_auto_flow": null,
            "grid_area": null,
            "grid_template_columns": null,
            "flex": null,
            "_model_name": "LayoutModel",
            "justify_items": null,
            "grid_row": null,
            "max_height": null,
            "align_content": null,
            "visibility": null,
            "align_self": null,
            "height": null,
            "min_height": null,
            "padding": null,
            "grid_auto_rows": null,
            "grid_gap": null,
            "max_width": null,
            "order": null,
            "_view_module_version": "1.2.0",
            "grid_template_areas": null,
            "object_position": null,
            "object_fit": null,
            "grid_auto_columns": null,
            "margin": null,
            "display": null,
            "left": null
          }
        },
        "4661e4639bfa4e3297c935c0ef228fd4": {
          "model_module": "@jupyter-widgets/controls",
          "model_name": "HTMLModel",
          "model_module_version": "1.5.0",
          "state": {
            "_view_name": "HTMLView",
            "style": "IPY_MODEL_8d45c345d89e45a6b4f0a4c8d0dae58d",
            "_dom_classes": [],
            "description": "",
            "_model_name": "HTMLModel",
            "placeholder": "​",
            "_view_module": "@jupyter-widgets/controls",
            "_model_module_version": "1.5.0",
            "value": "",
            "_view_count": null,
            "_view_module_version": "1.5.0",
            "description_tooltip": null,
            "_model_module": "@jupyter-widgets/controls",
            "layout": "IPY_MODEL_db618c47ed314280a96865981619906b"
          }
        },
        "858cffc13d804d29b8aa349062da6709": {
          "model_module": "@jupyter-widgets/controls",
          "model_name": "FloatProgressModel",
          "model_module_version": "1.5.0",
          "state": {
            "_view_name": "ProgressView",
            "style": "IPY_MODEL_ae56231740bc4efda8787ff1c6f45623",
            "_dom_classes": [],
            "description": "",
            "_model_name": "FloatProgressModel",
            "bar_style": "success",
            "max": 26421880,
            "_view_module": "@jupyter-widgets/controls",
            "_model_module_version": "1.5.0",
            "value": 26421880,
            "_view_count": null,
            "_view_module_version": "1.5.0",
            "orientation": "horizontal",
            "min": 0,
            "description_tooltip": null,
            "_model_module": "@jupyter-widgets/controls",
            "layout": "IPY_MODEL_b5fafc3084164adaa10a51091cfbe22a"
          }
        },
        "90c738ae46e241ec9e4cdec3f5bba713": {
          "model_module": "@jupyter-widgets/controls",
          "model_name": "HTMLModel",
          "model_module_version": "1.5.0",
          "state": {
            "_view_name": "HTMLView",
            "style": "IPY_MODEL_000757dea69d4d879066374f5f06948f",
            "_dom_classes": [],
            "description": "",
            "_model_name": "HTMLModel",
            "placeholder": "​",
            "_view_module": "@jupyter-widgets/controls",
            "_model_module_version": "1.5.0",
            "value": " 26422272/? [00:02&lt;00:00, 21683544.96it/s]",
            "_view_count": null,
            "_view_module_version": "1.5.0",
            "description_tooltip": null,
            "_model_module": "@jupyter-widgets/controls",
            "layout": "IPY_MODEL_ba3eb0a646ae4ec39d639bd1577fd41e"
          }
        },
        "8d45c345d89e45a6b4f0a4c8d0dae58d": {
          "model_module": "@jupyter-widgets/controls",
          "model_name": "DescriptionStyleModel",
          "model_module_version": "1.5.0",
          "state": {
            "_view_name": "StyleView",
            "_model_name": "DescriptionStyleModel",
            "description_width": "",
            "_view_module": "@jupyter-widgets/base",
            "_model_module_version": "1.5.0",
            "_view_count": null,
            "_view_module_version": "1.2.0",
            "_model_module": "@jupyter-widgets/controls"
          }
        },
        "db618c47ed314280a96865981619906b": {
          "model_module": "@jupyter-widgets/base",
          "model_name": "LayoutModel",
          "model_module_version": "1.2.0",
          "state": {
            "_view_name": "LayoutView",
            "grid_template_rows": null,
            "right": null,
            "justify_content": null,
            "_view_module": "@jupyter-widgets/base",
            "overflow": null,
            "_model_module_version": "1.2.0",
            "_view_count": null,
            "flex_flow": null,
            "width": null,
            "min_width": null,
            "border": null,
            "align_items": null,
            "bottom": null,
            "_model_module": "@jupyter-widgets/base",
            "top": null,
            "grid_column": null,
            "overflow_y": null,
            "overflow_x": null,
            "grid_auto_flow": null,
            "grid_area": null,
            "grid_template_columns": null,
            "flex": null,
            "_model_name": "LayoutModel",
            "justify_items": null,
            "grid_row": null,
            "max_height": null,
            "align_content": null,
            "visibility": null,
            "align_self": null,
            "height": null,
            "min_height": null,
            "padding": null,
            "grid_auto_rows": null,
            "grid_gap": null,
            "max_width": null,
            "order": null,
            "_view_module_version": "1.2.0",
            "grid_template_areas": null,
            "object_position": null,
            "object_fit": null,
            "grid_auto_columns": null,
            "margin": null,
            "display": null,
            "left": null
          }
        },
        "ae56231740bc4efda8787ff1c6f45623": {
          "model_module": "@jupyter-widgets/controls",
          "model_name": "ProgressStyleModel",
          "model_module_version": "1.5.0",
          "state": {
            "_view_name": "StyleView",
            "_model_name": "ProgressStyleModel",
            "description_width": "",
            "_view_module": "@jupyter-widgets/base",
            "_model_module_version": "1.5.0",
            "_view_count": null,
            "_view_module_version": "1.2.0",
            "bar_color": null,
            "_model_module": "@jupyter-widgets/controls"
          }
        },
        "b5fafc3084164adaa10a51091cfbe22a": {
          "model_module": "@jupyter-widgets/base",
          "model_name": "LayoutModel",
          "model_module_version": "1.2.0",
          "state": {
            "_view_name": "LayoutView",
            "grid_template_rows": null,
            "right": null,
            "justify_content": null,
            "_view_module": "@jupyter-widgets/base",
            "overflow": null,
            "_model_module_version": "1.2.0",
            "_view_count": null,
            "flex_flow": null,
            "width": null,
            "min_width": null,
            "border": null,
            "align_items": null,
            "bottom": null,
            "_model_module": "@jupyter-widgets/base",
            "top": null,
            "grid_column": null,
            "overflow_y": null,
            "overflow_x": null,
            "grid_auto_flow": null,
            "grid_area": null,
            "grid_template_columns": null,
            "flex": null,
            "_model_name": "LayoutModel",
            "justify_items": null,
            "grid_row": null,
            "max_height": null,
            "align_content": null,
            "visibility": null,
            "align_self": null,
            "height": null,
            "min_height": null,
            "padding": null,
            "grid_auto_rows": null,
            "grid_gap": null,
            "max_width": null,
            "order": null,
            "_view_module_version": "1.2.0",
            "grid_template_areas": null,
            "object_position": null,
            "object_fit": null,
            "grid_auto_columns": null,
            "margin": null,
            "display": null,
            "left": null
          }
        },
        "000757dea69d4d879066374f5f06948f": {
          "model_module": "@jupyter-widgets/controls",
          "model_name": "DescriptionStyleModel",
          "model_module_version": "1.5.0",
          "state": {
            "_view_name": "StyleView",
            "_model_name": "DescriptionStyleModel",
            "description_width": "",
            "_view_module": "@jupyter-widgets/base",
            "_model_module_version": "1.5.0",
            "_view_count": null,
            "_view_module_version": "1.2.0",
            "_model_module": "@jupyter-widgets/controls"
          }
        },
        "ba3eb0a646ae4ec39d639bd1577fd41e": {
          "model_module": "@jupyter-widgets/base",
          "model_name": "LayoutModel",
          "model_module_version": "1.2.0",
          "state": {
            "_view_name": "LayoutView",
            "grid_template_rows": null,
            "right": null,
            "justify_content": null,
            "_view_module": "@jupyter-widgets/base",
            "overflow": null,
            "_model_module_version": "1.2.0",
            "_view_count": null,
            "flex_flow": null,
            "width": null,
            "min_width": null,
            "border": null,
            "align_items": null,
            "bottom": null,
            "_model_module": "@jupyter-widgets/base",
            "top": null,
            "grid_column": null,
            "overflow_y": null,
            "overflow_x": null,
            "grid_auto_flow": null,
            "grid_area": null,
            "grid_template_columns": null,
            "flex": null,
            "_model_name": "LayoutModel",
            "justify_items": null,
            "grid_row": null,
            "max_height": null,
            "align_content": null,
            "visibility": null,
            "align_self": null,
            "height": null,
            "min_height": null,
            "padding": null,
            "grid_auto_rows": null,
            "grid_gap": null,
            "max_width": null,
            "order": null,
            "_view_module_version": "1.2.0",
            "grid_template_areas": null,
            "object_position": null,
            "object_fit": null,
            "grid_auto_columns": null,
            "margin": null,
            "display": null,
            "left": null
          }
        },
        "fc3969de9e864c9cb31db9021046490d": {
          "model_module": "@jupyter-widgets/controls",
          "model_name": "HBoxModel",
          "model_module_version": "1.5.0",
          "state": {
            "_view_name": "HBoxView",
            "_dom_classes": [],
            "_model_name": "HBoxModel",
            "_view_module": "@jupyter-widgets/controls",
            "_model_module_version": "1.5.0",
            "_view_count": null,
            "_view_module_version": "1.5.0",
            "box_style": "",
            "layout": "IPY_MODEL_d3feaf8ad38e416cb585ef4259d908ac",
            "_model_module": "@jupyter-widgets/controls",
            "children": [
              "IPY_MODEL_e71f75ecd99d410bb949d4a25712574d",
              "IPY_MODEL_fe0960dbe4f343db9c055a89f805a14a",
              "IPY_MODEL_ad206dc8f50d41b0883bbf1f32500962"
            ]
          }
        },
        "d3feaf8ad38e416cb585ef4259d908ac": {
          "model_module": "@jupyter-widgets/base",
          "model_name": "LayoutModel",
          "model_module_version": "1.2.0",
          "state": {
            "_view_name": "LayoutView",
            "grid_template_rows": null,
            "right": null,
            "justify_content": null,
            "_view_module": "@jupyter-widgets/base",
            "overflow": null,
            "_model_module_version": "1.2.0",
            "_view_count": null,
            "flex_flow": null,
            "width": null,
            "min_width": null,
            "border": null,
            "align_items": null,
            "bottom": null,
            "_model_module": "@jupyter-widgets/base",
            "top": null,
            "grid_column": null,
            "overflow_y": null,
            "overflow_x": null,
            "grid_auto_flow": null,
            "grid_area": null,
            "grid_template_columns": null,
            "flex": null,
            "_model_name": "LayoutModel",
            "justify_items": null,
            "grid_row": null,
            "max_height": null,
            "align_content": null,
            "visibility": null,
            "align_self": null,
            "height": null,
            "min_height": null,
            "padding": null,
            "grid_auto_rows": null,
            "grid_gap": null,
            "max_width": null,
            "order": null,
            "_view_module_version": "1.2.0",
            "grid_template_areas": null,
            "object_position": null,
            "object_fit": null,
            "grid_auto_columns": null,
            "margin": null,
            "display": null,
            "left": null
          }
        },
        "e71f75ecd99d410bb949d4a25712574d": {
          "model_module": "@jupyter-widgets/controls",
          "model_name": "HTMLModel",
          "model_module_version": "1.5.0",
          "state": {
            "_view_name": "HTMLView",
            "style": "IPY_MODEL_e89c726c6d1b46f796e6978fd5140633",
            "_dom_classes": [],
            "description": "",
            "_model_name": "HTMLModel",
            "placeholder": "​",
            "_view_module": "@jupyter-widgets/controls",
            "_model_module_version": "1.5.0",
            "value": "",
            "_view_count": null,
            "_view_module_version": "1.5.0",
            "description_tooltip": null,
            "_model_module": "@jupyter-widgets/controls",
            "layout": "IPY_MODEL_0d652d958bad4a8e829fc4edaca30ec5"
          }
        },
        "fe0960dbe4f343db9c055a89f805a14a": {
          "model_module": "@jupyter-widgets/controls",
          "model_name": "FloatProgressModel",
          "model_module_version": "1.5.0",
          "state": {
            "_view_name": "ProgressView",
            "style": "IPY_MODEL_11f4c21ab2b1410795dc27574272249c",
            "_dom_classes": [],
            "description": "",
            "_model_name": "FloatProgressModel",
            "bar_style": "success",
            "max": 29515,
            "_view_module": "@jupyter-widgets/controls",
            "_model_module_version": "1.5.0",
            "value": 29515,
            "_view_count": null,
            "_view_module_version": "1.5.0",
            "orientation": "horizontal",
            "min": 0,
            "description_tooltip": null,
            "_model_module": "@jupyter-widgets/controls",
            "layout": "IPY_MODEL_8fc6ca1aa5f643429a602ceaff7c4a08"
          }
        },
        "ad206dc8f50d41b0883bbf1f32500962": {
          "model_module": "@jupyter-widgets/controls",
          "model_name": "HTMLModel",
          "model_module_version": "1.5.0",
          "state": {
            "_view_name": "HTMLView",
            "style": "IPY_MODEL_a9be0085b61248808d0d47267c20ace1",
            "_dom_classes": [],
            "description": "",
            "_model_name": "HTMLModel",
            "placeholder": "​",
            "_view_module": "@jupyter-widgets/controls",
            "_model_module_version": "1.5.0",
            "value": " 29696/? [00:00&lt;00:00, 104153.93it/s]",
            "_view_count": null,
            "_view_module_version": "1.5.0",
            "description_tooltip": null,
            "_model_module": "@jupyter-widgets/controls",
            "layout": "IPY_MODEL_dd6eb4f1360045ad9a55b27816645519"
          }
        },
        "e89c726c6d1b46f796e6978fd5140633": {
          "model_module": "@jupyter-widgets/controls",
          "model_name": "DescriptionStyleModel",
          "model_module_version": "1.5.0",
          "state": {
            "_view_name": "StyleView",
            "_model_name": "DescriptionStyleModel",
            "description_width": "",
            "_view_module": "@jupyter-widgets/base",
            "_model_module_version": "1.5.0",
            "_view_count": null,
            "_view_module_version": "1.2.0",
            "_model_module": "@jupyter-widgets/controls"
          }
        },
        "0d652d958bad4a8e829fc4edaca30ec5": {
          "model_module": "@jupyter-widgets/base",
          "model_name": "LayoutModel",
          "model_module_version": "1.2.0",
          "state": {
            "_view_name": "LayoutView",
            "grid_template_rows": null,
            "right": null,
            "justify_content": null,
            "_view_module": "@jupyter-widgets/base",
            "overflow": null,
            "_model_module_version": "1.2.0",
            "_view_count": null,
            "flex_flow": null,
            "width": null,
            "min_width": null,
            "border": null,
            "align_items": null,
            "bottom": null,
            "_model_module": "@jupyter-widgets/base",
            "top": null,
            "grid_column": null,
            "overflow_y": null,
            "overflow_x": null,
            "grid_auto_flow": null,
            "grid_area": null,
            "grid_template_columns": null,
            "flex": null,
            "_model_name": "LayoutModel",
            "justify_items": null,
            "grid_row": null,
            "max_height": null,
            "align_content": null,
            "visibility": null,
            "align_self": null,
            "height": null,
            "min_height": null,
            "padding": null,
            "grid_auto_rows": null,
            "grid_gap": null,
            "max_width": null,
            "order": null,
            "_view_module_version": "1.2.0",
            "grid_template_areas": null,
            "object_position": null,
            "object_fit": null,
            "grid_auto_columns": null,
            "margin": null,
            "display": null,
            "left": null
          }
        },
        "11f4c21ab2b1410795dc27574272249c": {
          "model_module": "@jupyter-widgets/controls",
          "model_name": "ProgressStyleModel",
          "model_module_version": "1.5.0",
          "state": {
            "_view_name": "StyleView",
            "_model_name": "ProgressStyleModel",
            "description_width": "",
            "_view_module": "@jupyter-widgets/base",
            "_model_module_version": "1.5.0",
            "_view_count": null,
            "_view_module_version": "1.2.0",
            "bar_color": null,
            "_model_module": "@jupyter-widgets/controls"
          }
        },
        "8fc6ca1aa5f643429a602ceaff7c4a08": {
          "model_module": "@jupyter-widgets/base",
          "model_name": "LayoutModel",
          "model_module_version": "1.2.0",
          "state": {
            "_view_name": "LayoutView",
            "grid_template_rows": null,
            "right": null,
            "justify_content": null,
            "_view_module": "@jupyter-widgets/base",
            "overflow": null,
            "_model_module_version": "1.2.0",
            "_view_count": null,
            "flex_flow": null,
            "width": null,
            "min_width": null,
            "border": null,
            "align_items": null,
            "bottom": null,
            "_model_module": "@jupyter-widgets/base",
            "top": null,
            "grid_column": null,
            "overflow_y": null,
            "overflow_x": null,
            "grid_auto_flow": null,
            "grid_area": null,
            "grid_template_columns": null,
            "flex": null,
            "_model_name": "LayoutModel",
            "justify_items": null,
            "grid_row": null,
            "max_height": null,
            "align_content": null,
            "visibility": null,
            "align_self": null,
            "height": null,
            "min_height": null,
            "padding": null,
            "grid_auto_rows": null,
            "grid_gap": null,
            "max_width": null,
            "order": null,
            "_view_module_version": "1.2.0",
            "grid_template_areas": null,
            "object_position": null,
            "object_fit": null,
            "grid_auto_columns": null,
            "margin": null,
            "display": null,
            "left": null
          }
        },
        "a9be0085b61248808d0d47267c20ace1": {
          "model_module": "@jupyter-widgets/controls",
          "model_name": "DescriptionStyleModel",
          "model_module_version": "1.5.0",
          "state": {
            "_view_name": "StyleView",
            "_model_name": "DescriptionStyleModel",
            "description_width": "",
            "_view_module": "@jupyter-widgets/base",
            "_model_module_version": "1.5.0",
            "_view_count": null,
            "_view_module_version": "1.2.0",
            "_model_module": "@jupyter-widgets/controls"
          }
        },
        "dd6eb4f1360045ad9a55b27816645519": {
          "model_module": "@jupyter-widgets/base",
          "model_name": "LayoutModel",
          "model_module_version": "1.2.0",
          "state": {
            "_view_name": "LayoutView",
            "grid_template_rows": null,
            "right": null,
            "justify_content": null,
            "_view_module": "@jupyter-widgets/base",
            "overflow": null,
            "_model_module_version": "1.2.0",
            "_view_count": null,
            "flex_flow": null,
            "width": null,
            "min_width": null,
            "border": null,
            "align_items": null,
            "bottom": null,
            "_model_module": "@jupyter-widgets/base",
            "top": null,
            "grid_column": null,
            "overflow_y": null,
            "overflow_x": null,
            "grid_auto_flow": null,
            "grid_area": null,
            "grid_template_columns": null,
            "flex": null,
            "_model_name": "LayoutModel",
            "justify_items": null,
            "grid_row": null,
            "max_height": null,
            "align_content": null,
            "visibility": null,
            "align_self": null,
            "height": null,
            "min_height": null,
            "padding": null,
            "grid_auto_rows": null,
            "grid_gap": null,
            "max_width": null,
            "order": null,
            "_view_module_version": "1.2.0",
            "grid_template_areas": null,
            "object_position": null,
            "object_fit": null,
            "grid_auto_columns": null,
            "margin": null,
            "display": null,
            "left": null
          }
        },
        "b8bcc8654b7d4d4c8f5991d283a12a95": {
          "model_module": "@jupyter-widgets/controls",
          "model_name": "HBoxModel",
          "model_module_version": "1.5.0",
          "state": {
            "_view_name": "HBoxView",
            "_dom_classes": [],
            "_model_name": "HBoxModel",
            "_view_module": "@jupyter-widgets/controls",
            "_model_module_version": "1.5.0",
            "_view_count": null,
            "_view_module_version": "1.5.0",
            "box_style": "",
            "layout": "IPY_MODEL_195bb1fa2539419c99105bb1c3ed088f",
            "_model_module": "@jupyter-widgets/controls",
            "children": [
              "IPY_MODEL_eb96aabe0f294d09b22519b6726fdb47",
              "IPY_MODEL_c875eaac4da5422f8f3f5d94355fba5a",
              "IPY_MODEL_99035a1e679f44b8a2b18fa74efd91be"
            ]
          }
        },
        "195bb1fa2539419c99105bb1c3ed088f": {
          "model_module": "@jupyter-widgets/base",
          "model_name": "LayoutModel",
          "model_module_version": "1.2.0",
          "state": {
            "_view_name": "LayoutView",
            "grid_template_rows": null,
            "right": null,
            "justify_content": null,
            "_view_module": "@jupyter-widgets/base",
            "overflow": null,
            "_model_module_version": "1.2.0",
            "_view_count": null,
            "flex_flow": null,
            "width": null,
            "min_width": null,
            "border": null,
            "align_items": null,
            "bottom": null,
            "_model_module": "@jupyter-widgets/base",
            "top": null,
            "grid_column": null,
            "overflow_y": null,
            "overflow_x": null,
            "grid_auto_flow": null,
            "grid_area": null,
            "grid_template_columns": null,
            "flex": null,
            "_model_name": "LayoutModel",
            "justify_items": null,
            "grid_row": null,
            "max_height": null,
            "align_content": null,
            "visibility": null,
            "align_self": null,
            "height": null,
            "min_height": null,
            "padding": null,
            "grid_auto_rows": null,
            "grid_gap": null,
            "max_width": null,
            "order": null,
            "_view_module_version": "1.2.0",
            "grid_template_areas": null,
            "object_position": null,
            "object_fit": null,
            "grid_auto_columns": null,
            "margin": null,
            "display": null,
            "left": null
          }
        },
        "eb96aabe0f294d09b22519b6726fdb47": {
          "model_module": "@jupyter-widgets/controls",
          "model_name": "HTMLModel",
          "model_module_version": "1.5.0",
          "state": {
            "_view_name": "HTMLView",
            "style": "IPY_MODEL_83b21d264bfd4953880d5fb4fb9c02d1",
            "_dom_classes": [],
            "description": "",
            "_model_name": "HTMLModel",
            "placeholder": "​",
            "_view_module": "@jupyter-widgets/controls",
            "_model_module_version": "1.5.0",
            "value": "",
            "_view_count": null,
            "_view_module_version": "1.5.0",
            "description_tooltip": null,
            "_model_module": "@jupyter-widgets/controls",
            "layout": "IPY_MODEL_ed1cb94f08324f6abcaaf1a841686e4b"
          }
        },
        "c875eaac4da5422f8f3f5d94355fba5a": {
          "model_module": "@jupyter-widgets/controls",
          "model_name": "FloatProgressModel",
          "model_module_version": "1.5.0",
          "state": {
            "_view_name": "ProgressView",
            "style": "IPY_MODEL_dce7395eed3c499e92075836e297d261",
            "_dom_classes": [],
            "description": "",
            "_model_name": "FloatProgressModel",
            "bar_style": "success",
            "max": 4422102,
            "_view_module": "@jupyter-widgets/controls",
            "_model_module_version": "1.5.0",
            "value": 4422102,
            "_view_count": null,
            "_view_module_version": "1.5.0",
            "orientation": "horizontal",
            "min": 0,
            "description_tooltip": null,
            "_model_module": "@jupyter-widgets/controls",
            "layout": "IPY_MODEL_7bd2586d7e564497858846e9ca6873cf"
          }
        },
        "99035a1e679f44b8a2b18fa74efd91be": {
          "model_module": "@jupyter-widgets/controls",
          "model_name": "HTMLModel",
          "model_module_version": "1.5.0",
          "state": {
            "_view_name": "HTMLView",
            "style": "IPY_MODEL_013817af91384c6dac1e9c32556379a9",
            "_dom_classes": [],
            "description": "",
            "_model_name": "HTMLModel",
            "placeholder": "​",
            "_view_module": "@jupyter-widgets/controls",
            "_model_module_version": "1.5.0",
            "value": " 4422656/? [00:00&lt;00:00, 8442830.55it/s]",
            "_view_count": null,
            "_view_module_version": "1.5.0",
            "description_tooltip": null,
            "_model_module": "@jupyter-widgets/controls",
            "layout": "IPY_MODEL_367961d3207c418f98c1b6bcec6ec437"
          }
        },
        "83b21d264bfd4953880d5fb4fb9c02d1": {
          "model_module": "@jupyter-widgets/controls",
          "model_name": "DescriptionStyleModel",
          "model_module_version": "1.5.0",
          "state": {
            "_view_name": "StyleView",
            "_model_name": "DescriptionStyleModel",
            "description_width": "",
            "_view_module": "@jupyter-widgets/base",
            "_model_module_version": "1.5.0",
            "_view_count": null,
            "_view_module_version": "1.2.0",
            "_model_module": "@jupyter-widgets/controls"
          }
        },
        "ed1cb94f08324f6abcaaf1a841686e4b": {
          "model_module": "@jupyter-widgets/base",
          "model_name": "LayoutModel",
          "model_module_version": "1.2.0",
          "state": {
            "_view_name": "LayoutView",
            "grid_template_rows": null,
            "right": null,
            "justify_content": null,
            "_view_module": "@jupyter-widgets/base",
            "overflow": null,
            "_model_module_version": "1.2.0",
            "_view_count": null,
            "flex_flow": null,
            "width": null,
            "min_width": null,
            "border": null,
            "align_items": null,
            "bottom": null,
            "_model_module": "@jupyter-widgets/base",
            "top": null,
            "grid_column": null,
            "overflow_y": null,
            "overflow_x": null,
            "grid_auto_flow": null,
            "grid_area": null,
            "grid_template_columns": null,
            "flex": null,
            "_model_name": "LayoutModel",
            "justify_items": null,
            "grid_row": null,
            "max_height": null,
            "align_content": null,
            "visibility": null,
            "align_self": null,
            "height": null,
            "min_height": null,
            "padding": null,
            "grid_auto_rows": null,
            "grid_gap": null,
            "max_width": null,
            "order": null,
            "_view_module_version": "1.2.0",
            "grid_template_areas": null,
            "object_position": null,
            "object_fit": null,
            "grid_auto_columns": null,
            "margin": null,
            "display": null,
            "left": null
          }
        },
        "dce7395eed3c499e92075836e297d261": {
          "model_module": "@jupyter-widgets/controls",
          "model_name": "ProgressStyleModel",
          "model_module_version": "1.5.0",
          "state": {
            "_view_name": "StyleView",
            "_model_name": "ProgressStyleModel",
            "description_width": "",
            "_view_module": "@jupyter-widgets/base",
            "_model_module_version": "1.5.0",
            "_view_count": null,
            "_view_module_version": "1.2.0",
            "bar_color": null,
            "_model_module": "@jupyter-widgets/controls"
          }
        },
        "7bd2586d7e564497858846e9ca6873cf": {
          "model_module": "@jupyter-widgets/base",
          "model_name": "LayoutModel",
          "model_module_version": "1.2.0",
          "state": {
            "_view_name": "LayoutView",
            "grid_template_rows": null,
            "right": null,
            "justify_content": null,
            "_view_module": "@jupyter-widgets/base",
            "overflow": null,
            "_model_module_version": "1.2.0",
            "_view_count": null,
            "flex_flow": null,
            "width": null,
            "min_width": null,
            "border": null,
            "align_items": null,
            "bottom": null,
            "_model_module": "@jupyter-widgets/base",
            "top": null,
            "grid_column": null,
            "overflow_y": null,
            "overflow_x": null,
            "grid_auto_flow": null,
            "grid_area": null,
            "grid_template_columns": null,
            "flex": null,
            "_model_name": "LayoutModel",
            "justify_items": null,
            "grid_row": null,
            "max_height": null,
            "align_content": null,
            "visibility": null,
            "align_self": null,
            "height": null,
            "min_height": null,
            "padding": null,
            "grid_auto_rows": null,
            "grid_gap": null,
            "max_width": null,
            "order": null,
            "_view_module_version": "1.2.0",
            "grid_template_areas": null,
            "object_position": null,
            "object_fit": null,
            "grid_auto_columns": null,
            "margin": null,
            "display": null,
            "left": null
          }
        },
        "013817af91384c6dac1e9c32556379a9": {
          "model_module": "@jupyter-widgets/controls",
          "model_name": "DescriptionStyleModel",
          "model_module_version": "1.5.0",
          "state": {
            "_view_name": "StyleView",
            "_model_name": "DescriptionStyleModel",
            "description_width": "",
            "_view_module": "@jupyter-widgets/base",
            "_model_module_version": "1.5.0",
            "_view_count": null,
            "_view_module_version": "1.2.0",
            "_model_module": "@jupyter-widgets/controls"
          }
        },
        "367961d3207c418f98c1b6bcec6ec437": {
          "model_module": "@jupyter-widgets/base",
          "model_name": "LayoutModel",
          "model_module_version": "1.2.0",
          "state": {
            "_view_name": "LayoutView",
            "grid_template_rows": null,
            "right": null,
            "justify_content": null,
            "_view_module": "@jupyter-widgets/base",
            "overflow": null,
            "_model_module_version": "1.2.0",
            "_view_count": null,
            "flex_flow": null,
            "width": null,
            "min_width": null,
            "border": null,
            "align_items": null,
            "bottom": null,
            "_model_module": "@jupyter-widgets/base",
            "top": null,
            "grid_column": null,
            "overflow_y": null,
            "overflow_x": null,
            "grid_auto_flow": null,
            "grid_area": null,
            "grid_template_columns": null,
            "flex": null,
            "_model_name": "LayoutModel",
            "justify_items": null,
            "grid_row": null,
            "max_height": null,
            "align_content": null,
            "visibility": null,
            "align_self": null,
            "height": null,
            "min_height": null,
            "padding": null,
            "grid_auto_rows": null,
            "grid_gap": null,
            "max_width": null,
            "order": null,
            "_view_module_version": "1.2.0",
            "grid_template_areas": null,
            "object_position": null,
            "object_fit": null,
            "grid_auto_columns": null,
            "margin": null,
            "display": null,
            "left": null
          }
        },
        "df2b78fcb3db4d7b9801be516b3df8bb": {
          "model_module": "@jupyter-widgets/controls",
          "model_name": "HBoxModel",
          "model_module_version": "1.5.0",
          "state": {
            "_view_name": "HBoxView",
            "_dom_classes": [],
            "_model_name": "HBoxModel",
            "_view_module": "@jupyter-widgets/controls",
            "_model_module_version": "1.5.0",
            "_view_count": null,
            "_view_module_version": "1.5.0",
            "box_style": "",
            "layout": "IPY_MODEL_1d373a7bf77d46b4851eb8a1bfbc9983",
            "_model_module": "@jupyter-widgets/controls",
            "children": [
              "IPY_MODEL_730235f4f82a4216a2fba84e1773a284",
              "IPY_MODEL_137a7b6368ac4141841a6b2ca5157906",
              "IPY_MODEL_16a214bf02274061aacbe2d2eedc5d86"
            ]
          }
        },
        "1d373a7bf77d46b4851eb8a1bfbc9983": {
          "model_module": "@jupyter-widgets/base",
          "model_name": "LayoutModel",
          "model_module_version": "1.2.0",
          "state": {
            "_view_name": "LayoutView",
            "grid_template_rows": null,
            "right": null,
            "justify_content": null,
            "_view_module": "@jupyter-widgets/base",
            "overflow": null,
            "_model_module_version": "1.2.0",
            "_view_count": null,
            "flex_flow": null,
            "width": null,
            "min_width": null,
            "border": null,
            "align_items": null,
            "bottom": null,
            "_model_module": "@jupyter-widgets/base",
            "top": null,
            "grid_column": null,
            "overflow_y": null,
            "overflow_x": null,
            "grid_auto_flow": null,
            "grid_area": null,
            "grid_template_columns": null,
            "flex": null,
            "_model_name": "LayoutModel",
            "justify_items": null,
            "grid_row": null,
            "max_height": null,
            "align_content": null,
            "visibility": null,
            "align_self": null,
            "height": null,
            "min_height": null,
            "padding": null,
            "grid_auto_rows": null,
            "grid_gap": null,
            "max_width": null,
            "order": null,
            "_view_module_version": "1.2.0",
            "grid_template_areas": null,
            "object_position": null,
            "object_fit": null,
            "grid_auto_columns": null,
            "margin": null,
            "display": null,
            "left": null
          }
        },
        "730235f4f82a4216a2fba84e1773a284": {
          "model_module": "@jupyter-widgets/controls",
          "model_name": "HTMLModel",
          "model_module_version": "1.5.0",
          "state": {
            "_view_name": "HTMLView",
            "style": "IPY_MODEL_d58919f9189e46b8832d3984d0f4bd85",
            "_dom_classes": [],
            "description": "",
            "_model_name": "HTMLModel",
            "placeholder": "​",
            "_view_module": "@jupyter-widgets/controls",
            "_model_module_version": "1.5.0",
            "value": "",
            "_view_count": null,
            "_view_module_version": "1.5.0",
            "description_tooltip": null,
            "_model_module": "@jupyter-widgets/controls",
            "layout": "IPY_MODEL_dc8ca3235f7c47ee965e1c88272014db"
          }
        },
        "137a7b6368ac4141841a6b2ca5157906": {
          "model_module": "@jupyter-widgets/controls",
          "model_name": "FloatProgressModel",
          "model_module_version": "1.5.0",
          "state": {
            "_view_name": "ProgressView",
            "style": "IPY_MODEL_a8d08f55d2114a2eaa400eed36e15533",
            "_dom_classes": [],
            "description": "",
            "_model_name": "FloatProgressModel",
            "bar_style": "success",
            "max": 5148,
            "_view_module": "@jupyter-widgets/controls",
            "_model_module_version": "1.5.0",
            "value": 5148,
            "_view_count": null,
            "_view_module_version": "1.5.0",
            "orientation": "horizontal",
            "min": 0,
            "description_tooltip": null,
            "_model_module": "@jupyter-widgets/controls",
            "layout": "IPY_MODEL_2887f8e96a644f7d98d0830e1fea4c03"
          }
        },
        "16a214bf02274061aacbe2d2eedc5d86": {
          "model_module": "@jupyter-widgets/controls",
          "model_name": "HTMLModel",
          "model_module_version": "1.5.0",
          "state": {
            "_view_name": "HTMLView",
            "style": "IPY_MODEL_517455e6a9ae47e7b77df5d0945d0bb8",
            "_dom_classes": [],
            "description": "",
            "_model_name": "HTMLModel",
            "placeholder": "​",
            "_view_module": "@jupyter-widgets/controls",
            "_model_module_version": "1.5.0",
            "value": " 6144/? [00:00&lt;00:00, 151317.38it/s]",
            "_view_count": null,
            "_view_module_version": "1.5.0",
            "description_tooltip": null,
            "_model_module": "@jupyter-widgets/controls",
            "layout": "IPY_MODEL_828663061fe64f5a94973bd53996842a"
          }
        },
        "d58919f9189e46b8832d3984d0f4bd85": {
          "model_module": "@jupyter-widgets/controls",
          "model_name": "DescriptionStyleModel",
          "model_module_version": "1.5.0",
          "state": {
            "_view_name": "StyleView",
            "_model_name": "DescriptionStyleModel",
            "description_width": "",
            "_view_module": "@jupyter-widgets/base",
            "_model_module_version": "1.5.0",
            "_view_count": null,
            "_view_module_version": "1.2.0",
            "_model_module": "@jupyter-widgets/controls"
          }
        },
        "dc8ca3235f7c47ee965e1c88272014db": {
          "model_module": "@jupyter-widgets/base",
          "model_name": "LayoutModel",
          "model_module_version": "1.2.0",
          "state": {
            "_view_name": "LayoutView",
            "grid_template_rows": null,
            "right": null,
            "justify_content": null,
            "_view_module": "@jupyter-widgets/base",
            "overflow": null,
            "_model_module_version": "1.2.0",
            "_view_count": null,
            "flex_flow": null,
            "width": null,
            "min_width": null,
            "border": null,
            "align_items": null,
            "bottom": null,
            "_model_module": "@jupyter-widgets/base",
            "top": null,
            "grid_column": null,
            "overflow_y": null,
            "overflow_x": null,
            "grid_auto_flow": null,
            "grid_area": null,
            "grid_template_columns": null,
            "flex": null,
            "_model_name": "LayoutModel",
            "justify_items": null,
            "grid_row": null,
            "max_height": null,
            "align_content": null,
            "visibility": null,
            "align_self": null,
            "height": null,
            "min_height": null,
            "padding": null,
            "grid_auto_rows": null,
            "grid_gap": null,
            "max_width": null,
            "order": null,
            "_view_module_version": "1.2.0",
            "grid_template_areas": null,
            "object_position": null,
            "object_fit": null,
            "grid_auto_columns": null,
            "margin": null,
            "display": null,
            "left": null
          }
        },
        "a8d08f55d2114a2eaa400eed36e15533": {
          "model_module": "@jupyter-widgets/controls",
          "model_name": "ProgressStyleModel",
          "model_module_version": "1.5.0",
          "state": {
            "_view_name": "StyleView",
            "_model_name": "ProgressStyleModel",
            "description_width": "",
            "_view_module": "@jupyter-widgets/base",
            "_model_module_version": "1.5.0",
            "_view_count": null,
            "_view_module_version": "1.2.0",
            "bar_color": null,
            "_model_module": "@jupyter-widgets/controls"
          }
        },
        "2887f8e96a644f7d98d0830e1fea4c03": {
          "model_module": "@jupyter-widgets/base",
          "model_name": "LayoutModel",
          "model_module_version": "1.2.0",
          "state": {
            "_view_name": "LayoutView",
            "grid_template_rows": null,
            "right": null,
            "justify_content": null,
            "_view_module": "@jupyter-widgets/base",
            "overflow": null,
            "_model_module_version": "1.2.0",
            "_view_count": null,
            "flex_flow": null,
            "width": null,
            "min_width": null,
            "border": null,
            "align_items": null,
            "bottom": null,
            "_model_module": "@jupyter-widgets/base",
            "top": null,
            "grid_column": null,
            "overflow_y": null,
            "overflow_x": null,
            "grid_auto_flow": null,
            "grid_area": null,
            "grid_template_columns": null,
            "flex": null,
            "_model_name": "LayoutModel",
            "justify_items": null,
            "grid_row": null,
            "max_height": null,
            "align_content": null,
            "visibility": null,
            "align_self": null,
            "height": null,
            "min_height": null,
            "padding": null,
            "grid_auto_rows": null,
            "grid_gap": null,
            "max_width": null,
            "order": null,
            "_view_module_version": "1.2.0",
            "grid_template_areas": null,
            "object_position": null,
            "object_fit": null,
            "grid_auto_columns": null,
            "margin": null,
            "display": null,
            "left": null
          }
        },
        "517455e6a9ae47e7b77df5d0945d0bb8": {
          "model_module": "@jupyter-widgets/controls",
          "model_name": "DescriptionStyleModel",
          "model_module_version": "1.5.0",
          "state": {
            "_view_name": "StyleView",
            "_model_name": "DescriptionStyleModel",
            "description_width": "",
            "_view_module": "@jupyter-widgets/base",
            "_model_module_version": "1.5.0",
            "_view_count": null,
            "_view_module_version": "1.2.0",
            "_model_module": "@jupyter-widgets/controls"
          }
        },
        "828663061fe64f5a94973bd53996842a": {
          "model_module": "@jupyter-widgets/base",
          "model_name": "LayoutModel",
          "model_module_version": "1.2.0",
          "state": {
            "_view_name": "LayoutView",
            "grid_template_rows": null,
            "right": null,
            "justify_content": null,
            "_view_module": "@jupyter-widgets/base",
            "overflow": null,
            "_model_module_version": "1.2.0",
            "_view_count": null,
            "flex_flow": null,
            "width": null,
            "min_width": null,
            "border": null,
            "align_items": null,
            "bottom": null,
            "_model_module": "@jupyter-widgets/base",
            "top": null,
            "grid_column": null,
            "overflow_y": null,
            "overflow_x": null,
            "grid_auto_flow": null,
            "grid_area": null,
            "grid_template_columns": null,
            "flex": null,
            "_model_name": "LayoutModel",
            "justify_items": null,
            "grid_row": null,
            "max_height": null,
            "align_content": null,
            "visibility": null,
            "align_self": null,
            "height": null,
            "min_height": null,
            "padding": null,
            "grid_auto_rows": null,
            "grid_gap": null,
            "max_width": null,
            "order": null,
            "_view_module_version": "1.2.0",
            "grid_template_areas": null,
            "object_position": null,
            "object_fit": null,
            "grid_auto_columns": null,
            "margin": null,
            "display": null,
            "left": null
          }
        }
      }
    }
  },
  "cells": [
    {
      "cell_type": "markdown",
      "metadata": {
        "id": "view-in-github",
        "colab_type": "text"
      },
      "source": [
        "<a href=\"https://colab.research.google.com/github/Jeremy26/neural_optimization_course/blob/main/modelPruning.ipynb\" target=\"_parent\"><img src=\"https://colab.research.google.com/assets/colab-badge.svg\" alt=\"Open In Colab\"/></a>"
      ]
    },
    {
      "cell_type": "markdown",
      "metadata": {
        "id": "MMxCcDUqq_j0"
      },
      "source": [
        "# Welcome to the Pruning Workshop!\n",
        "\n",
        "In this workshop, we'll learn the concept of Pruning Neural Network models using Pytorch. We'll do the following tasks:\n",
        "1. Download and use FashionMNIST dataset to setup our data pipeline.\n",
        "2. Define a custom MLP model and calculate the `inference metrics` we learned in the previous workshop for the original model\n",
        "3. Train the custom model on FashionMNIST dataset and record baseline `accuracy`\n",
        "4. Learn different Pruning techniques in Pytorch and how to use them\n",
        "5. Apply different Pruning techniques on the trained model\n",
        "6. Compare metrics of the different pruned models"
      ]
    },
    {
      "cell_type": "code",
      "source": [
        "!wget https://optimization-thinkautonomous.s3.eu-west-3.amazonaws.com/modelPruning_content.zip && unzip -q modelPruning_content.zip && mv modelPruning_content/* ./ && rm modelPruning_content.zip && rm -rf modelPruning_content/"
      ],
      "metadata": {
        "colab": {
          "base_uri": "https://localhost:8080/"
        },
        "id": "m2b9ASYCXDJB",
        "outputId": "6a7f66d2-5162-4b48-c36c-487b43d8a8e5"
      },
      "execution_count": null,
      "outputs": [
        {
          "output_type": "stream",
          "name": "stdout",
          "text": [
            "--2022-01-26 12:29:20--  https://optimization-thinkautonomous.s3.eu-west-3.amazonaws.com/modelPruning_content.zip\n",
            "Resolving optimization-thinkautonomous.s3.eu-west-3.amazonaws.com (optimization-thinkautonomous.s3.eu-west-3.amazonaws.com)... 52.95.156.40\n",
            "Connecting to optimization-thinkautonomous.s3.eu-west-3.amazonaws.com (optimization-thinkautonomous.s3.eu-west-3.amazonaws.com)|52.95.156.40|:443... connected.\n",
            "HTTP request sent, awaiting response... 200 OK\n",
            "Length: 134975 (132K) [application/zip]\n",
            "Saving to: ‘modelPruning_content.zip’\n",
            "\n",
            "modelPruning_conten 100%[===================>] 131.81K   436KB/s    in 0.3s    \n",
            "\n",
            "2022-01-26 12:29:21 (436 KB/s) - ‘modelPruning_content.zip’ saved [134975/134975]\n",
            "\n"
          ]
        }
      ]
    },
    {
      "cell_type": "markdown",
      "source": [
        "### Basic Imports"
      ],
      "metadata": {
        "id": "fF98w4wsUkhs"
      }
    },
    {
      "cell_type": "code",
      "source": [
        "# basic imports\n",
        "import os\n",
        "import random\n",
        "import numpy as np\n",
        "\n",
        "# DL library imports\n",
        "import torch\n",
        "\n",
        "# torch Dataset required imports\n",
        "from torch.utils.data import DataLoader\n",
        "from torchvision import datasets, transforms\n",
        "from torch.utils.data.sampler import SubsetRandomSampler\n",
        "from torch import nn, optim\n",
        "import torch.nn.functional as F"
      ],
      "metadata": {
        "id": "K2OpaXGMl00E"
      },
      "execution_count": null,
      "outputs": []
    },
    {
      "cell_type": "code",
      "source": [
        "def set_seed(seed : int):\n",
        "    \"\"\"Function to make results reproducible\n",
        "    Args:\n",
        "        seed (int): input seed\n",
        "    \"\"\"\n",
        "    random.seed(seed)\n",
        "    np.random.seed(seed)\n",
        "    os.environ[\"PYTHONHASHSEED\"] = str(seed)\n",
        "    torch.manual_seed(seed)\n",
        "    torch.cuda.manual_seed(seed)\n",
        "    torch.backends.cudnn.deterministic = True\n",
        "\n",
        "set_seed(1)"
      ],
      "metadata": {
        "id": "L3Cjf183UQwW"
      },
      "execution_count": null,
      "outputs": []
    },
    {
      "cell_type": "markdown",
      "metadata": {
        "id": "JJjoKpSLratv"
      },
      "source": [
        "## 1 — FashionMNIST Dataset & DataLoader\n",
        "\n",
        "\n",
        "Here, we're going to use the FashionMNIST dataset for this case study.\n",
        "- Fashion MNIST dataset is Zalando's collection of grayscale images of different apparels and their associated labels for Deep Learning research and development\n",
        "- It consists of 60k train images and 10k test images, each of resolution 28 X 28 pixels\n",
        "- The images contain integer values in range [0-255] and there are 10 labels. eg : 0 = T-shirt/top, 1 = Trouser, 2 = Pullover, 3 = Dress etc\n",
        "- [Zalando FashionMNIST git repo](https://github.com/zalandoresearch/fashion-mnist)"
      ]
    },
    {
      "cell_type": "code",
      "metadata": {
        "id": "gKtJfEkirQLG",
        "colab": {
          "base_uri": "https://localhost:8080/",
          "height": 408,
          "referenced_widgets": [
            "03524a3cc3194e29976d02e8dbfd2e0b",
            "ede054d1d01745aa880686fe50efa1a4",
            "4661e4639bfa4e3297c935c0ef228fd4",
            "858cffc13d804d29b8aa349062da6709",
            "90c738ae46e241ec9e4cdec3f5bba713",
            "8d45c345d89e45a6b4f0a4c8d0dae58d",
            "db618c47ed314280a96865981619906b",
            "ae56231740bc4efda8787ff1c6f45623",
            "b5fafc3084164adaa10a51091cfbe22a",
            "000757dea69d4d879066374f5f06948f",
            "ba3eb0a646ae4ec39d639bd1577fd41e",
            "fc3969de9e864c9cb31db9021046490d",
            "d3feaf8ad38e416cb585ef4259d908ac",
            "e71f75ecd99d410bb949d4a25712574d",
            "fe0960dbe4f343db9c055a89f805a14a",
            "ad206dc8f50d41b0883bbf1f32500962",
            "e89c726c6d1b46f796e6978fd5140633",
            "0d652d958bad4a8e829fc4edaca30ec5",
            "11f4c21ab2b1410795dc27574272249c",
            "8fc6ca1aa5f643429a602ceaff7c4a08",
            "a9be0085b61248808d0d47267c20ace1",
            "dd6eb4f1360045ad9a55b27816645519",
            "b8bcc8654b7d4d4c8f5991d283a12a95",
            "195bb1fa2539419c99105bb1c3ed088f",
            "eb96aabe0f294d09b22519b6726fdb47",
            "c875eaac4da5422f8f3f5d94355fba5a",
            "99035a1e679f44b8a2b18fa74efd91be",
            "83b21d264bfd4953880d5fb4fb9c02d1",
            "ed1cb94f08324f6abcaaf1a841686e4b",
            "dce7395eed3c499e92075836e297d261",
            "7bd2586d7e564497858846e9ca6873cf",
            "013817af91384c6dac1e9c32556379a9",
            "367961d3207c418f98c1b6bcec6ec437",
            "df2b78fcb3db4d7b9801be516b3df8bb",
            "1d373a7bf77d46b4851eb8a1bfbc9983",
            "730235f4f82a4216a2fba84e1773a284",
            "137a7b6368ac4141841a6b2ca5157906",
            "16a214bf02274061aacbe2d2eedc5d86",
            "d58919f9189e46b8832d3984d0f4bd85",
            "dc8ca3235f7c47ee965e1c88272014db",
            "a8d08f55d2114a2eaa400eed36e15533",
            "2887f8e96a644f7d98d0830e1fea4c03",
            "517455e6a9ae47e7b77df5d0945d0bb8",
            "828663061fe64f5a94973bd53996842a"
          ]
        },
        "outputId": "235ad664-6876-4d7a-e0ff-df32a111889d"
      },
      "source": [
        "datasetLabels = ['TShirt', 'Trouser', 'Pullover', 'Dress', 'Coat', 'Sandal', 'Shirt', 'Sneaker', 'Bag', 'AnkleBoot']\n",
        "\n",
        "# necessary image transform i.e. convert to Tensor, normalize\n",
        "trainTransform = transforms.Compose([transforms.ToTensor(), transforms.Normalize((0.5,), (0.5,)) ])\n",
        "testTransform  = transforms.Compose([transforms.ToTensor(), transforms.Normalize((0.5,), (0.5,)) ])\n",
        "#train_transform = transform = transforms.Compose ...\n",
        "\n",
        "# Download the Train and Test set\n",
        "trainSet = datasets.FashionMNIST('.', train=True, download=True, transform=trainTransform)\n",
        "testSet = datasets.FashionMNIST('.', train=False, download=True, transform=testTransform)"
      ],
      "execution_count": null,
      "outputs": [
        {
          "output_type": "stream",
          "name": "stdout",
          "text": [
            "Downloading http://fashion-mnist.s3-website.eu-central-1.amazonaws.com/train-images-idx3-ubyte.gz\n",
            "Downloading http://fashion-mnist.s3-website.eu-central-1.amazonaws.com/train-images-idx3-ubyte.gz to ./FashionMNIST/raw/train-images-idx3-ubyte.gz\n"
          ]
        },
        {
          "output_type": "display_data",
          "data": {
            "application/vnd.jupyter.widget-view+json": {
              "model_id": "03524a3cc3194e29976d02e8dbfd2e0b",
              "version_minor": 0,
              "version_major": 2
            },
            "text/plain": [
              "  0%|          | 0/26421880 [00:00<?, ?it/s]"
            ]
          },
          "metadata": {}
        },
        {
          "output_type": "stream",
          "name": "stdout",
          "text": [
            "Extracting ./FashionMNIST/raw/train-images-idx3-ubyte.gz to ./FashionMNIST/raw\n",
            "\n",
            "Downloading http://fashion-mnist.s3-website.eu-central-1.amazonaws.com/train-labels-idx1-ubyte.gz\n",
            "Downloading http://fashion-mnist.s3-website.eu-central-1.amazonaws.com/train-labels-idx1-ubyte.gz to ./FashionMNIST/raw/train-labels-idx1-ubyte.gz\n"
          ]
        },
        {
          "output_type": "display_data",
          "data": {
            "application/vnd.jupyter.widget-view+json": {
              "model_id": "fc3969de9e864c9cb31db9021046490d",
              "version_minor": 0,
              "version_major": 2
            },
            "text/plain": [
              "  0%|          | 0/29515 [00:00<?, ?it/s]"
            ]
          },
          "metadata": {}
        },
        {
          "output_type": "stream",
          "name": "stdout",
          "text": [
            "Extracting ./FashionMNIST/raw/train-labels-idx1-ubyte.gz to ./FashionMNIST/raw\n",
            "\n",
            "Downloading http://fashion-mnist.s3-website.eu-central-1.amazonaws.com/t10k-images-idx3-ubyte.gz\n",
            "Downloading http://fashion-mnist.s3-website.eu-central-1.amazonaws.com/t10k-images-idx3-ubyte.gz to ./FashionMNIST/raw/t10k-images-idx3-ubyte.gz\n"
          ]
        },
        {
          "output_type": "display_data",
          "data": {
            "application/vnd.jupyter.widget-view+json": {
              "model_id": "b8bcc8654b7d4d4c8f5991d283a12a95",
              "version_minor": 0,
              "version_major": 2
            },
            "text/plain": [
              "  0%|          | 0/4422102 [00:00<?, ?it/s]"
            ]
          },
          "metadata": {}
        },
        {
          "output_type": "stream",
          "name": "stdout",
          "text": [
            "Extracting ./FashionMNIST/raw/t10k-images-idx3-ubyte.gz to ./FashionMNIST/raw\n",
            "\n",
            "Downloading http://fashion-mnist.s3-website.eu-central-1.amazonaws.com/t10k-labels-idx1-ubyte.gz\n",
            "Downloading http://fashion-mnist.s3-website.eu-central-1.amazonaws.com/t10k-labels-idx1-ubyte.gz to ./FashionMNIST/raw/t10k-labels-idx1-ubyte.gz\n"
          ]
        },
        {
          "output_type": "display_data",
          "data": {
            "application/vnd.jupyter.widget-view+json": {
              "model_id": "df2b78fcb3db4d7b9801be516b3df8bb",
              "version_minor": 0,
              "version_major": 2
            },
            "text/plain": [
              "  0%|          | 0/5148 [00:00<?, ?it/s]"
            ]
          },
          "metadata": {}
        },
        {
          "output_type": "stream",
          "name": "stdout",
          "text": [
            "Extracting ./FashionMNIST/raw/t10k-labels-idx1-ubyte.gz to ./FashionMNIST/raw\n",
            "\n"
          ]
        }
      ]
    },
    {
      "cell_type": "code",
      "metadata": {
        "id": "-M3AAtqmrpt8"
      },
      "source": [
        "NUM_WORKERS = 1 \n",
        "TEST_BATCH_SIZE  = 64\n",
        "TRAIN_BATCH_SIZE = 16\n",
        "VALID_SIZE = 0.2  # percentage of trainset to be used for validation"
      ],
      "execution_count": null,
      "outputs": []
    },
    {
      "cell_type": "code",
      "source": [
        "# Split the training set indices into training and validation set indices \n",
        "lenTrainSet = len(trainSet)\n",
        "indexList = list(range(lenTrainSet))\n",
        "np.random.shuffle(indexList)\n",
        "splitIndex = int(lenTrainSet * VALID_SIZE)\n",
        "trainIndices, validIndices = indexList[splitIndex:], indexList[:splitIndex]"
      ],
      "metadata": {
        "id": "6LjM75BpnIXt"
      },
      "execution_count": null,
      "outputs": []
    },
    {
      "cell_type": "code",
      "metadata": {
        "id": "p8eoLuPUriUy"
      },
      "source": [
        "# Create Samplers for training and validation set using the indices\n",
        "trainSampler = SubsetRandomSampler(trainIndices)\n",
        "validSampler = SubsetRandomSampler(validIndices)\n",
        "\n",
        "# Create loaders for train, validation and testing set using samplers\n",
        "trainLoader = DataLoader(trainSet, batch_size=TRAIN_BATCH_SIZE, sampler=trainSampler, num_workers=NUM_WORKERS)\n",
        "validLoader = DataLoader(trainSet, batch_size=TEST_BATCH_SIZE,  sampler=validSampler, num_workers=NUM_WORKERS)\n",
        "testLoader  = DataLoader(testSet,  batch_size=TEST_BATCH_SIZE,  shuffle=True,num_workers=NUM_WORKERS)"
      ],
      "execution_count": null,
      "outputs": []
    },
    {
      "cell_type": "code",
      "metadata": {
        "colab": {
          "base_uri": "https://localhost:8080/",
          "height": 281
        },
        "id": "Dux6sdHjr9pH",
        "outputId": "1c103f75-d808-4519-cfff-8be60e3d62e0"
      },
      "source": [
        "# plotting library import\n",
        "import matplotlib.pyplot as plt\n",
        "\n",
        "# view sample from dataset\n",
        "img, label = next(iter(trainLoader))\n",
        "plt.imshow(img[0].numpy().squeeze(), cmap = 'Greys_r')\n",
        "plt.title(f'{datasetLabels[label[0].item()]}')\n",
        "plt.show()"
      ],
      "execution_count": null,
      "outputs": [
        {
          "output_type": "display_data",
          "data": {
            "image/png": "[encoded data removed]",
            "text/plain": [
              "<Figure size 432x288 with 1 Axes>"
            ]
          },
          "metadata": {
            "needs_background": "light"
          }
        }
      ]
    },
    {
      "cell_type": "markdown",
      "metadata": {
        "id": "SqJJerJuPvL9",
        "execution": {
          "iopub.status.busy": "2021-09-28T01:43:44.278299Z",
          "iopub.execute_input": "2021-09-28T01:43:44.278753Z",
          "iopub.status.idle": "2021-09-28T01:43:44.293447Z",
          "shell.execute_reply.started": "2021-09-28T01:43:44.278691Z",
          "shell.execute_reply": "2021-09-28T01:43:44.292329Z"
        }
      },
      "source": [
        "## 2 — Define a custom MLP Classifier Model and calculate Inference metrics\n",
        "\n",
        "- We'll use a simple feed forward model that takes in flattened image vector (28x28=784) and outputs probabilities for each of 10 classes.\n",
        "- In Pytorch, we can create the Neural Network model by defining a custom class (inherits from [nn.Module](https://pytorch.org/docs/stable/generated/torch.nn.Module.html)).\n",
        "- The `forward` function in the class defines the forward pass of the network."
      ]
    },
    {
      "cell_type": "code",
      "metadata": {
        "id": "EMTr3uuYSC7Q",
        "execution": {
          "iopub.status.busy": "2021-10-04T00:18:22.767828Z",
          "iopub.execute_input": "2021-10-04T00:18:22.768660Z",
          "iopub.status.idle": "2021-10-04T00:18:22.777640Z",
          "shell.execute_reply.started": "2021-10-04T00:18:22.768624Z",
          "shell.execute_reply": "2021-10-04T00:18:22.776910Z"
        },
        "trusted": true
      },
      "source": [
        "class MLPClassifier(nn.Module):\n",
        "    def __init__(self):\n",
        "        super().__init__()\n",
        "        self.fc1 = nn.Linear(784, 128, bias=True)\n",
        "        self.fc2 = nn.Linear(128, 64, bias=True)\n",
        "        self.fc3 = nn.Linear(64, 32, bias=True)\n",
        "        self.fc4 = nn.Linear(32, 10, bias=True)\n",
        "\n",
        "    def forward(self, x):\n",
        "        x = x.view(x.shape[0], -1)\n",
        "        x = F.relu(self.fc1(x))\n",
        "        x = F.relu(self.fc2(x))\n",
        "        x = F.relu(self.fc3(x))\n",
        "        x = self.fc4(x)\n",
        "        return x"
      ],
      "execution_count": null,
      "outputs": []
    },
    {
      "cell_type": "code",
      "source": [
        "from IPython.core.display import SVG, display\n",
        "display(SVG(filename='images/MLP_classifier_FashionMNIST.svg'))"
      ],
      "metadata": {
        "colab": {
          "base_uri": "https://localhost:8080/",
          "height": 390
        },
        "id": "qNSPS80a8S8O",
        "outputId": "5285af44-c772-4373-839f-c66ff12a08e8"
      },
      "execution_count": null,
      "outputs": [
        {
          "output_type": "display_data",
          "data": {
            "text/plain": [
              "<IPython.core.display.SVG object>"
            ],
            "image/svg+xml": "<svg class=\"canvas\" height=\"55\" id=\"export\" preserveAspectRatio=\"xMidYMid meet\" style=\"position: static; margin: auto; width: 1568px; height: 350px;\" viewBox=\"0 0 1120 250\" width=\"925\" xmlns=\"http://www.w3.org/2000/svg\"><rect fill=\"#fff\" height=\"55\" id=\"background\" pointer-events=\"all\" width=\"925\"/><g id=\"origin\" transform=\"translate(2.5, 2.5) scale(1)\"><g class=\"clusters\" id=\"clusters\"/><g class=\"edge-paths\" id=\"edge-paths\"><defs><marker id=\"arrowhead-vee\" markerHeight=\"6\" markerUnits=\"strokeWidth\" markerWidth=\"8\" orient=\"auto\" refX=\"9\" refY=\"5\" style=\"fill: rgb(0, 0, 0);\" viewBox=\"0 0 10 10\"><path d=\"M 0 0 L 10 5 L 0 10 L 4 5 z\" style=\"stroke-width: 1;\"/></marker><marker id=\"arrowhead-vee-select\" markerHeight=\"6\" markerUnits=\"strokeWidth\" markerWidth=\"8\" orient=\"auto\" refX=\"9\" refY=\"5\" style=\"fill: rgb(238, 0, 0);\" viewBox=\"0 0 10 10\"><path d=\"M 0 0 L 10 5 L 0 10 L 4 5 z\" style=\"stroke-width: 1;\"/></marker></defs><path class=\"edge-path\" d=\"M94.640625,25L96.30729166666667,25C97.97395833333333,25,101.30729166666667,25,107.9609375,25C114.61458333333333,25,124.58854166666667,25,134.5625,25C144.53645833333334,25,154.51041666666666,25,161.1640625,25C167.81770833333334,25,171.15104166666666,25,172.81770833333334,25L174.484375,25\" id=\"edge-Grayscale image\" style=\"stroke: rgb(0, 0, 0); stroke-width: 1px; fill: none; marker-end: url(&quot;#arrowhead-vee&quot;);\"/><path class=\"edge-path\" d=\"M249.484375,25L251.15104166666666,25C252.81770833333334,25,256.1510416666667,25,259.484375,25C262.8177083333333,25,266.1510416666667,25,267.8177083333333,25L269.484375,25\" id=\"edge-14\" style=\"stroke: rgb(0, 0, 0); stroke-width: 1px; fill: none; marker-end: url(&quot;#arrowhead-vee&quot;);\"/><path class=\"edge-path\" d=\"M344.484375,25L346.1510416666667,25C347.8177083333333,25,351.1510416666667,25,354.484375,25C357.8177083333333,25,361.1510416666667,25,362.8177083333333,25L364.484375,25\" id=\"edge-15\" style=\"stroke: rgb(0, 0, 0); stroke-width: 1px; fill: none; marker-end: url(&quot;#arrowhead-vee&quot;);\"/><path class=\"edge-path\" d=\"M400.875,25L402.5416666666667,25C404.2083333333333,25,407.5416666666667,25,410.875,25C414.2083333333333,25,417.5416666666667,25,419.2083333333333,25L420.875,25\" id=\"edge-16\" style=\"stroke: rgb(0, 0, 0); stroke-width: 1px; fill: none; marker-end: url(&quot;#arrowhead-vee&quot;);\"/><path class=\"edge-path\" d=\"M495.875,25L497.5416666666667,25C499.2083333333333,25,502.5416666666667,25,505.875,25C509.2083333333333,25,512.5416666666666,25,514.2083333333334,25L515.875,25\" id=\"edge-17\" style=\"stroke: rgb(0, 0, 0); stroke-width: 1px; fill: none; marker-end: url(&quot;#arrowhead-vee&quot;);\"/><path class=\"edge-path\" d=\"M552.265625,25L553.9322916666666,25C555.5989583333334,25,558.9322916666666,25,562.265625,25C565.5989583333334,25,568.9322916666666,25,570.5989583333334,25L572.265625,25\" id=\"edge-18\" style=\"stroke: rgb(0, 0, 0); stroke-width: 1px; fill: none; marker-end: url(&quot;#arrowhead-vee&quot;);\"/><path class=\"edge-path\" d=\"M647.265625,25L648.9322916666666,25C650.5989583333334,25,653.9322916666666,25,657.265625,25C660.5989583333334,25,663.9322916666666,25,665.5989583333334,25L667.265625,25\" id=\"edge-19\" style=\"stroke: rgb(0, 0, 0); stroke-width: 1px; fill: none; marker-end: url(&quot;#arrowhead-vee&quot;);\"/><path class=\"edge-path\" d=\"M703.65625,25L705.3229166666666,25C706.9895833333334,25,710.3229166666666,25,713.65625,25C716.9895833333334,25,720.3229166666666,25,721.9895833333334,25L723.65625,25\" id=\"edge-20\" style=\"stroke: rgb(0, 0, 0); stroke-width: 1px; fill: none; marker-end: url(&quot;#arrowhead-vee&quot;);\"/><path class=\"edge-path\" d=\"M798.65625,25L802.2330729166666,25C805.8098958333334,25,812.9635416666666,25,820.1171875,25C827.2708333333334,25,834.4244791666666,25,838.0013020833334,25L841.578125,25\" id=\"edge-Output label\" style=\"stroke: rgb(0, 0, 0); stroke-width: 1px; fill: none; marker-end: url(&quot;#arrowhead-vee&quot;);\"/></g><g class=\"edge-labels\" id=\"edge-labels\"><g class=\"edge-label\" id=\"edge-label-edge-Grayscale image\" style=\"opacity: 1;\" transform=\"translate(134.5625,40.5)\"><g transform=\"translate(-19.921875,-5.5)\"><text style=\"font-family: -apple-system, BlinkMacSystemFont, &quot;Segoe WPC&quot;, &quot;Segoe UI&quot;, Ubuntu, &quot;Droid Sans&quot;, sans-serif, &quot;PingFang SC&quot;; font-size: 10px;\"><tspan dy=\"1em\" x=\"1\" xml:space=\"preserve\">1×28×28</tspan></text></g></g><g class=\"edge-label\" id=\"edge-label-edge-Output label\" style=\"opacity: 1;\" transform=\"translate(820.1171875,40.5)\"><g transform=\"translate(-11.4609375,-5.5)\"><text style=\"font-family: -apple-system, BlinkMacSystemFont, &quot;Segoe WPC&quot;, &quot;Segoe UI&quot;, Ubuntu, &quot;Droid Sans&quot;, sans-serif, &quot;PingFang SC&quot;; font-size: 10px;\"><tspan dy=\"1em\" x=\"1\" xml:space=\"preserve\">1×10</tspan></text></g></g></g><g class=\"nodes\" id=\"nodes\"><g class=\"node graph-node\" id=\"node-name-Reshape_0\" style=\"opacity: 1;\" transform=\"translate(211.984375,25)\"><g transform=\"translate(-37.5,-19)\"><g class=\"node-item node-item-type node-item-type-shape\" transform=\"translate(0,0)\"><path d=\"M5,0h65a5,5 0 0 1 5,5v15a0,0 0 0 1 0,0h-75a0,0 0 0 1 0,0v-15a5,5 0 0 1 5,-5z\" style=\"stroke: rgb(0, 0, 0); fill: rgb(108, 79, 71); stroke-width: 0;\"/><text style=\"font-family: -apple-system, BlinkMacSystemFont, &quot;Segoe WPC&quot;, &quot;Segoe UI&quot;, Ubuntu, &quot;Droid Sans&quot;, sans-serif, &quot;PingFang SC&quot;; font-size: 11px; text-rendering: geometricprecision; fill: rgb(255, 255, 255);\" x=\"6\" y=\"14\">Reshape</text><title>Reshape_0</title></g><g class=\"node-attribute\" transform=\"translate(0,20)\"><path d=\"M0,0h75a0,0 0 0 1 0,0v13a5,5 0 0 1 -5,5h-65a5,5 0 0 1 -5,-5v-13a0,0 0 0 1 0,0z\" style=\"stroke: rgb(0, 0, 0); fill: rgb(255, 255, 255); stroke-width: 0;\"/><text id=\"initializer-24\" style=\"font-family: -apple-system, BlinkMacSystemFont, &quot;Segoe WPC&quot;, &quot;Segoe UI&quot;, Ubuntu, &quot;Droid Sans&quot;, sans-serif, &quot;PingFang SC&quot;; font-size: 9px; font-weight: normal; text-rendering: geometricprecision;\" x=\"6\" xml:space=\"preserve\" y=\"12\"><title>int64[2]</title><tspan style=\"font-weight: bold;\">shape</tspan><tspan>〈2〉</tspan></text><line class=\"node\" style=\"stroke: rgb(51, 51, 51); fill: none; stroke-width: 1px;\" x1=\"0\" x2=\"75\" y1=\"0\" y2=\"0\"/></g><path class=\"node border\" d=\"M5,0h65a5,5 0 0 1 5,5v28a5,5 0 0 1 -5,5h-65a5,5 0 0 1 -5,-5v-28a5,5 0 0 1 5,-5z\" style=\"stroke: rgb(51, 51, 51); fill: none; stroke-width: 1px;\"/></g></g><g class=\"node graph-node\" id=\"node-name-Gemm_1\" style=\"opacity: 1;\" transform=\"translate(306.984375,25)\"><g transform=\"translate(-37.5,-25)\"><g class=\"node-item node-item-type node-item-type-layer\" transform=\"translate(0,0)\"><path d=\"M5,0h65a5,5 0 0 1 5,5v15a0,0 0 0 1 0,0h-75a0,0 0 0 1 0,0v-15a5,5 0 0 1 5,-5z\" style=\"stroke: rgb(0, 0, 0); fill: rgb(51, 85, 136); stroke-width: 0;\"/><text style=\"font-family: -apple-system, BlinkMacSystemFont, &quot;Segoe WPC&quot;, &quot;Segoe UI&quot;, Ubuntu, &quot;Droid Sans&quot;, sans-serif, &quot;PingFang SC&quot;; font-size: 11px; text-rendering: geometricprecision; fill: rgb(255, 255, 255);\" x=\"6\" y=\"14\">Gemm</text><title>Gemm_1</title></g><g class=\"node-attribute\" transform=\"translate(0,20)\"><path d=\"M0,0h75a0,0 0 0 1 0,0v25a5,5 0 0 1 -5,5h-65a5,5 0 0 1 -5,-5v-25a0,0 0 0 1 0,0z\" style=\"stroke: rgb(0, 0, 0); fill: rgb(255, 255, 255); stroke-width: 0;\"/><text id=\"initializer-fc1.weight\" style=\"font-family: -apple-system, BlinkMacSystemFont, &quot;Segoe WPC&quot;, &quot;Segoe UI&quot;, Ubuntu, &quot;Droid Sans&quot;, sans-serif, &quot;PingFang SC&quot;; font-size: 9px; font-weight: normal; text-rendering: geometricprecision;\" x=\"6\" xml:space=\"preserve\" y=\"12\"><title>float32[128,784]</title><tspan style=\"font-weight: bold;\">B</tspan><tspan>〈128×784〉</tspan></text><text id=\"initializer-fc1.bias\" style=\"font-family: -apple-system, BlinkMacSystemFont, &quot;Segoe WPC&quot;, &quot;Segoe UI&quot;, Ubuntu, &quot;Droid Sans&quot;, sans-serif, &quot;PingFang SC&quot;; font-size: 9px; font-weight: normal; text-rendering: geometricprecision;\" x=\"6\" xml:space=\"preserve\" y=\"24\"><title>float32[128]</title><tspan style=\"font-weight: bold;\">C</tspan><tspan>〈128〉</tspan></text><line class=\"node\" style=\"stroke: rgb(51, 51, 51); fill: none; stroke-width: 1px;\" x1=\"0\" x2=\"75\" y1=\"0\" y2=\"0\"/></g><path class=\"node border\" d=\"M5,0h65a5,5 0 0 1 5,5v40a5,5 0 0 1 -5,5h-65a5,5 0 0 1 -5,-5v-40a5,5 0 0 1 5,-5z\" style=\"stroke: rgb(51, 51, 51); fill: none; stroke-width: 1px;\"/></g></g><g class=\"node graph-node\" id=\"node-name-Relu_2\" style=\"opacity: 1;\" transform=\"translate(382.6796875,25)\"><g transform=\"translate(-18.1953125,-10)\"><g class=\"node-item node-item-type node-item-type-activation\" transform=\"translate(0,0)\"><path d=\"M5,0h26.390625a5,5 0 0 1 5,5v10a5,5 0 0 1 -5,5h-26.390625a5,5 0 0 1 -5,-5v-10a5,5 0 0 1 5,-5z\" style=\"stroke: rgb(0, 0, 0); fill: rgb(112, 41, 33); stroke-width: 0;\"/><text style=\"font-family: -apple-system, BlinkMacSystemFont, &quot;Segoe WPC&quot;, &quot;Segoe UI&quot;, Ubuntu, &quot;Droid Sans&quot;, sans-serif, &quot;PingFang SC&quot;; font-size: 11px; text-rendering: geometricprecision; fill: rgb(255, 255, 255);\" x=\"6\" y=\"14\">Relu</text><title>Relu_2</title></g><path class=\"node border\" d=\"M5,0h26.390625a5,5 0 0 1 5,5v10a5,5 0 0 1 -5,5h-26.390625a5,5 0 0 1 -5,-5v-10a5,5 0 0 1 5,-5z\" style=\"stroke: rgb(51, 51, 51); fill: none; stroke-width: 1px;\"/></g></g><g class=\"node graph-node\" id=\"node-name-Gemm_3\" style=\"opacity: 1;\" transform=\"translate(458.375,25)\"><g transform=\"translate(-37.5,-25)\"><g class=\"node-item node-item-type node-item-type-layer\" transform=\"translate(0,0)\"><path d=\"M5,0h65a5,5 0 0 1 5,5v15a0,0 0 0 1 0,0h-75a0,0 0 0 1 0,0v-15a5,5 0 0 1 5,-5z\" style=\"stroke: rgb(0, 0, 0); fill: rgb(51, 85, 136); stroke-width: 0;\"/><text style=\"font-family: -apple-system, BlinkMacSystemFont, &quot;Segoe WPC&quot;, &quot;Segoe UI&quot;, Ubuntu, &quot;Droid Sans&quot;, sans-serif, &quot;PingFang SC&quot;; font-size: 11px; text-rendering: geometricprecision; fill: rgb(255, 255, 255);\" x=\"6\" y=\"14\">Gemm</text><title>Gemm_3</title></g><g class=\"node-attribute\" transform=\"translate(0,20)\"><path d=\"M0,0h75a0,0 0 0 1 0,0v25a5,5 0 0 1 -5,5h-65a5,5 0 0 1 -5,-5v-25a0,0 0 0 1 0,0z\" style=\"stroke: rgb(0, 0, 0); fill: rgb(255, 255, 255); stroke-width: 0;\"/><text id=\"initializer-fc2.weight\" style=\"font-family: -apple-system, BlinkMacSystemFont, &quot;Segoe WPC&quot;, &quot;Segoe UI&quot;, Ubuntu, &quot;Droid Sans&quot;, sans-serif, &quot;PingFang SC&quot;; font-size: 9px; font-weight: normal; text-rendering: geometricprecision;\" x=\"6\" xml:space=\"preserve\" y=\"12\"><title>float32[64,128]</title><tspan style=\"font-weight: bold;\">B</tspan><tspan>〈64×128〉</tspan></text><text id=\"initializer-fc2.bias\" style=\"font-family: -apple-system, BlinkMacSystemFont, &quot;Segoe WPC&quot;, &quot;Segoe UI&quot;, Ubuntu, &quot;Droid Sans&quot;, sans-serif, &quot;PingFang SC&quot;; font-size: 9px; font-weight: normal; text-rendering: geometricprecision;\" x=\"6\" xml:space=\"preserve\" y=\"24\"><title>float32[64]</title><tspan style=\"font-weight: bold;\">C</tspan><tspan>〈64〉</tspan></text><line class=\"node\" style=\"stroke: rgb(51, 51, 51); fill: none; stroke-width: 1px;\" x1=\"0\" x2=\"75\" y1=\"0\" y2=\"0\"/></g><path class=\"node border\" d=\"M5,0h65a5,5 0 0 1 5,5v40a5,5 0 0 1 -5,5h-65a5,5 0 0 1 -5,-5v-40a5,5 0 0 1 5,-5z\" style=\"stroke: rgb(51, 51, 51); fill: none; stroke-width: 1px;\"/></g></g><g class=\"node graph-node\" id=\"node-name-Relu_4\" style=\"opacity: 1;\" transform=\"translate(534.0703125,25)\"><g transform=\"translate(-18.1953125,-10)\"><g class=\"node-item node-item-type node-item-type-activation\" transform=\"translate(0,0)\"><path d=\"M5,0h26.390625a5,5 0 0 1 5,5v10a5,5 0 0 1 -5,5h-26.390625a5,5 0 0 1 -5,-5v-10a5,5 0 0 1 5,-5z\" style=\"stroke: rgb(0, 0, 0); fill: rgb(112, 41, 33); stroke-width: 0;\"/><text style=\"font-family: -apple-system, BlinkMacSystemFont, &quot;Segoe WPC&quot;, &quot;Segoe UI&quot;, Ubuntu, &quot;Droid Sans&quot;, sans-serif, &quot;PingFang SC&quot;; font-size: 11px; text-rendering: geometricprecision; fill: rgb(255, 255, 255);\" x=\"6\" y=\"14\">Relu</text><title>Relu_4</title></g><path class=\"node border\" d=\"M5,0h26.390625a5,5 0 0 1 5,5v10a5,5 0 0 1 -5,5h-26.390625a5,5 0 0 1 -5,-5v-10a5,5 0 0 1 5,-5z\" style=\"stroke: rgb(51, 51, 51); fill: none; stroke-width: 1px;\"/></g></g><g class=\"node graph-node\" id=\"node-name-Gemm_5\" style=\"opacity: 1;\" transform=\"translate(609.765625,25)\"><g transform=\"translate(-37.5,-25)\"><g class=\"node-item node-item-type node-item-type-layer\" transform=\"translate(0,0)\"><path d=\"M5,0h65a5,5 0 0 1 5,5v15a0,0 0 0 1 0,0h-75a0,0 0 0 1 0,0v-15a5,5 0 0 1 5,-5z\" style=\"stroke: rgb(0, 0, 0); fill: rgb(51, 85, 136); stroke-width: 0;\"/><text style=\"font-family: -apple-system, BlinkMacSystemFont, &quot;Segoe WPC&quot;, &quot;Segoe UI&quot;, Ubuntu, &quot;Droid Sans&quot;, sans-serif, &quot;PingFang SC&quot;; font-size: 11px; text-rendering: geometricprecision; fill: rgb(255, 255, 255);\" x=\"6\" y=\"14\">Gemm</text><title>Gemm_5</title></g><g class=\"node-attribute\" transform=\"translate(0,20)\"><path d=\"M0,0h75a0,0 0 0 1 0,0v25a5,5 0 0 1 -5,5h-65a5,5 0 0 1 -5,-5v-25a0,0 0 0 1 0,0z\" style=\"stroke: rgb(0, 0, 0); fill: rgb(255, 255, 255); stroke-width: 0;\"/><text id=\"initializer-fc3.weight\" style=\"font-family: -apple-system, BlinkMacSystemFont, &quot;Segoe WPC&quot;, &quot;Segoe UI&quot;, Ubuntu, &quot;Droid Sans&quot;, sans-serif, &quot;PingFang SC&quot;; font-size: 9px; font-weight: normal; text-rendering: geometricprecision;\" x=\"6\" xml:space=\"preserve\" y=\"12\"><title>float32[32,64]</title><tspan style=\"font-weight: bold;\">B</tspan><tspan>〈32×64〉</tspan></text><text id=\"initializer-fc3.bias\" style=\"font-family: -apple-system, BlinkMacSystemFont, &quot;Segoe WPC&quot;, &quot;Segoe UI&quot;, Ubuntu, &quot;Droid Sans&quot;, sans-serif, &quot;PingFang SC&quot;; font-size: 9px; font-weight: normal; text-rendering: geometricprecision;\" x=\"6\" xml:space=\"preserve\" y=\"24\"><title>float32[32]</title><tspan style=\"font-weight: bold;\">C</tspan><tspan>〈32〉</tspan></text><line class=\"node\" style=\"stroke: rgb(51, 51, 51); fill: none; stroke-width: 1px;\" x1=\"0\" x2=\"75\" y1=\"0\" y2=\"0\"/></g><path class=\"node border\" d=\"M5,0h65a5,5 0 0 1 5,5v40a5,5 0 0 1 -5,5h-65a5,5 0 0 1 -5,-5v-40a5,5 0 0 1 5,-5z\" style=\"stroke: rgb(51, 51, 51); fill: none; stroke-width: 1px;\"/></g></g><g class=\"node graph-node\" id=\"node-name-Relu_6\" style=\"opacity: 1;\" transform=\"translate(685.4609375,25)\"><g transform=\"translate(-18.1953125,-10)\"><g class=\"node-item node-item-type node-item-type-activation\" transform=\"translate(0,0)\"><path d=\"M5,0h26.390625a5,5 0 0 1 5,5v10a5,5 0 0 1 -5,5h-26.390625a5,5 0 0 1 -5,-5v-10a5,5 0 0 1 5,-5z\" style=\"stroke: rgb(0, 0, 0); fill: rgb(112, 41, 33); stroke-width: 0;\"/><text style=\"font-family: -apple-system, BlinkMacSystemFont, &quot;Segoe WPC&quot;, &quot;Segoe UI&quot;, Ubuntu, &quot;Droid Sans&quot;, sans-serif, &quot;PingFang SC&quot;; font-size: 11px; text-rendering: geometricprecision; fill: rgb(255, 255, 255);\" x=\"6\" y=\"14\">Relu</text><title>Relu_6</title></g><path class=\"node border\" d=\"M5,0h26.390625a5,5 0 0 1 5,5v10a5,5 0 0 1 -5,5h-26.390625a5,5 0 0 1 -5,-5v-10a5,5 0 0 1 5,-5z\" style=\"stroke: rgb(51, 51, 51); fill: none; stroke-width: 1px;\"/></g></g><g class=\"node graph-node\" id=\"node-name-Gemm_7\" style=\"opacity: 1;\" transform=\"translate(761.15625,25)\"><g transform=\"translate(-37.5,-25)\"><g class=\"node-item node-item-type node-item-type-layer\" transform=\"translate(0,0)\"><path d=\"M5,0h65a5,5 0 0 1 5,5v15a0,0 0 0 1 0,0h-75a0,0 0 0 1 0,0v-15a5,5 0 0 1 5,-5z\" style=\"stroke: rgb(0, 0, 0); fill: rgb(51, 85, 136); stroke-width: 0;\"/><text style=\"font-family: -apple-system, BlinkMacSystemFont, &quot;Segoe WPC&quot;, &quot;Segoe UI&quot;, Ubuntu, &quot;Droid Sans&quot;, sans-serif, &quot;PingFang SC&quot;; font-size: 11px; text-rendering: geometricprecision; fill: rgb(255, 255, 255);\" x=\"6\" y=\"14\">Gemm</text><title>Gemm_7</title></g><g class=\"node-attribute\" transform=\"translate(0,20)\"><path d=\"M0,0h75a0,0 0 0 1 0,0v25a5,5 0 0 1 -5,5h-65a5,5 0 0 1 -5,-5v-25a0,0 0 0 1 0,0z\" style=\"stroke: rgb(0, 0, 0); fill: rgb(255, 255, 255); stroke-width: 0;\"/><text id=\"initializer-fc4.weight\" style=\"font-family: -apple-system, BlinkMacSystemFont, &quot;Segoe WPC&quot;, &quot;Segoe UI&quot;, Ubuntu, &quot;Droid Sans&quot;, sans-serif, &quot;PingFang SC&quot;; font-size: 9px; font-weight: normal; text-rendering: geometricprecision;\" x=\"6\" xml:space=\"preserve\" y=\"12\"><title>float32[10,32]</title><tspan style=\"font-weight: bold;\">B</tspan><tspan>〈10×32〉</tspan></text><text id=\"initializer-fc4.bias\" style=\"font-family: -apple-system, BlinkMacSystemFont, &quot;Segoe WPC&quot;, &quot;Segoe UI&quot;, Ubuntu, &quot;Droid Sans&quot;, sans-serif, &quot;PingFang SC&quot;; font-size: 9px; font-weight: normal; text-rendering: geometricprecision;\" x=\"6\" xml:space=\"preserve\" y=\"24\"><title>float32[10]</title><tspan style=\"font-weight: bold;\">C</tspan><tspan>〈10〉</tspan></text><line class=\"node\" style=\"stroke: rgb(51, 51, 51); fill: none; stroke-width: 1px;\" x1=\"0\" x2=\"75\" y1=\"0\" y2=\"0\"/></g><path class=\"node border\" d=\"M5,0h65a5,5 0 0 1 5,5v40a5,5 0 0 1 -5,5h-65a5,5 0 0 1 -5,-5v-40a5,5 0 0 1 5,-5z\" style=\"stroke: rgb(51, 51, 51); fill: none; stroke-width: 1px;\"/></g></g><g class=\"node graph-input\" id=\"input-name-Grayscale image\" style=\"opacity: 1;\" transform=\"translate(47.3203125,25)\"><g transform=\"translate(-47.3203125,-10)\"><g class=\"node-item graph-item-input\" transform=\"translate(0,0)\"><path d=\"M5,0h84.640625a5,5 0 0 1 5,5v10a5,5 0 0 1 -5,5h-84.640625a5,5 0 0 1 -5,-5v-10a5,5 0 0 1 5,-5z\" style=\"stroke: rgb(0, 0, 0); fill: rgb(238, 238, 238); stroke-width: 0;\"/><text style=\"font-family: -apple-system, BlinkMacSystemFont, &quot;Segoe WPC&quot;, &quot;Segoe UI&quot;, Ubuntu, &quot;Droid Sans&quot;, sans-serif, &quot;PingFang SC&quot;; font-size: 11px; text-rendering: geometricprecision;\" x=\"6\" y=\"14\">Grayscale image</text><title>float32[1,28,28]</title></g><path class=\"node border\" d=\"M5,0h84.640625a5,5 0 0 1 5,5v10a5,5 0 0 1 -5,5h-84.640625a5,5 0 0 1 -5,-5v-10a5,5 0 0 1 5,-5z\" style=\"stroke: rgb(51, 51, 51); fill: none; stroke-width: 1px;\"/></g></g><g class=\"node\" style=\"opacity: 1;\" transform=\"translate(880.296875,25)\"><g transform=\"translate(-38.71875,-10)\"><g class=\"node-item graph-item-output\" transform=\"translate(0,0)\"><path d=\"M5,0h67.4375a5,5 0 0 1 5,5v10a5,5 0 0 1 -5,5h-67.4375a5,5 0 0 1 -5,-5v-10a5,5 0 0 1 5,-5z\" style=\"stroke: rgb(0, 0, 0); fill: rgb(238, 238, 238); stroke-width: 0;\"/><text style=\"font-family: -apple-system, BlinkMacSystemFont, &quot;Segoe WPC&quot;, &quot;Segoe UI&quot;, Ubuntu, &quot;Droid Sans&quot;, sans-serif, &quot;PingFang SC&quot;; font-size: 11px; text-rendering: geometricprecision;\" x=\"6\" y=\"14\">Output label</text><title>float32[1,10]</title></g><path class=\"node border\" d=\"M5,0h67.4375a5,5 0 0 1 5,5v10a5,5 0 0 1 -5,5h-67.4375a5,5 0 0 1 -5,-5v-10a5,5 0 0 1 5,-5z\" style=\"stroke: rgb(51, 51, 51); fill: none; stroke-width: 1px;\"/></g></g></g></g></svg>"
          },
          "metadata": {}
        }
      ]
    },
    {
      "cell_type": "markdown",
      "metadata": {
        "id": "ENSTEeJw3QCs"
      },
      "source": [
        "#### Print the Model Metrics\n",
        "\n",
        "We'll use the functions used in the `metrics` notebook to print inference parameters of our custom model "
      ]
    },
    {
      "cell_type": "code",
      "source": [
        "# Load the Model\n",
        "device = torch.device(\"cuda\" if torch.cuda.is_available() else \"cpu\")\n",
        "model = MLPClassifier().to(device)"
      ],
      "metadata": {
        "id": "nMno4EVdwYGr"
      },
      "execution_count": null,
      "outputs": []
    },
    {
      "cell_type": "code",
      "source": [
        "from scripts.modelMetrics import computeInferenceTime, getModelFileSize, profile, getModelSize\n",
        "\n",
        "def print_model_metrics(model, input):\n",
        "  print(\"-------------------\")\n",
        "  print(\"Model Size: \", str(round(getModelSize(model),3)),\"Mb\")\n",
        "  print(\"File Size: \", str(round(getModelFileSize(model),3)),\"Mb\")\n",
        "  print(\"Inference Time: \",str(round(computeInferenceTime(model,randomInput, device),5)),\"s\")\n",
        "  macs, params = profile(model, inputs=(randomInput,), verbose=False)\n",
        "  flops = 2 * macs\n",
        "  print(\"Mega FLOPS: \", str(flops * 1e-6))\n",
        "  print(\"Mega MACs: \", str(macs * 1e-6))\n",
        "  print(\"Mega Params: \", str(params * 1e-6))\n",
        "\n",
        "\n",
        "\n",
        "randomInput = torch.rand(2, 28, 28).to(device)\n",
        "print_model_metrics(model, randomInput)"
      ],
      "metadata": {
        "colab": {
          "base_uri": "https://localhost:8080/"
        },
        "id": "d4VnR1yAXWSO",
        "outputId": "44599ea8-170b-4da7-e9fa-305cfdf7f1a9"
      },
      "execution_count": null,
      "outputs": [
        {
          "output_type": "stream",
          "name": "stdout",
          "text": [
            "-------------------\n",
            "Model Size:  0.424 Mb\n",
            "File Size:  0.447 Mb\n",
            "Inference Time:  0.00059 s\n",
            "Mega FLOPS:  0.443648\n",
            "Mega MACs:  0.221824\n",
            "Mega Params:  0.111146\n"
          ]
        }
      ]
    },
    {
      "cell_type": "markdown",
      "metadata": {
        "id": "C3pnqXz8KpEn"
      },
      "source": [
        "#### Print the Model Sparsity\n",
        "\n",
        "- Model sparsity refers to the ratio of parameters with zero weights to the total number of parameters. \n",
        "- Eg : If a linear layer with 100 neurons and 25 of the neurons have been pruned (effectively set to zero) then the sparsity of the layer is 25%.\n",
        "- Sparsity can be calculated for each layers and for the entire model as well (referred to as Global sparsity)\n"
      ]
    },
    {
      "cell_type": "code",
      "metadata": {
        "colab": {
          "base_uri": "https://localhost:8080/"
        },
        "id": "Xv9V_gxdyB27",
        "outputId": "1a660572-0637-4686-e409-ef355ab9eab1"
      },
      "source": [
        "def get_model_sparsity(model : nn.Module):\n",
        "    \"\"\"Function prints sparsity of the model - the percentage of weights with 0.0 in each layer of the model\n",
        "    Args:\n",
        "        model (nn.Module): input model\n",
        "    \"\"\"    \n",
        "    print(\"Sparsity Information\")    \n",
        "    print(\"------------------------\")\n",
        "    totalElements = 0\n",
        "    totalZeroElements = 0\n",
        "    for name, module in model.named_children():\n",
        "        #print(module.weight)\n",
        "        numElementsInLayer = float(module.weight.nelement())\n",
        "        numZeroElementsInLayer = float(torch.sum(module.weight == 0))\n",
        "        layerWeightSparsity = 100.0 * (numZeroElementsInLayer/ numElementsInLayer)\n",
        "        print(f\"Sparsity in {name}.weight: {layerWeightSparsity}%.\")\n",
        "        \n",
        "        totalElements += numElementsInLayer\n",
        "        totalZeroElements += numZeroElementsInLayer\n",
        "    \n",
        "    if totalElements > 0 :\n",
        "        globalWeightSparsity = 100.0 * (totalZeroElements / totalElements)\n",
        "    else:\n",
        "        globalWeightSparsity = 0.0\n",
        "    return globalWeightSparsity\n",
        "    \n",
        "\n",
        "sparsity = get_model_sparsity(model)\n",
        "print(f\"Global Sparsity (weight): {sparsity}%\")"
      ],
      "execution_count": null,
      "outputs": [
        {
          "output_type": "stream",
          "name": "stdout",
          "text": [
            "Sparsity Information\n",
            "------------------------\n",
            "Sparsity in fc1.weight: 0.0%.\n",
            "Sparsity in fc2.weight: 0.0%.\n",
            "Sparsity in fc3.weight: 0.0%.\n",
            "Sparsity in fc4.weight: 0.0%.\n",
            "Global Sparsity (weight): 0.0%\n"
          ]
        }
      ]
    },
    {
      "cell_type": "markdown",
      "source": [
        "- ***As expected, the original model has 0 sparsity***"
      ],
      "metadata": {
        "id": "zCowIb-tq0UV"
      }
    },
    {
      "cell_type": "markdown",
      "metadata": {
        "id": "m61RFdw53XPR"
      },
      "source": [
        "### 3. Train the Model on FashionMNIST, record baseline accuracy\n",
        "\n",
        "Before we train our model, we'll define some helper functions to calculate metric, plot training results etc"
      ]
    },
    {
      "cell_type": "code",
      "metadata": {
        "id": "f2g_-5EOAQo1"
      },
      "source": [
        "## CLASSIFICATION ACCURACY AS METRIC FUNCTION\n",
        "\n",
        "from typing import Any, List\n",
        "from sklearn.metrics import accuracy_score\n",
        "\n",
        "class meanClassificationAccuracyMetric:\n",
        "    \"\"\"\n",
        "    Class to find the avg accuracy of softmax predictions to ground truth label\n",
        "        CFG (Any): object containing num_classes \n",
        "        device (torch.device): compute device\n",
        "    \"\"\"    \n",
        "    def __init__(self, CFG=None, device=None):\n",
        "        self.batchAccuracies = []\n",
        "        self.meanClassificationAccuracy = 0.0\n",
        "\n",
        "    def update(self, y_preds: torch.Tensor, labels: torch.Tensor):\n",
        "        \"\"\" Function finds the classification accuracy for the input batch\n",
        "\n",
        "        Args:\n",
        "            y_preds (torch.Tensor): model predictions\n",
        "            labels (torch.Tensor): groundtruth labels        \n",
        "        Returns\n",
        "        \"\"\"\n",
        "        # predicted output class\n",
        "        modelPredictions = np.argmax(torch.softmax(y_preds, axis=1).numpy(), axis=1)\n",
        "        self.batchAccuracies.append(accuracy_score(labels.numpy(), modelPredictions))\n",
        "\n",
        "    def compute(self):\n",
        "        \"\"\" returns meanClassificationAccuracy \"\"\"\n",
        "        self.meanClassificationAccuracy = np.mean(self.batchAccuracies) * 100.0\n",
        "        return self.meanClassificationAccuracy\n",
        "\n",
        "    def reset(self):\n",
        "        self.batchAccuracies = []\n",
        "        self.meanClassificationAccuracy = 0.0"
      ],
      "execution_count": null,
      "outputs": []
    },
    {
      "cell_type": "code",
      "metadata": {
        "id": "mYx7TDugArEJ"
      },
      "source": [
        "## UTILITY FUNCTION TO PLOT TRAINING RESULTS\n",
        "\n",
        "import pandas as pd\n",
        "\n",
        "def plotTrainingResults(df:pd.DataFrame, modelName:str):\n",
        "    \"\"\"Function plots training, validation losses vs epoch\n",
        "    Args:\n",
        "        df (pd.DataFrame): Dataframe with the columns ['epoch', 'trainLoss', 'validationLoss']\n",
        "        modelName (str): name of the model\n",
        "    \"\"\"   \n",
        "    fig, ax1 = plt.subplots(figsize=(10,4))\n",
        "    ax1_color = 'tab:red'\n",
        "    ax1.set_ylabel('trainLoss', color=ax1_color)\n",
        "    ax1.plot(df['epoch'].values, df['trainLoss'].values, color=ax1_color)\n",
        "    ax1.tick_params(axis='y', labelcolor=ax1_color)\n",
        "\n",
        "    ax2 = ax1.twinx()  \n",
        "    ax2_color = 'tab:blue'    \n",
        "    ax2.set_ylabel('validationLoss', color=ax2_color)\n",
        "    ax2.plot(df['epoch'].values, df['validationLoss'].values, color=ax2_color)\n",
        "    ax2.tick_params(axis='y', labelcolor=ax2_color)\n",
        "\n",
        "    fig.tight_layout()\n",
        "    plt.show()"
      ],
      "execution_count": null,
      "outputs": []
    },
    {
      "cell_type": "code",
      "metadata": {
        "id": "4RAZS8Wj3YzP"
      },
      "source": [
        "## TRAIN VALIDATE FUNCTION\n",
        "from tqdm import tqdm\n",
        "\n",
        "def trainValidateModel(model, criterion, optimizer, dataloader_train, \n",
        "                       dataloader_valid, metricClass, metricName, device,\n",
        "                       modelName):\n",
        "    print(\"------------------------\")\n",
        "    print(f\"Train Validate Pipeline for - {modelName} on {str(device)}\")\n",
        "    print(\"------------------------\")\n",
        "    results = []    \n",
        "    minValidationLoss = np.Inf\n",
        "    lenTrainLoader = len(dataloader_train)\n",
        "\n",
        "    # move model to target device\n",
        "    model.to(device)\n",
        "    \n",
        "    for epoch in range(N_EPOCHS):\n",
        "        print(f\"Starting {epoch + 1} epoch ...\")\n",
        "        \n",
        "        # Training\n",
        "        model.train()\n",
        "        trainLoss = 0.0\n",
        "        for i, (inputs, labels) in tqdm(enumerate(dataloader_train), total=lenTrainLoader):\n",
        "            inputs = inputs.to(device)\n",
        "            labels = labels.to(device)  \n",
        "\n",
        "            # Forward pass\n",
        "            y_preds = model(inputs)\n",
        "            loss = criterion(y_preds, labels)\n",
        "            trainLoss += loss.item()\n",
        "              \n",
        "            # Backward pass\n",
        "            loss.backward()\n",
        "            optimizer.step()\n",
        "            optimizer.zero_grad() \n",
        "            \n",
        "        # Validate\n",
        "        model.eval()\n",
        "        validationLoss = 0.0\n",
        "        metricObject = metricClass(device=device)\n",
        "\n",
        "        with torch.no_grad():\n",
        "            for inputs, labels in dataloader_valid:\n",
        "                inputs = inputs.to(device)\n",
        "                labels = labels.to(device)                \n",
        "                y_preds = model(inputs)\n",
        "            \n",
        "                # calculate loss\n",
        "                loss = criterion(y_preds, labels)\n",
        "                validationLoss += loss.item()\n",
        "\n",
        "                # update batch metric information            \n",
        "                metricObject.update(y_preds.cpu().detach(), labels.cpu().detach())\n",
        "\n",
        "        # compute per batch losses\n",
        "        trainLoss = trainLoss / len(dataloader_train)\n",
        "        validationLoss = validationLoss / len(dataloader_valid)\n",
        "\n",
        "        # compute metric\n",
        "        validationMetric = metricObject.compute()\n",
        "\n",
        "        print(f'Epoch: {epoch+1}, trainLoss:{trainLoss:6.5f}, validationLoss:{validationLoss:6.5f}, {metricName}:{validationMetric: 4.2f}%')\n",
        "        \n",
        "        # store results\n",
        "        results.append({'epoch': epoch, 'trainLoss': trainLoss, \n",
        "                        'validationLoss': validationLoss, f'{metricName}': validationMetric})\n",
        "        \n",
        "        # if validation loss has decreased, save model and reset variable\n",
        "        if validationLoss <= minValidationLoss:\n",
        "            minValidationLoss = validationLoss\n",
        "            torch.save(model.state_dict(), f'{modelName}.pt')\n",
        "\n",
        "    # plot results\n",
        "    results = pd.DataFrame(results)\n",
        "    plotTrainingResults(results, f'{modelName}')\n",
        "\n",
        "    return results"
      ],
      "execution_count": null,
      "outputs": []
    },
    {
      "cell_type": "code",
      "metadata": {
        "colab": {
          "base_uri": "https://localhost:8080/",
          "height": 494
        },
        "id": "5syAT4MTA0ly",
        "outputId": "4687f23e-3a84-44cb-d46c-10314721e14a"
      },
      "source": [
        "# Hyper parameters for training model\n",
        "N_EPOCHS = 3\n",
        "LR = 1e-2\n",
        "\n",
        "# Define the Loss\n",
        "criterion = nn.CrossEntropyLoss()\n",
        "\n",
        "# Define the Optimizer\n",
        "optimizer = optim.Adam(model.parameters(), lr=LR)\n",
        "\n",
        "# train, validate standard model\n",
        "modelResults = trainValidateModel(model, criterion, optimizer, trainLoader, validLoader, \n",
        "                    meanClassificationAccuracyMetric, 'accuracy', device, \"Custom_MLP\")"
      ],
      "execution_count": null,
      "outputs": [
        {
          "output_type": "stream",
          "name": "stdout",
          "text": [
            "------------------------\n",
            "Train Validate Pipeline for - Custom_MLP on cuda\n",
            "------------------------\n",
            "Starting 1 epoch ...\n"
          ]
        },
        {
          "output_type": "stream",
          "name": "stderr",
          "text": [
            "100%|██████████| 3000/3000 [00:41<00:00, 72.19it/s]\n"
          ]
        },
        {
          "output_type": "stream",
          "name": "stdout",
          "text": [
            "Epoch: 1, trainLoss:0.68065, validationLoss:0.62817, accuracy: 76.01%\n",
            "Starting 2 epoch ...\n"
          ]
        },
        {
          "output_type": "stream",
          "name": "stderr",
          "text": [
            "100%|██████████| 3000/3000 [00:32<00:00, 90.97it/s]\n"
          ]
        },
        {
          "output_type": "stream",
          "name": "stdout",
          "text": [
            "Epoch: 2, trainLoss:0.56924, validationLoss:0.53861, accuracy: 81.15%\n",
            "Starting 3 epoch ...\n"
          ]
        },
        {
          "output_type": "stream",
          "name": "stderr",
          "text": [
            "100%|██████████| 3000/3000 [00:33<00:00, 90.20it/s]\n"
          ]
        },
        {
          "output_type": "stream",
          "name": "stdout",
          "text": [
            "Epoch: 3, trainLoss:0.55530, validationLoss:0.62552, accuracy: 78.53%\n"
          ]
        },
        {
          "output_type": "display_data",
          "data": {
            "image/png": "[encoded data removed]",
            "text/plain": [
              "<Figure size 720x288 with 2 Axes>"
            ]
          },
          "metadata": {
            "needs_background": "light"
          }
        }
      ]
    },
    {
      "cell_type": "code",
      "metadata": {
        "id": "xVO8n_JpE1QK"
      },
      "source": [
        "## UTILITY FUNCTION TO EVALUATE MODEL ON TEST SET\n",
        "def evaluteOnTestData(model, pretrainedModelPath, device, \n",
        "                     dataloader_test, metricClass, metricName, modelName):\n",
        "\n",
        "    # print(\"------------------------\")\n",
        "    # print(f\"Test Data Results for {modelName} using {str(device)}\")\n",
        "    # print(\"------------------------\")\n",
        "\n",
        "    testSetMetric = 0.0\n",
        "    \n",
        "    modelLoadStatus = False\n",
        "    if pretrainedModelPath is not None:\n",
        "        if os.path.isfile(pretrainedModelPath) == True:\n",
        "            model.load_state_dict(torch.load(pretrainedModelPath, map_location=device))\n",
        "            modelLoadStatus = True\n",
        "    # no need to load model\n",
        "    else:\n",
        "        modelLoadStatus = True\n",
        "\n",
        "    if modelLoadStatus == True:\n",
        "        lenTestLoader = len(dataloader_test)\n",
        "        model.to(device)\n",
        "        # set to inference mode\n",
        "        model.eval()\n",
        "        metricObject = metricClass(device=device)\n",
        "\n",
        "        with torch.no_grad():\n",
        "            for inputs, labels in tqdm(dataloader_test, total=lenTestLoader):\n",
        "                inputs = inputs.to(device)\n",
        "                labels = labels.to(device)\n",
        "                y_preds = model(inputs)\n",
        "            \n",
        "                # update batch metric information            \n",
        "                metricObject.update(y_preds.cpu().detach(), labels.cpu().detach())\n",
        "\n",
        "        # compute metric of test set predictions\n",
        "        testSetMetric = metricObject.compute()\n",
        "        print(f'\\n{modelName} has {testSetMetric} {metricName} on testData')\n",
        "\n",
        "    else:\n",
        "        print(f'Model cannot load state_dict from {pretrainedModelPath}')\n",
        "    return testSetMetric"
      ],
      "execution_count": null,
      "outputs": []
    },
    {
      "cell_type": "code",
      "source": [
        "testSetMetric = evaluteOnTestData(model, \"./Custom_MLP.pt\", device, testLoader, \n",
        "                    meanClassificationAccuracyMetric, \"Test_Accuracy\", \"Custom_MLP\")"
      ],
      "metadata": {
        "colab": {
          "base_uri": "https://localhost:8080/"
        },
        "id": "UgvNmjTOtnVW",
        "outputId": "fff29c3d-bd04-48df-f4a8-24877d1520dd"
      },
      "execution_count": null,
      "outputs": [
        {
          "output_type": "stream",
          "name": "stderr",
          "text": [
            "100%|██████████| 157/157 [00:03<00:00, 45.73it/s]"
          ]
        },
        {
          "output_type": "stream",
          "name": "stdout",
          "text": [
            "\n",
            "Custom_MLP has 80.1453025477707 Test_Accuracy on testData\n"
          ]
        },
        {
          "output_type": "stream",
          "name": "stderr",
          "text": [
            "\n"
          ]
        }
      ]
    },
    {
      "cell_type": "markdown",
      "source": [
        "## 4. Learn different Pruning techniques in Pytorch\n",
        "\n",
        "- Pruning is a method of model compression where certain connections  of the network are pruned (removed)"
      ],
      "metadata": {
        "id": "pVRWZT6e1qin"
      }
    },
    {
      "cell_type": "markdown",
      "source": [
        "![pruningConcept.png](data:image/png;base64,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)\n",
        "\n",
        "[Image reference](https://medium.com/@yasersakkaf123/pruning-neural-networks-using-pytorch-3bf03d16a76e)"
      ],
      "metadata": {
        "id": "p1muED8P1uWQ"
      }
    },
    {
      "cell_type": "markdown",
      "source": [
        "\n",
        "\n",
        "*Approaches to Pruning*\n",
        "\n",
        "- Random pruning : Neurons to prune are selected at random\n",
        "- Unstructured pruning: ***Connections between Neurons are pruned*** based on some statistical property like L1 norm, mean, standard deviation, ***within a single layer / channel*** etc.\n",
        "- Structured pruning : ***Entire Neuron within a group are pruned***, (like removing an entire neuron or entire channel in convolutional model)\n",
        "- Global pruning : Similar to unstructured pruning but ***Neurons from all layers are considered at once***\n",
        "\n",
        "\n",
        "Another approach to classifying pruning approaches is One-shot pruning vs iterative pruning.\n",
        "\n",
        "- One-shot pruning : Pruning is done only once (structured / unstructured / global). We don't repeat the pruning process.\n",
        "\n",
        "- Iterative pruning : We prune the model, reinitialize the weights (using some specific methods) and train the model again, prune again and repeat the process."
      ],
      "metadata": {
        "id": "WoBpNajNwxLM"
      }
    },
    {
      "cell_type": "markdown",
      "source": [
        "![unstructured structured pruning.png](data:image/png;base64,iVBORw0KGgoAAAANSUhEUgAAAZAAAACvCAYAAADT5IgAAAAABHNCSVQICAgIfAhkiAAAIABJREFUeJzsvdmPXFme3/c5566x77lvTO5bVXV1dWsEo9sS5JbmYQz41ZD/CgN+NeZNfrPhFw9gy4ChFwuWZzADjA2MIMGj7lZ3q6uqu7gUmZlk7ntGRmbs2733+OEuGZFMskgWWUWy4ksEIzLzxr3n3Ht+57f/fkIppXgLGDytEOJtXGKEEUYYYYTvEfL7HsAII4wwwgjvJ0YMZIQRRhhhhNfCiIGMMMIII4zwWhgxkBFGGGGEEV4LIwYywggjjDDCa2HEQEYYYYQRRngtjBjICCOMMMIIr4URAxlhhBFGGOG1MGIgI4wwwggjvBZGDGSEEUYYYYTXwoiBjDDCCCOM8FoYMZARRhhhhBFeCyMGMsIII4wwwmthxEBGGGGEEUZ4LYwYyAgjjDDCCK+FEQMZYYQRRhjhtaC/jZN6QNhOaqiVlOehACnP+JZS6sNsOPW8Nl3fMFX1gq+GX/8A79Y3wrvgdz/UezHCCO8K3roGMrQhfoiMYoQRRhjhB4q3ooGMMMIII7wJfJM2PsL3i++cgYjRYx9hhBFeARcxkdEu8m7grZmwLrTlKxBKvFisGGGEHwq+yeE1wgjvON6aBhI6PSVn0oJQZ3KDGnofpCTfNTqSMEb4IHFhdMnLcpJR2MAI7xbeqglLoQKyCBa9ZCic5oxsholnRCIjfJB4Do9QiGf+5LOK879VjKhjhHcJb4eBKIUM2IeH8u1koelKRIf45BHRw4g4RvhhIBKaBJyxCXHRESOKGOGdxlvUQBR9HPr06Tl92u0uyvUJQ5MatmmRtOJIBNrIZDXCDwHiTOc+U8TVM2tfPcNSRtQxwruJN85AVCBZ9ZRLzWlw2Dpi/+iAWrON6/nKuiEECTPGVGGMydQYaTuNLvWRP3GEDxzDvj4HhYdHx23jeC4CgW4YmBjoCHRAIC92m4wwwjsAoZR6g/u2b7JSwInX4MHOEk8O1uh6PRx80pEoDCUQnofmCC6lprlz5Q65ZA4j0kU+AI1klIn+RvG+ZaKrC5+iAjz6uFSdDvunR5RPKpRPjul5PRQeiUSC6YkZZjJF8mYSHR0ZhKL489W+24l8z3gePbzLz/6HhLfAQFwaXofHh6vc216i4rUQGiBABZnoMlgV0tUwHZNSIs9Pr3/EtJ3HQH4I7GPEQN4w3jcG4g2N+OyJ9nE4aFf4evcp25UDmv0uCIGHg5AKhETzdCbjWW5OLzCVmyQubTQ0JCJiJj8UjBjIu403asJSysMTiv3TA9Z21mm7HVxdIeXw43YFPtEIgdQFJ906G/s7FOYSaNJC+4ERyQgfLsLNL9TMy61THq0vs1U7oEWfvuYFtBD4QqTCFS6HzQreWpe+67BQmiMhbAQSRgatEd4hvMFEQgVC0ff6bB7sctJp4AR8YDjXY/Dl0Vc9uqrLYfWISuMUBxcvIrcRRnj/4a92Rc1r8vXOKmvHu7RVD1dTKE3gRe8CT4AjPTqay1GvxtPDLY7bJ7j0A61mRBcjvDt4YxqIUn6kbqvbZr96SlsoekLhKfUCLuWbvBwJzV6DRreGRxaFCKStEUb4MKBQHNRO2Kwd0tYcXB2UVHiAJ8SZqUb4R7uawkFw2K6yf3JI0U5jBIEmI91jhHcFb3aX9nwiaPY6eFJ8o7J9pmUoXNdhb2+P09opruuiPOUzpRcIXEop3qgLZ4QR3hoUJ/UqHbePMrTA7yGGmEeYKqUC866jQc9zqVRP6fR6Fybdfu94x4YzwneLtxDGO+DjUN4A97iYjYQZt91uh//w5X9g+Y8P+dHNHzFRmiCTypFIJLAs8+z476kk/DdWBY245Tm2+QrDHdHih4WwEoOHou85NJp1lHIRApQ8Fxhwfp0IP5RECUW726LrdqNDlPIA+WH20RnhvcJbSSTUhMDz3Ei/OVO7L1rwvvNQkxLLMtnd3WUsU6Lf6rHurhOPx8nn8+TzeRKJBKZpIYSIXt8FFIMeGQFDPw0XhwzTxPyxvXysyKiu3oeMQFP2XIRLUNLnLNZQSXz1Y6Aqg1AgPcCD8mGZ+917pH/0J2SsDCAizft7YyLPiVJWDLf9UWrUBuhDxptlINKngVK+QLO2i4N4xhl+PkRXeD6xJBNx7vyjf8TWo1Vs3cROWExPzNButzk+Oebp06dkMhlSqTTpdJpMJkMymURKeSEzOW/aehVCG/quCBlIKE36cqMICF4SMLOoUORZAMAHEY48whtAID7JIIfDA6nJaE1dRCU+0/HXUK/X549//Aqzr/PZRz8hk869M9qHQkXM75nKXepMG383RjvCm8YbYyDheo5bNtOFEsfNY1zl0OcFMrgCTUlMTyOfyLM4fQmjAW7Hod/ts765zp1bd5ibm6PZbFKvNzg5OeXg4IDDw0MsyyKVSpFKpYjH45imiaZpb5i4/JIsPXq0nDanrRrtVgfXU2iaRjqRJGXFSRh2kD8skSNyGYEzXVUAmqYRj8URUqKUG/z9WdYRQkqJ8BSa1BifmqZnpKgcV3j8+DEL84uUiiU0TYt8hN8HP1EoXHHGKMKZDK9/5ed9DeBdYX4jfHu8QQ1EgBKY0mAyX2C7kqJebeKcS5wdlM6FkmiuJBvLMlOcIW/nkJMuK8srLF6+zM7ODqurqywuXiaXy5PLFZiYmKTb7dJqtWg2mzSbTQ4ODpBSEo/HyWQy5HI5bNv+VsxEBaY1F0WtV2Ovusde5ZCTdoNO30EphZQSW7fJmDHmx6aYLIwTF3FAoIUayYhWfsA4YxEaGuOlCVYqu3R7bqDHvtizJpHousn01Ax2AZ7eXyabzfLwwQOuXbvOzMzM97QZq6F17QlFrduk2WrQ7fXQpMS2bJKJBHFpIpXwIyu/wR86wvuHN+wD8RdGxkhyZWaeptvmqH0KQqCUABmQjOeTlqYkWS3ObHGKsUwBXUmymQJCPKHdbPPRnU948mSZB18/4NNPPiUeT2BZFqZpkkql8DwP13XpdDrU63X29/d58OABSimKxSILCwsUCoXIzHUez7Uji8iIQLXXYGn7KVvH2zScFh0hcGXwHQWq2+a0VafRrNNx+yyOXyKB7fvSX5JORr6PDw8ieg/NN4JiPMdsforezhpt5eBoCiX8mtXhmgPfbyD7AkNp5JM5JrITjFlpNr5eo9vtMjMzw5MnTzBNk7GxsQF/23eBsMa2oqc8qk6LvfIR6wdb1Bo1XFykFBiaST6TZS4/xkSqQNJOoguJUBqjOsMfDrQ///M///M3dTIhwgwOQdpMkE9nUO0eqtnHdAS2KzE9iaU00nqMkpXhk6lFro8vEJcWEjB1A6fvsra2zuLiJfL5AuWjMo8ePaZQKGBZVsQQpJRomoZlWaTTaSYnJyOmUa1WefLkCWtra9TrdXRdH/JtDDKNZ5mLf1zL6fBkZ437B5uU6dDSoK8L+pqiL/2X0vyos7bnctJuY+gGuXgKQwXazzdIiK/qPP+hlnB438pZiIF/SoEUAgNJJh5D9R2a3RZ9XJ+BCA9fRldIAabQSBNjKl7k1uxVphJFLGEQt+M8WXrCrVu3SSQSrK2toWkasVj8uULSm0XYosGlR5+t+j5fbT3i64MVjvtVGmaPptajpfWoizbHvRMOTvfoqTYxyyRuxNFEmDnw7cb6Lj/7HxLeKAMB35kskehoJPQ4hUyeYiJH2kiQsdLkE1nGU0UWxma5NrHAVHqcuLQDz4FECIll2RweHtLv9xkbG6NYLNJut1lfX8e2bWKx2HOjsIQQJBIJpqamGB8fJ5FI0O122d3d5ejoiNPTU1qtFp7nRd9/9lwKB5f96hFfbz6l7DToGsqP09cGIk2kzywVEk8J+p4DPUUxlSWpWwgh37hx+odKOO8bAxlGIFgJiaUZpFJJNE33NQ9HofcVliuwPInhSPJGkrn8FNenLzObHCeGjoYkGU9QPirjeh4LCwvE43GWlpZot9skE2lM0/hO5uKhKLcrLG2tsHVySFdzcAw/g94Tnp8gKX3tqqccavU6mhLk4zlM3QyShEcM5EPAmy2mOBjOqjw/akk4flKU4+KpIOpECDRNw0BDBvHuw99VbG9vs7y8zJ/8yZ+QSCTo9/vs7Oywv7/P+Pg4MzMzmKY5fPkgsXCQGYS/a7fbNBoN6vU6zWaTXq+HEALTNMlkMqTTaRKJBNVqFaFBPJfg/sYSD3eeUtX6dA3PrwI5VI5IIJVAeAKpJHiCvLL5dPYaNycWsYQZrPLnL/WRBvJyeN+KKQ4iMpUGHhEXaIoOx+0ae0eHtDoNXNdBCIVt24znx8mnciSEjYVBUIsUgJ3tHVbX1vj4449JJpMcHR2xtLREJpPjzu07aPrbvCMKF4c2Pe5vfs2jnTVOVYe+6ZdiIaK/s29oCrS+YNzK86Ppm1wqzWCLkIm8zBXfd+Hhw8ZbbCjlMwapdDQEhuZ3N3g+hs1LxWKRtbU1dnd3WVhYwDAM5ubm0DSN1dVVWq0WV65cwbZt/9sX+DMGNYxEIkE8HqdYLEYMpVwuU61W2drawnEcNE3j0aNHHBzu8mf/9X9FuVuhr7l4uoeSbrDkBb5/3P/JA6QEz/NQGnR7XU6bJ/S9Hqauj0qyjHAOAk1AkhjxWIzJmQKucnFcvzuIYRgYwogarfkabkAdCnK5PNrmJkdHRySTSUqlEoZhsry8wtePvmbx0iKxuA0I5Btfer4Jq+Y22Tst0/S69HSPvlAIKdHdYeYRfnQ0QcVps3FySDFTxDRNpHh2Nzgv/H0feM0i2j9YvFkGIgbLJPpbrFChE1GBGJQjz9lCzy0c27aZmpqiXC4zMTGBYRhIKZmZmUHXdf7whz/geR7Xr19/RhPxTyeG3sPPMqAqTdOIx+MA9Ho9ms0mT58+5be//Q3//t//OzYqu3z2z/4hXjqGJ9U3aBIB81K+gt9stWh1msSTsbO5j5bgDxwiKlUSQgKm9FtHKc0Cwug/cSZhB0snXEGWZVIoFDg+PmZ6ejrSoG/cuMHDhw+5d/8eN2/eJJ1O8XbWnOCk1qDSaOJoAlcqVJD/5SdInj/a94r2lOKk06Sh+mSFCnw+7yZNnGcig+HYIwzjDftAzhDecEHAGy68+89XRIUQ2LbNwcEBtm2TSqUAonDdbDbL/v4+jUaDVCqFpmnR9wbfX4SQoRiGQTweR9M0Go0GmVyarZ1N0qUsyfEcPenh6iDDhKkLmInEzxy2HMHh+jYH2/vMTc1imxZDITY8+91XUcd/qKr7+2zGiCq+DdS9EgyPP/QKhN1wxHCk7FmElgeGabC9vY1pmqTTaaQU2LZFsVjk6OiI3d1dCoVC5BP5tlK9UoqvvvqKzz//nJNGjY3aESe9Bn3p4Opu4EMM5hDutsGsVPCSSkM4EJMW+XgKSxpD5/e8Yc7zTWP+ts9eRU/Cf4lzPw8bz57P6t6H9fc28cYZiLjg3Y9Gin7iWfK5GLqu0263OT09pVgsDkVSJZNJ0uk0GxsblMvlgGBerWbWee3EsixqtSr/5t/8X6w8ecLVj66Snx6nZyg8GWhT5xlI8Cbx7b22p5Gzk6yvrFI7PmGsWMS2Ywh50XYwfCdexhfyvmyabxofAgOJhBuG6UNyAWWcMwWFL9f1sG2LVqvFwcFBkAvin0HXjUg72draZmysdKF2/tLjDjb2arXKr3/9a/7Fv/gf+Iv/7X/lsF1n8c41lAmu5iKERAYMxCeOgZeQoDR0NNondT7/1W853jvA7XQBouTf5+ZsPYeOv+2zP//dsPSrf97zz+m8wHeulNEPGG9FAxliIiIknFdjHkDk5F5fXyedThOLxYZKl1iWL3Vtb2+zublJNpvFtu3ITPUy8QHnI7BOT0/54svf0+o2uHT9MsXZKbqGOsv9GJzYACSgeZDSbG5cusr81Bx//E9f0Kw3ScQTpFIphHxxCOOIgTwf7zMDgYBRiDD+6GLJ96wh9MA6O7eBSs2PVNR1nc3NTRKJBMmkr50LAaapUygU6Ha7rKwsYxhGRDfPjOmCYJNer0ej0eDw8JCDg4PID9nv91leXmb50RJmNsXdzz5B2BJX8yJT9bPbqUB4vk6le5AxYoyn8qTMGGkryenJKTs7O1QqFbrdLq7rRtGREV2+JQZydo7zz+C8sWrgHgXHnzH892kFvh28RSf6m0EikSCbzbK2tkYulxva8EPn+KeffsrS0hLLy8ssLi5SLBZfWm0PHXdKKTqdDsfHZX72s5/xz6/8c5JTGaqiQ69fC0xXCk8+e16JQroKzYNMKsZ4Jk9uLE317hHVkyorKysAzMzMIvWLe1qPkgk/YCh8yVwSJA6qoHGai4cKGqidmbb0qCSORKIRKfADZq1MJsPU1BQbGxsUCsWhEN5YzObq5atIKXj69Cntdpv5+Xl0fZjcQ6bhOA6VSoVqtUqj0aDf7+N5XuSkz2azOI5Dq9XCiseoii6mB653pnWowEyrQm8/ftCiwDftakA+k+XWtUvsrmxQLBWYHJ+k0WhG0ZH7+/tomoau6yQSCXK5HOlMBsMwfBp9Ow8mYNwuIPCAPn08f0b4LF8GpkWBPqQvjvDOMxBN05iZmeE3v/kNJycnURRVCCEEyWSSW7dusb6+zsrKCo7jMD4+fqHU9Tw4jsPGxgZbW9v8+Mc/5rN/+Bkd2eXJ3jrt/R7K7dDTwFPnFo/yfSPSg5SdYHZ8mnw8Q0zE+OzHn/Hl53/AMAzW19dRSjE7t4C8mIeM8AFDiLPS7i4eHXpUezVqjTqV6gkeIKQkZtsUskXyVoo4vv8s3MoiRoJPFwsLC/z617+mXC4zOTk5JKwblsGlS4skEgk2NjYQQjA/Px+Zinq9HuVymePjY46OjnAch0KhEBQs9evL6bqOpmlIKXEch9u3bzMxNUnfUHg5k7XmLsKTKPH8rV0q/2VpBuOFEuPFMWJ9jY0n65QKfo5XoVDAdV263S6dToeTkxNOTk7Y2trCsiyy+TzFUpF8Lh+ZsX0jwJvYxMPkSOjQ5aRV56h2QrvTxvM8TMMkl8mTS2eJ40e3ncVWjpjIW3OiD+LbOvEsy6JarbK9vc38/PyF5zMMg0QiQbvd5tGjR4Fqn3zpa1erVe7du4fjOPz4H/yEVCqFKQzsmIXjeTS6Hfqu50uGSkQvTQlMTyNnJLkys8BiaY6YMMGDeCwJyj93sVRiaWkZ13MpjY0NXXuUB/LNeN9MWMNFEpXPQITCwaOHw3bzkKXNpzzZ2WCvesxh/YTDWoX9kyPKjSqarhGP2UihRY51X/b1Z6wUGIZJrVbl+LjC2NgYuqYNOdN0XSOZTKLrOg8fPsR1XWzb5smTJ3zxxRfs7OwgpWRhYYHr168zPz9PoVAgkUig6zq6rkcm43a7ze7uLjdv3uDOzVtotsZJ7ZT2QJ8ST52ZsIQC4QlMT2IoQS6e4frMAnktQ9KKUzmuUK/XGR8fR9MkUmqYphm1b5iammJsbIy+43B4dMTjR4/Z2d1BeR6GbqC/oM7dy9H8WXVtB5djr87S9lO+3l7jycEWx+1TjlqnHJwes1s5oNntoMct4rqNNvQk3tUV+N3gnWYgoaYRhu/eu3ePdDodRWSdv4au6xSLRWzb5vPPPyeVSkVM5PwYBu2sSinu37/P4eEhV65c4criFQyp+2UlNItkJkPCSkGrh9bqE3cViZ4g3hPksJhLFLkzdZmr+VkSMoaORBcaAo1kKkXl5ATTtPj440/44ssvaTYalEolX0N6RdX8Xd403ybeNwYCA4VDhYcQvn+joTqsnG7xx/VH7DUqtLwevaA0jhOUx2n2e+xXK5x2WiTTGSxpYHBWGiU6vwJDN9nZ3SWTyZBIxH0zEuC6Lq7r0Ol06PV6VCoVfve737G0tEQymeT69evcuXOHS5cukcvlME3zuRGMSim2trbodDp+Aq9hYJsmui7pdtq4/b4/VyHCehKAQLqClKczFkvz0aXrTMSLmPgOdduy2NxYR2qCVCoU9M6uH/o/S8Uic3NzzMzOokmNg8MDdrZ3ODg4oN1u0+/3h8b88lGYvvnKoc9eu8KXm0s8Od7jxO3QNRRdzaErXTq6S094VJt1KrUqpmWSsZPoQ8/iXV6FbxfvNAM5v/GHESH5fP65URtCiEgN39zcpN/vR1LY8xKVNjY22NjYIB6Pc+3aNTKZDEp5QZa8QMMgHotTyuQZS+WZyBSZTBeYLU5weWKeq+MLlNIF4iKBJjSkb+xGCdA1P39la2uLQqHA7OwsB4eHtFot4ok4uq6/0v151zfNt4X3kYH48J20Co8efdaPt3m4vsRJt4GrKYQu8QS40g/U8CSgCTwB9aafoV5IpYlJI7LDw5miYVkmjVqDarVGsVSk3fZNQAcHh+zsbHNwcECr1aJYLHLp0iVs2yaZTDI/P/9c5zoM02yYIzUxMUGpWEIKgS4ksXiMWCI060hMJbFciY1OQlpktDhz6TFuzV1lPDWGrWw0pSGVwI7bgGJtY41MNkMsbiOQFxc4DUL6S8Uik5OTFAoFPxKt2eLo6IhyuUylUqHd9s1OIZ2Hof0XPZPQdHXaqvLV6iPWT/bpaR596eEKF0+owD/lV5/wlEev26fX6JCLJ0lYcbRXCAj6UPHO+0AGMTc3x4MHDzg9PWXsnBkIzhziQgimpqbQNI319XU6nQ7Xr1/HMIzoOPAX6cnJCQ8fPiSRSJBOp8nlcsHZ/IWhoTAQJLGJ2wYTdiGI2vDj1v26XzrDiZFBXIfrITVBqVTi+PiYhw8f8tlnn3Hr1i2ePn3Ko0ePubR4iVw2NxChNcKHB3+9VVt1NrY2qTbrOJbAQfmbpgzYTLAuHTy/R5Pw2K/sc5jKkSla6JhBO1sRVYMWQpLJZPj955/T6bZxXdc3n8ZjpDIpcrksqVQqckTPzMywsrLCvXthwmH6GwWYvb09lFIUCoVIUxAI4sJmJjlJLpmj3qjTajfpdnpIKbEMm7gdo2BnSBoJpJBINzDGCdCkxvT0NOVymZ2tHdLJDKY5WLQlQFDqKBQgDNMgb2TJZTNMT03T7/dpNBocHR1RqVTY39/H8zwymQzj4+Ok02lM0xxKARACXOXSV332jvc5qh/haC6uJnCVx5lNQCCE77NSmgQcjpsVNg62ySRSJLQYZwbGHybeaQ3kPDRNi2pZhWXan3etMEIrFouxt7dHrVajUCgETXj8BdLpdPjqq6/IZrMI4W/0IZEI4VcuQhCUlQATLfqno6OhI9G4KJJ/0ESmaVqUs1Kr1VhYWCCbzXJ4eMj29nYUfvxSuSv8MOWd91cDCRO0PbYP91gr79CRHl0NHM3XODzpaxxKiuAFUZiv55EQBmOpHKamgxK4rkOj0WR3d5etrS0ODw7Z2tqi7/S5ffM2cwtzzMzOUCwWSQxouVJKLMsil8txdHTE1tZWFB7/PG2+1Wrx5MkT8vk84+PjQSRX0HIXgSZ0EthkzRTFRJ7JzDgT6RJjiQIFK0NM+pusVMJvcRCQihB+nlc8mWBnewfbtkgmU0N0I8SwkSgKnRXCD4kOkoATiQTFYpGxsTHyed/R3mq12Nvb4/DwkNPTU7rdLpqm4XkeW9vreMLDFR4re6uU+1XaukdPehA66MMrS7/fiRO0otCURPT9KLiUlfB//p7Lr3yfeK8YiBACz/PY398nk8lEdbAuuk7o/EskEuTz+SjhMJRIwqirdrvN2NgY1WqVxcVFYrEYUWmS6L9Bl9k5RvGCbWxwPIZhUCjkefx4iVQqRS6XI5fLcVo9ZW9vj2QyOcBEgnamFxH1c6/2YUMNfTrLoRiUFt9FhKvE8RxW9zbYq53QMxT90FwV7qbnIPGjl3RPkEAnYyXodjpsb2+ztrbB3t4enW6HdDrN1PQUly8v0ul0mJubI5vNIKX2zGnDTVnX/VyRUHIP1955KKXY3NykWq1y/fp14vF46MKPzhfW6wpDjqWSUdArA08HAZ7mBxMIzta2bdn0ej02NzcZGxuPrAQvc1/PI2ztkMvlKJVK5HI5LMuKwpT39/fZ2FjnX/+f/5r7jx9QnBnnsFWh6nZp6x5O8CgGOygqFJ4IgnwV6EpH60tyyTSFRA5NCH7I9e7eKwYCvtRSqVTodDoDKvXzr6mUwjRN8vk8+/v7HB4ekslkaLVabG1tMT8/z/LyMuPj40xNTQ1np0f/hTH6zzrOvkl9HYzGsSy/3tHOzg6lUol4PE6hUKRWq7G/t4dpmr5dOuiZIAYHMHDVd3OrfNsIg1nPemcI1ItD2ATn2Mt3d+fE0GdB3+uzur9JuV2nr0NfU3gDaytMYRvc9UMG4jY7lHcOONo/xDRtSqUSszNzzM7OUhorkUomSadTVCpVWu0WuVw28BE+f3whE+n1eiwvL0faejRmIeh0Ojx9+pTx8XEmJiaQQgSJHr7D3A8AkYH5LZz1BX6BoC5L9BcxII4JQSKeYH9/n+PyMWNjYy/V2+SbnqTfJyVGOp2mVCoxNjZGPB5nbW2Nv/zLv+T/+/u/p0WXZClLxxS0dI+IWpV/8/2KE/5zcoWfyqN7Et0RaC5MZAvYuhmWpninNBE1IGSdL8sSHhH+Tn0L6njvWKdlWYyNjXF4eEiz2Xzuceedcclkkjt37qBpGl9++SX37t0jmUzS7Xap1+tReHDkaBciqF3kvzz8JCMPf6EN71zhz4N/GzzmjOjm5uawbZv19XU8z8O2LG7duEkum+Xrhw/Z2tzEdZwfMKO4GKE8e1YQ3fXfhYtfpNMB4fg/R7H9XkRIQzj/eN7imOEsVc0L1pUnoj1nYECD72dCilIS07C5du06P//5f84nH33C/Ow82VwO07L8NStASMHk9AQnp6c0mq2XSpEwTZPFxUXGx8f51a9+xfr6Oo7jRI7ok5MTXNcNckyCrejcecMVH446zPuQYX6UGpzNBVAC07K5e+cj9vb2OTg4+OaBX4Dzpq8QUsoh051tx4jF4nh4PLj3kFa7hxISFSZDAkQO9GAFKYVfqt7fVxzXYXNzk4cPH9JpdV5/OEyVAAAgAElEQVSq4sV3j+eNSQ38e9FxL4f3joGEvgpN09je3n6lh5dMJvn444+jsgye57GyssLdu3ejyrznoRC4hLmqHtVeg9Neg9Nek3q/TUv16AVZxS+zK1mWxfz8fGSfDX938+ZNFhcXWVtbY3t7G8918bx3cWF+v/CCpR/mcbfoUVdNmrRpum2aXoeecOgLFyeMogG+31x/fxc1LQth6mcjUZFwPvzy8E1Bytd404kkY4UScSPmawHnQ9L9U5HNZYjHbY7KZbr9/kvNWNM0bt26xccff8zq6iq7u7sopej3+xwcHAR+lMS5qCgC7S4UmvyAEhFymLNf+U7wgKGIgfkOaikCQSqT5qOPP+LRo0fUarWIrt/UU1NKoWkaly5d4tbt26AEP/7xZ+SLpYEJBe8DUw2vrynQPL/3T8yKcfPqNVzH5f79+9Tr9Sir//uECrVDpRAefnkZ5bcT9xlkyBSHRatvI6y+V1FY4SK2LIuFhQVWV1eZm5sjkUi81HeVUtRqNaSUXL9+naWlJXRdvzA5UUT2W4WDQ91tUq6fcHR8RNfp+2UcpE48kaCUzlKKJ0npMXQ/CyQ6y/C7j0wmw8TEBCsrKySTSZLJJFLKqNzE9vY2nuf5MfeWNSAp/HB1kpA0fU1Q0qJNpVvl4OSIk/ppVM1Vlwb5QolSpkROSxHHRIvMK98fNKmRzeXQq/vg9YMoqudsOEFZdIVvaspm85i29dxzh2exTF/KPjg8ZHJqAtN4MXkPbnjz8/OYpsne3l7UG6der3Pp0qUXmmbCJlmOcHBcB0+5CAGapqMLzY9SumiaoSozcOqZmRlOTk5YX1/nxo0bkcn3TaFarXJ8fMx/8Yt/Qr6U4z/7xc/oxuD0pI0+KGecE6sDS1ZUMDUZizM7OUN+Nsna8lMePHjApUuXouoX37spS4CLQ9/1C+Z4BBqaFGhBFF0YDPRt6eK984GE54vH41HIXi6Xe2HZkvD67Xabx48fk8lkuHr1Ktvb23S7XXK5HKlU6qwIY7Rle/RUl73mPss7T1jZfcpBs8Jhq0qlW+e4XeWgccxp44Ruu4Ye04kZNhraC53rUsqom1yr1YoiykKnv2VZrK+vU6vXyQS1gIKZ/KBNWwro4/nJeOUNvt56wnplj/3mMZVOnZNOnXK7xna1TL3bRDMkKcMOem485859BzczYn6m5LhTp9Zt4Qi/fMZ5N5fPWGRQnFOQi6e5PDFL3k5jDK2riwduGAZ7+3toUvi1415yjOHaMwyDlZUV7t+/z9zcHHNzc0P+RH//UYHW49f0qrUbbB1ts3rwhI3DdXYrexw1ynScNpZhYuhGIOAHvpNBX+K5ucdiMXZ3d5HSD09+ro/zJecVjrter/Pw4UMA7ty+zWeffcbU9BSOrtivlemo/pliN8DxIrMcfsh+DJNLhRkWitOkzSTZbJZms8nW1hbxePyVql+8GQxrap7n0Xd7bJ9ss7a3xnp5m82TXfZqh5y2ThGawjCNgH2EmUWvP973koEAUY2era0tSqUXl60Or7++vk6lUuHOnTuRmnz16lWWlpbo9/vkcrkg+chXzT0cDptl7j15yO7pAQ2nTUf64X594fnJX5qi029Rr1bo9Xp+WKQe93uHnFOH/bH4L8MwSaWSUQJjaCbw+53EyOfzbG5tsbu3S7FQxDCN0BLyzLw+fPjKtodH3W3yeH+VR+vLVDo1WrKPo/nl9t3g1VcujVaTRrVG3DBJx5Poz2Pqb/0WnuUxmJpNX3qUT4/pOX0Eyt+chO8v8MNd/c8GgpjQmS1MMpcfJyVt9CjP+4zsh17Cr1Dtui5ra6tcvrT40qOUUqJpml81Wgh++ctfUiqVhupnhVBBVr2LYr92xO8f/pHN4x3K3SNO+3WqbpPDxjHbR7ucVmvYlo0RsyCI1fKd5zxrigtC3rvdLru7u0G3xYujsl7lsbXbbX75y1+SSCS4e/cumUyGWCzm07ouOKmf0Gi30AlMbNLvWx3eZYlA9wS6JynF89yavUHJzCKRGEEwQr/fj8KdB4MR3i7Owi88FK7wOGnXeLj2mD9uPmCnfki5U+OoW+ewXeWodszh0T6eDplkdkAHeX2x9L1kIKHqbds2u7u7ABQKhWeuGZqtQtPV73//e+7evUs+n2d5eZl0Os2VK1eYm5vj/v379Ho9P8tdaggUtV6N3688YLNRpmV6tHQPV/hx4a4MojMUuAhcKak2m9D3GM8VMaUeENozgw/GpzBNm3a7yd7eLqXxEroWxuuDaRrkCjmOjo4pHx8zNTUdqJ9v996+ezizLfRUj6c7q3y5/ICm18G1JH3N8xPxAhO2b63yk/N63R7deot8OkfCiiNFYF54sRD/hnAmaYebvQQydpy4ZtBtNPH6PaTy0JW/QRlKYGs6pieIu4JrpSluz14mryUx0ZFBzsGFzGPgZRoGG+vrGIZBNpv9xpGGfT/CyrxLS0vMzs4CUK/XSafTZ1nd0vc9NVSHxwfrfL72NQdelbrh0NE82rpHW/h5Lj1NctxucdSoocdtYrYVmHiHPSCD0DQtaiTXbDbJFwpoF+V7vcQTcByHcrnMl19+STab5ZNPPvFzXqL7J7A1i2Img2p3cOtdhNQQQqJ5/kv3NEylkxA6k4kCd+dvMJ0Yx0SPziGlJJvN0u12+eKLLyKB8G2bs87KQEKPPludfT7ffMDyySYNy6NtKTqGF5TKgZ7u0dD6bNcq9B2XVDKBJc2Byl7ilQ3l7yUDGYxn9zyP7e3toCjbsKQUHtfv9/njH/9IPp/n8uXLUUx46D8JOxJubGxQr9c4LO9Ta1Zoui2WDrZpaw5dzaMv1dkGFEBJiSfPwnwNV5BNpEjYCfxC78FYQnIRIhK8lPKIxWJsbGygUOSy+bNMXyEwDYNcPs/e3j67u7skEglsyxrqifLDgC9p1bp1nuxvUOnVEbaGq4MbFCmMdiR1tnFrCFTPxdIMStkChtAv3LS+C4SmEFNIUrE48aSNKTWkJzA9nZg0iUuDhDCZSBe4PrPAlfE5cloSCwOpQnv1s1rtIJRSkdS+vr7O+Pg351YMRi+FfUDu3LnD3Nwc5XKZ3d1d4vE4tm3jKQ9PKvZrh9xfX6bcr9PTPXrC8UuxQBDBBEoIkJJOr4PT65OKxUlaiejZPE/yNQwD27ZZXl4mHo+TuiBb/pueoOM47OzssLS0RLFY5KOPPsI0zSCiyncwCyWQQmLrFvlUlqQdR3cFcWljexpxZZLVE+TsJHP5SW7MXGU6PkEM65mi7kII8vk8qVSKlZUVlFLDjPdtQPllVxz6VHs1Hmwss1s9ois9+pqijxcEAAVCb6A1ekLRa3eJSZNs0B3S92W9elbVe8lABiGlZH9/HyFE1C8EQnutwHVdnj59SrVa5e7duxiGwdOnTzEMI+qvrpQiHo9jWRb37z/gX/2r/4NKvUJyLMthp0rfUDjiXKuZSAUPmITCJwrHI2na5FP5qJLqoM33PMkYhollWTz6+hHpTIpEIhkdIBAYpkkmk6ZSOebg4OBcwuEPB55y2a8esnawSUs49DQPR3hBLsWZ/H0moQuE8B24miMZz5WI67Fvpa5/e/jjMqRG0k5QyOQZixcYT+WZzo4xkxtnfmyaxfEZJhPFqDCnpvSBMb+YgYBPb8lkMqq2O0gXL0Kv12N9fZ1EIsH8/DyGYZBKpTg+PmZ3dxfXddjZ2yY1lubh5hI7tWO6Jjiai6e8KAl2aKUHzluv1yOmG+Qz+ah+w5Av5Nz4w6jIp6ur5IsFbMvyz3V2F55BaJnwPI+dnR3W19eZnZ1lcXERwzDOQvsH6XGQiSRyjGWKFBIZxhI5prIl5kvTLIzPMJmZoGBmMNCDRMkBmWWg6GsmkyEej7O1tUW32yWTyUS+1TdPswpXuHRx2KkcsHqwTctz6AufyZ/tWANCdahlOICjKGRzpPT4EF286B6fx3sVhXURkskkk5OTbGxsMDExEUVkhWp5WLLh448/JplMRj0Qbt++HUlmYax4MpmkVqvx9OkTjppl7Nk8YjKDIzyUUEM3NPwchsK50jdneQIa7TaOozBN/4F5gT31PEJtZGJqklqtxtcPH2HH4qTTmYHrCNLpDHfv3mVzc5OlpSWuX7/+jMnuQ8BgscswlPTw8AAXh2Qhw0mzTqvf9xPxJDjB9wQMRc4IL8jdkYK+Jyh3m9TabUp27vwlvyOIgQQKhVCCGBoxYVNMX2BiEgP9wf0aJ/7nlwi6H4xUnJubY39/n8nJyeeGqQ+i0WjQaDS4du1aZP5NJpPcvXuXBw8e8Ld/+7d8/eQB/+1//99xUD2mrTu0NRCehxC+SWVwlXvBBqcktHouh/UjZp0ZLD0HwSZ8HoP5W4uLi+wf7LP6dJWP795FMwYZ6cVzDytMbGxssLi4yPT09FAdrOg6gz94Ak1qaELDskzydub8EedHOXjVZxjDxMQEpmn6eSKdDjdv3nyjEWVnc/E3/a7nsHOwR6vXxTGVbxURLpGv6VwPIwU4OpTbDfarVabs4tCMXsWM9UFoIJZlsbOzg2mapNPpiON3Oh2WlpYoFAosLCzQ7/dZWloiHo+zuLj4jMlLSkmxWGRicoLj2jFGNo5ZyuDIIBhOqHPZ4cMsRQtMWEfb++xu75Cw45FpQGqDukhgb1TB34SkWCxQLpdpNBvkC/kz+2lgtw/t2Z12m3v37pFKpZ6Nz/8WuLAK6neE51VJ7nQ6/PVf/zX/4//8P/F3/+7vqLXqxLIpXEvgRpnCPLuxhmas4P7pSme+ME0hlvr+NJBIZA01iPAXF3VEDwtGBRMbNJu+wtANw+Do6AghxAsjmsB/Buvr64gg2TWkjXDtnZ6e8jd/8zf85j/9BiuXwMwnaWuKru6LUJpiIMM8Oqtf1dbz0JTCcKGYyZO10hhRW6bnj0nTNBKJBDt7u0hdI5M+m8NF3wrzu3Z2drh27RpTU1PPdGEEouTLkK/7tzdS+xm+2YJnb773nN+fnd+2bVKpFBsbGxwfH5PP589MaAPHvQgvOrbT6VCpVOh7Do1ui62jXapOB0cqXO2cpWSg/VU4PelJvL5HTDO5VJgcMCm+2lJ77xkI+LHy3W6X09PTqJgawPb2NrVajRs3bmCaJicnJ2xubnL9+nWSyWT0/XADq1ar/NVf/RX/8n//lzxZfcL1T29ij2fpSQ9XukHRBoY2AF9p9+29UgmsvsJy4Gh7n2q5wknlhKPDQxzHiSqlalpYwl1E70pBIhFnb3cfXTdIJBORou/fQ9CEjOb35ZdfYpomqVTq1e2sA+KG391tQMUVz/Ynedvb7aDpIawMcHBwwOrqKr///e/5y7/8v1l+ssLV61eZXJyhr4soiGF4lGdEraRv+5WeIOZpXB6bIm9/PwxEnfv0TaG4EUTAJAcc/yI6z/l0+mfPFUY0HR8fUywWo6KK5+nR8zxc12VpaYmZmZmBitTBmYPw2tnZWa7evEZfV2hJG8cAF89neQLEMwIWgSnFQ1cgOx6t0yb9Vg/dE0ihDa3dQSFmUJNyPZetrS0y2SxWmH3veUPf6/V6PHr0iHK5zI0bN5iYmBg690VZ6oNlhs58m2ro9wxtqxG1M5yCd/FzjMX8aMqTkxOOjo6iOnzn7+3LYLBKRuir+l/+4i/4f/7u/2XnaA8zaePoio70cKU4exbhvBHRZ/D9P/QUGSPO1fG5ICTgTCt8WQp5701YIWZmZnj8+DG1Wg3btmk2/WqlYd8D13XZ2dkhlUqRTqeHpF7XdSNiq9VqHOzvEc/GSMdjaK6HZ/iNfjR3QEUX6sy0QFjiRKJrGreuXWP8kzxPHq1gGybFQoFGvc7uzi66NIjF/AKP+bxfWsEw/IWeTmcolUrs7u767Ttjw1nL4GtJly5dQtd11tfXcV2X+fn5C4vhnYca2MAGiSQs1zDMPAY3uzePMPEv7LV9enrKyckJ3W6Xfr/vtzLNZvn4Rx/zz/7pL6g1avzjn/2cnqXRpuMTQDjaKCktvEkKBxAo4ijSukHSMDmb3fAG8d3hede/0Jhz7vMgo3i5jOfQJn94eEi1WqVUKp1J8EIM2e6fPn2KruvRMec10lQqxU9/+lN+/JMf88X6VzzcXUXzXAxN4kRp588fl/AEpm6RSWVo15v8Ye2PWIZFqTTG2NgYyWQSKwgQGZqDJpmamqZ8fMzK8gqffvojpDbcQ6fZbPLo0SOazSaffPLJN2pbDPlqQgw+m+F7rxgW0F5mxYT3MJ1Oc+fOHZaXl/nqq6+4cePGUN7a87Tv8ByD6Pf71Go1KpUKW1tbbG5u8seHXzF1eQbLMKmplk/XIR08I2AR+WulAl2DmGVGoT6vQwkfhAYCfl2fer1OrVYjk8lw7949TNPk0qVLGIZBq9ViZWWFxcXFZxaYlJJKpcKjR4/wPI/5xTnufHyL25/e9juT0QXhRdmqkSlK+FKIh8ATAh1IazEuTc4wV5qlVChyuH+IROPGjevMTs8Ri9l0Or5UuL29Q6VcodPu4rgOuq5j2zZHh0d0u13y+XzQ1OoM4YJLp9PE43G2t7dpt9v+sS9Iphysf+MJj2avRa3ToO12afVb9JSD0HwpzONMuvs2aUYXEYdSim63S7lcplwus7GxwebmJicnJxiGweTkJAsLC0xPT3N6ekqv2+cX//SfcOfObW7euUW126LmdHCkh6eCxLToGv74/UAbhe6C7Unmc+NcKk1hCuOC2bz9tSkAocJikAov8KmpoLaHN/A6V+9jwOD5opFe/NfQ/FSr1ajValGm9Hk0m00+//xzrl27dqH2cfYZpISO6rJ3ckxPuDiSaMMKJfWh9YpAegJLScZiOT65cpsrc5eZLE5imVYUEXl0dMTx8bFv7gpaLoRagWbomKbJ5sYmpuXnT4lgbKenpywtLdFsNvnss88iy8JFGsfwfM7fszPNQg18DrddFXl4BhnPi5/MoAkwn89zdHTE+vo6sVjsGfPzoIYRph6EwpW/V2zz9OnTqEHYxMQE6XSan/6Dn/Jn/+Wf0Ww3OenW6esKLzRhDdmxBgPKwVCChDBYGJtkKpWP8nMu9tY+Hx+EBhI+iEKhEHH6crnMz3/+80jlXVtbw7ZtisXikIQFRFVHW60WuVyOn/38vyFTSNKmzR82H9GudembEk+ooWUFPu1oQmC4ElvpTBcnGM+OIYVGNpPnk09+xKPHj3m6usqNazeZmJhkYmKKXrfPceWY4+NjDsuHrG00SCTiUeb50pJf9j0sZAf+5ju4AYyNjeF5Ho8ePaLRaHD79u0oiED4Xs1gkND3+vRkj3qvRblaYa98SL3dAglCSGKGRiFXZKxQJGdmsDCDRaUGlt6rb7ZKKVzXpdfrUa/XqdfrlMtl2u02lmWRTCa5fPlyUOjORkpJv99nY2ODg4MDbt66yfj4OAiPrtun0mlxfNjCdVqgKVwvIHYZbF9B3wnleZiupGSlmC1OYkm/c96rxrm/cQSbbQ+HLi49z6Hb7+EGHTB13cDWLGLoQbCo33/jdREy5QcPHlCpVKL1P4jl5WVSqRRTU1MvFELAr0FWyOQoJlM0Wl2i5PLnTddT6EgsYVNIFUhYSQwM7IxFNpNlbm6ORqMRrY3NzU12dnawLCvqnpjKZEin0yxeXmRne4d0KkU6lea0UmFtbQ1d1/nRj340ZJY+vzk/My7O2IIXBLh6eHTcLh2ni+e5KMDQDTTpP5Mwd9v8Bt/NRTAMg7t377K6usrGxgae5zE9PT00ttCEW6vVqNfrtFoter0e4JvyxsfHyeVyUUj11NQUUhcYMZ1Ks8Ju95ie6qA8fAElnGkkjIT3AzRXkTZtirFU9PsXG0QvxgfBQMDfqFKpFI7j8OjRI/70T/806p3earU4PDzk5s2bkQ1SShklGoVhvclkklQqxfT0DLqhEafDtbFFeq7HQadGVzh+9jm+BAn+hmV5fomDyXSJS+MzJLV44CSEVDLNjWs3WF9f5/6Dr7i8eJVUKoNpGUxOTjA+Pkav1wsiYHwNqt1uU6vV+Pu//3t+8pOfMDY2hm3bz8TzSykZHx9HCMHS0hKPHj2K/Dvnbb09+uxV91ndW+egcUyt36cvPBDCz4TuwmZjn+JJmsWJBebysySIBSGLL+9jCaUn13VptVpUq1VOT0/pdDp4nodpmhSLxeheh2YLKSWe59FoNNjc3KRer3Pt2jXGxsYQUqKUxNZ1ZsZmqPd7bBxv03Q6OLrfflQNCO5SCaSrk7MSXJu8xERmbMC6+92zkDOxwzcd9nE57tfZb1Y4qdeo1qq4rotAEIvHKORKTMdzjJsZDO3MNv06ow4d6Ol0ms3NTbLZbLSOQr/f3t4eP/nJTy50OD9zPiCp20wUx9jfrtGk40e8oaIaXgMTR3gC6UkSVoLx3BiWtIYEEV3XoxbUYcmRXq9Hp9OhWq2ysbmB47jEg6ZRnuuyvrpGsVhkfX2dUqnEzMzMK5UQGTQC+nkSHj3VodqqslM+pNKo4nhOUIBRxzJMZsenGMsUSWABBt+kfZyHUgrLsrhy5Qq7u7tsbm7iOA4zMzPRXI+Pj6nX6wBRkMz09DSxWAxd19E0bSjwJ51O4zP1PsVcgVxtj2ari+P5FTL8pX7R+AS6UpQyGbKJ9EuN/3n4YBgI+Pb0TqdDv98fir9eW1sjFotRKpXwPD9e3fM8NjY2WF1dZWZmBvA35MXFRQzdAgQmGtP5ORyhI/bWOWxWaKs+QrqgvGDTEsQxuJSd4MbMFcbiBewgpkEpX4LPZLJcv36d5eVl/uN//A2ffvpjSqUSUvpZrLZtY1kWxaJfEqHb7bKwsMAf/vAHfvWrXzE9PY1hGFFfhkwmEzkIpZSUSiWSySQrKys8fvyYmzdv+swzMEcpFMeNE5Y2n7Jf26dvCVqGi+vvTYGJBXquh9t0cHZdUIKF/CwpEX+l7ev09JTj42PK5TLVajXoeVKIfFGmaQ4x8UF0Oh3u3buHlJLbt29HZTUAn4kA2USWW5euYcctVvfWqblNHKnCFHQ0pWEInXQyyZXxOeYL08SEHVS2DaOaXnOBfQt4wk/TcoCK0+D+xgo7Jwe03C66YeC6Lp7nQgs2jvY5TBf5eP4ahWQBcyD74NkQh29GWLb9iy++oFqtUiwWASK/YKlUolQqvcSZBFJpCKGYyk+wV6/Squ7RdV0/jN0b3Fb9xWViYHiCueI0pWzRL9dybj0JIaISQoPmZc/z6HW71Op1dnd3ePzwIUflMnt7e9i2zS9+8QuuXbuGlBLXdV+KAQ5C4fv/OvTZONpibXudcqtGDwhlJqUUmgeHp0dcmpzjxuxVNHQ0Xi3tLpyTaZrMz88jpeTf/tt/G/U/CWv6LS4ukh0IFgCGTXoXQCIZyxQYyxWodOs4qgsKvwlWMEYJUe1OoQSFZI7pwjQJIxEIiK9HFB+MD0QpxerqatRo6vj4mLm5OU5PT3n8+DF3794lmUxGD2J7e5ulpSWuXr3K9PQ0y8vLzMzMBIUNwwoxAl0YpONpxlIFEppJQulo3T4xpZGRFvOZSe5MXeZaaYFSLI+JgVB+m9sw8gF800SpVKLRaPD48RJjY2PnGvicEZJlWaRSKSYmJmi32ywuLpLL5djb22NpaYmtrS08z0PX9UiatG2bQqFAtVplZWUl6sbmKYeucPjD08esVffpGOBK6TMPcdY5Dvw2oQ6CVt/F7fQpZXIk9dhQ1c6w5EXIhD3Pi4rJ/e53v+PJkyd0u12KxWJUoj5kcJZloev6M4xDCEG32+W3v/0t/X6fTz/9dKi4ZXiDVPBUTM2klM5SyKSwPNB6HgkM0sIii82tiQXuTF9hPjdBXJp+DSklkfIsCuVVJcjXRVhC28UvL3/YP+XL9cdsne7R8Xp+u1Rc3KC2micVrvQ46dbYrR+hxU2SVhwDGWxaDIx7MAR4wAARMNPIdBFEUZ2cnFCv1yNHeavVYm1tjcuXLz9j/nnRCwSabmCZBsJ1Eb0uqu+ieWAqiYnEUBq2p1PA4sbkAjemFsloyYARSqJGR/8/e+/1JFmanvf9vmPS+8zKyvK2q6rN9PTsrAV3BgsaMAgGRYYoKYQIiQqGxOClLhSK0CX+CtwoFAqJBlRIlO4QvAC4ggggMLPonemZrunq6vIuq7Iqvc9jPl0cU5ll2k3PzC6IdyJ7sqpOnjznfOZ1z/u8HgW521nESXs4m7MiQNc1otEYhcIEc3MzWKbJ7u4uZ6UzotEY3W6Xfr9/bYO9lnsTV1orSYkpDTr0+aq0w3pxm4tek45q09MkA1UyUCSmZjJQLNrSotxt0bcsorEYAcVhV7stS+jT0bv1aIZh+JGQ/f19Tk9P/ZYUExMT/PjHP2ZlZcVHag2zTdyUy3HE9meDgkI0GSOgawzabSzDhU7bEBIaARQ0GyJSZTo5xvuzK0wnJggRwOspeTs3wO3yV8IDkVL6Vu/CwgLRaJQ///M/p1QqUa1WiUajJJPJoeI0p4f06uoqk5OTfPnll4RCIb/PCHhL0inECaCTi6RIzsQwZI92z4m/K8JRMBEtTFCEnMd/pePO8LirqsZ77z0kEomysfGM5eXll/Z2j8ViTE5OUiqV+N73vsfc3BzNZpPTU6fxzsHBgY8qy2azfn1Lp9PhF7/4BVLYBCNBFt5bodSq0FVspOq4HNJ2F7Fn7YGrVMCyJLV2i7NyiexUEh3db6bjxWnb7TaVSoVGo0Gn08EwDCYnJ5mdnSUWi70WfYZ3vmq1yosXL4hGo9y9e3ckHOHnf7i0bHUEKgFmY5MUlnIMrB4Dw0AVigPbDUUIKs7C8BoBjSqLb88F8axcG0mLLtunBxxVi/Qw/GphqYxCSqWUCE1SHTR4cbJLSo8QCo+5lu+rFJ/3pK6H6ubn51lfX6dcLvtN2Txj5WUW7qg425WOTj6eQ9UUMvEY5WadRqfjoOukIBgIkghFKCRzTKTyRLXopfcxYri/yqMSIG2MQd9l37ARUvYAACAASURBVLb4R//wH3J6dka310dRFMplh6VB0zQ/9ON1WAwEAi454tVn5Cjrs2qJ3aN9alYbqUqn86Ay1DjOhcNKJB3ZZ//siLQWIzEx5/NhXRsBKen1evR6PbrdLu12m06nQ7fbBSASibC0tEQ2m6XZbPr5vlAodK0r5KvHwhlnBUGUMAtjc8TCcU4qJZqdNsbACcUFNB1dU8imUkxmx8nqGcIEuITuvt2a+LVUIFchhv1+n729PVKplJ8vmJubY2NjAyEEMzMzKIrCYDDgxYsXlMtllpeXGRsbY2dnh7OzM37yk5+MQGGvAy0FQaETFDqxcIzLVPrrJ9SklGiaxtLSEqFQiI2NDaamppiZmfGpFq6iw6ampqjX62xvb3Pnzh0/Xry0tOQnHhuNhp+YCwaDRKNR1tef8q//zb9ianGG3/3n/w2tQQ87ILAVN4+rXAtX+5XdqgBT2tQadaxJk3avRavRod3u0Ok4L9t2eLzy+by/aAOBwBt5m7Ztc3Z2xvb2Nul02n8uLzuHtxWoCKRUCRMiokWQmn1lIVzmPC5P9+3HrqS7FdnYlFs1jkqndG2DgWr7aBl71Db2Y4qahEqrTqlaJhNMEVD0WzI4VzZhcfNRqVSKVCrF6ekpqVSKs7MzCoXCW1RJO+HAIAHGwllS4RSzOYPuoI9lOLNK13QiepCgHiBwOxfyK0Ui6bTb7O7uUK/XWVxcJDeWZ7wwwedPnvh5gn6/T71ep9lsUi6XURTFL75NpdNE4zF0zalk7w+6aAGNvjngtHJBc9DBVKWPQhS+Z+RegwKWZYMiaPd6HJdOmUrlCYaDvgrx8n7dbpdKpcL5uYOkBKceJJVyAAPBYBBd1/2aHM8r39nZ4csvv2RtbW0kdPs6Y+EpER2NhEgQikeZiBTomH0GhoFtSwKqSljTCQU0dKHiYEad+jMp3l6F/FoqEE+8WoKjoyM/6RoMBrFtm/n5ef7oj/6IZDLJ+Pg4hmHw9OlTOp0Od+/eJZfLUalUODo6uhU7ftU28gwm39MQ/m+vHPRy0TSN6elpVFVld3cXKSULCwsoinJNOUYiEWZmZlhfXyeZTPqoLE3TSKfTpFIpTNPEMAxarZYP2dzc3GR9fZ3t4gF3fvIBubU5bNXGlDYI+1qTH89xGt7KzisXfPLJpyiGQJMBIpEoqVTK71I3HJJ6m45sp6enfj/6paWll1LyX320QrqBA1u4eZzb8hvilt9/O+I8ERvTtihVq9SMLoauMBASW5Uv3VSlgIFhUWk36ZsmdsALNNz+TaM/jx6paRrj4+Osr69zdHSEYRhkMhngzcPMDiGig0sKgWN1hAWEb74f8bIfhn8emUMKg0GP5883qNfrPHr0iFQmAxJS6TTLy8vs7u766KRUKuVHGSqVChcXF5yenrL+7BmRSMTNw4X49C8/ZWFlkfH5aWrNJqYQWKqCUJxn5oVKAZ/lWegKpg2qAo1uh3q3RT6cQSBotVpcXFxwfHxMrVbz85UTExMkEgkfzHOTeFxly8vLPH78mF/84hf86Ec/ek2WiUsjCfA91AAaUg2SVGMQHDrSKwKxJVLxWvjKW4yS15NfSwXixd+9+o2DgwPW1tZcVIIj3gCoqoqu6zx+/BjDMPjggw8Ih8MYhsHOzg7j4+NMTk6+9mAJX4u49rt8O7ZNVVWdjoOBAI8fPwZgeXn52n0KIcjn85yfn7O5uUkymRzpwOjhzDVN8z2CarVKMBhywhStKuelcxILE0gNJzloD9+Ru9UMRz6kxLYsauUG2zvrTI9N8/69D1hZWb3W/XFYcdweq70U27YxTZNqtcovf/lL7ty5w9LS0itDXtfE+5pXPf7vSHF4oriKzcKi0WwicZKblhh6+rabAxv6nES4nF7QabdodZuk9RiauI0Pyhu84Z+vSzabJRaL8fOf/5yf/vSnfu7j9UNYw9/wamj3SJTqlZrlUqRt0+m03F49Jh9++CGJRNK9ThXbtsnlcpyenrK/v8/q6qrvAQcCAcbHx8nlcliWRbvboVyucH5e4uDwkD/4g3/FAJP/4p/+1yjZCFK7Sd26z/MGw6pvGZwUi3RLdXr1Ds16i1DIWW93794lHA6PJMFfZlh5ayaVSvHTn/6UL7/8ks8++4x79+69gXK/Hpq98RMCfO4W/5ivx83wa5tEF8Khad/Y2CAWi41svkIIKpUKL168wLIsTk9PR7DiXiOqer3+0taZ4srL+91lSZ7Ht/R29+flOTKZDF988QXNZpNUKuW7t554HF3Hx8dYluVXst7EX+UpzcPDA/7Dn/0HArEwf/c/+R30ZAhDs5HCaQrrTm0uSZwlQkonICcVNKkwmcvz93/2d0nH05yenLGzs8vZ2ZmfPAdGNv5XbUKem7+3t8fnn3/Oo0ePWFpaei0qlpvG4uVydTO9bRF/OxpmYA/YPy9SN3v0MLCUSyfWNXyH5pjw82+6rUDHpHp6TqtWB9MmoAVRFA/OOazAvfu5vqF4IoSg2Wzy2Wef8cMf/pCES5X+tmv06ri8dJz8X1wPEPsvN9ldrdb57PPPEULhwYMHxBJJhCIQQgX3ehVFQdM0jo+P/W6Aw/fpeeqhcJhUKk0ul+O8dM7Pf/5zNl5sUiyfMbk0hxoLMNDsEUo1hwrEGRRbCD/qoNkquiGgaxCQKoVsnqWlZRYWFsjn80QiER8N9jrPdPgYL6rgFT2/fofDVxsOVx+3/8SF53O9xmdvkF9bBQJwcHBAvV5ndXXVVwJeBecvf/lLgsEgJycnBAIBPvroI8LhMFJK6vU6m5ubzM7O3p7EvuV1+bdhBNPryW2oikgk4nQgPDigXC77xYRXlUg4HGZ7e9vPOQyf17t327bpdrv0el0GZp+7j+7zN3/nb1NpVTGE6boaXuhkuOJ82JhXCKAyOVZgtbDExNg4iwtLFAoTftL75OSEYrFIq9Wi3+/793QTdbW3wfV6Pba2tiiVSnzwwQcUCoWvNTe8djrS/Q4P9i6xucTcwO3Kw7vzb05cLA4mFqf1MhftGrYm/Cp0gTMkbh2kb9HbuJ0JbZV0IMZcYRpd0Tg5OGZ3a5d6vYFhGCiKGIGvjqLMrovHVttut8nn8yOszm8yFqPrYXgDuh74HSaDvW7lj75s2wHEfP7558Ricd5/9D7hSHTovoY+LRzSwl6vx+7urp/r9O7j8v3lmmu2mvzys8dsPN9g9eE97jxYQ4ZVLNW++YkJT9ELsAWaJQjZGmtzSzxcvUc+nSMcjowYfTcj12449Q2/13WdbDZLv9/3w9avDme9bgngTetA3PL+9eTXMoQFTr3B3t4ed+7cGaEvAHwivomJCaampggEAliW5ZOueZW3XhHem8u733QymQwffvghm5ubbG1tcefOnWux00wmw9jYGF999ZVfEHaVsbNWq/HkyRNCoQD/7J/9M4yAJD2R57h+RqtbdhSsAHFDHsRyLRNNQlwPMR5PARYKGigOfUoikcA0Tfr9vg9L3N3d9T2fbDbrW2IeHBEcoMPm5iatVovV1VVyudwrqp5vFw8a27P7tHotuv0eg0EfVVEJ6gHCoRCRYARdXHYRd58Q35bHMSwWElVRiUUiqGWBLhy4tPC039VLcvM7Tq8KQSIeZ3FmlqyWgjtQrza5OD/n+PCE/f0DIpEw8XiMXC5LOBzxQ5pXn6+HVux0Ovzmb/4mh4eHTExMkEwmeW3xozre5LHd/Nlw/wnn2hEgh5qqAUNg0dHr8qRer7O1tUU+n2dlZcUHtnih0qvrVdM0FhcXKZVKfPHFF7z//vs3dgL0Pp/JZPjbf+tvUa5V+O2/83fI5ccpDqrOWNziuClX8A1BVScRj6OrTkHhu55RmqZx//59QqEQW1tbgMM6cZunLkfeWe67S2V+iWAc/ZDwOeRu1O6vd61v/pHvVjwuJW8THR8fH/mbaZp8+umntFot5ubmmJiY4C//8i85Pj5mYWGBk5MTKpUKP/zhD1+LgPDbEiEE8Xice/fusbGxweeff869e/d8biLPXV9eXqZYLLK9vc3a2toIKVu1WuXZs2eEw2EePLhPNBbBwMTAZiY9Tq3XwrIGoEo3iDXq+gqhoJgQQ2cynmE85tS1SPf6HNSvk3PxKvfHxsZ8krd6vc7BwQEHBwcEAgHGxsbI5/M+yqTb7XL//n1/w3oTCnnpLwabPgOqVp3TyhknFyUqzRqmaaAKlYAaIJ1Kk0/lmB6bJCmibrLXtUTf1YC9oSgIsqkk8dMQfaOFpjmKHNy88VAIC+ksTFVCSNHJJhMENQ2BjaJoZLMZstkM5oJJo1X3Cfbq9RqKovptDbxaIK/afzAYcHh4SDabZXZ2lnLZodIZboHwJiKFhY3JQJp0jC5do4thWgihoKs6kWCEgBZAw+EgU29IWHlzwLIszs7OODw8JJPJ+IilV16DW+H96NEjPvnkE/b395mfn782pyzLZH9/j+LpKb/xG7/BnZU7zCzPcTZoUD6rYbrAK6+7qOeb+zrFcRgJSEE+nSEbT6K79ROvs/O+cX5JCJ809eDggF6v5xvDt60bj63LxKJqdugYXQbGwKkZEyrxUJRIIIguNAJCAzkEyXjLhfFrF8KyLIv9/X0/dOXhpoVwmsl89dVXPHv2jI8//piVlRW/N/HBwQGhUIjd3V0WFxdvJZb7LsWL2SaTSer1us/fNQzr86CJT58+JRqN+sWRFxcXbG1tkUo5Ve+RSBQhQEV1aFV0hW5/QK/bQyBQJCjC4RlVcXqZKK57PhvLszYxTy6SRhe6v0huGkfP8/DCcIVCgXQ6TTgcpt/vs729zS9+8QsqlQqzs7OkUin/Pm8618vExqZHj8PmMc8OnvPi/JCzXp2m6NPTbLqqRVsOqHaaVNp1DNsmGooQUAN+HfcNd/BWY/W6chlEk+h6gI49oNpsOMSJbs7JibvJS8/DLbYLoDKRHOPO+DQpLebS4zjlhAKHqTYcDrvKIkUmk3HDtPgUJaenp7Tbbd87PT09ZWVlhVgs5jdc86je3+y+JANhUDVq7JYP2DzeZu/siMNykWLljJPqGbVeA1Oa6AEdTVFRhvzB4aduGAbb29s8f/6cubk5n136tvl2kwQCTmfPnZ0dMpnMtST2zu4uh0dHFAoF5mbnmJ+bc5LyuuC8VaFn9XEdKZfo0vtCxwNREKhSIaFHWR6fZTIx5o7HN+fVekalpmns7u5SLpdJp9MjVDSOSNf3sDCsPqXGOV+c7vDi/ICD8jHHtRLH1RLn9QqdQRtFVx2OL/H1W2P/2igQzwWtVqvs7+8zNzc3QgwnhMMH9cknn/Dhhx/y3nvv+YsiFouxt7fH8+fPmZmZ8RO331Ru5uuIZ+Fns1mfbsVTIp5EIhFUVWV/f59MJsPJyQlPnjxhYmLihloKT/E4BWNaIMigN4CeQUBCwBbuSyUdSLA0PsfdyUXGYzkCIoDwy79e71l5aLB0Oo2qqpyfn5PJZJifn6fX63F0dESxWKTRaPiezPAkvm1MpFvNXenVWD98zmmzTAuTrqY4lfWqiqUomIrTJ31gmXS6HRRLEolECapBPH6BK0/8TYbnLcVRI4pQ0ENBGp0W3X7XCVHhKHBsJ5fgbFQauqWQDES5M7XAVHSMELprwV8Smvgj7M6ZYDBELBb3odYe2KLRaLCzs8Mnn3yCrussLCwQCATQdZ2TkxO/Detri8scXBk0eXbygq3TXSq9FjWjS8ca0JUmTbNHuValUinTG/SIJeIE1OCIGvd84L29Pba2t3n0/vsUCoUbNkhGfr4pvyCEU21fqVSoVqsjIZ/NF5tsb29zd3WNmelpt6hOd0JdAZWu2afRbCClW5EjHMWuAKp0iD40qRBUdBbGplmdXCZKcGhdfHMKRFEUotEo6XSazc1Nn3nbybmMosO6ssvB6SFPdzfYapSomW26ckDHHtCy+rR6bSqNGo12g1A4TDgYQhVeK6m3u4dfGwUCDgR0a2uLaDTK7OysP9Fs2+bFixesr6+TSCT48MMPR8JTqqpyenrKs2fPRqCLv4oKxHNPVVX1u5i9ePECTdN8mLJlWcTjcb8I7/z8nPv37zM9PX3ZcAcYjnwKVIJqiFwsQyGeJRuKklJiJJU4hcgY07FxlsfnWBqfIR/wPA+nYOxNn5Jt25TLZT777DMmJiZ49OgRhUKBfD5PLpdD13VarRZPnz7l+PiYwWCArusjORPvWViWiRAKprDomj2e72+xVzmhJwwMVThwWHFJ6eHh9i0V+pZJr90jHUmQjSSHFMjV1zcnYugpChQiWpCpsTECNtidAbopUG2JYkk0y2F1jish5iI5vje1zJ30LCGCaEMd/HzKCeFtpuA1EBICN7GuEgqFfa9Q13XOzs5IJpMcHR1xcHBAv99nMBhwfn5OoVAYefa3rg0hQUK1X+PxzldsXxzQUgw6islAAUNzeucYKpiaoCctmr0uNpJUNOaQKbq9XAzT4ODwiOOTEx6+/5D82O1x/ldeF/ie8OHhoZ8HWl9f5/j4mB98//t+kym/2yKgopBKxIkENWTfxBoYaDbolhOuCuJQsqTUEGtTi6wUlkiKKLrLzOuN8jcpHlhgYmKCs7MzarUaiYTjmdhYmMKmj8HmxT5PT7cp9mv0AwJbA1OR2J42FGAoktagR6vTIRAOkAwkUIS3yv8KJtGHE2ynp6e0Wi0ePnzoFwx6VOyHh4ckk0kKhQLhcNifaLZt+5Wh4+PjtNttstnsr6TygNEFoqoqhUKBXq/HkydPaLfbzM/P+6CAQCDA7u4uH3/8MfPz8/7nfB4eP93peiFCQxcasWiQ8WjaTUo6U8dLN1/2Qni7CeWFRTY2NpiYmGBtbc33BD0ixWQyyfz8PPPz85yenlKpVDg5OfELsDyeMFVVsSyTSq1MJB2j0q5zVrugZ1sMFIklJX7bV+/54aQRJQ6yqWV0OS6fMZseJ6CGudof+ttwQAQCIQUa0qH+J8K9qSXysRRnlXPa3TaGbSKFE8/Pp/IUEjkyoQQ6Af8cbzsmpmlyfn7O6uoqDx488Lt3VioVer2eD3f3ijkjkQjhcPiGZLQzNyw54LB0wmm1RE8amAKMEUSGV4onsBQF7AHHF6fkYykSmTiKgE63y87WDrV6nbXVVbKZzGUy92tIMpn0m8uFw2Fs2+b9998nl8vdWI+hoxAjyEJuhmwkzUWtTK1Rxxg4/FqBYJBQOMhYNksqliZBhICvPL7dPSQajXLnzh22trZ4+nSdpTuLqAENAgotu8ve2SGVbo2BamELfLC+k18T2KoT7LKERaVf47h8RjaWIifeAERxRX6lFcjwgDebTZ4+fcra2poPYW2322xvb9Ptdpmfn6der19rZdlut3n69CkzMzMEg0EfefKqqudfBXHopFU/5OChnQqFAvv7+7RaLVZWVmg0GvT7/ZGk400g1uFGZRoaQnhtchw6biGHFIfAVydX0X83KV+vxqNYLHJwcEChUPD7zt8kQggymQypVMqngGg0GtRqNXZ2dpzFGwhQKp3xxz//I3762x+Tm52gafQwhcRQBbZy8wL2t1rhcFBVWjXq7SaJRPjG478t8SxWBZW4EiGSDjKZGGNg9rFsBz2jahoRLYwmdCdEIm+rsH8dkdi2pFar0W63uXv3LsFg0E+yT05O0uv1iMVifPbZZwSDwZGGZalUym9cZts2zWaTaCJMx+pwVC3StnvYmqOTHaCFO1FcD0M6SThsoN3rUDw/YzozBT2breeb9Do97q6tkc04UOK3KWaEy/no9cuJx+MUi0UCgQA/+9nPyOfzN57b8w0dqpUo0UiE8eAYZq6PYZjY0kbXNVTN8VoUFKf2Xl5uzN+2eDnOjY0Nvnr2jJOLU3LTBeK5BJVGDUOxwcmPj1yejWNQSek0MusZBue1C+pjk+Rif0UViCf9fp8vvviCdDrNxMQEqqrSbDZ58eIFiqJw584djo6OiEQiI7kC0zQ5OTnBtm2Wl5f9ZPPFxQWTk5Pf4R29mSiK4oennj9/zpMnT0ilUn4DqS+++ILNzU3u3bv36hAAlzBMYTvQEgVvE3j7FWEYBnt7e5RKpRH49Ovcm6Iofn/3QqEwAhH+0z//U/7lH/xrfv74z/gH/+V/SmZxEjMIphf7BlfxDZ3T28dwmE56hkHPGHwtyoZ3JtILnWioqASUAJFghEuubRx0jN8u2b3iN6gV879KOuNSLBZ9ZS3EZec7Lwf1wQcfUCwWSafTjI+Pc35+Tq1W4+LiAsuyfIqQX372Sz74wSMS82mKrQsGuo2pCEyXzevqpTloJseU6QubarvFRbPK2c4ximFz//59Uomke8TLanVedo+jiCQPBjw3N0e/3/cZK26vBvfwYW6KXwXUoMPa4N3Qdz5pHPFyPolEgrv37vJ//N//J//bH/xLvvc3fsjf+fu/jSFtLE1gqoxUnIMzFywAV9nbCrT7fSqNBouxW77wNeQbViDXi4reRvb29uj1evzoRz9C0zTK5TJffvkl6XSa1dVV2u02FxcX3L9/39+0vILBUqnE8vKyzzg6Pj7OixcvyGQyv1Iw3pvkaoV5IpFgMBhQKpWIxWJ+8nN1dZVPPvmEbDZ7LZZ97Zy4kETPy5DuPHN/5xhXV8fp5Yvbq/HY39/nBz/4gU8X/ipr8urfvZCJqjpQ1FarRbPeolGroxSLdDodssKxGp0uck6S86p4bC3uXoxtO4in7w7Ey5VHKi4x+MAlpTnXQmxXb+9178ADndTrdbrdLsvLy7cirQKBAPfu3ePs7IyZmRmWl5d9r7Ber1OtVvnjP/5j/sW/+N+ZWpjm7/93/xAzqWMpYKsSU9ggvc7hoypEIrEVG9tUqdRq/Ps/+X9ZGpvh+w8ekYgknA1Njn7uam3T69wrQLVa5cmTJ8TjcR49ekSxWGR/f59kMjlSpT7sneNfs/CT+oLRyOjV2T88Jt/FjJJS0qg3+MtPPmVvZ4cOA1Ye3UPJBZFCYEv7ejRweLrhKBfLtmi321/rWr4WjlXe8Lp+hFMt5RR/Sbe9kVt0JK+caPiTQ6iro6Mjv0CoUqnw5MkTwuEwa2trCCE4PDz0kT/DuY/Dw0MikQj5fN4/bz6fxzAMqtXqG5P/fVcipaTdbvPFF18Qj8f53d/9XRRF4fHjxzQaDcbGxlhZWfH7oUjp+BLK0Gu4G4K4jPE4VOJ+RtZz66989gbUizc+vV6PZ8+ecXJywo9+9KORZ/2y+7naL8Hr/1wqldjY2ODTTz9lc3OT+/fv8fFHH/M//Q//I7/z23+XkB64TCNLHOTMlZftzzRHdAGa4mYRh1MJ3/Lqv3mN4D57xX2J62b81fTCzScZeQmhYFlO/k/X9ZEGazdtyrOzswghuLi4APCp0fP5POPj4073znKZp+tfcnBwiG1JFCmRwl3RNz5LiVOhZzuhLGkyGAzo9rrs7u5xeHREo9nCsky/huFNZLiHuFdImMlkuHfvHpFIhImJCaSU7O7uYhjG0Ly7eed62W7gHeXezVv6S19PvDo3n/G3VEIIQT7nNAOTyuW1efd69eXMDUeBSMCy7Zd846vla3sgN/kY3nB4/YbB7TfhOqpOp2fFLcNRbj1Xr9djZ2eHqakpUqkUFbcH8uTkJIuLiyiK4icD79+/7+cAhBCcnJxQr9d58OCBj9ZSFIVUKkWhUPBd9l9lL8TbXCuVCs+ePSMUCnHv3j2i0Sgff/wxz58/Z3Nzk+XlZTcHVGVvb5eVlRXX2rwM8+BuqU6+wxETC0NarsJQUIXq9tp4tV3hsZ6+ePGCTqfDo0ePGBsb8xf1bXmS4fvyWvnW63WfSVhRFGKxGLOzs6TTaXq9Hu9/8JA79+9Q6Tc5bl7QGPRQbWfBOHeGf5/Cdac8z0MVkIlFScfjfCda4xYZ3XCHtcJwDuoyb3XdDB56f4uV3u/3OT8/Z3Z29pV1HrruNDy7uLggk8n46KxyuewXsf3Nv/VbvPfhe/zgb3/Es5MtkBYD27rdDBUSiYV3QDQS5cP3H5K0IpTOztjd38PcNolGo4zlciQTSTJDRuDLxDRNVFWl3+9TLBbZ3Nxkbm6OxcVF/17D4TBLS0t8/vnnpNPpK6SpL4sJ3hZQG/VShg6//VRvIcNhOW+deXT1pVKJer2OELC6ukooGeU//ye/ixVUODYrbpGwRL09YueLqiguxf3byzcSwvI8DBOLLj2azTbtXpe+bTIwDUKaTiwYJRGKEgvF0cRoYxbBZcFgq9ViYWGBw8NDDg4OmJmZ8ftnWJbl5z6Ga0Lq9TpPnjxhdXXVj/vC5cBMTU2xvr5OrVb7GnQm37x4OZvt7W2SySTLy8s+n1coFGJlZYXt7W0+//xz1u6uMTs7y97eHuXyBfnxPD7FOQ71h4lFH4tOv0ur3aI76DIwDQQqAS1AMhojHo0SVyJule3ocxsWr/OhaZrcvXt3hAl5+HkPP1vLsuj1erTbbarVKpVKxUeTeQg6ryObp/RjsRjpbBKpSAbCIhGNcN6roynC9TMu98/LhS1xcomCiKJRyOUI6UFuWPrfqvhbl5vI9Mg/7Cs2rerW3nhYppHGLa8ZM5BSUiwWkVKOoA6Hx3LYMh0MnIrl58+f+4g4Dzo6MTGBZZk8fPiAqcVp6nQ4vDjGsNqo0mmEfvuW6+TYVBsSsQS5TJa0kmB6fJKBMaDZaFI8O+Xw8Ijt3pbfHC2ZTPqccP65riTLB4MBu7u7HB0dsbq6ytzc3LVnMDY2xtLSEk+fPvXDvpeKeehZXA4OlrAvwSMCRqughJtEf7t5dDU8dzWH4xlXtm374UPPSNY0jWw2y7179xxDeLKAVCE/N8lnm085rVYBeY2iaPQCLvOGAU0nmXj7BDq8cwVySW7Xx+K8V2X//JiTizPa/S4mNpZpoglBPBQlG0kwPzNPPj5GlPDIQHnFT0tLSz4s9OHDh8zNzfmJYi9Gu7y87PcNHgwGPH36lFwux8zMzI3FSOl0S83RvQAAIABJREFUmmQyyenpqU/38KsiwxOqXC6zvr5OoVBgdXXVD0F4fd0jkQhra2t88cUXfPrJp3z/+98jkUqwd7BHIpUgFAiDcDwOA4sGHQ4qpxyfnVBt1RgMBkjpnEtXdRKRKOPZMe5MLJJREk5Rm7tjSftyVtZqNZ+s8oMPPriR2NF7741JqVTi5OSEbrfr00/kcjkmJydHyOKu9hURwun6KLGJ6hGmUgUqjTqK1UFBMFCHNi/p5D9U6RCXRITGRCJLIT02hNn/bpWIxCnC6zKgYbZpddq0el3XUoeAFiAVSxLXo4RFwKk3GFEar3ft/X6fk5MTZmZmiEQiI8rc8/46nY7v/XU6HUzT9CnRv//97xOPx33qDCmlYyQoEg2NqdQYvfM+A1uiKjjkkFfRelKgCg0dlagWppAaJ6JEfEqTgB4gm82SyWToDwa0mk3KFxc0Gg3Ozs7Qdd1HgXn/13WnALDX63FyckK1WmVlZYWpqalrz8BbL/Pz81xcXLCzs8O9e/ecWinPlxCesQsDadDoNWl0mnSNPqZtEtIDxMIR0tEUQaGh+wWdrz8Wr5JhL8OjBOp2u3Q6HUKhEMlkkqmpKZLJpF+iIIRgZfkOBha2IpkuFDjulujaA9RbDGKfdEVKNFshnoiSjSe/1l28QwXizB4bm47sc94q89XRNvu1MwxhY+pgC4kI2mg2dOw61UaDxm6TxYl55nNzxEXM2RR6fZ492yCTyWBZFpVKhR//+Mfk8/kRrX18fEw4HPZ58z2vZTAY8OjRoxtYSi+lUCjw4sULms2mD1+86bjvQgzD4ODggJ2dHT+p6SlIGLVcPOK1TCbN3t4eyWTSoRB5sc3KyhpaIICJTcvu8exih+2zPRq9NrawkcFhy7dHrdfk4rRKTwy4m18ko6XQUdGE6iNZLi4ueP78uZ938Tyi4c2p1+vRbDZ9+Gi320XTNL97XCwWIxaLvQGdiWPxBUWQudw0trDZOd6jYrVpygGGNAGJsAWqBFVRCQmNqVSe1cIcKT2FioZjyr9d/5avKx7SyEbSw+SgUWK3dEil1aBn9LFs5x4CepBUPMV0Ks9cZoKkGiWAcIEP8LIOmMMhwsPDQwCf8djjkKtWq5ydndFut9E0DV3XfWLRSCTie5YeMm5YhHC8jTABZnMTlBt1OlYDDYElbTc4OqpFVFtBs1XSsTT51Bg6gWtXL4QgFAwSDgbJpNMYhkGv13NAFM0mpVKJYrEI4HsmxWKRwWDA0tISmUzmpcARXdd96GupVGJ6ehqhON34bGwMLCqdOie1EseVc6qdJqZ0+nMGAzpBRWMik2U6O0EhMkZQKJdQ3jeUYUPJNE2fx6xarTIYDPxiSK8WKhQKEQqFrqErpZQIRSGAwMQil8wwlspRq7QRWBi+L+6Og7ycOQII6QGmxiZIhm5vdvU68s5DWDaScrfG5sEWJ/USPcXE1gWGihuDd0jkVCGxBZR7DURxj0gwQjgRRkdlb3+PdrtFLBaj0WiwtrZGJpMZ2Vy63S5nZ2csLCz4eYxarcb5+bm/sb1MGXgIppOTE3K53Lt+DG8tXqOr8/Nz1tbWKBQK1zbaYQUCEAwGmZ2dQwjYP9hDVTQuLi4YH6+RHRujx4Dd6jG7xX2qRgtTdXJT0nPVhUTYTkxUygG7Z0eECRCeDCEIoaFh2zbHx8dsbW0xOzvL1NTUiOfmeYOnp6fUajXADT+l08zMzPh90t+eQsaxGcNqiNmxaUJagP3yCaVWlfagjS1tH8EUj8QoZPIs5qYYCyYJumR+353n4RlXkh4GexdFvjx+TsVoMbAtpCKwhMMWrUqberXPRbVMr9tlZWaBpAgTFIoPHHiVdLtdDg4OuH//PrquUy6XOTg44PDwEE3TGBsbY3FxkUgk4rdY9RBwwWCQvb09isUiqVTKufohxaQIh3plLJ5lpjBD7XSbgTlAFZZzh8Ir4wRsgTqQpKNx5idmycSSuJ3qh3Klo0/JqxQPhUI+87NlWX7Hzf39ff7dv/t3dLtdfvaznzn1GUOe+W2KJOm2uz46OiKTzRCNRJBCYiIp9xs83X/OWa1MW5h0FQvbQ5ZZBsKwaJ+1qNRrsKAwFZ1AE5dw8TcRKSWdTofDw0MODw+pVCqMj48zNzdHNpv1lbq3ToZzildDyV6GU6AQUyMsTc3SsbsU62d+y2oPSiKk0x5Aw6lDKmTGKKTGCDrmyZvfiCvvToF4FpKQnJXPOW5UaEvD6ThqSzThlNVLl/7ZcoEnhm1T7bU4ujhhPJGjXu+ysfkVg+6Afr/PT37yk5GeBeAk0HZ3d1FV1fdKAA4PD0mn0yO/u028pOHGxgbdbneENvq78kIsy2J7e9uHJN+Uv/HkJgjszMwsWkDnyWef0+v1+Itf/AWxdJzMfIHDiyNqgw6mAk40yqk18MbMCz8aQlC3e+yUT8glsyxGp5DS4uTklPX1ddbW1piZmUFVVZ+yxNtwVFVlfHzcR8F4LW/flLDttmMFAg2FuIgQykwznijQHfRpdFs0W00EgnAoTCIeJRoKEVECLt3dMJvXVRjTN02oeYlENLE5bJ7wi51f0rD7WKqCrdpO9xLVzYcolmPJmxabp3tIxeZ+YZaAFgOXjAWhjNyClJdhTcMw2Nraolwuc3x8zKeffkq/32d6epqPPvqIVCr1Ums9EAhw584dHj9+zMTEhH+810BMSscTCeoRVqeXicUSrO9t0ew2kMLGdr1BRRXoQqOQyLM4Mc9kcpygCIw2bbr6pJyT+z8Pe0GhUIhgMMjp6Sk/+MEPmJiYoFgs8id/8idEIhHm5+cZHx/3SRWvVtErisLU9DS1ep39/X3urq0ykCZVs8UXhy84al0wUA0MxcmB2C66zMbGFhamNGh2BgxefAkLKlPJcXSXxcFZmh5w3EEIemE/L5/RarWoVCocHh76/HDLy8u+p3HbmFwNCV+fW96sUJgNjZGYDbJ7ss/z2gHNQdtFXAFSQbcEyUCU2clZ5vNzxNUYGtrXqqp/NwpEOtpDIulZPUrVC3r2wKkUFs4NSul1XlO8+8GWYNqSvrQoN6pUWmV2NrYolo65M7fCT37yN0bi696gdDodisUiCwsLfk+M3d1darUaH3zwwWu1R/USbDs7Ozx79oyHDx++MSPpu5TBYMD6+jrlcplHjx6NQJJvUmpXFYpzDExNTKLrGn/8R3/Ev/1//i82D7b5p//9Pyc4lcJQpZuPvUKfJocSuorEltDotymWTylEs9SOy+xtOSzGXhvR8/Nzzs7OME2TTCbD9773vREWgJsspq8jwwR8TsmXQkALkNBi5CNZyDCE0pVcptgZWiDfXXjSxqZpNNg53KZn90AXrhfoksd4zoUAqQgMTdA0e+yVjsiGw0SyAUKE/MZT3kZrDBxDq+8i2g4PD9nY2CCVSmGaTivYXC43Eo56mZHkJd3T6TSHh4c+G+w1gwVBAJ2p1CTJ+0lK1RLdXgtz4MDIg6EgiVCCQmyCWCiCLt5+bdm2TaPRYHt72+8sGolEWFxc9CMR3isQCBCNRv3eNaFw2PGwVJVAMMDE1CQbG+toIZWBPaAdMDmtnNGVfWfuI5GKAwcHJ+zueSoKFo1ei6PTIzLhFFrAZTYQzhMBiWEOsAyLbvcSLDIYDBgMBgghmJyc5NGjRz6F/tczVh0/zlVZBNDJBFOE58Kkc1kqrSp9o+9svlIhpkfIp8ZIRlMuv9rXp2R5Jzumh1gQQtLpdqm0GxjCRmoCW4AUihMm8fqIC+FUDwunItJC0uy2+NNP/pSTF4f8xqMf8+HDD4lGRpWHEA5le7FY9HmThHDa1+7s7DA/P+/Tm7+O6LrOysoKf/EXf8HMzMwIkuvbEtu26XQ6PH/+nGazyYMHD/ycjievc03OMY4Vk01nMUyTx5/9ktPaObuHeyxPvHct/D9skzueiGdhgmWanF6c8aRhcPbihFwiR6PR4OLigkAgQCgU4uHDhz4I4aqb/c3V2HiZgNEYrwcPv1QVgksU2nef17KxKJVLlOs1LHdDsoX0/RNfpGOImYpAaoKW2eWsUWEilSeohpBILMOg3e7QbDSp1ap0uj1saRMKhej3+8zMzPDhhx/6KKaryKuXKQ9wwkizs7NsbW3Rbrf9trdeHQE4sG9v88joCZL5CFJa4FGyKIpLx6JxlT34Nhm+rmGE2Pn5ud/idWlpaSTvFg6HmZ+fZ3p6mn6/T7PZpNFoUC6X/W6kkViUaDRGOp0iHovRbLb4/d//fbREkA9/68f0NQNbd/0NxTWlxOWoSOGYIpYAA5OLxgWVToVooOCUIUjoDXrUalXOzy/86ImmaUQiEcbHx0kmk4RCIZ99+t2tj0sl4vhAGhFFYSE+w2x8EssFZyi2w/jgjYdXeX+5C7ydvFOT21kMkr5lYmkCSzj9hA1Xi9vgwQAca1GC5egWOqbB4fPnzGQmmVmYveZFePHNbrdLrVZjfn6ecDjsU2jE43Gmpqb8ZPPrKoJcLkc+n/frQr4NL2R48lQqFba3t9F1nffff3+k98fLxJuE15P/gm63y9HREYPBgGAwiGWaIEcLtRw20mFkkisKDv8HcHF+zunZHsv5BZLJJPG4w48Uj8evhQluSvC/rCbk64q48v/hmxM3vPsuRQKGaXB2cUHHGjAIgOnjroYOGhLb7UkxUCTNbo+u0UcYcHF4TrlUod/ro2oq6XSaqalJItEo4XCYp0+fkk6nfSr3m+Rl4+GNXT6f5/T0lJOTE39OjtZQCJdc3j0nAedx34BReBuKHG/unJ+fs76+zvj4OKurq7cCLzxalmg0yvj4OJblVFk3m00uymVOT0+xpcQ0TP7wD/+QP/i3/4Y7799l6tEKej6O8ZKEhlPDJlAUiaFYNM0m5+0SsXCQfrXLxXmFWq2GbVvE4wmyuSzJRPJaV86Xh6PeRrxMkuL/5BT/qtef+NWpIMWNa+dN5Z3vlg6dtgBVYAvpEE4MX6AcfWvhQjVVlfcePCQViPH0yVP2g3sU8lPk83mSyaSvGCqVCoqi+HmOo6Mj2u023/ve9/w8xutb7E5sdG1tjfX1dVqtls/7M3qOV1kLrz8C3qbvLQ4Pcry8vDySlL6tEO8mWLInpmlSLl9QPCu6fcoVfvOjj3n/wfv0R8I48hUk7Q5CJZ1I8/6D32A2NUU0EEUI5dYk+LtfHC+XkW+4Ojy/GnpjRCRg2hZSKFjCcowrd22MInqcm1Gkg5zRLJty6ZR/v31I0FKZzE6TSWbJLS4SjcUIhUJomg7CQSUahuGjkt50HIaP1zSNyclJNjc3mZ2dHQklD1ut3wQ9zLDn4RGhzs/Pj4TSbjMShxkTPMRWYXKCfr9Pq9nik08/ZXt7C10NEI5GMWwbVVwav849XTurw25rK06e0BqwtbvJ+W6RkB0kHkswPz9PJpMhGo24uUXhX883K2Lo39Frf9k3e3VIo8HhN5d3rkAURUHV3dqBoc5eimehDukTiTsRpEJIC3J/8Q53CvP06x2qpQrF41P2dndJJOJkslkSiSSlUolUKkUwGKTRaHBwcMDc3Ny1hjhvMnCpVIpQKESxWCQWi41A5rx6es8Jl25k3QE04ruB8oYlddsVeNQLX375JYVCwac8tyzrpQv/qos/cOPfHmT2+PgIKW3S6TQ//P4PiUQi/M4/+gd0dZP1k21U22ag2A5fDpdGibdshtPLKhrpRI6ZiRlSytcrNvqPVS5pM7wwufBzHdIN4d4STPLHwRZOEtYW0uUI09EDAYRQXLSO5oS1TMtvDhWLxa7NlbdRJh5TQ7FY9Jkf3L/61/c6Z32Tb/bm9eHhoV8HNjc3N9K6efjY4eu97XyKUIhGooSCIRaXFvnH//gf81/9t/8ENR2lF5K0XF61y3YGt9yB0z4SKSAWi7NSWKEQHycUDKGpXsTkMlj3bRhSLzNtr4cN5Q3vvaPerj7qaykQP/3ihS2kIBmOk8/laJeOsKSNrTpBdQlu6nP4HgSWBGFBPBgmF08RIUgsGWIsmWN5cYVur8vZ6SknJ0W2trY4Oyv5tCW7u7vE43Gmp6cvTykv+XGcS3v1Q5FS+mEszwsZ+qubjnWIWHr2wDm3DUIVaIqGio7iJqRepjykdCjPz8/P2dvbY3Jy0ie586prb0uWe/kf0zRpt9s+frzb7WLbTvz77t17/qLvdDr8+Ce/QSwdZ//imJASRGEAeGh9McQWNTS1nKQVuhIgE0sTUd6gU90V+dbySde+Rtz0y+9OhEQRKoqqYlgW6E4TKH/djhx7+X/bBfZkx7K8N7NC1A7QLrepVxucnpbQdY1EMkk26+S8Wq3WjaSJb4uACwaDTExMsLe3x9jYmN/L/mbxKl28954p9SpzalS8kPTZ2Rlra2tMTk6+kmH6ZfchxKVhJBSFlZUVlpYWICA4aZT5dOsLumYDc+gurpwJP9jrWsOqojE5Ps30+BQhgngJdG8L/rbzqG+izK+PzdfLxbwzD8R5aDYqCtP5Sc7rZexBGykdi9dTHKZ7l54noiMICpV8JkcqkhrixxIoCkQjERYWFpmamuLP/vwvWFiIEgqFePz4McVikffee4/9/X1isRjRaNR16W+/rdvc3mw2S6lU4vz8/BL/jlelatIwm1Q7TS6qF/QGBn3TRNd00skkqXCSdCRFVI34SlJw3fKTUnJwcMDBwQGTk5PMzc35Sc7bQlYetblXpdrpdOh2u+i6TiQS8QvzgsHgSHgpHo87mxCSfGaMTClNpd1Gs20nPiJGbQ/vjSohIBVy4aRfwf12tslfix9uATRVo5AdY7dxhknPD9/eJooETTqccfFojHg8TlqNM5GZRFoq3XaHcrlM8dRhnN0/OCCVSlGv11EUxa/avu2aXvf68/m8P2fv3r3rr63Rs1gO3BWnFsTbdFU/S/L6CuDg4IByuczdu3ffeX2WEAJN09A0BQubVDhOOpGgUmkgXCSiIm7eUoUExRZgQiQQJhFLIFC4bMD2qyO3m083/eXrrex3nkQXwHQ4RzU9wXZpH0wbVVew8GhOvLCWU10bMgVj4QTz2UniIjqUDvLO6Ax8q+mQ7n300UfYts3FxQXLy8tu06ESe3t7ftn/2NiYH5Z6reuWknA4TDab5ezsjOmZaYKhIIaDlaHYOWevdMhprUy928YUOGykQKgeJqaHmcwUWJyaI6VECbpIh+Gh8Syr3d1dFhYWmJ+f9/H1Vy2sYS/DI0/zNoXx8XEymQyRSOSlCWrH8nJyHREtzEx+gtpxAzmo05eWQ0QocNGgCtK2US3QLUFCD7OQLpCLpq/6jH8tbykCwVg6Q/48TqfecXJ/6qWC8cUthtSAoK2Q0GOMpwuE1ShOT0MFoSpE4zGi8RjTszMO+4JhMDU1xdnZmc/QEI/HSSQSvmF1FfTwKpCDlE5Tr+npaY6Pj+l0OsRjcb+2QGJjSIO6WafWrNPqt+mbTie/UChEPJJkPJwhrIRRxWU/96sms5SSbrfL8+fPfep5j7/r3aGVhr1tp6A5HNAZS6Y5rBfpWwaKIrCEvKbY3R5NKJaNhkY2lSIVieGYzN98JdHXkuHH9w1Ygd+AAhEk1TD3phZRpM3BxQk9c4CBjYkEF5GlohNEZzKa4M7EAuORnNtEx73joZs1jQGfffZLZqanCQQCbG1tMTY25jdQ6vf7fke7arXK7u4ugN+MPplMXqu4HRYvvprL5SgWi5ycnjA7P4uJwUWrzMbxFifNMh3LoK851Hfe4m/LNrVum/JxnZbZ5t7MKmNakoBUUSQoOF6E17v8vffeI5/P+9fhhbU8Ztpms0m1WqXdbhMMBolGoywtLfkwQL/n+UtCdP7f3IeoozGVLdBlgDjdp9yuYds2UrEc/0IIhFTQTUFSj7Kcm2MpM0NUDboleH8tX08ccyKmR1ienae+0+F80Ea6u491xYIVtkCTgogIMJ2bJJ8cI0AAUPG7mghnI7bcGomlpSVWV1f9eeS1rS2Xy6iq6isUz7B6nVop52sEuVyOUqlEpVIhEo6g6RqWbdGVPU6qRXbP92gO2rSsHgNpYZs2mqYR1sNMhdLMjk1TSOcJER7yzx2RUtJoNNjY2MAwDO7fv+8QHr7zMNClUeqtCw2VsWSGXDzNoHXuFg9a1wlZpENQqKOQS6SYHi8QUZy18R/76lB/7/d+7/fe1ckcQJmDv9cVnVgsRigQBMvpfqfihEeiapDxeJbZ7BRrhQUmkwUCwm1T7wcS3XNKOC0W2dvb5/s/+AHnFxfUajUfD64oijNZ3QWSy+XIZrPEYjEMw/D7bZfLZVqtFpZl3VipCg7yxDAMjo+PyBZyNK02W4fbHFRP6QgTSwVbxfVncQsPHKVoYdHr91EtSCdSBBUdRTr9Mra2tuh2u9y7d8+vNbFtm263y8XFhc97dX5+jmEYPvX01NQUhULBBw28SWjO/9l9nprQCEVCDqWIoqFZEsUw0UxJWOikQnEmknlWp5eYz04TD8ScEIT4Ttsw/ZUQL+UsgFAwigjp1JtNLNNCkQLFpwhxXppUiIoA89kp7s7eIanE3M3K27Iu/duKywSwtLTkkx/GYjESiQS5XI5cLkckEvEL7l68eMHp6anftMtbBy9D1imKgmmalEolcrksuh6gY/XZKR2wfrTJSf2cqt2hQY8OJn3VpicNWkaPVrNGvVFDD+qO8hGaf+0Sh3blyy+/JBqN8uDBgxEAwKuUyLAj87oKRwz9ByA0FTWsY5oDep0unsPjUX8otkCVAs0W5OJJ3ltcYTpaIEzA5VdTrpx/GEbz3citIaxv4LKEfIcVX148UCKdBDoWAwwGhkHXGGDYBtIGVVcJ6UGCepCwy26pIBC24lvEXkzeME2efP4ZkWiUubl5Hj9+zOzsrM+0O4x1v1qL4LGO9no9KpUKF67yCQQC5PN58vk8sVjMZyBVFIV2u82f/H//nmq3DskAg4igTBcrKEARblW99CO9SBxL0gZVKkwGs/xw8QFT8XH6rRYb6xuYpsmDBw9IJBI+8+nJyQnn5+eoqkoulyOdTvt5HO96Rp7tK5A0t/7NVSAevb6FRd/s0+l36A16WNJCFSpaQCekBYgHow4/jnQ15F9rj7eS0TY9DmTBwsbEZoDBSbPE9uEu5WoZA8MN7TpIq1Q8zXx2hvnsFFEt6vfM8fKDHlUGwBdffOGTh171Km6aM61Wi93dXQ4ODjBN02dEzmazvkF2k0JpNOo8ffqUpeV5Uhmnpe0nL55SsuouBYiFqY5imFTb8WrDisZMssCjubsUgmMEpA62TbPV4rPPPiOdTrO2tubA2F8Tkn1T5uH1oROX+5TpwmPqZov9kwOOKyWa/TYDywHLCCCkqxSyeRan5siHsoQJoqIgpeKULAx967cN37gtA/NthdXeqQLxROJQAfj4C6H4QFj3AOcfcdkG00E8ehn2SyVQrVZ5/vw5Dx8+ZHNzE8uyePjwoU8zfeuN3RA/9SCCxWLRbzgViURIp9OMjY0RDof56qt1/pf/9X/mkye/4Lf+s7/HvY9+QF03GKg2muqwvUpb+pYKQqDYzmYrpCBthXg0s8pccpyNz7/EGlisrq4hpeTo6IhGo4FpmmSzWaamphgbG7uVTv62MNXrwBdHP+D/4/5oO6FELiegNzqXrFG/YkimXzO5rkBcw8rH9Nl0jC61Vo1mq+kYX6ogEAySjCZJBRNEhDcvLoEMCpeszK1Wi08//ZT33nvPbyP8umIYBuVymVKpRK1WwzRNHwLssQsEAgE36ex45k+ffslR8QBDMQhPZDjsVaipfUzFxFKu90VXUBC2IGArpESIB+NL3JtZI2qHKJ+f89VXz0gkEty/f/8yX/mtKZDL907gSmLaFs1ei1KtQn/QQ0rQdZVkMk46liQsXPoPqTpoRcWvuX2La3g38ldSgcD1Tc6WNyOsPe76m8gCLctiY2MDIRyW0M3NTX784x9fYwn1jn/ZtXhkc+C45Mb/3965BzlV3o3/85zcN5tksxey2WWXOyha8IKKFQXbMqODvDqjvfxWrTBI6721lo6tWrDVWhlrp7So4+gLrlhv1fZFq3W0ULWlBa+FQkEQBHbZW0iym93NbpJzzu+Pk2STvbGEwC7L83GCcHLOk+ecPE++z/f53uLxdKRqqupaW1sbb775Bmuf+V+sHiff/sGNTJh1Bm3WON2KiimlgaiZfVUw6SlvEwV33ESJakOEY8Tao0yomoCiGBlDM20yDocjK0V7rgxdgGQ+Dw1d0Y263KLH9z1DsT+mPkn6EyA9GnrqR8s4T8eo8d7zJWU6hPfxmUkuslRVZfv27XR3d3POOeccdQaF1LjTNC2d6TYcDhOJRNLu4na7PS1QYrEYr7++nv/78/8RK9D5nxu+hVZsI2KKoSoZGXgz+iyEsaiyaCYKYgrVTh+zps4k3hrl0L6DuJxupk6dmr2AOiECpJ+LU4cEJNREyrsEkUxtYkrqf0KnR2pIAXJ8KhLmQm9311RFrtbWVtxuN7t27Uobkwe7dqC2e6cTMJlMeDweioqKqKioIBKJsGXLFv7zn+10dnZSNt5vFDpKRgzqCsn8XSL729FAV4wKeKleHA6GcCXMTJk8GV+JD4ejAJfLlfaEybzPYyWn7MHCyEWm91u6TAqP40HP8skQDcaig7QG3rfqYMrVuv8xEg6HOXToEGeffXZOcRIpUunTbTZbuv5OqthUR0cHLS0tNDY20tjYyCuvvMK7777HaV87F81mxsi7m03m6EmGSyHQURVBe6yLbbt2kAhFOXPCaVRWVA5rAtPeCAAdLEpGn/RU6DCI1HxRegy1yZ32U5bj+O1lq4mZyckMBOgiaysoPfiSB+vq6gBoamqisrKSCRMmDJgyYyhCJPMHO1UgKZFI0NramiwFe9golDRtGt+47v8xbsIE2lXD7VjRk0m7oO+yI+uuBNXVVZwzfjreAjcWkwUlOSB7540aLgwHHjn4TxypYLaWug6hAAAZwElEQVSe5BEmIbJLj2ZlaDf+llqvZOaS0tHRVI3GxkZcLlefUgdD7lE/ThephVYqxqi0tJTKykqi0SgNDQ1Eo1HGTq5i+vTTk0ZmHRM6StImmHLPT92zsTWdDFhVoL09QrSzja/Mupiq0goUMXwOsL3rQQ1cBlYgMvuZkjIS4DjWRDdUci3pc90TlNeDkhQaSvrHLD30FEHwcJC6ujo8Hg9Op5OpU6dmZRbtz9DXX0K/3j/aKZU9Eolw6NAhDh48SCQSYfz48Vx44YU4HA6+Lq7m/Esu5N91u+jqCmKxKMT07uSoSymNPYNKaMk9ag0Uk4K7yE2hy4XN5Oi1nh8hA09Pa+hS3zgB9KdF6JlfQs/Bfs7PdksUQHt7B6GQ4Yk4VHfcoyU1X1LFjWbOnMF9991HcUUpIXMXe5rriKFi1gWJZKBwT/xExn0JwwVWVRPYbE7OOmMG/jJ/cpGYtL5lbkUP14gc9GOz9Ko+fzuV51D+kylmGAsN/waVhJ4gnoinYx5MigmL1YpZmFExoyT9sNJt6NDY2JjOo5+5T5pK+TFoHzIGZKqaWcrGEQ6HCYfDdHV14fF4OPPMM/H7/emytpWVFQgBCbNOWXcZDfWtaGoMRUkKD91YkaRWhUoyxbCig9B0LFYzniIvJpOCToLefu9A9opmWBB9l2DJw5LjhZ7hmpDUMNK2p2QqjKRjg5LxXm/Ro6oazY3N2Gx2ysqOXyXNzDmmKArTpp3GtGlTSZDgs/YGPg/UGblWBGgIMPXkh8tEkEqzr+Ow2fA4CwCV3kWxTjS5D/W+Vo5TedrkOZAwlXrQeEWJEYqGOBw6TGukzQgoTMQwmy2UFBXjdroZ4ynDqTgwkSp4I+jo6GD//v3oup5W03trFINFYKf2cKPRaLo+QKresMvlYsqUKengwsyJYqSFthp3IlR83lK8wSYiHV3G9NeNgkupLWowjJpmBIoGFsWEz1NMaaE7w2gqkRikhEeybFH6aFSNgpY0qAuBzZwq/Jp5nUE8HuNwKEhFRcWw2A90wF3oxu320BQJoCHQUrnutL5ZngVg1sAuTBQVFuK02pICRaS36CQnL3kegYZamkCjnS72Bw6yu2E/bR0RYnoiGRti1PU40BnEYbIxqayCCb5qfLZSw8sBnbqDB2lubsbv9zNhwoR0XETv1Au9hUrKo6qlpYXu7m4SiQQOh4OysjLKysrSxekzo8B7k0q+ZkbBa3czeUwl0f2dBBPtJIRGMomqsTetA7qORVOw6Ao+TzGTfZW4zAW9UitKTmXSW7O6ji404sTp1Lo5HG2lNdJGKNyKqhobQHabjdLiMryF3nQwp4WksV2HwOFQsgqklxO/9k3W38ZGlbec9o4OVL0bVTMcYc16b+EhsOgCRdUpsjkZ6xlDoeLAqpt7JlHW+ScXJ1t/jwd5EyCp1NWaMKJQ97UcZNv+nQQS7WAxoSmZ6q0GxOnUVLSmL0iocexVVkrMHrrao+zauRNd1zn99NPTdcEzgwMVRUFV1XTOqNbW1nSkucViwe124/f7cbvdFBQUpIVGbwbUYpL/L8TGFG8VFhT+27iflg7DX15HTXtkKMKE3WTFX1jM5Ipx+AtKsCe35bItO5JTlfSGldBQUQnFIuxp3k99uIX27iixRAKjhKrA1GnC1tZCSaGXCb5qyj1jKECArpCIxdm7dy/+cp9Rd2IYhpYJQQEmxnl9dHR0sK+tEU3vIqEb1sxMFE1gUgVOk5WqkgoqvD7swtozL7KM7kmk0n5SkWcNxFi9Bzta2XdoP+1qFNWmoJuSwWu6Tk84oaHIdyVUDoUacVsLcfkd1B86yBdf7OP8Cy6kqqrKaFX0VN/r6uqitbWVUChEa2sr8Xgcu92O2+1m3Lhx6UhuIJ2dNpe8OkZRGI0Ck4MJZeOwOws5EG7mcChAR7QDIQwDY2GBC6/DTVWxj1KHGzvWpMfWcNs5JCOJ1LZuq9bJjv172BM6SJcpQbemoWfNwgRCjdMe7KKrI4o2TqPa68OKg+bmZrqiUSorK49oBzxeGFqFGZ/Ti141Aa0B9gcP0RXvRleyLSCKJnDoFib6xjO5YiKF5kJjbmR5ah09UsaMHI6LEf1AoJ5AZ4S42fDEEmrPu5kxFDo6MaHTHuui6XAzYwvH8PHHH1NaWsr0M6Yb5+g67e3tHD58mEAgQCQSwWw243a7qaysxOVy4XA4svL6pIRN7pMs5W1lmDPtWKgsKKXY4aa7tJpYwqjvpygKFrMVu2K8TCjJ6nLHNkEkJz89LtKGzUNFI0qcHfVf8J+Wg3SaYmn31uxsGIaxPabHCXW3srdhHy67FcWus23nVqZOnILTmXuNlmMh5ThipO8wM6aghMJJBVS6POw9dIDWaCeJeNzYAjabGVMyhtN9ExnjKsFmshrbcOn7HGBuDFEhkUJkZJB3ARLTYjQ0N9FNAhUdk26kK1ExitJnomPURI/rOqH2Vj79z1YOHKrnfxYsBODgwYPpQCZN0xg7dizTp0+nuLh4UPfFvGTyzIwxQceGGZswo1sdaNaMeBIyE7eLjOuk8JCk6mkbXomBjiD1wUa6hUrCZDjCCR2UzHrcukAXOpqi0a3HCHWGCLQGaA+FcRRYGT+hetjuBVJJWUjn53LhYPKYcfiLfbR1dtLdHQMBBY4C3AVunNiMeZPOUmi0MpgXYM8ehWSkk3cBEo1Gica6UMzZEdvpRVYvPz9VAVWDjkSMvds+psTj4XAoRCAQwmKxUlBQwLnnnpuO5E6l/zhxwXiCnoI4hp2nX9GQpXlkXCo55dGBOAkOhwK0d7QjzKkAwSRa77NB00EVGjE1Rn1zPfZuhUnjJ2Adxsjt3iZvE0YpZwtWPGYbHrc3eSs6pqQNUKRvLqWTDW1SSOFxcpB3LyxV1VATRgUWMcBCo+ds45VQIKFDUUkxp40/jTH+ctxOF4UFRnrqlC3jaATH8SkrOVjstpQWkoHRMbZida13pAR9U8poSdVEI108rdJVxpjSslToHcM13rL1654a6VkTXSdDEzcyOIj+DOZH+IxUU5KRSx5L2hqTxGw2J7eX4smAu+x0X71jbDUEGgKTxcyXzjqbmZPOwGV2GJk8pSFacpKT0ktNmkDXMiKu9V5aedZQT67jhUAVAqfNxtixY3HYHCeq24MiMv7st1yt6P2PoxcDqSakABnZ5FEDMVYhJpMJh81GW6zLOISWrvClA1ovmaBoRuEWh83BmOJS7BbbCK/yJTI8yXqOjeguS4aF1DgxIVCEQJhMqKLn53ewIZPAWLWbhUahq4Aij+cIV5w4+v1RTypNfY/3e3DIn5Wb+JGcKPK6hSUEFNqcVI2pINzQQULvJiFATQbnaYCu96wtFB0cgENTKHO7KCnyYh5EfByfbamjQ8Z2SIaCyNC8FRTMwkyByw1hE6hxhEiao5NzI0sLUQynE6HrCE1gL3BgtdoYmug5MfSzhEr/2uv0zhAtHUtGK3nfI1KAKm8JPqcHq1H/lXRaRaGhCTX5MvSSVElVX1EJTou9n9W9RHJyYzi9GvW07WYrZmG4e6ciIvr+rBrCRdE1UBQKHYVYzBZA6ffsEcWA3cu93yP8jk9p8ixAjPX5GKeHaWOqKLMW4ogr2FQFqyqwamBLvqwJsCUU3LqNCaUVVJVWYhWWtHugRDIaEBmvksIiKotLsQmBRQh0IdLbu1loAouqYE2YKHZ6KPOOwSIc6P3ZG0Y8x6YxiV4vycgi75HoCgpWYaOqyEcCFVuggWB7K11qt6HaJivhCcWEx+5iUlE5k3zjcJvdWDJ1eDlcJKMIgcCBhYn+sXTG2qlvD6Cgo4pkMYNetgKTplBS4GZK5URKnSWYSS2uTs15IW0hI5PjUNLWSOau6gmixAjHOmkJhwiEgyTi3agaWC1mSr2llLmKKbI7cZoc6Qydcr1xHBjqNywfeR7J9D4U6GjE0egkRkv8MNvqdlMfaqFLS4DQkrmwjEuErlDuLuK0sROoLKzETQFmLFkZ1oaTbL9Kg8wZO6QqmTnY1vv73IH6cKow0DM5qWui66joupYsVq+hCUFcTaCpGpoGJsWE1WLFIkwYxvSegCMhpADJO1KADAN6n3/p6CRQ0dDppJtDwSYONhwk3BagW42hKAout5vx/mrKvCW4FCd27BhmeEO7V0aAj+KRIqGOKEByDKWSAqQvo1KAgBHwl15/9euR0XNuhvtGRgaRU20oHEekABkRpIQI9NTOUVHpUjtJxBMIRWA2m7Ep9mSBtdTcEMn/RoL4yAPHSYCcitbTUSpAyIoYHwnutxLJcKPTW4homPTMqS6SdWaSZ2XZRQxBIgXIwEgB0sOJehbDl1hHIjlFEQiEnsr2bBzJjkZPOrPrJI3ro0BoSEYlUoBIJMOBEBmOV3pGrkFDCzHeE71Sd0pBIhlZSAEikQwzyfy7pPwQe45lHpFIRh6n4rahRDIi0DOS2OoIkB6IkpMMqYFIJMNAb/O4RHIyIjUQiUQikeSEFCASyQhA2jokJyNyC0siOYEMlqxWCpEjI59QX4bzmUgBIpGcIAYWHn3fGdXBtzne2ih+Ijkz3M9EbmFJJBKJJCekAJFIJBJJTkgBIpFIJJKckAJEIpFIJDkhBYhEIpFIcmJUCpD6+noefvhhlixZwtKlS1m+fDkffvghAE8//TRr1qzJ6+eFw2FqamqIRCJ5bbc/XnrpJVavXt3ve7W1tdTU1FBTU8N3vvMdHn30UQKBQF4/f/fu3dTU1BAMBvPariS/LFmyhI8//jjr2EsvvcTKlStzbvOuu+5i8+bNx9q1LDZt2sSPfvSjvLY5ECtWrGDjxo39vnf33XdTU1PDtddey6233kptbS2JRCKvn79+/Xq+//3v57XN4WbUufFqmsZDDz3Eeeedx9KlSwH46KOP+Pzzz5k1a9Yw9+74c8EFF3DzzTcTDAZ57rnneOSRR3jooYfy5hZaXV3NQw89hMfjyUt7EslI4YYbbmDu3LnU19ezevVqNE1j0aJFeWt/7ty5nHvuuXlrbyQw6gRIMBgkGAyycOFCiouLAZg/fz4Af//739m4cSNCCN577z1mzpyJoig4nU5aW1vZvn07Tz/9NIsXL+a+++5j4sSJAKxcuZLp06dzxRVX0NzcTG1tLTt37sRqtXLRRRfxySefAHDHHXcAsHz5cu6///4B27j55pu5/PLL+eCDD3A6ndx9991s2LCB119/ndbWVqZNm8bSpUvxer10d3dTW1vLli1bsNvtFBQUUF1dPeD9CyGwWq2Ul5dz3XXXceedd1JfX8+DDz6Y9Znf+MY3+PnPf56ljaXu226388Mf/pDFixfz+uuvE41G+frXv878+fMJhUL8+Mc/5tlnn+Wdd97hb3/7G1OmTGHTpk0UFBRw0003MW3aNAC2b9/Os88+S0NDA2PHjmXfvn08+uijlJaWYjaPuqF3UrFq1SqsViuRSISdO3dSXV3N9773PYqKiti2bRvr1q2jqamJ4uJiFi5cyN69e2loaOCxxx7jiSee4Jvf/CafffZZ1ty55557BhxTEydOZPv27Tz//PPU19fj9XqZP38+zz//PKqqsnjxYux2O8uWLTviuLzpppt49dVXmTdvHgsWLOCFF15g8+bNxONxLrzwQq6//npMJhPNzc08/fTTfPbZZ/h8Ptra2gZ9JiaTCbvdzqRJk1i4cCEvvPACixYt6jNfzzzzTHbs2JHWnPbu3Zvu82Bz4uOPP+bdd99lxYoVR5w7b775Jm+88Qbt7e34fD4ikciAOw/DyajbwioqKqKoqIh169axb9++rMqIc+bM4dJLL+UrX/kKa9asSauTH3zwAWeffTb33HPPoG2rqsrKlSvxer385je/Yfny5RQWFnLvvfcCxqRcs2YN48ePP2I/N2/ezJVXXsmiRYvYvHkz69evZ9myZTzxxBOUlZWxdu1aANatW8ehQ4f42c9+xooVK/D7/UN+Fimtw+Fw9PnMoXDgwAHuuusubrjhBmpra/udgHV1dZSWlrJixQrOOeecdL8DgQCPPPIICxYsYPXq1dTU1Ay535ITw44dO7jkkkt44IEHAHjttdfQdZ1Vq1ZxxRVX8NRTT3HnnXdisVhYsmQJfr+fW265hTVr1nDZZZcBQ587jY2NrFy5kvnz5/PEE09wyy23pH80KysrWbNmDY8//viQ+r1161aWLl3KvHnzWLduHY2NjTz88MM88sgj7N27l3feeQdN0/jVr36F3+/n0Ucf5bbbbsNutw/52Qgh0vMGjm7uDDQnhnpe6vfgtttuY9WqVcyePXvI/T7RjDoBYjabue+++xBC8Itf/IIbb7yR3/3ud4RCoQGv+drXvsall16a1hYGYs+ePQSDQb797W/jdDrx+XxceeWVOfXz2muvZdasWZSXl/PXv/6VK664Ar/fj8Vi4fLLL2fr1q3ous57771HTU0Nfr+fkpISKioqhtR+NBrlhRdeYMqUKZSUlPT5zKGwZMkSqqurueiii7BYLDQ2NvY5Z9KkSSxYsAC/38+cOXOoq6sD4B//+AdTp07l4osvprCwkNNOO22IT0Zyorjkkku44IIL8Pv9zJo1i7q6OnRdJ5FI0NTURHd3N1VVVcyZM2fANoY6d/75z38ybdo05s6di81mY/LkycydOzenft92222cccYZeDweNm7cyLXXXovT6cTlcjFv3jz+/e9/s2fPHgKBANdddx1er5exY8fidruH1H5zczNvvPFG1g/30cydgebEUM/bsGEDl112GdOmTcPlcjFp0qQh9Xs4GJX7CH6/n9tvvx1d1zlw4ABr167lt7/9LT/96U+Pqd1AIEBxcTEWiyVPPe1p9w9/+APr168HjJrYiqLQ0NBAPB5nzJgxQ27ro48+4qabbqKzs5MZM2bkzWhns9mOaFS02WyoqgoYk9Dn8+XlsyVHj6IoWdo3GPZBRel/zZj6fhVF4dZbb+Xll1/mj3/8I+PHj+f6668/5gVAIBDI+3gIh8MkEoksG18ikaC8vJzm5ma8Xu9RbZU+//zzvPTSS8RiMebPn8/VV199zH3MnBNDPa+lpeWkmTujToAkEon0oBFCMG7cOObPn88zzzwz5DbMZjPxeLzP8eLiYoLBIPF4PEuIpAZv5oQdqI3+8Hq9LFiwgK9+9atZx1PXh8PhIRutZ8yYwY033khBQcGggs5sNufdyyQTp9NJc3PzcWtfMjgul6uPp1wwGMTlch3x2lmzZjFr1iwikQi///3vWbt2Lb/85S8RQvQRSpkMNqZKSkrYtWtXn+O92zyacel2uzGZTPzkJz/ps7W7detW2tra0HV9yA4kV111FXPnzsXpdGIymQY870TMndbW1uPWfj4ZdVtYX3zxBQ8++CA7duwgEolw4MAB3n77bc466yzAGMhffPEFnZ2dhMPhftuoqKhg06ZNNDY28tZbb7Fz504AJk+ejMfj4bnnnqOjo4PGxkZeffVVXC4XFouFXbt20d7eTnd394Bt9Me8efNYv349u3fvJh6PEwgEeOONN7BYLHzpS1/ilVdeoaGhgU8//ZQtW7YMev8WiwWPx3NELamsrCztTFBXV8ezzz5Ld3f3oNccDWeddRaffvop27Zto7m5mddeey1vbUuOzHnnncef//xn9uzZQyQSYfPmzWzZsuWIXkCRSISXX36ZYDCIw+HA6/WmhU5xcTF79uwhGo3267I+2JiaPXs2//3vf3n//ffp6upi9+7dbNiwgeLiYgKBAC0tLQSDwaMalyaTiTlz5vDMM8/Q1NREIpFg//79vP/++0ydOhVd1/nTn/5EY2MjGzZs4ODBg4Peu8PhSAulwaioqODzzz/n888/Z/fu3bz44ouDnn+0zJw5k3feeYe6ujoOHDgwoOvxSGDUaSDl5eWUl5fz2GOPEQ6HcTgcfPnLX+Zb3/oWAJdeeimffPIJ3/3udwfc273++utZvXo1mzZtYvbs2WmjuMViYdmyZdTW1nLHHXdgNpu55JJLUBSF6667jieffBJN07j//vsHbKM/Lr74YmKxGE8++SRNTU24XC7OP/98wLBDPP7449x9991MnDiRysrKvDwnh8PBokWLWLduHTabjcsvvxyr1ZqXtgGmT5/OVVddxWOPPQYY9whI76sTxDXXXIMQglWrVhEKhfB6vdxwww1HdGW3Wq00NjZy7733Eo1GmTRpEkuWLAHg6quv5vHHH+ftt99m8eLFfa4dbExVVFTwgx/8gBdffJGnnnoKr9fLNddcw9SpUzn//PNZtmwZXq+XX//610c1LhctWsTLL7/Mgw8+SCgUwufzsWDBAux2O7fffjtr165l/fr1nHfeeZSWlh7DE+1hxowZzJ49mwceeACfz8fs2bP57LPP8tI2wMKFC2lqamL58uW43W6mT58+YueN0AfTSY+BzGZHdWpqyZBoa2vj5ptvpra2FkVR5JiQSIbIv/71L9566y2WL18+3F3pw6jbwpKMHDZu3EgwGKS1tZVXXnmFmTNnYjKZpPCQSAahpaWFDz/8kI6ODpqamvjLX/4yYgMQpQYiOW50dHRgsVgQQtDZ2QkgI9glkiMQDof58MMPURQFRVHQNI0ZM2bkbQsun0gBIpFIJJKckFtYEolEIskJKUAkEolEkhNSgEgkEokkJ6QAkUgkEklOSAEikUgkkpyQAkQikUgkOSEFiEQikUhyQgoQiUQikeSEFCASiUQiyQkpQCQSiUSSE1KASCQSiSQnpACRSCQSSU5IASKRSCSSnJACRCKRSCQ5IQWIRCKRSHJCChCJRCKR5IQUIBKJRCLJCSlAJBKJRJIT/x+4EHWh6hvrvAAAAABJRU5ErkJggg==)\n",
        "\n",
        "\n",
        "[Image reference](https://www.youtube.com/watch?v=KRlOEGtb3gk&t=5s)"
      ],
      "metadata": {
        "id": "WYGC945M2QER"
      }
    },
    {
      "cell_type": "markdown",
      "metadata": {
        "id": "n-IOO1CqYDmr"
      },
      "source": [
        "*Pruning in Pytorch*\n",
        "\n",
        " - Pytorch provides built-in APIs for random, structured, unstructured and global pruning.\n",
        " - By default, the pruned parameter is not removed from the model state_dict() but replaced by combination of original parameter and a mask.\n",
        " - Eg : Assume we decide to prune `conv1.weight` of a model. After pruning, the original parameter is stored as `conv1.weight_orig` in the model state_dict() and an additional attribute `conv1.weight_mask` is stored in model's buffers\n",
        " - During forward pass, the pruned parameters is computed by multiplying the weight_orig with weight_mask.\n",
        "\n",
        "![pytorchPruning.png](data:image/png;base64,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)\n",
        "\n",
        "\n",
        "\n",
        "[Image reference](https://www.youtube.com/watch?v=TaOwEa3m5dw&t=322s)"
      ]
    },
    {
      "cell_type": "code",
      "source": [
        "# pruning header import\n",
        "import torch.nn.utils.prune as prune\n",
        "\n",
        "# pruning operations are done in-place, so take a copy of the model / module\n",
        "from copy import deepcopy\n",
        "\n",
        "# create a dummy module to understand pruning techniques\n",
        "fc_test = nn.Linear(10,10)\n",
        "\n",
        "module = deepcopy(fc_test)"
      ],
      "metadata": {
        "id": "-osTkEJglAff"
      },
      "execution_count": null,
      "outputs": []
    },
    {
      "cell_type": "markdown",
      "source": [
        "Before pruning, we'll inspect the module parameters"
      ],
      "metadata": {
        "id": "Mbz2G_3Vtflo"
      }
    },
    {
      "cell_type": "code",
      "source": [
        "# contains `weight` and `bias` parameters\n",
        "print('Before pruning, named_parameters()')\n",
        "print(list(module.named_parameters()))\n",
        "\n",
        "print('Before pruning, named_buffers()')\n",
        "# prior to pruning contains no buffers\n",
        "print(list(module.named_buffers()))"
      ],
      "metadata": {
        "colab": {
          "base_uri": "https://localhost:8080/"
        },
        "id": "JF0WeJZQsK2q",
        "outputId": "1096b2c1-a2b3-42d3-b5e2-d2a4a908f2f9"
      },
      "execution_count": null,
      "outputs": [
        {
          "output_type": "stream",
          "name": "stdout",
          "text": [
            "Before pruning, named_parameters()\n",
            "[('weight', Parameter containing:\n",
            "tensor([[ 0.2950,  0.2520,  0.0778,  0.0610,  0.2252,  0.1581,  0.0321, -0.2291,\n",
            "         -0.0132, -0.1017],\n",
            "        [-0.0696,  0.0357, -0.2342, -0.0112, -0.1979,  0.0146, -0.0983, -0.1648,\n",
            "         -0.1094, -0.1549],\n",
            "        [-0.0327,  0.1431, -0.0904,  0.0848,  0.3022,  0.0465,  0.2968, -0.0288,\n",
            "          0.0441, -0.1095],\n",
            "        [-0.1983,  0.1292,  0.0237,  0.2615,  0.1528,  0.1460, -0.3059,  0.0859,\n",
            "          0.0044,  0.1624],\n",
            "        [ 0.0965, -0.1191, -0.2815, -0.2946,  0.0046, -0.2745, -0.2245,  0.1769,\n",
            "          0.1681, -0.2291],\n",
            "        [ 0.2045, -0.2083, -0.2051,  0.2677,  0.1330, -0.0773, -0.3029, -0.2456,\n",
            "         -0.2548,  0.1832],\n",
            "        [ 0.2205, -0.1450,  0.0095,  0.1775,  0.1023,  0.1577, -0.0159,  0.2147,\n",
            "          0.0376,  0.2460],\n",
            "        [ 0.2935,  0.1356, -0.1321, -0.1462,  0.1315, -0.2623,  0.2768,  0.2142,\n",
            "         -0.1593, -0.2209],\n",
            "        [ 0.0331, -0.2156, -0.1278,  0.1049, -0.3136, -0.2862,  0.0046, -0.0611,\n",
            "          0.2317,  0.1223],\n",
            "        [-0.1629, -0.1007,  0.1973,  0.0565,  0.2339, -0.2045,  0.3144, -0.1109,\n",
            "          0.2003,  0.0743]], requires_grad=True)), ('bias', Parameter containing:\n",
            "tensor([-0.2342, -0.3090,  0.1633,  0.0275,  0.0574,  0.0301, -0.1112,  0.0386,\n",
            "        -0.2410,  0.1732], requires_grad=True))]\n",
            "Before pruning, named_buffers()\n",
            "[]\n"
          ]
        }
      ]
    },
    {
      "cell_type": "markdown",
      "source": [
        "Let's apply `Unstructured Pruning` to the module"
      ],
      "metadata": {
        "id": "DP-htQG_trwl"
      }
    },
    {
      "cell_type": "code",
      "source": [
        "# l1_unstructured means that weights are pruned according to their `L1_norm`\n",
        "# eg: the following line prunes 30% of weights in module according to their L1 norm\n",
        "prune.l1_unstructured(module, 'weight', amount=0.3);"
      ],
      "metadata": {
        "id": "W26rTidNpATK"
      },
      "execution_count": null,
      "outputs": []
    },
    {
      "cell_type": "markdown",
      "source": [
        "Now, we'll inspect the module parameters after pruning"
      ],
      "metadata": {
        "id": "JWs6sgnhtyiD"
      }
    },
    {
      "cell_type": "code",
      "source": [
        "# contains `weight_orig` and `bias` parameters\n",
        "print('After pruning, named_parameters()')\n",
        "print(list(module.named_parameters()))\n",
        "\n",
        "# after pruning contains `weight_mask`\n",
        "print('After pruning, named_buffers()')\n",
        "print(list(module.named_buffers()))"
      ],
      "metadata": {
        "colab": {
          "base_uri": "https://localhost:8080/"
        },
        "id": "RpXBsd2upO8i",
        "outputId": "ac6ac171-db71-4a49-bc09-d8f97e060052"
      },
      "execution_count": null,
      "outputs": [
        {
          "output_type": "stream",
          "name": "stdout",
          "text": [
            "After pruning, named_parameters()\n",
            "[('bias', Parameter containing:\n",
            "tensor([-0.2342, -0.3090,  0.1633,  0.0275,  0.0574,  0.0301, -0.1112,  0.0386,\n",
            "        -0.2410,  0.1732], requires_grad=True)), ('weight_orig', Parameter containing:\n",
            "tensor([[ 0.2950,  0.2520,  0.0778,  0.0610,  0.2252,  0.1581,  0.0321, -0.2291,\n",
            "         -0.0132, -0.1017],\n",
            "        [-0.0696,  0.0357, -0.2342, -0.0112, -0.1979,  0.0146, -0.0983, -0.1648,\n",
            "         -0.1094, -0.1549],\n",
            "        [-0.0327,  0.1431, -0.0904,  0.0848,  0.3022,  0.0465,  0.2968, -0.0288,\n",
            "          0.0441, -0.1095],\n",
            "        [-0.1983,  0.1292,  0.0237,  0.2615,  0.1528,  0.1460, -0.3059,  0.0859,\n",
            "          0.0044,  0.1624],\n",
            "        [ 0.0965, -0.1191, -0.2815, -0.2946,  0.0046, -0.2745, -0.2245,  0.1769,\n",
            "          0.1681, -0.2291],\n",
            "        [ 0.2045, -0.2083, -0.2051,  0.2677,  0.1330, -0.0773, -0.3029, -0.2456,\n",
            "         -0.2548,  0.1832],\n",
            "        [ 0.2205, -0.1450,  0.0095,  0.1775,  0.1023,  0.1577, -0.0159,  0.2147,\n",
            "          0.0376,  0.2460],\n",
            "        [ 0.2935,  0.1356, -0.1321, -0.1462,  0.1315, -0.2623,  0.2768,  0.2142,\n",
            "         -0.1593, -0.2209],\n",
            "        [ 0.0331, -0.2156, -0.1278,  0.1049, -0.3136, -0.2862,  0.0046, -0.0611,\n",
            "          0.2317,  0.1223],\n",
            "        [-0.1629, -0.1007,  0.1973,  0.0565,  0.2339, -0.2045,  0.3144, -0.1109,\n",
            "          0.2003,  0.0743]], requires_grad=True))]\n",
            "After pruning, named_buffers()\n",
            "[('weight_mask', tensor([[1., 1., 0., 0., 1., 1., 0., 1., 0., 1.],\n",
            "        [0., 0., 1., 0., 1., 0., 0., 1., 1., 1.],\n",
            "        [0., 1., 0., 0., 1., 0., 1., 0., 0., 1.],\n",
            "        [1., 1., 0., 1., 1., 1., 1., 0., 0., 1.],\n",
            "        [0., 1., 1., 1., 0., 1., 1., 1., 1., 1.],\n",
            "        [1., 1., 1., 1., 1., 0., 1., 1., 1., 1.],\n",
            "        [1., 1., 0., 1., 1., 1., 0., 1., 0., 1.],\n",
            "        [1., 1., 1., 1., 1., 1., 1., 1., 1., 1.],\n",
            "        [0., 1., 1., 1., 1., 1., 0., 0., 1., 1.],\n",
            "        [1., 0., 1., 0., 1., 1., 1., 1., 1., 0.]]))]\n"
          ]
        }
      ]
    },
    {
      "cell_type": "code",
      "source": [
        "# EQUIVALENT NUMPY OPERATION IS AS FOLLOWS:\n",
        "module = deepcopy(fc_test)\n",
        "weight = module.weight.cpu().detach().numpy()\n",
        "print(weight)\n",
        "sorted_array = np.sort(np.abs(weight.ravel()))\n",
        "print(sorted_array)\n",
        "pruned_array = np.abs(weight) > sorted_array[29]\n",
        "print(pruned_array.astype(int))"
      ],
      "metadata": {
        "colab": {
          "base_uri": "https://localhost:8080/"
        },
        "id": "ytR4RNDt8INO",
        "outputId": "18b47a11-760e-456d-f368-8540b2e79d8b"
      },
      "execution_count": null,
      "outputs": [
        {
          "output_type": "stream",
          "name": "stdout",
          "text": [
            "[[ 0.29501545  0.25199652  0.07775453  0.06098305  0.22517054  0.1580694\n",
            "   0.03205344 -0.22909568 -0.01317724 -0.10166031]\n",
            " [-0.06955828  0.03566054 -0.23423316 -0.01121136 -0.19785859  0.01463118\n",
            "  -0.09830224 -0.16480191 -0.10940243 -0.15494011]\n",
            " [-0.0327295   0.14311488 -0.09035267  0.08479156  0.3022364   0.04654382\n",
            "   0.2967612  -0.02884566  0.04414692 -0.10950545]\n",
            " [-0.19825158  0.12920628  0.02369685  0.26149327  0.15277907  0.14600156\n",
            "  -0.30585152  0.08589599  0.00437141  0.16243252]\n",
            " [ 0.09648319 -0.11909986 -0.2814593  -0.2945941   0.00464906 -0.27450764\n",
            "  -0.22452131  0.17686082  0.16805485 -0.22912803]\n",
            " [ 0.20453869 -0.20827411 -0.20512632  0.26774517  0.13304639 -0.07731389\n",
            "  -0.30291587 -0.2456031  -0.2547661   0.18318796]\n",
            " [ 0.22047074 -0.14501871  0.0094866   0.17747332  0.10230964  0.1576576\n",
            "  -0.01588311  0.21471108  0.03763908  0.24595214]\n",
            " [ 0.29350516  0.13560781 -0.1321434  -0.14615607  0.13148957 -0.26229444\n",
            "   0.27675223  0.21416323 -0.15934224 -0.22087573]\n",
            " [ 0.0331024  -0.2155958  -0.12783143  0.10491694 -0.3136438  -0.28620633\n",
            "   0.0045783  -0.0610609   0.23172612  0.12226222]\n",
            " [-0.16290577 -0.10068335  0.19730787  0.05646541  0.23391502 -0.20448309\n",
            "   0.31441996 -0.11091511  0.20027034  0.07434964]]\n",
            "[0.00437141 0.0045783  0.00464906 0.0094866  0.01121136 0.01317724\n",
            " 0.01463118 0.01588311 0.02369685 0.02884566 0.03205344 0.0327295\n",
            " 0.0331024  0.03566054 0.03763908 0.04414692 0.04654382 0.05646541\n",
            " 0.06098305 0.0610609  0.06955828 0.07434964 0.07731389 0.07775453\n",
            " 0.08479156 0.08589599 0.09035267 0.09648319 0.09830224 0.10068335\n",
            " 0.10166031 0.10230964 0.10491694 0.10940243 0.10950545 0.11091511\n",
            " 0.11909986 0.12226222 0.12783143 0.12920628 0.13148957 0.1321434\n",
            " 0.13304639 0.13560781 0.14311488 0.14501871 0.14600156 0.14615607\n",
            " 0.15277907 0.15494011 0.1576576  0.1580694  0.15934224 0.16243252\n",
            " 0.16290577 0.16480191 0.16805485 0.17686082 0.17747332 0.18318796\n",
            " 0.19730787 0.19785859 0.19825158 0.20027034 0.20448309 0.20453869\n",
            " 0.20512632 0.20827411 0.21416323 0.21471108 0.2155958  0.22047074\n",
            " 0.22087573 0.22452131 0.22517054 0.22909568 0.22912803 0.23172612\n",
            " 0.23391502 0.23423316 0.2456031  0.24595214 0.25199652 0.2547661\n",
            " 0.26149327 0.26229444 0.26774517 0.27450764 0.27675223 0.2814593\n",
            " 0.28620633 0.29350516 0.2945941  0.29501545 0.2967612  0.3022364\n",
            " 0.30291587 0.30585152 0.3136438  0.31441996]\n",
            "[[1 1 0 0 1 1 0 1 0 1]\n",
            " [0 0 1 0 1 0 0 1 1 1]\n",
            " [0 1 0 0 1 0 1 0 0 1]\n",
            " [1 1 0 1 1 1 1 0 0 1]\n",
            " [0 1 1 1 0 1 1 1 1 1]\n",
            " [1 1 1 1 1 0 1 1 1 1]\n",
            " [1 1 0 1 1 1 0 1 0 1]\n",
            " [1 1 1 1 1 1 1 1 1 1]\n",
            " [0 1 1 1 1 1 0 0 1 1]\n",
            " [1 0 1 0 1 1 1 1 1 0]]\n"
          ]
        }
      ]
    },
    {
      "cell_type": "markdown",
      "source": [
        "- As you can see, the `weight` in named_parameters() has been replaced by `weight_mask` and a new `weight_mask` has been added to named_buffers()\n",
        "\n",
        "- API for structured Pruning is also similiar as seen below"
      ],
      "metadata": {
        "id": "4JZJ2E1BuGBP"
      }
    },
    {
      "cell_type": "code",
      "source": [
        "import torch.nn.utils.prune as prune\n",
        "\n",
        "module = nn.Linear(10,10)\n",
        "prune.ln_structured(module, 'weight', amount=0.3, n=1, dim=0);"
      ],
      "metadata": {
        "id": "sirOJj6r6SdP"
      },
      "execution_count": null,
      "outputs": []
    },
    {
      "cell_type": "code",
      "source": [
        "module = deepcopy(fc_test)\n",
        "# n denotes the order of `L-norm` to use while pruning\n",
        "# dim indicates which dimension to prune\n",
        "prune.ln_structured(module, 'weight', amount=0.3, n=1, dim=0);"
      ],
      "metadata": {
        "id": "GLGtjMtnu7H6"
      },
      "execution_count": null,
      "outputs": []
    },
    {
      "cell_type": "code",
      "source": [
        "# We can observe entire rows of weights are set to zero, meaning all \n",
        "# connections to a neuron have been pruned\n",
        "list(module.named_buffers())"
      ],
      "metadata": {
        "colab": {
          "base_uri": "https://localhost:8080/"
        },
        "id": "1cSRlRWsuElI",
        "outputId": "9a42b9f5-0320-4f55-abb6-d7d37eabdb72"
      },
      "execution_count": null,
      "outputs": [
        {
          "output_type": "execute_result",
          "data": {
            "text/plain": [
              "[('weight_mask', tensor([[1., 1., 1., 1., 1., 1., 1., 1., 1., 1.],\n",
              "          [0., 0., 0., 0., 0., 0., 0., 0., 0., 0.],\n",
              "          [0., 0., 0., 0., 0., 0., 0., 0., 0., 0.],\n",
              "          [1., 1., 1., 1., 1., 1., 1., 1., 1., 1.],\n",
              "          [1., 1., 1., 1., 1., 1., 1., 1., 1., 1.],\n",
              "          [1., 1., 1., 1., 1., 1., 1., 1., 1., 1.],\n",
              "          [0., 0., 0., 0., 0., 0., 0., 0., 0., 0.],\n",
              "          [1., 1., 1., 1., 1., 1., 1., 1., 1., 1.],\n",
              "          [1., 1., 1., 1., 1., 1., 1., 1., 1., 1.],\n",
              "          [1., 1., 1., 1., 1., 1., 1., 1., 1., 1.]]))]"
            ]
          },
          "metadata": {},
          "execution_count": 27
        }
      ]
    },
    {
      "cell_type": "code",
      "source": [
        "# EQUIVALENT NUMPY OPERATION IS AS FOLLOWS:\n",
        "\n",
        "module = deepcopy(fc_test)\n",
        "\n",
        "weight = module.weight.cpu().detach().numpy()\n",
        "print(weight)\n",
        "\n",
        "# finding the L1 norm for each row (equivalent to \n",
        "# total norm of each neuron) and sort them \n",
        "sorted_array = np.argsort(np.sum(np.abs(weight), axis=1))\n",
        "print(sorted_array)\n",
        "\n",
        "pruned_array = np.ones_like(weight)\n",
        "\n",
        "# prune 30% (=3rows) with lowest L1 norm\n",
        "pruned_array[sorted_array[0:3], :] = 0\n",
        "print(pruned_array.astype(int))"
      ],
      "metadata": {
        "colab": {
          "base_uri": "https://localhost:8080/"
        },
        "id": "sghhOwCTC6V2",
        "outputId": "16ba3928-4059-426c-c9a9-714dd1ecef7f"
      },
      "execution_count": null,
      "outputs": [
        {
          "output_type": "stream",
          "name": "stdout",
          "text": [
            "[[ 0.29501545  0.25199652  0.07775453  0.06098305  0.22517054  0.1580694\n",
            "   0.03205344 -0.22909568 -0.01317724 -0.10166031]\n",
            " [-0.06955828  0.03566054 -0.23423316 -0.01121136 -0.19785859  0.01463118\n",
            "  -0.09830224 -0.16480191 -0.10940243 -0.15494011]\n",
            " [-0.0327295   0.14311488 -0.09035267  0.08479156  0.3022364   0.04654382\n",
            "   0.2967612  -0.02884566  0.04414692 -0.10950545]\n",
            " [-0.19825158  0.12920628  0.02369685  0.26149327  0.15277907  0.14600156\n",
            "  -0.30585152  0.08589599  0.00437141  0.16243252]\n",
            " [ 0.09648319 -0.11909986 -0.2814593  -0.2945941   0.00464906 -0.27450764\n",
            "  -0.22452131  0.17686082  0.16805485 -0.22912803]\n",
            " [ 0.20453869 -0.20827411 -0.20512632  0.26774517  0.13304639 -0.07731389\n",
            "  -0.30291587 -0.2456031  -0.2547661   0.18318796]\n",
            " [ 0.22047074 -0.14501871  0.0094866   0.17747332  0.10230964  0.1576576\n",
            "  -0.01588311  0.21471108  0.03763908  0.24595214]\n",
            " [ 0.29350516  0.13560781 -0.1321434  -0.14615607  0.13148957 -0.26229444\n",
            "   0.27675223  0.21416323 -0.15934224 -0.22087573]\n",
            " [ 0.0331024  -0.2155958  -0.12783143  0.10491694 -0.3136438  -0.28620633\n",
            "   0.0045783  -0.0610609   0.23172612  0.12226222]\n",
            " [-0.16290577 -0.10068335  0.19730787  0.05646541  0.23391502 -0.20448309\n",
            "   0.31441996 -0.11091511  0.20027034  0.07434964]]\n",
            "[1 2 6 0 3 8 9 4 7 5]\n",
            "[[1 1 1 1 1 1 1 1 1 1]\n",
            " [0 0 0 0 0 0 0 0 0 0]\n",
            " [0 0 0 0 0 0 0 0 0 0]\n",
            " [1 1 1 1 1 1 1 1 1 1]\n",
            " [1 1 1 1 1 1 1 1 1 1]\n",
            " [1 1 1 1 1 1 1 1 1 1]\n",
            " [0 0 0 0 0 0 0 0 0 0]\n",
            " [1 1 1 1 1 1 1 1 1 1]\n",
            " [1 1 1 1 1 1 1 1 1 1]\n",
            " [1 1 1 1 1 1 1 1 1 1]]\n"
          ]
        }
      ]
    },
    {
      "cell_type": "markdown",
      "source": [
        "### *Plot the Pruning results*"
      ],
      "metadata": {
        "id": "ri3jvuGcxiPz"
      }
    },
    {
      "cell_type": "code",
      "source": [
        "def plot_fc_weight(weight, ax=None, cmap='viridis'):\n",
        "  nrows, ncols = weight.shape\n",
        "  x = np.arange(0,ncols)\n",
        "  y = np.arange(0,nrows)\n",
        "  X, Y = np.meshgrid(x,y)\n",
        "  z_np = weight.detach().cpu().numpy()\n",
        "  ln = ax.pcolor(X, Y, z_np, cmap=cmap)\n",
        "  ax.axis('off')\n",
        "  return ln"
      ],
      "metadata": {
        "id": "29kdxzALxqOr"
      },
      "execution_count": null,
      "outputs": []
    },
    {
      "cell_type": "code",
      "source": [
        "fig, (ax1, ax2) = plt.subplots(1,2,figsize=(8, 4))\n",
        "plot_fc_weight(module.weight, ax1)\n",
        "\n",
        "# l1 unstructured pruning\n",
        "module = deepcopy(fc_test)\n",
        "prune.l1_unstructured(module, 'weight', amount=0.3);\n",
        "plot_fc_weight(module.weight, ax1);\n",
        "ax1.set_title('L1 Unstructured Pruning')\n",
        "\n",
        "# l1 Structured pruning\n",
        "module = deepcopy(fc_test)\n",
        "prune.ln_structured(module, 'weight', amount=0.3, n=1, dim=0);\n",
        "plot_fc_weight(module.weight, ax2);\n",
        "ax2.set_title('L1 Structured Pruning');"
      ],
      "metadata": {
        "colab": {
          "base_uri": "https://localhost:8080/",
          "height": 263
        },
        "id": "OqnPQ7ctpk3z",
        "outputId": "952ceae8-4189-4a06-93b4-b2dc0cec5421"
      },
      "execution_count": null,
      "outputs": [
        {
          "output_type": "display_data",
          "data": {
            "image/png": "[encoded data removed]",
            "text/plain": [
              "<Figure size 576x288 with 2 Axes>"
            ]
          },
          "metadata": {
            "needs_background": "light"
          }
        }
      ]
    },
    {
      "cell_type": "markdown",
      "metadata": {
        "id": "QUs9gbLYTAmW"
      },
      "source": [
        "## 5. Apply different Pruning techniques on our custom model\n",
        "\n",
        "Now that we understand the pruning APIs in Pytorch, we'll use them to \n",
        "prune our custom MLP model. In the next section, we'll do the following:\n",
        "\n",
        "- Apply the Unstructured pruning we learned above and also the Global version of it along with structured pruning on our trained model\n",
        "- Observe the Accuracy of both the pruned model on Test set\n",
        "- Apply different levels of Pruning percentages (*read sparsity levels*) and observe the different in performance metric"
      ]
    },
    {
      "cell_type": "code",
      "source": [
        "# Let's use different pruning percentages for each technique\n",
        "prunePercentages = np.linspace(0.05, 0.90, 8).tolist()\n",
        "print([round(x,3) for x in prunePercentages])"
      ],
      "metadata": {
        "colab": {
          "base_uri": "https://localhost:8080/"
        },
        "id": "eFJSzrwD2O6A",
        "outputId": "0f6114b4-8e03-4738-e849-56a350915d9d"
      },
      "execution_count": null,
      "outputs": [
        {
          "output_type": "stream",
          "name": "stdout",
          "text": [
            "[0.05, 0.171, 0.293, 0.414, 0.536, 0.657, 0.779, 0.9]\n"
          ]
        }
      ]
    },
    {
      "cell_type": "markdown",
      "source": [
        "\n",
        "### Layer wise Unstructured Pruning"
      ],
      "metadata": {
        "id": "-JgT32Ai1kzN"
      }
    },
    {
      "cell_type": "code",
      "metadata": {
        "execution": {
          "iopub.status.busy": "2021-10-04T00:18:16.472003Z",
          "iopub.execute_input": "2021-10-04T00:18:16.472259Z",
          "iopub.status.idle": "2021-10-04T00:18:16.480822Z",
          "shell.execute_reply.started": "2021-10-04T00:18:16.472228Z",
          "shell.execute_reply": "2021-10-04T00:18:16.480095Z"
        },
        "trusted": true,
        "id": "Xz0b8s4r2ube",
        "colab": {
          "base_uri": "https://localhost:8080/"
        },
        "outputId": "73354595-6acb-4130-a0ee-635353dd8d80"
      },
      "source": [
        "def layer_unstructured_prune(model:nn.Module, prunePercentage:float):\n",
        "    for name, module in model.named_modules():\n",
        "        if isinstance(module, torch.nn.Linear):\n",
        "            prune.l1_unstructured(module, name='weight', amount=prunePercentage)\n",
        "    return model\n",
        "\n",
        "# placeholder to store results\n",
        "l1_unstructured_accuracies = []\n",
        "\n",
        "# iterate through each prune percentage\n",
        "for perc in prunePercentages:\n",
        "    # load the pretrained model\n",
        "    model = MLPClassifier().to(device)\n",
        "    model.load_state_dict(torch.load(\"./Custom_MLP.pt\"))\n",
        "\n",
        "    # prune the model\n",
        "    unStructuredPruneModel = layer_unstructured_prune(model, perc)\n",
        "\n",
        "    # evaluate the pruned model on test data\n",
        "    l1_unstructured_accuracies.append(evaluteOnTestData(unStructuredPruneModel, None, \\\n",
        "          device, testLoader, meanClassificationAccuracyMetric, \"Test accuracy\", \"Unstructured Prune\"))    "
      ],
      "execution_count": null,
      "outputs": [
        {
          "output_type": "stream",
          "name": "stderr",
          "text": [
            "100%|██████████| 157/157 [00:03<00:00, 43.85it/s]\n"
          ]
        },
        {
          "output_type": "stream",
          "name": "stdout",
          "text": [
            "\n",
            "Unstructured Prune has 80.19506369426752 Test accuracy on testData\n"
          ]
        },
        {
          "output_type": "stream",
          "name": "stderr",
          "text": [
            "100%|██████████| 157/157 [00:03<00:00, 45.66it/s]\n"
          ]
        },
        {
          "output_type": "stream",
          "name": "stdout",
          "text": [
            "\n",
            "Unstructured Prune has 79.89649681528662 Test accuracy on testData\n"
          ]
        },
        {
          "output_type": "stream",
          "name": "stderr",
          "text": [
            "100%|██████████| 157/157 [00:03<00:00, 39.89it/s]\n"
          ]
        },
        {
          "output_type": "stream",
          "name": "stdout",
          "text": [
            "\n",
            "Unstructured Prune has 79.468550955414 Test accuracy on testData\n"
          ]
        },
        {
          "output_type": "stream",
          "name": "stderr",
          "text": [
            "100%|██████████| 157/157 [00:03<00:00, 39.94it/s]\n"
          ]
        },
        {
          "output_type": "stream",
          "name": "stdout",
          "text": [
            "\n",
            "Unstructured Prune has 79.37898089171973 Test accuracy on testData\n"
          ]
        },
        {
          "output_type": "stream",
          "name": "stderr",
          "text": [
            "100%|██████████| 157/157 [00:03<00:00, 44.77it/s]\n"
          ]
        },
        {
          "output_type": "stream",
          "name": "stdout",
          "text": [
            "\n",
            "Unstructured Prune has 80.83200636942675 Test accuracy on testData\n"
          ]
        },
        {
          "output_type": "stream",
          "name": "stderr",
          "text": [
            "100%|██████████| 157/157 [00:03<00:00, 44.54it/s]\n"
          ]
        },
        {
          "output_type": "stream",
          "name": "stdout",
          "text": [
            "\n",
            "Unstructured Prune has 73.61664012738854 Test accuracy on testData\n"
          ]
        },
        {
          "output_type": "stream",
          "name": "stderr",
          "text": [
            "100%|██████████| 157/157 [00:03<00:00, 44.79it/s]\n"
          ]
        },
        {
          "output_type": "stream",
          "name": "stdout",
          "text": [
            "\n",
            "Unstructured Prune has 14.769108280254779 Test accuracy on testData\n"
          ]
        },
        {
          "output_type": "stream",
          "name": "stderr",
          "text": [
            "100%|██████████| 157/157 [00:03<00:00, 44.85it/s]"
          ]
        },
        {
          "output_type": "stream",
          "name": "stdout",
          "text": [
            "\n",
            "Unstructured Prune has 16.261942675159236 Test accuracy on testData\n"
          ]
        },
        {
          "output_type": "stream",
          "name": "stderr",
          "text": [
            "\n"
          ]
        }
      ]
    },
    {
      "cell_type": "markdown",
      "source": [
        "## Layerwise structured pruning"
      ],
      "metadata": {
        "id": "0QVLudIt27QF"
      }
    },
    {
      "cell_type": "code",
      "source": [
        "def layer_structured_prune(model:nn.Module, prunePercentage:float):\n",
        "    for name, module in model.named_modules():\n",
        "        if isinstance(module, torch.nn.Linear):\n",
        "            prune.ln_structured(module, name='weight', amount=prunePercentage, n=1, dim=0)\n",
        "    return model\n",
        "\n",
        "\n",
        "# placeholder to store results\n",
        "l1_structured_accuracies = []\n",
        "\n",
        "# iterate through each prune percentage\n",
        "for perc in prunePercentages:\n",
        "    # load the pretrained model\n",
        "    model = MLPClassifier().to(device)\n",
        "    model.load_state_dict(torch.load(\"./Custom_MLP.pt\"))\n",
        "\n",
        "    # prune the model\n",
        "    structuredPruneModel = layer_structured_prune(model, perc)\n",
        "\n",
        "    # evaluate the pruned model on test data\n",
        "    l1_structured_accuracies.append(evaluteOnTestData(structuredPruneModel, None, \\\n",
        "          device, testLoader, meanClassificationAccuracyMetric, \"Test accuracy\", \"structured Prune\"))"
      ],
      "metadata": {
        "colab": {
          "base_uri": "https://localhost:8080/"
        },
        "id": "Zq3dZc_q3BzQ",
        "outputId": "189c5304-20ac-4a12-c854-810cd6f3e2b4"
      },
      "execution_count": null,
      "outputs": [
        {
          "output_type": "stream",
          "name": "stderr",
          "text": [
            "100%|██████████| 157/157 [00:03<00:00, 44.84it/s]\n"
          ]
        },
        {
          "output_type": "stream",
          "name": "stdout",
          "text": [
            "\n",
            "structured Prune has 80.17515923566879 Test accuracy on testData\n"
          ]
        },
        {
          "output_type": "stream",
          "name": "stderr",
          "text": [
            "100%|██████████| 157/157 [00:03<00:00, 45.25it/s]\n"
          ]
        },
        {
          "output_type": "stream",
          "name": "stdout",
          "text": [
            "\n",
            "structured Prune has 70.75039808917197 Test accuracy on testData\n"
          ]
        },
        {
          "output_type": "stream",
          "name": "stderr",
          "text": [
            "100%|██████████| 157/157 [00:03<00:00, 44.34it/s]\n"
          ]
        },
        {
          "output_type": "stream",
          "name": "stdout",
          "text": [
            "\n",
            "structured Prune has 56.041003184713375 Test accuracy on testData\n"
          ]
        },
        {
          "output_type": "stream",
          "name": "stderr",
          "text": [
            "100%|██████████| 157/157 [00:03<00:00, 45.00it/s]\n"
          ]
        },
        {
          "output_type": "stream",
          "name": "stdout",
          "text": [
            "\n",
            "structured Prune has 55.91162420382165 Test accuracy on testData\n"
          ]
        },
        {
          "output_type": "stream",
          "name": "stderr",
          "text": [
            "100%|██████████| 157/157 [00:03<00:00, 45.77it/s]\n"
          ]
        },
        {
          "output_type": "stream",
          "name": "stdout",
          "text": [
            "\n",
            "structured Prune has 36.82324840764331 Test accuracy on testData\n"
          ]
        },
        {
          "output_type": "stream",
          "name": "stderr",
          "text": [
            "100%|██████████| 157/157 [00:03<00:00, 45.57it/s]\n"
          ]
        },
        {
          "output_type": "stream",
          "name": "stdout",
          "text": [
            "\n",
            "structured Prune has 27.10987261146497 Test accuracy on testData\n"
          ]
        },
        {
          "output_type": "stream",
          "name": "stderr",
          "text": [
            "100%|██████████| 157/157 [00:03<00:00, 45.91it/s]\n"
          ]
        },
        {
          "output_type": "stream",
          "name": "stdout",
          "text": [
            "\n",
            "structured Prune has 18.441480891719745 Test accuracy on testData\n"
          ]
        },
        {
          "output_type": "stream",
          "name": "stderr",
          "text": [
            "100%|██████████| 157/157 [00:03<00:00, 45.89it/s]"
          ]
        },
        {
          "output_type": "stream",
          "name": "stdout",
          "text": [
            "\n",
            "structured Prune has 15.714570063694266 Test accuracy on testData\n"
          ]
        },
        {
          "output_type": "stream",
          "name": "stderr",
          "text": [
            "\n"
          ]
        }
      ]
    },
    {
      "cell_type": "markdown",
      "metadata": {
        "id": "qS5wCIUmTDxB"
      },
      "source": [
        "### Global Unstructured Pruning"
      ]
    },
    {
      "cell_type": "code",
      "metadata": {
        "execution": {
          "iopub.status.busy": "2021-10-04T00:18:16.482198Z",
          "iopub.execute_input": "2021-10-04T00:18:16.482508Z",
          "iopub.status.idle": "2021-10-04T00:18:16.490515Z",
          "shell.execute_reply.started": "2021-10-04T00:18:16.482474Z",
          "shell.execute_reply": "2021-10-04T00:18:16.489822Z"
        },
        "trusted": true,
        "id": "tezp6DKt2ubf",
        "colab": {
          "base_uri": "https://localhost:8080/"
        },
        "outputId": "0a8f8dbe-ff82-4963-d3f7-94eae7950527"
      },
      "source": [
        "def global_unstructured_prune(model:nn.Module, prunePercentage:float):\n",
        "    parameters_to_prune = []\n",
        "    for name, module in model.named_modules():\n",
        "        if isinstance(module, torch.nn.Linear):\n",
        "            parameters_to_prune.append((module, 'weight'))\n",
        "    prune.global_unstructured(parameters_to_prune, pruning_method=prune.L1Unstructured, amount=prunePercentage)\n",
        "    return model\n",
        "\n",
        "\n",
        "# placeholder to store results\n",
        "global_prune_accuracies = []\n",
        "\n",
        "# iterate through each prune percentage\n",
        "for perc in prunePercentages:\n",
        "    # load the pretrained model\n",
        "    model = MLPClassifier().to(device)\n",
        "    model.load_state_dict(torch.load(\"./Custom_MLP.pt\"))\n",
        "\n",
        "    # prune the model\n",
        "    globalPruneModel = global_unstructured_prune(model, perc)\n",
        "\n",
        "    # evaluate the pruned model on test data\n",
        "    global_prune_accuracies.append(evaluteOnTestData(globalPruneModel, None, \\\n",
        "          device, testLoader, meanClassificationAccuracyMetric, \"Test accuracy\", \"structured Prune\"))    "
      ],
      "execution_count": null,
      "outputs": [
        {
          "output_type": "stream",
          "name": "stderr",
          "text": [
            "100%|██████████| 157/157 [00:03<00:00, 44.87it/s]\n"
          ]
        },
        {
          "output_type": "stream",
          "name": "stdout",
          "text": [
            "\n",
            "structured Prune has 80.21496815286623 Test accuracy on testData\n"
          ]
        },
        {
          "output_type": "stream",
          "name": "stderr",
          "text": [
            "100%|██████████| 157/157 [00:03<00:00, 44.47it/s]\n"
          ]
        },
        {
          "output_type": "stream",
          "name": "stdout",
          "text": [
            "\n",
            "structured Prune has 80.20501592356688 Test accuracy on testData\n"
          ]
        },
        {
          "output_type": "stream",
          "name": "stderr",
          "text": [
            "100%|██████████| 157/157 [00:03<00:00, 45.49it/s]\n"
          ]
        },
        {
          "output_type": "stream",
          "name": "stdout",
          "text": [
            "\n",
            "structured Prune has 79.63773885350318 Test accuracy on testData\n"
          ]
        },
        {
          "output_type": "stream",
          "name": "stderr",
          "text": [
            "100%|██████████| 157/157 [00:03<00:00, 44.65it/s]\n"
          ]
        },
        {
          "output_type": "stream",
          "name": "stdout",
          "text": [
            "\n",
            "structured Prune has 78.8515127388535 Test accuracy on testData\n"
          ]
        },
        {
          "output_type": "stream",
          "name": "stderr",
          "text": [
            "100%|██████████| 157/157 [00:03<00:00, 45.13it/s]\n"
          ]
        },
        {
          "output_type": "stream",
          "name": "stdout",
          "text": [
            "\n",
            "structured Prune has 80.51353503184714 Test accuracy on testData\n"
          ]
        },
        {
          "output_type": "stream",
          "name": "stderr",
          "text": [
            "100%|██████████| 157/157 [00:03<00:00, 45.33it/s]\n"
          ]
        },
        {
          "output_type": "stream",
          "name": "stdout",
          "text": [
            "\n",
            "structured Prune has 44.327229299363054 Test accuracy on testData\n"
          ]
        },
        {
          "output_type": "stream",
          "name": "stderr",
          "text": [
            "100%|██████████| 157/157 [00:03<00:00, 44.75it/s]\n"
          ]
        },
        {
          "output_type": "stream",
          "name": "stdout",
          "text": [
            "\n",
            "structured Prune has 12.937898089171975 Test accuracy on testData\n"
          ]
        },
        {
          "output_type": "stream",
          "name": "stderr",
          "text": [
            "100%|██████████| 157/157 [00:03<00:00, 45.74it/s]"
          ]
        },
        {
          "output_type": "stream",
          "name": "stdout",
          "text": [
            "\n",
            "structured Prune has 10.051751592356688 Test accuracy on testData\n"
          ]
        },
        {
          "output_type": "stream",
          "name": "stderr",
          "text": [
            "\n"
          ]
        }
      ]
    },
    {
      "cell_type": "markdown",
      "metadata": {
        "id": "Oeb5myYYTNAG"
      },
      "source": [
        "### 6. Compare metrics of different Pruned models"
      ]
    },
    {
      "cell_type": "code",
      "metadata": {
        "id": "4srTWA7hTS5q",
        "colab": {
          "base_uri": "https://localhost:8080/",
          "height": 295
        },
        "outputId": "92a3f363-78ae-47ac-9917-468de24468d2"
      },
      "source": [
        "# plot results\n",
        "fig, ax = plt.subplots(1,1,figsize=(8,4))\n",
        "ax.plot(np.array(prunePercentages) * 100.0, np.array(l1_unstructured_accuracies), label='Layerwise Unstructured')\n",
        "ax.plot(np.array(prunePercentages) * 100.0, np.array(l1_structured_accuracies), label='Layerwise Structured')\n",
        "ax.plot(np.array(prunePercentages) * 100.0, np.array(global_prune_accuracies), label='Global Unstructured')\n",
        "ax.set(xlabel ='Prune percentage (Sparsity) %', ylabel = 'Test set Accuracy (%)', \\\n",
        "       title = 'METRICS FOR DIFFERENT PRUNING TECHNIQUES')\n",
        "ax.legend()\n",
        "ax.grid(True)\n",
        "plt.show()"
      ],
      "execution_count": null,
      "outputs": [
        {
          "output_type": "display_data",
          "data": {
            "image/png": "[encoded data removed]",
            "text/plain": [
              "<Figure size 576x288 with 1 Axes>"
            ]
          },
          "metadata": {
            "needs_background": "light"
          }
        }
      ]
    },
    {
      "cell_type": "markdown",
      "source": [
        "### Observations\n",
        "\n",
        " - We can observe that even at ~55% Sparsity, layer wise unstructured pruning techniques maintain roughly 80% test accuracy.\n",
        " - Beyond a threshold (60% in our case), test accuracy drops significantly for all 3 techniques indicating the model is not able to capture enough information with the remaining weights\n",
        " - At least in our case, structured pruning is worse than unstructured pruning. "
      ],
      "metadata": {
        "id": "rpTK594T5yhW"
      }
    },
    {
      "cell_type": "markdown",
      "source": [
        "#### ***Optional task, plot all 4 layers of our custom model and see how different techiques have pruned weights***"
      ],
      "metadata": {
        "id": "w1vYe8u69ikW"
      }
    },
    {
      "cell_type": "code",
      "source": [
        "def plot_custom_model(model, title=''):\n",
        "  fig, axes = plt.subplots(1,4,figsize=(16, 4), gridspec_kw={'width_ratios': [7,5,3,1]})\n",
        "  plot_fc_weight(model.fc1.weight, axes[0])\n",
        "  plot_fc_weight(model.fc2.weight, axes[1])\n",
        "  plot_fc_weight(model.fc3.weight, axes[2])\n",
        "  plot_fc_weight(model.fc4.weight, axes[3])\n",
        "  \n",
        "  axes[0].set_title('FC Layer1')\n",
        "  axes[1].set_title('FC Layer2')\n",
        "  axes[2].set_title('FC Layer3')\n",
        "  axes[3].set_title('FC Layer4')\n",
        "  \n",
        "  if title is not '':\n",
        "    plt.suptitle(title)"
      ],
      "metadata": {
        "id": "-zP9ADHA90fh"
      },
      "execution_count": null,
      "outputs": []
    },
    {
      "cell_type": "code",
      "source": [
        "plot_custom_model(unStructuredPruneModel, title='unStructuredPruneModel')"
      ],
      "metadata": {
        "colab": {
          "base_uri": "https://localhost:8080/",
          "height": 276
        },
        "id": "vuFJy6PV-iok",
        "outputId": "41c61acc-0c62-4c7e-977c-94467d6b2dd5"
      },
      "execution_count": null,
      "outputs": [
        {
          "output_type": "display_data",
          "data": {
            "image/png": "[encoded data removed]",
            "text/plain": [
              "<Figure size 1152x288 with 4 Axes>"
            ]
          },
          "metadata": {
            "needs_background": "light"
          }
        }
      ]
    },
    {
      "cell_type": "code",
      "source": [
        "plot_custom_model(structuredPruneModel, title='structuredPruneModel')"
      ],
      "metadata": {
        "colab": {
          "base_uri": "https://localhost:8080/",
          "height": 276
        },
        "id": "wcYSimd5_nil",
        "outputId": "ed3008c7-3501-48ae-86d6-6b851d8df361"
      },
      "execution_count": null,
      "outputs": [
        {
          "output_type": "display_data",
          "data": {
            "image/png": "[encoded data removed]",
            "text/plain": [
              "<Figure size 1152x288 with 4 Axes>"
            ]
          },
          "metadata": {
            "needs_background": "light"
          }
        }
      ]
    },
    {
      "cell_type": "code",
      "source": [
        "plot_custom_model(globalPruneModel, 'globalPruneModel')"
      ],
      "metadata": {
        "colab": {
          "base_uri": "https://localhost:8080/",
          "height": 276
        },
        "id": "WQxkWt7X_m-J",
        "outputId": "4f1844f1-c5d5-4b80-9b92-febd1925feee"
      },
      "execution_count": null,
      "outputs": [
        {
          "output_type": "display_data",
          "data": {
            "image/png": "[encoded data removed]",
            "text/plain": [
              "<Figure size 1152x288 with 4 Axes>"
            ]
          },
          "metadata": {
            "needs_background": "light"
          }
        }
      ]
    },
    {
      "cell_type": "markdown",
      "metadata": {
        "id": "v7XF7eJddRMZ"
      },
      "source": [
        "#**NOTE**\n",
        "\n",
        "Now that we pruned majority of our model, what performance improvement can we expect?\n",
        "\n",
        "- For now, ***Pytorch pruning doesn't improve the runtime performance of the model. This is because, even though large percentage of weights can be set to zero, the forward pass still uses operations on the entire dense tensors of the model***\n",
        "- ***Sparse tensor operations functionality is still very limited in Pytorch, but it has plans to incorporate optimizations to see effects of Pruning in production systems***\n",
        "- To truly see the effect of the different pruning methods, we need to use a separate library that can optimize the model for pruned weights and apply it to production or recreate the pruned model structure from scratch"
      ]
    },
    {
      "cell_type": "markdown",
      "metadata": {
        "id": "lRbq09HZUN3q"
      },
      "source": [
        "## Research topics in Model Pruning\n",
        "\n",
        "- Different approaches to Model pruning have been proposed based on the model architecture. Eg : in the following paper [Learning to Prune Filters in Convolutional Neural Networks](https://arxiv.org/pdf/1801.07365.pdf) approaches to prune convolutional layers have been researched on different tasks like Object classification, Semantic segmentation etc\n",
        "\n",
        "- [The Lottery Ticket Hypothesis](https://arxiv.org/pdf/1803.03635.pdf) is an important research work in this domain. LTH states that ***for every dense network, there exists sub-networks (winning tickets) which when trained in isolation reach test accuracy of the original network in similar number of iterations***\n",
        "- LTH describes a standard training technique where the connections are reinitiailized with fixed weights after each iteration of pruning\n",
        "- The paper describes in detail impact of various hyperparameters like sparsity percentage, learning rate, optimizer parameters on pruned model size, test accuracy, interpretration etc.\n",
        "- [What is the state of Neural Network Pruning?](https://arxiv.org/abs/2003.03033) contains comprehensive survey of literature on the topic and also establishes `ShrinkBench` - a benchmark in trying to standardize the evaluation of pruning approaches\n"
      ]
    }
  ]
}