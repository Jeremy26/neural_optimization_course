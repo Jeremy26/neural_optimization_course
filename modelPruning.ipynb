{
  "nbformat": 4,
  "nbformat_minor": 0,
  "metadata": {
    "kernelspec": {
      "language": "python",
      "display_name": "Python 3",
      "name": "python3"
    },
    "language_info": {
      "name": "python",
      "version": "3.7.10",
      "mimetype": "text/x-python",
      "codemirror_mode": {
        "name": "ipython",
        "version": 3
      },
      "pygments_lexer": "ipython3",
      "nbconvert_exporter": "python",
      "file_extension": ".py"
    },
    "colab": {
      "name": "modelPruning.ipynb",
      "provenance": [],
      "collapsed_sections": [],
      "include_colab_link": true
    },
    "accelerator": "GPU",
    "widgets": {
      "application/vnd.jupyter.widget-state+json": {
        "03524a3cc3194e29976d02e8dbfd2e0b": {
          "model_module": "@jupyter-widgets/controls",
          "model_name": "HBoxModel",
          "model_module_version": "1.5.0",
          "state": {
            "_view_name": "HBoxView",
            "_dom_classes": [],
            "_model_name": "HBoxModel",
            "_view_module": "@jupyter-widgets/controls",
            "_model_module_version": "1.5.0",
            "_view_count": null,
            "_view_module_version": "1.5.0",
            "box_style": "",
            "layout": "IPY_MODEL_ede054d1d01745aa880686fe50efa1a4",
            "_model_module": "@jupyter-widgets/controls",
            "children": [
              "IPY_MODEL_4661e4639bfa4e3297c935c0ef228fd4",
              "IPY_MODEL_858cffc13d804d29b8aa349062da6709",
              "IPY_MODEL_90c738ae46e241ec9e4cdec3f5bba713"
            ]
          }
        },
        "ede054d1d01745aa880686fe50efa1a4": {
          "model_module": "@jupyter-widgets/base",
          "model_name": "LayoutModel",
          "model_module_version": "1.2.0",
          "state": {
            "_view_name": "LayoutView",
            "grid_template_rows": null,
            "right": null,
            "justify_content": null,
            "_view_module": "@jupyter-widgets/base",
            "overflow": null,
            "_model_module_version": "1.2.0",
            "_view_count": null,
            "flex_flow": null,
            "width": null,
            "min_width": null,
            "border": null,
            "align_items": null,
            "bottom": null,
            "_model_module": "@jupyter-widgets/base",
            "top": null,
            "grid_column": null,
            "overflow_y": null,
            "overflow_x": null,
            "grid_auto_flow": null,
            "grid_area": null,
            "grid_template_columns": null,
            "flex": null,
            "_model_name": "LayoutModel",
            "justify_items": null,
            "grid_row": null,
            "max_height": null,
            "align_content": null,
            "visibility": null,
            "align_self": null,
            "height": null,
            "min_height": null,
            "padding": null,
            "grid_auto_rows": null,
            "grid_gap": null,
            "max_width": null,
            "order": null,
            "_view_module_version": "1.2.0",
            "grid_template_areas": null,
            "object_position": null,
            "object_fit": null,
            "grid_auto_columns": null,
            "margin": null,
            "display": null,
            "left": null
          }
        },
        "4661e4639bfa4e3297c935c0ef228fd4": {
          "model_module": "@jupyter-widgets/controls",
          "model_name": "HTMLModel",
          "model_module_version": "1.5.0",
          "state": {
            "_view_name": "HTMLView",
            "style": "IPY_MODEL_8d45c345d89e45a6b4f0a4c8d0dae58d",
            "_dom_classes": [],
            "description": "",
            "_model_name": "HTMLModel",
            "placeholder": "​",
            "_view_module": "@jupyter-widgets/controls",
            "_model_module_version": "1.5.0",
            "value": "",
            "_view_count": null,
            "_view_module_version": "1.5.0",
            "description_tooltip": null,
            "_model_module": "@jupyter-widgets/controls",
            "layout": "IPY_MODEL_db618c47ed314280a96865981619906b"
          }
        },
        "858cffc13d804d29b8aa349062da6709": {
          "model_module": "@jupyter-widgets/controls",
          "model_name": "FloatProgressModel",
          "model_module_version": "1.5.0",
          "state": {
            "_view_name": "ProgressView",
            "style": "IPY_MODEL_ae56231740bc4efda8787ff1c6f45623",
            "_dom_classes": [],
            "description": "",
            "_model_name": "FloatProgressModel",
            "bar_style": "success",
            "max": 26421880,
            "_view_module": "@jupyter-widgets/controls",
            "_model_module_version": "1.5.0",
            "value": 26421880,
            "_view_count": null,
            "_view_module_version": "1.5.0",
            "orientation": "horizontal",
            "min": 0,
            "description_tooltip": null,
            "_model_module": "@jupyter-widgets/controls",
            "layout": "IPY_MODEL_b5fafc3084164adaa10a51091cfbe22a"
          }
        },
        "90c738ae46e241ec9e4cdec3f5bba713": {
          "model_module": "@jupyter-widgets/controls",
          "model_name": "HTMLModel",
          "model_module_version": "1.5.0",
          "state": {
            "_view_name": "HTMLView",
            "style": "IPY_MODEL_000757dea69d4d879066374f5f06948f",
            "_dom_classes": [],
            "description": "",
            "_model_name": "HTMLModel",
            "placeholder": "​",
            "_view_module": "@jupyter-widgets/controls",
            "_model_module_version": "1.5.0",
            "value": " 26422272/? [00:02&lt;00:00, 21683544.96it/s]",
            "_view_count": null,
            "_view_module_version": "1.5.0",
            "description_tooltip": null,
            "_model_module": "@jupyter-widgets/controls",
            "layout": "IPY_MODEL_ba3eb0a646ae4ec39d639bd1577fd41e"
          }
        },
        "8d45c345d89e45a6b4f0a4c8d0dae58d": {
          "model_module": "@jupyter-widgets/controls",
          "model_name": "DescriptionStyleModel",
          "model_module_version": "1.5.0",
          "state": {
            "_view_name": "StyleView",
            "_model_name": "DescriptionStyleModel",
            "description_width": "",
            "_view_module": "@jupyter-widgets/base",
            "_model_module_version": "1.5.0",
            "_view_count": null,
            "_view_module_version": "1.2.0",
            "_model_module": "@jupyter-widgets/controls"
          }
        },
        "db618c47ed314280a96865981619906b": {
          "model_module": "@jupyter-widgets/base",
          "model_name": "LayoutModel",
          "model_module_version": "1.2.0",
          "state": {
            "_view_name": "LayoutView",
            "grid_template_rows": null,
            "right": null,
            "justify_content": null,
            "_view_module": "@jupyter-widgets/base",
            "overflow": null,
            "_model_module_version": "1.2.0",
            "_view_count": null,
            "flex_flow": null,
            "width": null,
            "min_width": null,
            "border": null,
            "align_items": null,
            "bottom": null,
            "_model_module": "@jupyter-widgets/base",
            "top": null,
            "grid_column": null,
            "overflow_y": null,
            "overflow_x": null,
            "grid_auto_flow": null,
            "grid_area": null,
            "grid_template_columns": null,
            "flex": null,
            "_model_name": "LayoutModel",
            "justify_items": null,
            "grid_row": null,
            "max_height": null,
            "align_content": null,
            "visibility": null,
            "align_self": null,
            "height": null,
            "min_height": null,
            "padding": null,
            "grid_auto_rows": null,
            "grid_gap": null,
            "max_width": null,
            "order": null,
            "_view_module_version": "1.2.0",
            "grid_template_areas": null,
            "object_position": null,
            "object_fit": null,
            "grid_auto_columns": null,
            "margin": null,
            "display": null,
            "left": null
          }
        },
        "ae56231740bc4efda8787ff1c6f45623": {
          "model_module": "@jupyter-widgets/controls",
          "model_name": "ProgressStyleModel",
          "model_module_version": "1.5.0",
          "state": {
            "_view_name": "StyleView",
            "_model_name": "ProgressStyleModel",
            "description_width": "",
            "_view_module": "@jupyter-widgets/base",
            "_model_module_version": "1.5.0",
            "_view_count": null,
            "_view_module_version": "1.2.0",
            "bar_color": null,
            "_model_module": "@jupyter-widgets/controls"
          }
        },
        "b5fafc3084164adaa10a51091cfbe22a": {
          "model_module": "@jupyter-widgets/base",
          "model_name": "LayoutModel",
          "model_module_version": "1.2.0",
          "state": {
            "_view_name": "LayoutView",
            "grid_template_rows": null,
            "right": null,
            "justify_content": null,
            "_view_module": "@jupyter-widgets/base",
            "overflow": null,
            "_model_module_version": "1.2.0",
            "_view_count": null,
            "flex_flow": null,
            "width": null,
            "min_width": null,
            "border": null,
            "align_items": null,
            "bottom": null,
            "_model_module": "@jupyter-widgets/base",
            "top": null,
            "grid_column": null,
            "overflow_y": null,
            "overflow_x": null,
            "grid_auto_flow": null,
            "grid_area": null,
            "grid_template_columns": null,
            "flex": null,
            "_model_name": "LayoutModel",
            "justify_items": null,
            "grid_row": null,
            "max_height": null,
            "align_content": null,
            "visibility": null,
            "align_self": null,
            "height": null,
            "min_height": null,
            "padding": null,
            "grid_auto_rows": null,
            "grid_gap": null,
            "max_width": null,
            "order": null,
            "_view_module_version": "1.2.0",
            "grid_template_areas": null,
            "object_position": null,
            "object_fit": null,
            "grid_auto_columns": null,
            "margin": null,
            "display": null,
            "left": null
          }
        },
        "000757dea69d4d879066374f5f06948f": {
          "model_module": "@jupyter-widgets/controls",
          "model_name": "DescriptionStyleModel",
          "model_module_version": "1.5.0",
          "state": {
            "_view_name": "StyleView",
            "_model_name": "DescriptionStyleModel",
            "description_width": "",
            "_view_module": "@jupyter-widgets/base",
            "_model_module_version": "1.5.0",
            "_view_count": null,
            "_view_module_version": "1.2.0",
            "_model_module": "@jupyter-widgets/controls"
          }
        },
        "ba3eb0a646ae4ec39d639bd1577fd41e": {
          "model_module": "@jupyter-widgets/base",
          "model_name": "LayoutModel",
          "model_module_version": "1.2.0",
          "state": {
            "_view_name": "LayoutView",
            "grid_template_rows": null,
            "right": null,
            "justify_content": null,
            "_view_module": "@jupyter-widgets/base",
            "overflow": null,
            "_model_module_version": "1.2.0",
            "_view_count": null,
            "flex_flow": null,
            "width": null,
            "min_width": null,
            "border": null,
            "align_items": null,
            "bottom": null,
            "_model_module": "@jupyter-widgets/base",
            "top": null,
            "grid_column": null,
            "overflow_y": null,
            "overflow_x": null,
            "grid_auto_flow": null,
            "grid_area": null,
            "grid_template_columns": null,
            "flex": null,
            "_model_name": "LayoutModel",
            "justify_items": null,
            "grid_row": null,
            "max_height": null,
            "align_content": null,
            "visibility": null,
            "align_self": null,
            "height": null,
            "min_height": null,
            "padding": null,
            "grid_auto_rows": null,
            "grid_gap": null,
            "max_width": null,
            "order": null,
            "_view_module_version": "1.2.0",
            "grid_template_areas": null,
            "object_position": null,
            "object_fit": null,
            "grid_auto_columns": null,
            "margin": null,
            "display": null,
            "left": null
          }
        },
        "fc3969de9e864c9cb31db9021046490d": {
          "model_module": "@jupyter-widgets/controls",
          "model_name": "HBoxModel",
          "model_module_version": "1.5.0",
          "state": {
            "_view_name": "HBoxView",
            "_dom_classes": [],
            "_model_name": "HBoxModel",
            "_view_module": "@jupyter-widgets/controls",
            "_model_module_version": "1.5.0",
            "_view_count": null,
            "_view_module_version": "1.5.0",
            "box_style": "",
            "layout": "IPY_MODEL_d3feaf8ad38e416cb585ef4259d908ac",
            "_model_module": "@jupyter-widgets/controls",
            "children": [
              "IPY_MODEL_e71f75ecd99d410bb949d4a25712574d",
              "IPY_MODEL_fe0960dbe4f343db9c055a89f805a14a",
              "IPY_MODEL_ad206dc8f50d41b0883bbf1f32500962"
            ]
          }
        },
        "d3feaf8ad38e416cb585ef4259d908ac": {
          "model_module": "@jupyter-widgets/base",
          "model_name": "LayoutModel",
          "model_module_version": "1.2.0",
          "state": {
            "_view_name": "LayoutView",
            "grid_template_rows": null,
            "right": null,
            "justify_content": null,
            "_view_module": "@jupyter-widgets/base",
            "overflow": null,
            "_model_module_version": "1.2.0",
            "_view_count": null,
            "flex_flow": null,
            "width": null,
            "min_width": null,
            "border": null,
            "align_items": null,
            "bottom": null,
            "_model_module": "@jupyter-widgets/base",
            "top": null,
            "grid_column": null,
            "overflow_y": null,
            "overflow_x": null,
            "grid_auto_flow": null,
            "grid_area": null,
            "grid_template_columns": null,
            "flex": null,
            "_model_name": "LayoutModel",
            "justify_items": null,
            "grid_row": null,
            "max_height": null,
            "align_content": null,
            "visibility": null,
            "align_self": null,
            "height": null,
            "min_height": null,
            "padding": null,
            "grid_auto_rows": null,
            "grid_gap": null,
            "max_width": null,
            "order": null,
            "_view_module_version": "1.2.0",
            "grid_template_areas": null,
            "object_position": null,
            "object_fit": null,
            "grid_auto_columns": null,
            "margin": null,
            "display": null,
            "left": null
          }
        },
        "e71f75ecd99d410bb949d4a25712574d": {
          "model_module": "@jupyter-widgets/controls",
          "model_name": "HTMLModel",
          "model_module_version": "1.5.0",
          "state": {
            "_view_name": "HTMLView",
            "style": "IPY_MODEL_e89c726c6d1b46f796e6978fd5140633",
            "_dom_classes": [],
            "description": "",
            "_model_name": "HTMLModel",
            "placeholder": "​",
            "_view_module": "@jupyter-widgets/controls",
            "_model_module_version": "1.5.0",
            "value": "",
            "_view_count": null,
            "_view_module_version": "1.5.0",
            "description_tooltip": null,
            "_model_module": "@jupyter-widgets/controls",
            "layout": "IPY_MODEL_0d652d958bad4a8e829fc4edaca30ec5"
          }
        },
        "fe0960dbe4f343db9c055a89f805a14a": {
          "model_module": "@jupyter-widgets/controls",
          "model_name": "FloatProgressModel",
          "model_module_version": "1.5.0",
          "state": {
            "_view_name": "ProgressView",
            "style": "IPY_MODEL_11f4c21ab2b1410795dc27574272249c",
            "_dom_classes": [],
            "description": "",
            "_model_name": "FloatProgressModel",
            "bar_style": "success",
            "max": 29515,
            "_view_module": "@jupyter-widgets/controls",
            "_model_module_version": "1.5.0",
            "value": 29515,
            "_view_count": null,
            "_view_module_version": "1.5.0",
            "orientation": "horizontal",
            "min": 0,
            "description_tooltip": null,
            "_model_module": "@jupyter-widgets/controls",
            "layout": "IPY_MODEL_8fc6ca1aa5f643429a602ceaff7c4a08"
          }
        },
        "ad206dc8f50d41b0883bbf1f32500962": {
          "model_module": "@jupyter-widgets/controls",
          "model_name": "HTMLModel",
          "model_module_version": "1.5.0",
          "state": {
            "_view_name": "HTMLView",
            "style": "IPY_MODEL_a9be0085b61248808d0d47267c20ace1",
            "_dom_classes": [],
            "description": "",
            "_model_name": "HTMLModel",
            "placeholder": "​",
            "_view_module": "@jupyter-widgets/controls",
            "_model_module_version": "1.5.0",
            "value": " 29696/? [00:00&lt;00:00, 104153.93it/s]",
            "_view_count": null,
            "_view_module_version": "1.5.0",
            "description_tooltip": null,
            "_model_module": "@jupyter-widgets/controls",
            "layout": "IPY_MODEL_dd6eb4f1360045ad9a55b27816645519"
          }
        },
        "e89c726c6d1b46f796e6978fd5140633": {
          "model_module": "@jupyter-widgets/controls",
          "model_name": "DescriptionStyleModel",
          "model_module_version": "1.5.0",
          "state": {
            "_view_name": "StyleView",
            "_model_name": "DescriptionStyleModel",
            "description_width": "",
            "_view_module": "@jupyter-widgets/base",
            "_model_module_version": "1.5.0",
            "_view_count": null,
            "_view_module_version": "1.2.0",
            "_model_module": "@jupyter-widgets/controls"
          }
        },
        "0d652d958bad4a8e829fc4edaca30ec5": {
          "model_module": "@jupyter-widgets/base",
          "model_name": "LayoutModel",
          "model_module_version": "1.2.0",
          "state": {
            "_view_name": "LayoutView",
            "grid_template_rows": null,
            "right": null,
            "justify_content": null,
            "_view_module": "@jupyter-widgets/base",
            "overflow": null,
            "_model_module_version": "1.2.0",
            "_view_count": null,
            "flex_flow": null,
            "width": null,
            "min_width": null,
            "border": null,
            "align_items": null,
            "bottom": null,
            "_model_module": "@jupyter-widgets/base",
            "top": null,
            "grid_column": null,
            "overflow_y": null,
            "overflow_x": null,
            "grid_auto_flow": null,
            "grid_area": null,
            "grid_template_columns": null,
            "flex": null,
            "_model_name": "LayoutModel",
            "justify_items": null,
            "grid_row": null,
            "max_height": null,
            "align_content": null,
            "visibility": null,
            "align_self": null,
            "height": null,
            "min_height": null,
            "padding": null,
            "grid_auto_rows": null,
            "grid_gap": null,
            "max_width": null,
            "order": null,
            "_view_module_version": "1.2.0",
            "grid_template_areas": null,
            "object_position": null,
            "object_fit": null,
            "grid_auto_columns": null,
            "margin": null,
            "display": null,
            "left": null
          }
        },
        "11f4c21ab2b1410795dc27574272249c": {
          "model_module": "@jupyter-widgets/controls",
          "model_name": "ProgressStyleModel",
          "model_module_version": "1.5.0",
          "state": {
            "_view_name": "StyleView",
            "_model_name": "ProgressStyleModel",
            "description_width": "",
            "_view_module": "@jupyter-widgets/base",
            "_model_module_version": "1.5.0",
            "_view_count": null,
            "_view_module_version": "1.2.0",
            "bar_color": null,
            "_model_module": "@jupyter-widgets/controls"
          }
        },
        "8fc6ca1aa5f643429a602ceaff7c4a08": {
          "model_module": "@jupyter-widgets/base",
          "model_name": "LayoutModel",
          "model_module_version": "1.2.0",
          "state": {
            "_view_name": "LayoutView",
            "grid_template_rows": null,
            "right": null,
            "justify_content": null,
            "_view_module": "@jupyter-widgets/base",
            "overflow": null,
            "_model_module_version": "1.2.0",
            "_view_count": null,
            "flex_flow": null,
            "width": null,
            "min_width": null,
            "border": null,
            "align_items": null,
            "bottom": null,
            "_model_module": "@jupyter-widgets/base",
            "top": null,
            "grid_column": null,
            "overflow_y": null,
            "overflow_x": null,
            "grid_auto_flow": null,
            "grid_area": null,
            "grid_template_columns": null,
            "flex": null,
            "_model_name": "LayoutModel",
            "justify_items": null,
            "grid_row": null,
            "max_height": null,
            "align_content": null,
            "visibility": null,
            "align_self": null,
            "height": null,
            "min_height": null,
            "padding": null,
            "grid_auto_rows": null,
            "grid_gap": null,
            "max_width": null,
            "order": null,
            "_view_module_version": "1.2.0",
            "grid_template_areas": null,
            "object_position": null,
            "object_fit": null,
            "grid_auto_columns": null,
            "margin": null,
            "display": null,
            "left": null
          }
        },
        "a9be0085b61248808d0d47267c20ace1": {
          "model_module": "@jupyter-widgets/controls",
          "model_name": "DescriptionStyleModel",
          "model_module_version": "1.5.0",
          "state": {
            "_view_name": "StyleView",
            "_model_name": "DescriptionStyleModel",
            "description_width": "",
            "_view_module": "@jupyter-widgets/base",
            "_model_module_version": "1.5.0",
            "_view_count": null,
            "_view_module_version": "1.2.0",
            "_model_module": "@jupyter-widgets/controls"
          }
        },
        "dd6eb4f1360045ad9a55b27816645519": {
          "model_module": "@jupyter-widgets/base",
          "model_name": "LayoutModel",
          "model_module_version": "1.2.0",
          "state": {
            "_view_name": "LayoutView",
            "grid_template_rows": null,
            "right": null,
            "justify_content": null,
            "_view_module": "@jupyter-widgets/base",
            "overflow": null,
            "_model_module_version": "1.2.0",
            "_view_count": null,
            "flex_flow": null,
            "width": null,
            "min_width": null,
            "border": null,
            "align_items": null,
            "bottom": null,
            "_model_module": "@jupyter-widgets/base",
            "top": null,
            "grid_column": null,
            "overflow_y": null,
            "overflow_x": null,
            "grid_auto_flow": null,
            "grid_area": null,
            "grid_template_columns": null,
            "flex": null,
            "_model_name": "LayoutModel",
            "justify_items": null,
            "grid_row": null,
            "max_height": null,
            "align_content": null,
            "visibility": null,
            "align_self": null,
            "height": null,
            "min_height": null,
            "padding": null,
            "grid_auto_rows": null,
            "grid_gap": null,
            "max_width": null,
            "order": null,
            "_view_module_version": "1.2.0",
            "grid_template_areas": null,
            "object_position": null,
            "object_fit": null,
            "grid_auto_columns": null,
            "margin": null,
            "display": null,
            "left": null
          }
        },
        "b8bcc8654b7d4d4c8f5991d283a12a95": {
          "model_module": "@jupyter-widgets/controls",
          "model_name": "HBoxModel",
          "model_module_version": "1.5.0",
          "state": {
            "_view_name": "HBoxView",
            "_dom_classes": [],
            "_model_name": "HBoxModel",
            "_view_module": "@jupyter-widgets/controls",
            "_model_module_version": "1.5.0",
            "_view_count": null,
            "_view_module_version": "1.5.0",
            "box_style": "",
            "layout": "IPY_MODEL_195bb1fa2539419c99105bb1c3ed088f",
            "_model_module": "@jupyter-widgets/controls",
            "children": [
              "IPY_MODEL_eb96aabe0f294d09b22519b6726fdb47",
              "IPY_MODEL_c875eaac4da5422f8f3f5d94355fba5a",
              "IPY_MODEL_99035a1e679f44b8a2b18fa74efd91be"
            ]
          }
        },
        "195bb1fa2539419c99105bb1c3ed088f": {
          "model_module": "@jupyter-widgets/base",
          "model_name": "LayoutModel",
          "model_module_version": "1.2.0",
          "state": {
            "_view_name": "LayoutView",
            "grid_template_rows": null,
            "right": null,
            "justify_content": null,
            "_view_module": "@jupyter-widgets/base",
            "overflow": null,
            "_model_module_version": "1.2.0",
            "_view_count": null,
            "flex_flow": null,
            "width": null,
            "min_width": null,
            "border": null,
            "align_items": null,
            "bottom": null,
            "_model_module": "@jupyter-widgets/base",
            "top": null,
            "grid_column": null,
            "overflow_y": null,
            "overflow_x": null,
            "grid_auto_flow": null,
            "grid_area": null,
            "grid_template_columns": null,
            "flex": null,
            "_model_name": "LayoutModel",
            "justify_items": null,
            "grid_row": null,
            "max_height": null,
            "align_content": null,
            "visibility": null,
            "align_self": null,
            "height": null,
            "min_height": null,
            "padding": null,
            "grid_auto_rows": null,
            "grid_gap": null,
            "max_width": null,
            "order": null,
            "_view_module_version": "1.2.0",
            "grid_template_areas": null,
            "object_position": null,
            "object_fit": null,
            "grid_auto_columns": null,
            "margin": null,
            "display": null,
            "left": null
          }
        },
        "eb96aabe0f294d09b22519b6726fdb47": {
          "model_module": "@jupyter-widgets/controls",
          "model_name": "HTMLModel",
          "model_module_version": "1.5.0",
          "state": {
            "_view_name": "HTMLView",
            "style": "IPY_MODEL_83b21d264bfd4953880d5fb4fb9c02d1",
            "_dom_classes": [],
            "description": "",
            "_model_name": "HTMLModel",
            "placeholder": "​",
            "_view_module": "@jupyter-widgets/controls",
            "_model_module_version": "1.5.0",
            "value": "",
            "_view_count": null,
            "_view_module_version": "1.5.0",
            "description_tooltip": null,
            "_model_module": "@jupyter-widgets/controls",
            "layout": "IPY_MODEL_ed1cb94f08324f6abcaaf1a841686e4b"
          }
        },
        "c875eaac4da5422f8f3f5d94355fba5a": {
          "model_module": "@jupyter-widgets/controls",
          "model_name": "FloatProgressModel",
          "model_module_version": "1.5.0",
          "state": {
            "_view_name": "ProgressView",
            "style": "IPY_MODEL_dce7395eed3c499e92075836e297d261",
            "_dom_classes": [],
            "description": "",
            "_model_name": "FloatProgressModel",
            "bar_style": "success",
            "max": 4422102,
            "_view_module": "@jupyter-widgets/controls",
            "_model_module_version": "1.5.0",
            "value": 4422102,
            "_view_count": null,
            "_view_module_version": "1.5.0",
            "orientation": "horizontal",
            "min": 0,
            "description_tooltip": null,
            "_model_module": "@jupyter-widgets/controls",
            "layout": "IPY_MODEL_7bd2586d7e564497858846e9ca6873cf"
          }
        },
        "99035a1e679f44b8a2b18fa74efd91be": {
          "model_module": "@jupyter-widgets/controls",
          "model_name": "HTMLModel",
          "model_module_version": "1.5.0",
          "state": {
            "_view_name": "HTMLView",
            "style": "IPY_MODEL_013817af91384c6dac1e9c32556379a9",
            "_dom_classes": [],
            "description": "",
            "_model_name": "HTMLModel",
            "placeholder": "​",
            "_view_module": "@jupyter-widgets/controls",
            "_model_module_version": "1.5.0",
            "value": " 4422656/? [00:00&lt;00:00, 8442830.55it/s]",
            "_view_count": null,
            "_view_module_version": "1.5.0",
            "description_tooltip": null,
            "_model_module": "@jupyter-widgets/controls",
            "layout": "IPY_MODEL_367961d3207c418f98c1b6bcec6ec437"
          }
        },
        "83b21d264bfd4953880d5fb4fb9c02d1": {
          "model_module": "@jupyter-widgets/controls",
          "model_name": "DescriptionStyleModel",
          "model_module_version": "1.5.0",
          "state": {
            "_view_name": "StyleView",
            "_model_name": "DescriptionStyleModel",
            "description_width": "",
            "_view_module": "@jupyter-widgets/base",
            "_model_module_version": "1.5.0",
            "_view_count": null,
            "_view_module_version": "1.2.0",
            "_model_module": "@jupyter-widgets/controls"
          }
        },
        "ed1cb94f08324f6abcaaf1a841686e4b": {
          "model_module": "@jupyter-widgets/base",
          "model_name": "LayoutModel",
          "model_module_version": "1.2.0",
          "state": {
            "_view_name": "LayoutView",
            "grid_template_rows": null,
            "right": null,
            "justify_content": null,
            "_view_module": "@jupyter-widgets/base",
            "overflow": null,
            "_model_module_version": "1.2.0",
            "_view_count": null,
            "flex_flow": null,
            "width": null,
            "min_width": null,
            "border": null,
            "align_items": null,
            "bottom": null,
            "_model_module": "@jupyter-widgets/base",
            "top": null,
            "grid_column": null,
            "overflow_y": null,
            "overflow_x": null,
            "grid_auto_flow": null,
            "grid_area": null,
            "grid_template_columns": null,
            "flex": null,
            "_model_name": "LayoutModel",
            "justify_items": null,
            "grid_row": null,
            "max_height": null,
            "align_content": null,
            "visibility": null,
            "align_self": null,
            "height": null,
            "min_height": null,
            "padding": null,
            "grid_auto_rows": null,
            "grid_gap": null,
            "max_width": null,
            "order": null,
            "_view_module_version": "1.2.0",
            "grid_template_areas": null,
            "object_position": null,
            "object_fit": null,
            "grid_auto_columns": null,
            "margin": null,
            "display": null,
            "left": null
          }
        },
        "dce7395eed3c499e92075836e297d261": {
          "model_module": "@jupyter-widgets/controls",
          "model_name": "ProgressStyleModel",
          "model_module_version": "1.5.0",
          "state": {
            "_view_name": "StyleView",
            "_model_name": "ProgressStyleModel",
            "description_width": "",
            "_view_module": "@jupyter-widgets/base",
            "_model_module_version": "1.5.0",
            "_view_count": null,
            "_view_module_version": "1.2.0",
            "bar_color": null,
            "_model_module": "@jupyter-widgets/controls"
          }
        },
        "7bd2586d7e564497858846e9ca6873cf": {
          "model_module": "@jupyter-widgets/base",
          "model_name": "LayoutModel",
          "model_module_version": "1.2.0",
          "state": {
            "_view_name": "LayoutView",
            "grid_template_rows": null,
            "right": null,
            "justify_content": null,
            "_view_module": "@jupyter-widgets/base",
            "overflow": null,
            "_model_module_version": "1.2.0",
            "_view_count": null,
            "flex_flow": null,
            "width": null,
            "min_width": null,
            "border": null,
            "align_items": null,
            "bottom": null,
            "_model_module": "@jupyter-widgets/base",
            "top": null,
            "grid_column": null,
            "overflow_y": null,
            "overflow_x": null,
            "grid_auto_flow": null,
            "grid_area": null,
            "grid_template_columns": null,
            "flex": null,
            "_model_name": "LayoutModel",
            "justify_items": null,
            "grid_row": null,
            "max_height": null,
            "align_content": null,
            "visibility": null,
            "align_self": null,
            "height": null,
            "min_height": null,
            "padding": null,
            "grid_auto_rows": null,
            "grid_gap": null,
            "max_width": null,
            "order": null,
            "_view_module_version": "1.2.0",
            "grid_template_areas": null,
            "object_position": null,
            "object_fit": null,
            "grid_auto_columns": null,
            "margin": null,
            "display": null,
            "left": null
          }
        },
        "013817af91384c6dac1e9c32556379a9": {
          "model_module": "@jupyter-widgets/controls",
          "model_name": "DescriptionStyleModel",
          "model_module_version": "1.5.0",
          "state": {
            "_view_name": "StyleView",
            "_model_name": "DescriptionStyleModel",
            "description_width": "",
            "_view_module": "@jupyter-widgets/base",
            "_model_module_version": "1.5.0",
            "_view_count": null,
            "_view_module_version": "1.2.0",
            "_model_module": "@jupyter-widgets/controls"
          }
        },
        "367961d3207c418f98c1b6bcec6ec437": {
          "model_module": "@jupyter-widgets/base",
          "model_name": "LayoutModel",
          "model_module_version": "1.2.0",
          "state": {
            "_view_name": "LayoutView",
            "grid_template_rows": null,
            "right": null,
            "justify_content": null,
            "_view_module": "@jupyter-widgets/base",
            "overflow": null,
            "_model_module_version": "1.2.0",
            "_view_count": null,
            "flex_flow": null,
            "width": null,
            "min_width": null,
            "border": null,
            "align_items": null,
            "bottom": null,
            "_model_module": "@jupyter-widgets/base",
            "top": null,
            "grid_column": null,
            "overflow_y": null,
            "overflow_x": null,
            "grid_auto_flow": null,
            "grid_area": null,
            "grid_template_columns": null,
            "flex": null,
            "_model_name": "LayoutModel",
            "justify_items": null,
            "grid_row": null,
            "max_height": null,
            "align_content": null,
            "visibility": null,
            "align_self": null,
            "height": null,
            "min_height": null,
            "padding": null,
            "grid_auto_rows": null,
            "grid_gap": null,
            "max_width": null,
            "order": null,
            "_view_module_version": "1.2.0",
            "grid_template_areas": null,
            "object_position": null,
            "object_fit": null,
            "grid_auto_columns": null,
            "margin": null,
            "display": null,
            "left": null
          }
        },
        "df2b78fcb3db4d7b9801be516b3df8bb": {
          "model_module": "@jupyter-widgets/controls",
          "model_name": "HBoxModel",
          "model_module_version": "1.5.0",
          "state": {
            "_view_name": "HBoxView",
            "_dom_classes": [],
            "_model_name": "HBoxModel",
            "_view_module": "@jupyter-widgets/controls",
            "_model_module_version": "1.5.0",
            "_view_count": null,
            "_view_module_version": "1.5.0",
            "box_style": "",
            "layout": "IPY_MODEL_1d373a7bf77d46b4851eb8a1bfbc9983",
            "_model_module": "@jupyter-widgets/controls",
            "children": [
              "IPY_MODEL_730235f4f82a4216a2fba84e1773a284",
              "IPY_MODEL_137a7b6368ac4141841a6b2ca5157906",
              "IPY_MODEL_16a214bf02274061aacbe2d2eedc5d86"
            ]
          }
        },
        "1d373a7bf77d46b4851eb8a1bfbc9983": {
          "model_module": "@jupyter-widgets/base",
          "model_name": "LayoutModel",
          "model_module_version": "1.2.0",
          "state": {
            "_view_name": "LayoutView",
            "grid_template_rows": null,
            "right": null,
            "justify_content": null,
            "_view_module": "@jupyter-widgets/base",
            "overflow": null,
            "_model_module_version": "1.2.0",
            "_view_count": null,
            "flex_flow": null,
            "width": null,
            "min_width": null,
            "border": null,
            "align_items": null,
            "bottom": null,
            "_model_module": "@jupyter-widgets/base",
            "top": null,
            "grid_column": null,
            "overflow_y": null,
            "overflow_x": null,
            "grid_auto_flow": null,
            "grid_area": null,
            "grid_template_columns": null,
            "flex": null,
            "_model_name": "LayoutModel",
            "justify_items": null,
            "grid_row": null,
            "max_height": null,
            "align_content": null,
            "visibility": null,
            "align_self": null,
            "height": null,
            "min_height": null,
            "padding": null,
            "grid_auto_rows": null,
            "grid_gap": null,
            "max_width": null,
            "order": null,
            "_view_module_version": "1.2.0",
            "grid_template_areas": null,
            "object_position": null,
            "object_fit": null,
            "grid_auto_columns": null,
            "margin": null,
            "display": null,
            "left": null
          }
        },
        "730235f4f82a4216a2fba84e1773a284": {
          "model_module": "@jupyter-widgets/controls",
          "model_name": "HTMLModel",
          "model_module_version": "1.5.0",
          "state": {
            "_view_name": "HTMLView",
            "style": "IPY_MODEL_d58919f9189e46b8832d3984d0f4bd85",
            "_dom_classes": [],
            "description": "",
            "_model_name": "HTMLModel",
            "placeholder": "​",
            "_view_module": "@jupyter-widgets/controls",
            "_model_module_version": "1.5.0",
            "value": "",
            "_view_count": null,
            "_view_module_version": "1.5.0",
            "description_tooltip": null,
            "_model_module": "@jupyter-widgets/controls",
            "layout": "IPY_MODEL_dc8ca3235f7c47ee965e1c88272014db"
          }
        },
        "137a7b6368ac4141841a6b2ca5157906": {
          "model_module": "@jupyter-widgets/controls",
          "model_name": "FloatProgressModel",
          "model_module_version": "1.5.0",
          "state": {
            "_view_name": "ProgressView",
            "style": "IPY_MODEL_a8d08f55d2114a2eaa400eed36e15533",
            "_dom_classes": [],
            "description": "",
            "_model_name": "FloatProgressModel",
            "bar_style": "success",
            "max": 5148,
            "_view_module": "@jupyter-widgets/controls",
            "_model_module_version": "1.5.0",
            "value": 5148,
            "_view_count": null,
            "_view_module_version": "1.5.0",
            "orientation": "horizontal",
            "min": 0,
            "description_tooltip": null,
            "_model_module": "@jupyter-widgets/controls",
            "layout": "IPY_MODEL_2887f8e96a644f7d98d0830e1fea4c03"
          }
        },
        "16a214bf02274061aacbe2d2eedc5d86": {
          "model_module": "@jupyter-widgets/controls",
          "model_name": "HTMLModel",
          "model_module_version": "1.5.0",
          "state": {
            "_view_name": "HTMLView",
            "style": "IPY_MODEL_517455e6a9ae47e7b77df5d0945d0bb8",
            "_dom_classes": [],
            "description": "",
            "_model_name": "HTMLModel",
            "placeholder": "​",
            "_view_module": "@jupyter-widgets/controls",
            "_model_module_version": "1.5.0",
            "value": " 6144/? [00:00&lt;00:00, 151317.38it/s]",
            "_view_count": null,
            "_view_module_version": "1.5.0",
            "description_tooltip": null,
            "_model_module": "@jupyter-widgets/controls",
            "layout": "IPY_MODEL_828663061fe64f5a94973bd53996842a"
          }
        },
        "d58919f9189e46b8832d3984d0f4bd85": {
          "model_module": "@jupyter-widgets/controls",
          "model_name": "DescriptionStyleModel",
          "model_module_version": "1.5.0",
          "state": {
            "_view_name": "StyleView",
            "_model_name": "DescriptionStyleModel",
            "description_width": "",
            "_view_module": "@jupyter-widgets/base",
            "_model_module_version": "1.5.0",
            "_view_count": null,
            "_view_module_version": "1.2.0",
            "_model_module": "@jupyter-widgets/controls"
          }
        },
        "dc8ca3235f7c47ee965e1c88272014db": {
          "model_module": "@jupyter-widgets/base",
          "model_name": "LayoutModel",
          "model_module_version": "1.2.0",
          "state": {
            "_view_name": "LayoutView",
            "grid_template_rows": null,
            "right": null,
            "justify_content": null,
            "_view_module": "@jupyter-widgets/base",
            "overflow": null,
            "_model_module_version": "1.2.0",
            "_view_count": null,
            "flex_flow": null,
            "width": null,
            "min_width": null,
            "border": null,
            "align_items": null,
            "bottom": null,
            "_model_module": "@jupyter-widgets/base",
            "top": null,
            "grid_column": null,
            "overflow_y": null,
            "overflow_x": null,
            "grid_auto_flow": null,
            "grid_area": null,
            "grid_template_columns": null,
            "flex": null,
            "_model_name": "LayoutModel",
            "justify_items": null,
            "grid_row": null,
            "max_height": null,
            "align_content": null,
            "visibility": null,
            "align_self": null,
            "height": null,
            "min_height": null,
            "padding": null,
            "grid_auto_rows": null,
            "grid_gap": null,
            "max_width": null,
            "order": null,
            "_view_module_version": "1.2.0",
            "grid_template_areas": null,
            "object_position": null,
            "object_fit": null,
            "grid_auto_columns": null,
            "margin": null,
            "display": null,
            "left": null
          }
        },
        "a8d08f55d2114a2eaa400eed36e15533": {
          "model_module": "@jupyter-widgets/controls",
          "model_name": "ProgressStyleModel",
          "model_module_version": "1.5.0",
          "state": {
            "_view_name": "StyleView",
            "_model_name": "ProgressStyleModel",
            "description_width": "",
            "_view_module": "@jupyter-widgets/base",
            "_model_module_version": "1.5.0",
            "_view_count": null,
            "_view_module_version": "1.2.0",
            "bar_color": null,
            "_model_module": "@jupyter-widgets/controls"
          }
        },
        "2887f8e96a644f7d98d0830e1fea4c03": {
          "model_module": "@jupyter-widgets/base",
          "model_name": "LayoutModel",
          "model_module_version": "1.2.0",
          "state": {
            "_view_name": "LayoutView",
            "grid_template_rows": null,
            "right": null,
            "justify_content": null,
            "_view_module": "@jupyter-widgets/base",
            "overflow": null,
            "_model_module_version": "1.2.0",
            "_view_count": null,
            "flex_flow": null,
            "width": null,
            "min_width": null,
            "border": null,
            "align_items": null,
            "bottom": null,
            "_model_module": "@jupyter-widgets/base",
            "top": null,
            "grid_column": null,
            "overflow_y": null,
            "overflow_x": null,
            "grid_auto_flow": null,
            "grid_area": null,
            "grid_template_columns": null,
            "flex": null,
            "_model_name": "LayoutModel",
            "justify_items": null,
            "grid_row": null,
            "max_height": null,
            "align_content": null,
            "visibility": null,
            "align_self": null,
            "height": null,
            "min_height": null,
            "padding": null,
            "grid_auto_rows": null,
            "grid_gap": null,
            "max_width": null,
            "order": null,
            "_view_module_version": "1.2.0",
            "grid_template_areas": null,
            "object_position": null,
            "object_fit": null,
            "grid_auto_columns": null,
            "margin": null,
            "display": null,
            "left": null
          }
        },
        "517455e6a9ae47e7b77df5d0945d0bb8": {
          "model_module": "@jupyter-widgets/controls",
          "model_name": "DescriptionStyleModel",
          "model_module_version": "1.5.0",
          "state": {
            "_view_name": "StyleView",
            "_model_name": "DescriptionStyleModel",
            "description_width": "",
            "_view_module": "@jupyter-widgets/base",
            "_model_module_version": "1.5.0",
            "_view_count": null,
            "_view_module_version": "1.2.0",
            "_model_module": "@jupyter-widgets/controls"
          }
        },
        "828663061fe64f5a94973bd53996842a": {
          "model_module": "@jupyter-widgets/base",
          "model_name": "LayoutModel",
          "model_module_version": "1.2.0",
          "state": {
            "_view_name": "LayoutView",
            "grid_template_rows": null,
            "right": null,
            "justify_content": null,
            "_view_module": "@jupyter-widgets/base",
            "overflow": null,
            "_model_module_version": "1.2.0",
            "_view_count": null,
            "flex_flow": null,
            "width": null,
            "min_width": null,
            "border": null,
            "align_items": null,
            "bottom": null,
            "_model_module": "@jupyter-widgets/base",
            "top": null,
            "grid_column": null,
            "overflow_y": null,
            "overflow_x": null,
            "grid_auto_flow": null,
            "grid_area": null,
            "grid_template_columns": null,
            "flex": null,
            "_model_name": "LayoutModel",
            "justify_items": null,
            "grid_row": null,
            "max_height": null,
            "align_content": null,
            "visibility": null,
            "align_self": null,
            "height": null,
            "min_height": null,
            "padding": null,
            "grid_auto_rows": null,
            "grid_gap": null,
            "max_width": null,
            "order": null,
            "_view_module_version": "1.2.0",
            "grid_template_areas": null,
            "object_position": null,
            "object_fit": null,
            "grid_auto_columns": null,
            "margin": null,
            "display": null,
            "left": null
          }
        }
      }
    }
  },
  "cells": [
    {
      "cell_type": "markdown",
      "metadata": {
        "id": "view-in-github",
        "colab_type": "text"
      },
      "source": [
        "<a href=\"https://colab.research.google.com/github/Jeremy26/neural_optimization_course/blob/main/modelPruning.ipynb\" target=\"_parent\"><img src=\"https://colab.research.google.com/assets/colab-badge.svg\" alt=\"Open In Colab\"/></a>"
      ]
    },
    {
      "cell_type": "markdown",
      "metadata": {
        "id": "MMxCcDUqq_j0"
      },
      "source": [
        "# Welcome to the Pruning Workshop!\n",
        "\n",
        "In this workshop, we'll learn the concept of Pruning Neural Network models using Pytorch. We'll do the following tasks:\n",
        "1. Download and use FashionMNIST dataset to setup our data pipeline.\n",
        "2. Define a custom MLP model and calculate the `inference metrics` we learned in the previous workshop for the original model\n",
        "3. Train the custom model on FashionMNIST dataset and record baseline `accuracy`\n",
        "4. Learn different Pruning techniques in Pytorch and how to use them\n",
        "5. Apply different Pruning techniques on the trained model\n",
        "6. Compare metrics of the different pruned models"
      ]
    },
    {
      "cell_type": "code",
      "source": [
        "!wget https://optimization-thinkautonomous.s3.eu-west-3.amazonaws.com/modelPruning_content.zip && unzip -q modelPruning_content.zip && mv modelPruning_content/* ./ && rm modelPruning_content.zip && rm -rf modelPruning_content/"
      ],
      "metadata": {
        "colab": {
          "base_uri": "https://localhost:8080/"
        },
        "id": "m2b9ASYCXDJB",
        "outputId": "6a7f66d2-5162-4b48-c36c-487b43d8a8e5"
      },
      "execution_count": null,
      "outputs": [
        {
          "output_type": "stream",
          "name": "stdout",
          "text": [
            "--2022-01-26 12:29:20--  https://optimization-thinkautonomous.s3.eu-west-3.amazonaws.com/modelPruning_content.zip\n",
            "Resolving optimization-thinkautonomous.s3.eu-west-3.amazonaws.com (optimization-thinkautonomous.s3.eu-west-3.amazonaws.com)... 52.95.156.40\n",
            "Connecting to optimization-thinkautonomous.s3.eu-west-3.amazonaws.com (optimization-thinkautonomous.s3.eu-west-3.amazonaws.com)|52.95.156.40|:443... connected.\n",
            "HTTP request sent, awaiting response... 200 OK\n",
            "Length: 134975 (132K) [application/zip]\n",
            "Saving to: ‘modelPruning_content.zip’\n",
            "\n",
            "modelPruning_conten 100%[===================>] 131.81K   436KB/s    in 0.3s    \n",
            "\n",
            "2022-01-26 12:29:21 (436 KB/s) - ‘modelPruning_content.zip’ saved [134975/134975]\n",
            "\n"
          ]
        }
      ]
    },
    {
      "cell_type": "markdown",
      "source": [
        "### Basic Imports"
      ],
      "metadata": {
        "id": "fF98w4wsUkhs"
      }
    },
    {
      "cell_type": "code",
      "source": [
        "# basic imports\n",
        "import os\n",
        "import random\n",
        "import numpy as np\n",
        "import matplotlib.pyplot as plt\n",
        "from typing import Any, List\n",
        "from sklearn.metrics import accuracy_score\n",
        "import pandas as pd\n",
        "from tqdm import tqdm\n",
        "\n",
        "# DL library imports\n",
        "import torch\n",
        "\n",
        "# torch Dataset required imports\n",
        "from torch.utils.data import DataLoader\n",
        "from torchvision import datasets, transforms\n",
        "from torch.utils.data.sampler import SubsetRandomSampler\n",
        "from torch import nn, optim\n",
        "import torch.nn.functional as F"
      ],
      "metadata": {
        "id": "K2OpaXGMl00E"
      },
      "execution_count": null,
      "outputs": []
    },
    {
      "cell_type": "code",
      "source": [
        "def set_seed(seed : int):\n",
        "    \"\"\"Function to make results reproducible\n",
        "    Args:\n",
        "        seed (int): input seed\n",
        "    \"\"\"\n",
        "    random.seed(seed)\n",
        "    np.random.seed(seed)\n",
        "    os.environ[\"PYTHONHASHSEED\"] = str(seed)\n",
        "    torch.manual_seed(seed)\n",
        "    torch.cuda.manual_seed(seed)\n",
        "    torch.backends.cudnn.deterministic = True\n",
        "\n",
        "set_seed(1)"
      ],
      "metadata": {
        "id": "L3Cjf183UQwW"
      },
      "execution_count": null,
      "outputs": []
    },
    {
      "cell_type": "markdown",
      "metadata": {
        "id": "JJjoKpSLratv"
      },
      "source": [
        "## 1 — FashionMNIST Dataset & DataLoader\n",
        "\n",
        "\n",
        "Here, we're going to use the FashionMNIST dataset for this case study.\n",
        "- Fashion MNIST dataset is Zalando's collection of grayscale images of different apparels and their associated labels for Deep Learning research and development\n",
        "- It consists of 60k train images and 10k test images, each of resolution 28 X 28 pixels\n",
        "- The images contain integer values in range [0-255] and there are 10 labels. eg : 0 = T-shirt/top, 1 = Trouser, 2 = Pullover, 3 = Dress etc\n",
        "- [Zalando FashionMNIST git repo](https://github.com/zalandoresearch/fashion-mnist)"
      ]
    },
    {
      "cell_type": "code",
      "metadata": {
        "id": "gKtJfEkirQLG",
        "colab": {
          "base_uri": "https://localhost:8080/",
          "height": 408,
          "referenced_widgets": [
            "03524a3cc3194e29976d02e8dbfd2e0b",
            "ede054d1d01745aa880686fe50efa1a4",
            "4661e4639bfa4e3297c935c0ef228fd4",
            "858cffc13d804d29b8aa349062da6709",
            "90c738ae46e241ec9e4cdec3f5bba713",
            "8d45c345d89e45a6b4f0a4c8d0dae58d",
            "db618c47ed314280a96865981619906b",
            "ae56231740bc4efda8787ff1c6f45623",
            "b5fafc3084164adaa10a51091cfbe22a",
            "000757dea69d4d879066374f5f06948f",
            "ba3eb0a646ae4ec39d639bd1577fd41e",
            "fc3969de9e864c9cb31db9021046490d",
            "d3feaf8ad38e416cb585ef4259d908ac",
            "e71f75ecd99d410bb949d4a25712574d",
            "fe0960dbe4f343db9c055a89f805a14a",
            "ad206dc8f50d41b0883bbf1f32500962",
            "e89c726c6d1b46f796e6978fd5140633",
            "0d652d958bad4a8e829fc4edaca30ec5",
            "11f4c21ab2b1410795dc27574272249c",
            "8fc6ca1aa5f643429a602ceaff7c4a08",
            "a9be0085b61248808d0d47267c20ace1",
            "dd6eb4f1360045ad9a55b27816645519",
            "b8bcc8654b7d4d4c8f5991d283a12a95",
            "195bb1fa2539419c99105bb1c3ed088f",
            "eb96aabe0f294d09b22519b6726fdb47",
            "c875eaac4da5422f8f3f5d94355fba5a",
            "99035a1e679f44b8a2b18fa74efd91be",
            "83b21d264bfd4953880d5fb4fb9c02d1",
            "ed1cb94f08324f6abcaaf1a841686e4b",
            "dce7395eed3c499e92075836e297d261",
            "7bd2586d7e564497858846e9ca6873cf",
            "013817af91384c6dac1e9c32556379a9",
            "367961d3207c418f98c1b6bcec6ec437",
            "df2b78fcb3db4d7b9801be516b3df8bb",
            "1d373a7bf77d46b4851eb8a1bfbc9983",
            "730235f4f82a4216a2fba84e1773a284",
            "137a7b6368ac4141841a6b2ca5157906",
            "16a214bf02274061aacbe2d2eedc5d86",
            "d58919f9189e46b8832d3984d0f4bd85",
            "dc8ca3235f7c47ee965e1c88272014db",
            "a8d08f55d2114a2eaa400eed36e15533",
            "2887f8e96a644f7d98d0830e1fea4c03",
            "517455e6a9ae47e7b77df5d0945d0bb8",
            "828663061fe64f5a94973bd53996842a"
          ]
        },
        "outputId": "235ad664-6876-4d7a-e0ff-df32a111889d"
      },
      "source": [
        "datasetLabels = ['TShirt', 'Trouser', 'Pullover', 'Dress', 'Coat', 'Sandal', 'Shirt', 'Sneaker', 'Bag', 'AnkleBoot']\n",
        "\n",
        "# necessary image transform i.e. convert to Tensor, normalize\n",
        "trainTransform = transforms.Compose([transforms.ToTensor(), transforms.Normalize((0.5,), (0.5,)) ])\n",
        "testTransform  = transforms.Compose([transforms.ToTensor(), transforms.Normalize((0.5,), (0.5,)) ])\n",
        "\n",
        "# Download the Train and Test set\n",
        "trainSet = datasets.FashionMNIST('.', train=True, download=True, transform=trainTransform)\n",
        "testSet = datasets.FashionMNIST('.', train=False, download=True, transform=testTransform)"
      ],
      "execution_count": null,
      "outputs": [
        {
          "output_type": "stream",
          "name": "stdout",
          "text": [
            "Downloading http://fashion-mnist.s3-website.eu-central-1.amazonaws.com/train-images-idx3-ubyte.gz\n",
            "Downloading http://fashion-mnist.s3-website.eu-central-1.amazonaws.com/train-images-idx3-ubyte.gz to ./FashionMNIST/raw/train-images-idx3-ubyte.gz\n"
          ]
        },
        {
          "output_type": "display_data",
          "data": {
            "application/vnd.jupyter.widget-view+json": {
              "model_id": "03524a3cc3194e29976d02e8dbfd2e0b",
              "version_minor": 0,
              "version_major": 2
            },
            "text/plain": [
              "  0%|          | 0/26421880 [00:00<?, ?it/s]"
            ]
          },
          "metadata": {}
        },
        {
          "output_type": "stream",
          "name": "stdout",
          "text": [
            "Extracting ./FashionMNIST/raw/train-images-idx3-ubyte.gz to ./FashionMNIST/raw\n",
            "\n",
            "Downloading http://fashion-mnist.s3-website.eu-central-1.amazonaws.com/train-labels-idx1-ubyte.gz\n",
            "Downloading http://fashion-mnist.s3-website.eu-central-1.amazonaws.com/train-labels-idx1-ubyte.gz to ./FashionMNIST/raw/train-labels-idx1-ubyte.gz\n"
          ]
        },
        {
          "output_type": "display_data",
          "data": {
            "application/vnd.jupyter.widget-view+json": {
              "model_id": "fc3969de9e864c9cb31db9021046490d",
              "version_minor": 0,
              "version_major": 2
            },
            "text/plain": [
              "  0%|          | 0/29515 [00:00<?, ?it/s]"
            ]
          },
          "metadata": {}
        },
        {
          "output_type": "stream",
          "name": "stdout",
          "text": [
            "Extracting ./FashionMNIST/raw/train-labels-idx1-ubyte.gz to ./FashionMNIST/raw\n",
            "\n",
            "Downloading http://fashion-mnist.s3-website.eu-central-1.amazonaws.com/t10k-images-idx3-ubyte.gz\n",
            "Downloading http://fashion-mnist.s3-website.eu-central-1.amazonaws.com/t10k-images-idx3-ubyte.gz to ./FashionMNIST/raw/t10k-images-idx3-ubyte.gz\n"
          ]
        },
        {
          "output_type": "display_data",
          "data": {
            "application/vnd.jupyter.widget-view+json": {
              "model_id": "b8bcc8654b7d4d4c8f5991d283a12a95",
              "version_minor": 0,
              "version_major": 2
            },
            "text/plain": [
              "  0%|          | 0/4422102 [00:00<?, ?it/s]"
            ]
          },
          "metadata": {}
        },
        {
          "output_type": "stream",
          "name": "stdout",
          "text": [
            "Extracting ./FashionMNIST/raw/t10k-images-idx3-ubyte.gz to ./FashionMNIST/raw\n",
            "\n",
            "Downloading http://fashion-mnist.s3-website.eu-central-1.amazonaws.com/t10k-labels-idx1-ubyte.gz\n",
            "Downloading http://fashion-mnist.s3-website.eu-central-1.amazonaws.com/t10k-labels-idx1-ubyte.gz to ./FashionMNIST/raw/t10k-labels-idx1-ubyte.gz\n"
          ]
        },
        {
          "output_type": "display_data",
          "data": {
            "application/vnd.jupyter.widget-view+json": {
              "model_id": "df2b78fcb3db4d7b9801be516b3df8bb",
              "version_minor": 0,
              "version_major": 2
            },
            "text/plain": [
              "  0%|          | 0/5148 [00:00<?, ?it/s]"
            ]
          },
          "metadata": {}
        },
        {
          "output_type": "stream",
          "name": "stdout",
          "text": [
            "Extracting ./FashionMNIST/raw/t10k-labels-idx1-ubyte.gz to ./FashionMNIST/raw\n",
            "\n"
          ]
        }
      ]
    },
    {
      "cell_type": "code",
      "metadata": {
        "id": "-M3AAtqmrpt8"
      },
      "source": [
        "NUM_WORKERS = 1 \n",
        "TEST_BATCH_SIZE  = 64\n",
        "TRAIN_BATCH_SIZE = 16\n",
        "VALID_SIZE = 0.2 "
      ],
      "execution_count": null,
      "outputs": []
    },
    {
      "cell_type": "code",
      "source": [
        "lenTrainSet = len(trainSet)\n",
        "indexList = list(range(lenTrainSet))\n",
        "np.random.shuffle(indexList)\n",
        "splitIndex = int(lenTrainSet * VALID_SIZE)\n",
        "trainIndices, validIndices = indexList[splitIndex:], indexList[:splitIndex]"
      ],
      "metadata": {
        "id": "6LjM75BpnIXt"
      },
      "execution_count": null,
      "outputs": []
    },
    {
      "cell_type": "code",
      "metadata": {
        "id": "p8eoLuPUriUy"
      },
      "source": [
        "trainSampler = SubsetRandomSampler(trainIndices)\n",
        "validSampler = SubsetRandomSampler(validIndices)\n",
        "\n",
        "trainLoader = DataLoader(trainSet, batch_size=TRAIN_BATCH_SIZE, sampler=trainSampler, num_workers=NUM_WORKERS)\n",
        "validLoader = DataLoader(trainSet, batch_size=TEST_BATCH_SIZE,  sampler=validSampler, num_workers=NUM_WORKERS)\n",
        "testLoader  = DataLoader(testSet,  batch_size=TEST_BATCH_SIZE,  shuffle=True,num_workers=NUM_WORKERS)"
      ],
      "execution_count": null,
      "outputs": []
    },
    {
      "cell_type": "code",
      "metadata": {
        "colab": {
          "base_uri": "https://localhost:8080/",
          "height": 281
        },
        "id": "Dux6sdHjr9pH",
        "outputId": "1c103f75-d808-4519-cfff-8be60e3d62e0"
      },
      "source": [
        "# View sample from dataset\n",
        "img, label = next(iter(trainLoader))\n",
        "plt.imshow(img[0].numpy().squeeze(), cmap = 'Greys_r')\n",
        "plt.title(f'{datasetLabels[label[0].item()]}')\n",
        "plt.show()"
      ],
      "execution_count": null,
      "outputs": [
        {
          "output_type": "display_data",
          "data": {
            "image/png": "[encoded data removed]",
            "text/plain": [
              "<Figure size 432x288 with 1 Axes>"
            ]
          },
          "metadata": {
            "needs_background": "light"
          }
        }
      ]
    },
    {
      "cell_type": "markdown",
      "metadata": {
        "id": "SqJJerJuPvL9",
        "execution": {
          "iopub.status.busy": "2021-09-28T01:43:44.278299Z",
          "iopub.execute_input": "2021-09-28T01:43:44.278753Z",
          "iopub.status.idle": "2021-09-28T01:43:44.293447Z",
          "shell.execute_reply.started": "2021-09-28T01:43:44.278691Z",
          "shell.execute_reply": "2021-09-28T01:43:44.292329Z"
        }
      },
      "source": [
        "## 2 — Define a custom MLP Classifier Model and calculate Inference metrics\n",
        "\n",
        "- We'll use a simple feed forward model that takes in flattened image vector (28x28=784) and outputs probabilities for each of 10 classes.\n",
        "- In Pytorch, we can create the Neural Network model by defining a custom class (inherits from [nn.Module](https://pytorch.org/docs/stable/generated/torch.nn.Module.html)).\n",
        "- The `forward` function in the class defines the forward pass of the network."
      ]
    },
    {
      "cell_type": "code",
      "metadata": {
        "id": "EMTr3uuYSC7Q",
        "execution": {
          "iopub.status.busy": "2021-10-04T00:18:22.767828Z",
          "iopub.execute_input": "2021-10-04T00:18:22.768660Z",
          "iopub.status.idle": "2021-10-04T00:18:22.777640Z",
          "shell.execute_reply.started": "2021-10-04T00:18:22.768624Z",
          "shell.execute_reply": "2021-10-04T00:18:22.776910Z"
        },
        "trusted": true
      },
      "source": [
        "class MLPClassifier(nn.Module):\n",
        "    def __init__(self):\n",
        "        super().__init__()\n",
        "        self.fc1 = nn.Linear(784, 128, bias=True)\n",
        "        self.fc2 = nn.Linear(128, 64, bias=True)\n",
        "        self.fc3 = nn.Linear(64, 32, bias=True)\n",
        "        self.fc4 = nn.Linear(32, 10, bias=True)\n",
        "\n",
        "    def forward(self, x):\n",
        "        x = x.view(x.shape[0], -1)\n",
        "        x = F.relu(self.fc1(x))\n",
        "        x = F.relu(self.fc2(x))\n",
        "        x = F.relu(self.fc3(x))\n",
        "        x = self.fc4(x)\n",
        "        return x"
      ],
      "execution_count": null,
      "outputs": []
    },
    {
      "cell_type": "code",
      "source": [
        "from IPython.core.display import SVG, display\n",
        "display(SVG(filename='images/MLP_classifier_FashionMNIST.svg'))"
      ],
      "metadata": {
        "colab": {
          "base_uri": "https://localhost:8080/",
          "height": 390
        },
        "id": "qNSPS80a8S8O",
        "outputId": "5285af44-c772-4373-839f-c66ff12a08e8"
      },
      "execution_count": null,
      "outputs": [
        {
          "output_type": "display_data",
          "data": {
            "text/plain": [
              "<IPython.core.display.SVG object>"
            ],
            "image/svg+xml": "<svg class=\"canvas\" height=\"55\" id=\"export\" preserveAspectRatio=\"xMidYMid meet\" style=\"position: static; margin: auto; width: 1568px; height: 350px;\" viewBox=\"0 0 1120 250\" width=\"925\" xmlns=\"http://www.w3.org/2000/svg\"><rect fill=\"#fff\" height=\"55\" id=\"background\" pointer-events=\"all\" width=\"925\"/><g id=\"origin\" transform=\"translate(2.5, 2.5) scale(1)\"><g class=\"clusters\" id=\"clusters\"/><g class=\"edge-paths\" id=\"edge-paths\"><defs><marker id=\"arrowhead-vee\" markerHeight=\"6\" markerUnits=\"strokeWidth\" markerWidth=\"8\" orient=\"auto\" refX=\"9\" refY=\"5\" style=\"fill: rgb(0, 0, 0);\" viewBox=\"0 0 10 10\"><path d=\"M 0 0 L 10 5 L 0 10 L 4 5 z\" style=\"stroke-width: 1;\"/></marker><marker id=\"arrowhead-vee-select\" markerHeight=\"6\" markerUnits=\"strokeWidth\" markerWidth=\"8\" orient=\"auto\" refX=\"9\" refY=\"5\" style=\"fill: rgb(238, 0, 0);\" viewBox=\"0 0 10 10\"><path d=\"M 0 0 L 10 5 L 0 10 L 4 5 z\" style=\"stroke-width: 1;\"/></marker></defs><path class=\"edge-path\" d=\"M94.640625,25L96.30729166666667,25C97.97395833333333,25,101.30729166666667,25,107.9609375,25C114.61458333333333,25,124.58854166666667,25,134.5625,25C144.53645833333334,25,154.51041666666666,25,161.1640625,25C167.81770833333334,25,171.15104166666666,25,172.81770833333334,25L174.484375,25\" id=\"edge-Grayscale image\" style=\"stroke: rgb(0, 0, 0); stroke-width: 1px; fill: none; marker-end: url(&quot;#arrowhead-vee&quot;);\"/><path class=\"edge-path\" d=\"M249.484375,25L251.15104166666666,25C252.81770833333334,25,256.1510416666667,25,259.484375,25C262.8177083333333,25,266.1510416666667,25,267.8177083333333,25L269.484375,25\" id=\"edge-14\" style=\"stroke: rgb(0, 0, 0); stroke-width: 1px; fill: none; marker-end: url(&quot;#arrowhead-vee&quot;);\"/><path class=\"edge-path\" d=\"M344.484375,25L346.1510416666667,25C347.8177083333333,25,351.1510416666667,25,354.484375,25C357.8177083333333,25,361.1510416666667,25,362.8177083333333,25L364.484375,25\" id=\"edge-15\" style=\"stroke: rgb(0, 0, 0); stroke-width: 1px; fill: none; marker-end: url(&quot;#arrowhead-vee&quot;);\"/><path class=\"edge-path\" d=\"M400.875,25L402.5416666666667,25C404.2083333333333,25,407.5416666666667,25,410.875,25C414.2083333333333,25,417.5416666666667,25,419.2083333333333,25L420.875,25\" id=\"edge-16\" style=\"stroke: rgb(0, 0, 0); stroke-width: 1px; fill: none; marker-end: url(&quot;#arrowhead-vee&quot;);\"/><path class=\"edge-path\" d=\"M495.875,25L497.5416666666667,25C499.2083333333333,25,502.5416666666667,25,505.875,25C509.2083333333333,25,512.5416666666666,25,514.2083333333334,25L515.875,25\" id=\"edge-17\" style=\"stroke: rgb(0, 0, 0); stroke-width: 1px; fill: none; marker-end: url(&quot;#arrowhead-vee&quot;);\"/><path class=\"edge-path\" d=\"M552.265625,25L553.9322916666666,25C555.5989583333334,25,558.9322916666666,25,562.265625,25C565.5989583333334,25,568.9322916666666,25,570.5989583333334,25L572.265625,25\" id=\"edge-18\" style=\"stroke: rgb(0, 0, 0); stroke-width: 1px; fill: none; marker-end: url(&quot;#arrowhead-vee&quot;);\"/><path class=\"edge-path\" d=\"M647.265625,25L648.9322916666666,25C650.5989583333334,25,653.9322916666666,25,657.265625,25C660.5989583333334,25,663.9322916666666,25,665.5989583333334,25L667.265625,25\" id=\"edge-19\" style=\"stroke: rgb(0, 0, 0); stroke-width: 1px; fill: none; marker-end: url(&quot;#arrowhead-vee&quot;);\"/><path class=\"edge-path\" d=\"M703.65625,25L705.3229166666666,25C706.9895833333334,25,710.3229166666666,25,713.65625,25C716.9895833333334,25,720.3229166666666,25,721.9895833333334,25L723.65625,25\" id=\"edge-20\" style=\"stroke: rgb(0, 0, 0); stroke-width: 1px; fill: none; marker-end: url(&quot;#arrowhead-vee&quot;);\"/><path class=\"edge-path\" d=\"M798.65625,25L802.2330729166666,25C805.8098958333334,25,812.9635416666666,25,820.1171875,25C827.2708333333334,25,834.4244791666666,25,838.0013020833334,25L841.578125,25\" id=\"edge-Output label\" style=\"stroke: rgb(0, 0, 0); stroke-width: 1px; fill: none; marker-end: url(&quot;#arrowhead-vee&quot;);\"/></g><g class=\"edge-labels\" id=\"edge-labels\"><g class=\"edge-label\" id=\"edge-label-edge-Grayscale image\" style=\"opacity: 1;\" transform=\"translate(134.5625,40.5)\"><g transform=\"translate(-19.921875,-5.5)\"><text style=\"font-family: -apple-system, BlinkMacSystemFont, &quot;Segoe WPC&quot;, &quot;Segoe UI&quot;, Ubuntu, &quot;Droid Sans&quot;, sans-serif, &quot;PingFang SC&quot;; font-size: 10px;\"><tspan dy=\"1em\" x=\"1\" xml:space=\"preserve\">1×28×28</tspan></text></g></g><g class=\"edge-label\" id=\"edge-label-edge-Output label\" style=\"opacity: 1;\" transform=\"translate(820.1171875,40.5)\"><g transform=\"translate(-11.4609375,-5.5)\"><text style=\"font-family: -apple-system, BlinkMacSystemFont, &quot;Segoe WPC&quot;, &quot;Segoe UI&quot;, Ubuntu, &quot;Droid Sans&quot;, sans-serif, &quot;PingFang SC&quot;; font-size: 10px;\"><tspan dy=\"1em\" x=\"1\" xml:space=\"preserve\">1×10</tspan></text></g></g></g><g class=\"nodes\" id=\"nodes\"><g class=\"node graph-node\" id=\"node-name-Reshape_0\" style=\"opacity: 1;\" transform=\"translate(211.984375,25)\"><g transform=\"translate(-37.5,-19)\"><g class=\"node-item node-item-type node-item-type-shape\" transform=\"translate(0,0)\"><path d=\"M5,0h65a5,5 0 0 1 5,5v15a0,0 0 0 1 0,0h-75a0,0 0 0 1 0,0v-15a5,5 0 0 1 5,-5z\" style=\"stroke: rgb(0, 0, 0); fill: rgb(108, 79, 71); stroke-width: 0;\"/><text style=\"font-family: -apple-system, BlinkMacSystemFont, &quot;Segoe WPC&quot;, &quot;Segoe UI&quot;, Ubuntu, &quot;Droid Sans&quot;, sans-serif, &quot;PingFang SC&quot;; font-size: 11px; text-rendering: geometricprecision; fill: rgb(255, 255, 255);\" x=\"6\" y=\"14\">Reshape</text><title>Reshape_0</title></g><g class=\"node-attribute\" transform=\"translate(0,20)\"><path d=\"M0,0h75a0,0 0 0 1 0,0v13a5,5 0 0 1 -5,5h-65a5,5 0 0 1 -5,-5v-13a0,0 0 0 1 0,0z\" style=\"stroke: rgb(0, 0, 0); fill: rgb(255, 255, 255); stroke-width: 0;\"/><text id=\"initializer-24\" style=\"font-family: -apple-system, BlinkMacSystemFont, &quot;Segoe WPC&quot;, &quot;Segoe UI&quot;, Ubuntu, &quot;Droid Sans&quot;, sans-serif, &quot;PingFang SC&quot;; font-size: 9px; font-weight: normal; text-rendering: geometricprecision;\" x=\"6\" xml:space=\"preserve\" y=\"12\"><title>int64[2]</title><tspan style=\"font-weight: bold;\">shape</tspan><tspan>〈2〉</tspan></text><line class=\"node\" style=\"stroke: rgb(51, 51, 51); fill: none; stroke-width: 1px;\" x1=\"0\" x2=\"75\" y1=\"0\" y2=\"0\"/></g><path class=\"node border\" d=\"M5,0h65a5,5 0 0 1 5,5v28a5,5 0 0 1 -5,5h-65a5,5 0 0 1 -5,-5v-28a5,5 0 0 1 5,-5z\" style=\"stroke: rgb(51, 51, 51); fill: none; stroke-width: 1px;\"/></g></g><g class=\"node graph-node\" id=\"node-name-Gemm_1\" style=\"opacity: 1;\" transform=\"translate(306.984375,25)\"><g transform=\"translate(-37.5,-25)\"><g class=\"node-item node-item-type node-item-type-layer\" transform=\"translate(0,0)\"><path d=\"M5,0h65a5,5 0 0 1 5,5v15a0,0 0 0 1 0,0h-75a0,0 0 0 1 0,0v-15a5,5 0 0 1 5,-5z\" style=\"stroke: rgb(0, 0, 0); fill: rgb(51, 85, 136); stroke-width: 0;\"/><text style=\"font-family: -apple-system, BlinkMacSystemFont, &quot;Segoe WPC&quot;, &quot;Segoe UI&quot;, Ubuntu, &quot;Droid Sans&quot;, sans-serif, &quot;PingFang SC&quot;; font-size: 11px; text-rendering: geometricprecision; fill: rgb(255, 255, 255);\" x=\"6\" y=\"14\">Gemm</text><title>Gemm_1</title></g><g class=\"node-attribute\" transform=\"translate(0,20)\"><path d=\"M0,0h75a0,0 0 0 1 0,0v25a5,5 0 0 1 -5,5h-65a5,5 0 0 1 -5,-5v-25a0,0 0 0 1 0,0z\" style=\"stroke: rgb(0, 0, 0); fill: rgb(255, 255, 255); stroke-width: 0;\"/><text id=\"initializer-fc1.weight\" style=\"font-family: -apple-system, BlinkMacSystemFont, &quot;Segoe WPC&quot;, &quot;Segoe UI&quot;, Ubuntu, &quot;Droid Sans&quot;, sans-serif, &quot;PingFang SC&quot;; font-size: 9px; font-weight: normal; text-rendering: geometricprecision;\" x=\"6\" xml:space=\"preserve\" y=\"12\"><title>float32[128,784]</title><tspan style=\"font-weight: bold;\">B</tspan><tspan>〈128×784〉</tspan></text><text id=\"initializer-fc1.bias\" style=\"font-family: -apple-system, BlinkMacSystemFont, &quot;Segoe WPC&quot;, &quot;Segoe UI&quot;, Ubuntu, &quot;Droid Sans&quot;, sans-serif, &quot;PingFang SC&quot;; font-size: 9px; font-weight: normal; text-rendering: geometricprecision;\" x=\"6\" xml:space=\"preserve\" y=\"24\"><title>float32[128]</title><tspan style=\"font-weight: bold;\">C</tspan><tspan>〈128〉</tspan></text><line class=\"node\" style=\"stroke: rgb(51, 51, 51); fill: none; stroke-width: 1px;\" x1=\"0\" x2=\"75\" y1=\"0\" y2=\"0\"/></g><path class=\"node border\" d=\"M5,0h65a5,5 0 0 1 5,5v40a5,5 0 0 1 -5,5h-65a5,5 0 0 1 -5,-5v-40a5,5 0 0 1 5,-5z\" style=\"stroke: rgb(51, 51, 51); fill: none; stroke-width: 1px;\"/></g></g><g class=\"node graph-node\" id=\"node-name-Relu_2\" style=\"opacity: 1;\" transform=\"translate(382.6796875,25)\"><g transform=\"translate(-18.1953125,-10)\"><g class=\"node-item node-item-type node-item-type-activation\" transform=\"translate(0,0)\"><path d=\"M5,0h26.390625a5,5 0 0 1 5,5v10a5,5 0 0 1 -5,5h-26.390625a5,5 0 0 1 -5,-5v-10a5,5 0 0 1 5,-5z\" style=\"stroke: rgb(0, 0, 0); fill: rgb(112, 41, 33); stroke-width: 0;\"/><text style=\"font-family: -apple-system, BlinkMacSystemFont, &quot;Segoe WPC&quot;, &quot;Segoe UI&quot;, Ubuntu, &quot;Droid Sans&quot;, sans-serif, &quot;PingFang SC&quot;; font-size: 11px; text-rendering: geometricprecision; fill: rgb(255, 255, 255);\" x=\"6\" y=\"14\">Relu</text><title>Relu_2</title></g><path class=\"node border\" d=\"M5,0h26.390625a5,5 0 0 1 5,5v10a5,5 0 0 1 -5,5h-26.390625a5,5 0 0 1 -5,-5v-10a5,5 0 0 1 5,-5z\" style=\"stroke: rgb(51, 51, 51); fill: none; stroke-width: 1px;\"/></g></g><g class=\"node graph-node\" id=\"node-name-Gemm_3\" style=\"opacity: 1;\" transform=\"translate(458.375,25)\"><g transform=\"translate(-37.5,-25)\"><g class=\"node-item node-item-type node-item-type-layer\" transform=\"translate(0,0)\"><path d=\"M5,0h65a5,5 0 0 1 5,5v15a0,0 0 0 1 0,0h-75a0,0 0 0 1 0,0v-15a5,5 0 0 1 5,-5z\" style=\"stroke: rgb(0, 0, 0); fill: rgb(51, 85, 136); stroke-width: 0;\"/><text style=\"font-family: -apple-system, BlinkMacSystemFont, &quot;Segoe WPC&quot;, &quot;Segoe UI&quot;, Ubuntu, &quot;Droid Sans&quot;, sans-serif, &quot;PingFang SC&quot;; font-size: 11px; text-rendering: geometricprecision; fill: rgb(255, 255, 255);\" x=\"6\" y=\"14\">Gemm</text><title>Gemm_3</title></g><g class=\"node-attribute\" transform=\"translate(0,20)\"><path d=\"M0,0h75a0,0 0 0 1 0,0v25a5,5 0 0 1 -5,5h-65a5,5 0 0 1 -5,-5v-25a0,0 0 0 1 0,0z\" style=\"stroke: rgb(0, 0, 0); fill: rgb(255, 255, 255); stroke-width: 0;\"/><text id=\"initializer-fc2.weight\" style=\"font-family: -apple-system, BlinkMacSystemFont, &quot;Segoe WPC&quot;, &quot;Segoe UI&quot;, Ubuntu, &quot;Droid Sans&quot;, sans-serif, &quot;PingFang SC&quot;; font-size: 9px; font-weight: normal; text-rendering: geometricprecision;\" x=\"6\" xml:space=\"preserve\" y=\"12\"><title>float32[64,128]</title><tspan style=\"font-weight: bold;\">B</tspan><tspan>〈64×128〉</tspan></text><text id=\"initializer-fc2.bias\" style=\"font-family: -apple-system, BlinkMacSystemFont, &quot;Segoe WPC&quot;, &quot;Segoe UI&quot;, Ubuntu, &quot;Droid Sans&quot;, sans-serif, &quot;PingFang SC&quot;; font-size: 9px; font-weight: normal; text-rendering: geometricprecision;\" x=\"6\" xml:space=\"preserve\" y=\"24\"><title>float32[64]</title><tspan style=\"font-weight: bold;\">C</tspan><tspan>〈64〉</tspan></text><line class=\"node\" style=\"stroke: rgb(51, 51, 51); fill: none; stroke-width: 1px;\" x1=\"0\" x2=\"75\" y1=\"0\" y2=\"0\"/></g><path class=\"node border\" d=\"M5,0h65a5,5 0 0 1 5,5v40a5,5 0 0 1 -5,5h-65a5,5 0 0 1 -5,-5v-40a5,5 0 0 1 5,-5z\" style=\"stroke: rgb(51, 51, 51); fill: none; stroke-width: 1px;\"/></g></g><g class=\"node graph-node\" id=\"node-name-Relu_4\" style=\"opacity: 1;\" transform=\"translate(534.0703125,25)\"><g transform=\"translate(-18.1953125,-10)\"><g class=\"node-item node-item-type node-item-type-activation\" transform=\"translate(0,0)\"><path d=\"M5,0h26.390625a5,5 0 0 1 5,5v10a5,5 0 0 1 -5,5h-26.390625a5,5 0 0 1 -5,-5v-10a5,5 0 0 1 5,-5z\" style=\"stroke: rgb(0, 0, 0); fill: rgb(112, 41, 33); stroke-width: 0;\"/><text style=\"font-family: -apple-system, BlinkMacSystemFont, &quot;Segoe WPC&quot;, &quot;Segoe UI&quot;, Ubuntu, &quot;Droid Sans&quot;, sans-serif, &quot;PingFang SC&quot;; font-size: 11px; text-rendering: geometricprecision; fill: rgb(255, 255, 255);\" x=\"6\" y=\"14\">Relu</text><title>Relu_4</title></g><path class=\"node border\" d=\"M5,0h26.390625a5,5 0 0 1 5,5v10a5,5 0 0 1 -5,5h-26.390625a5,5 0 0 1 -5,-5v-10a5,5 0 0 1 5,-5z\" style=\"stroke: rgb(51, 51, 51); fill: none; stroke-width: 1px;\"/></g></g><g class=\"node graph-node\" id=\"node-name-Gemm_5\" style=\"opacity: 1;\" transform=\"translate(609.765625,25)\"><g transform=\"translate(-37.5,-25)\"><g class=\"node-item node-item-type node-item-type-layer\" transform=\"translate(0,0)\"><path d=\"M5,0h65a5,5 0 0 1 5,5v15a0,0 0 0 1 0,0h-75a0,0 0 0 1 0,0v-15a5,5 0 0 1 5,-5z\" style=\"stroke: rgb(0, 0, 0); fill: rgb(51, 85, 136); stroke-width: 0;\"/><text style=\"font-family: -apple-system, BlinkMacSystemFont, &quot;Segoe WPC&quot;, &quot;Segoe UI&quot;, Ubuntu, &quot;Droid Sans&quot;, sans-serif, &quot;PingFang SC&quot;; font-size: 11px; text-rendering: geometricprecision; fill: rgb(255, 255, 255);\" x=\"6\" y=\"14\">Gemm</text><title>Gemm_5</title></g><g class=\"node-attribute\" transform=\"translate(0,20)\"><path d=\"M0,0h75a0,0 0 0 1 0,0v25a5,5 0 0 1 -5,5h-65a5,5 0 0 1 -5,-5v-25a0,0 0 0 1 0,0z\" style=\"stroke: rgb(0, 0, 0); fill: rgb(255, 255, 255); stroke-width: 0;\"/><text id=\"initializer-fc3.weight\" style=\"font-family: -apple-system, BlinkMacSystemFont, &quot;Segoe WPC&quot;, &quot;Segoe UI&quot;, Ubuntu, &quot;Droid Sans&quot;, sans-serif, &quot;PingFang SC&quot;; font-size: 9px; font-weight: normal; text-rendering: geometricprecision;\" x=\"6\" xml:space=\"preserve\" y=\"12\"><title>float32[32,64]</title><tspan style=\"font-weight: bold;\">B</tspan><tspan>〈32×64〉</tspan></text><text id=\"initializer-fc3.bias\" style=\"font-family: -apple-system, BlinkMacSystemFont, &quot;Segoe WPC&quot;, &quot;Segoe UI&quot;, Ubuntu, &quot;Droid Sans&quot;, sans-serif, &quot;PingFang SC&quot;; font-size: 9px; font-weight: normal; text-rendering: geometricprecision;\" x=\"6\" xml:space=\"preserve\" y=\"24\"><title>float32[32]</title><tspan style=\"font-weight: bold;\">C</tspan><tspan>〈32〉</tspan></text><line class=\"node\" style=\"stroke: rgb(51, 51, 51); fill: none; stroke-width: 1px;\" x1=\"0\" x2=\"75\" y1=\"0\" y2=\"0\"/></g><path class=\"node border\" d=\"M5,0h65a5,5 0 0 1 5,5v40a5,5 0 0 1 -5,5h-65a5,5 0 0 1 -5,-5v-40a5,5 0 0 1 5,-5z\" style=\"stroke: rgb(51, 51, 51); fill: none; stroke-width: 1px;\"/></g></g><g class=\"node graph-node\" id=\"node-name-Relu_6\" style=\"opacity: 1;\" transform=\"translate(685.4609375,25)\"><g transform=\"translate(-18.1953125,-10)\"><g class=\"node-item node-item-type node-item-type-activation\" transform=\"translate(0,0)\"><path d=\"M5,0h26.390625a5,5 0 0 1 5,5v10a5,5 0 0 1 -5,5h-26.390625a5,5 0 0 1 -5,-5v-10a5,5 0 0 1 5,-5z\" style=\"stroke: rgb(0, 0, 0); fill: rgb(112, 41, 33); stroke-width: 0;\"/><text style=\"font-family: -apple-system, BlinkMacSystemFont, &quot;Segoe WPC&quot;, &quot;Segoe UI&quot;, Ubuntu, &quot;Droid Sans&quot;, sans-serif, &quot;PingFang SC&quot;; font-size: 11px; text-rendering: geometricprecision; fill: rgb(255, 255, 255);\" x=\"6\" y=\"14\">Relu</text><title>Relu_6</title></g><path class=\"node border\" d=\"M5,0h26.390625a5,5 0 0 1 5,5v10a5,5 0 0 1 -5,5h-26.390625a5,5 0 0 1 -5,-5v-10a5,5 0 0 1 5,-5z\" style=\"stroke: rgb(51, 51, 51); fill: none; stroke-width: 1px;\"/></g></g><g class=\"node graph-node\" id=\"node-name-Gemm_7\" style=\"opacity: 1;\" transform=\"translate(761.15625,25)\"><g transform=\"translate(-37.5,-25)\"><g class=\"node-item node-item-type node-item-type-layer\" transform=\"translate(0,0)\"><path d=\"M5,0h65a5,5 0 0 1 5,5v15a0,0 0 0 1 0,0h-75a0,0 0 0 1 0,0v-15a5,5 0 0 1 5,-5z\" style=\"stroke: rgb(0, 0, 0); fill: rgb(51, 85, 136); stroke-width: 0;\"/><text style=\"font-family: -apple-system, BlinkMacSystemFont, &quot;Segoe WPC&quot;, &quot;Segoe UI&quot;, Ubuntu, &quot;Droid Sans&quot;, sans-serif, &quot;PingFang SC&quot;; font-size: 11px; text-rendering: geometricprecision; fill: rgb(255, 255, 255);\" x=\"6\" y=\"14\">Gemm</text><title>Gemm_7</title></g><g class=\"node-attribute\" transform=\"translate(0,20)\"><path d=\"M0,0h75a0,0 0 0 1 0,0v25a5,5 0 0 1 -5,5h-65a5,5 0 0 1 -5,-5v-25a0,0 0 0 1 0,0z\" style=\"stroke: rgb(0, 0, 0); fill: rgb(255, 255, 255); stroke-width: 0;\"/><text id=\"initializer-fc4.weight\" style=\"font-family: -apple-system, BlinkMacSystemFont, &quot;Segoe WPC&quot;, &quot;Segoe UI&quot;, Ubuntu, &quot;Droid Sans&quot;, sans-serif, &quot;PingFang SC&quot;; font-size: 9px; font-weight: normal; text-rendering: geometricprecision;\" x=\"6\" xml:space=\"preserve\" y=\"12\"><title>float32[10,32]</title><tspan style=\"font-weight: bold;\">B</tspan><tspan>〈10×32〉</tspan></text><text id=\"initializer-fc4.bias\" style=\"font-family: -apple-system, BlinkMacSystemFont, &quot;Segoe WPC&quot;, &quot;Segoe UI&quot;, Ubuntu, &quot;Droid Sans&quot;, sans-serif, &quot;PingFang SC&quot;; font-size: 9px; font-weight: normal; text-rendering: geometricprecision;\" x=\"6\" xml:space=\"preserve\" y=\"24\"><title>float32[10]</title><tspan style=\"font-weight: bold;\">C</tspan><tspan>〈10〉</tspan></text><line class=\"node\" style=\"stroke: rgb(51, 51, 51); fill: none; stroke-width: 1px;\" x1=\"0\" x2=\"75\" y1=\"0\" y2=\"0\"/></g><path class=\"node border\" d=\"M5,0h65a5,5 0 0 1 5,5v40a5,5 0 0 1 -5,5h-65a5,5 0 0 1 -5,-5v-40a5,5 0 0 1 5,-5z\" style=\"stroke: rgb(51, 51, 51); fill: none; stroke-width: 1px;\"/></g></g><g class=\"node graph-input\" id=\"input-name-Grayscale image\" style=\"opacity: 1;\" transform=\"translate(47.3203125,25)\"><g transform=\"translate(-47.3203125,-10)\"><g class=\"node-item graph-item-input\" transform=\"translate(0,0)\"><path d=\"M5,0h84.640625a5,5 0 0 1 5,5v10a5,5 0 0 1 -5,5h-84.640625a5,5 0 0 1 -5,-5v-10a5,5 0 0 1 5,-5z\" style=\"stroke: rgb(0, 0, 0); fill: rgb(238, 238, 238); stroke-width: 0;\"/><text style=\"font-family: -apple-system, BlinkMacSystemFont, &quot;Segoe WPC&quot;, &quot;Segoe UI&quot;, Ubuntu, &quot;Droid Sans&quot;, sans-serif, &quot;PingFang SC&quot;; font-size: 11px; text-rendering: geometricprecision;\" x=\"6\" y=\"14\">Grayscale image</text><title>float32[1,28,28]</title></g><path class=\"node border\" d=\"M5,0h84.640625a5,5 0 0 1 5,5v10a5,5 0 0 1 -5,5h-84.640625a5,5 0 0 1 -5,-5v-10a5,5 0 0 1 5,-5z\" style=\"stroke: rgb(51, 51, 51); fill: none; stroke-width: 1px;\"/></g></g><g class=\"node\" style=\"opacity: 1;\" transform=\"translate(880.296875,25)\"><g transform=\"translate(-38.71875,-10)\"><g class=\"node-item graph-item-output\" transform=\"translate(0,0)\"><path d=\"M5,0h67.4375a5,5 0 0 1 5,5v10a5,5 0 0 1 -5,5h-67.4375a5,5 0 0 1 -5,-5v-10a5,5 0 0 1 5,-5z\" style=\"stroke: rgb(0, 0, 0); fill: rgb(238, 238, 238); stroke-width: 0;\"/><text style=\"font-family: -apple-system, BlinkMacSystemFont, &quot;Segoe WPC&quot;, &quot;Segoe UI&quot;, Ubuntu, &quot;Droid Sans&quot;, sans-serif, &quot;PingFang SC&quot;; font-size: 11px; text-rendering: geometricprecision;\" x=\"6\" y=\"14\">Output label</text><title>float32[1,10]</title></g><path class=\"node border\" d=\"M5,0h67.4375a5,5 0 0 1 5,5v10a5,5 0 0 1 -5,5h-67.4375a5,5 0 0 1 -5,-5v-10a5,5 0 0 1 5,-5z\" style=\"stroke: rgb(51, 51, 51); fill: none; stroke-width: 1px;\"/></g></g></g></g></svg>"
          },
          "metadata": {}
        }
      ]
    },
    {
      "cell_type": "markdown",
      "metadata": {
        "id": "ENSTEeJw3QCs"
      },
      "source": [
        "#### Print the Model Metrics\n",
        "\n",
        "We'll use the functions used in the `metrics` notebook to print inference parameters of our custom model "
      ]
    },
    {
      "cell_type": "code",
      "source": [
        "# Load the Model\n",
        "device = torch.device(\"cuda\" if torch.cuda.is_available() else \"cpu\")\n",
        "model = MLPClassifier().to(device)"
      ],
      "metadata": {
        "id": "nMno4EVdwYGr"
      },
      "execution_count": null,
      "outputs": []
    },
    {
      "cell_type": "code",
      "source": [
        "from scripts.modelMetrics import computeInferenceTime, getModelFileSize, profile, getModelSize\n",
        "\n",
        "def print_model_metrics(model, input):\n",
        "  print(\"-------------------\")\n",
        "  print(\"Model Size: \", str(round(getModelSize(model),3)),\"Mb\")\n",
        "  print(\"File Size: \", str(round(getModelFileSize(model),3)),\"Mb\")\n",
        "  print(\"Inference Time: \",str(round(computeInferenceTime(model,randomInput, device),5)),\"s\")\n",
        "  macs, params = profile(model, inputs=(randomInput,), verbose=False)\n",
        "  flops = 2 * macs\n",
        "  print(\"Mega FLOPS: \", str(flops * 1e-6))\n",
        "  print(\"Mega MACs: \", str(macs * 1e-6))\n",
        "  print(\"Mega Params: \", str(params * 1e-6))\n",
        "\n",
        "\n",
        "randomInput = torch.rand(2, 28, 28).to(device)\n",
        "print_model_metrics(model, randomInput)"
      ],
      "metadata": {
        "colab": {
          "base_uri": "https://localhost:8080/"
        },
        "id": "d4VnR1yAXWSO",
        "outputId": "44599ea8-170b-4da7-e9fa-305cfdf7f1a9"
      },
      "execution_count": null,
      "outputs": [
        {
          "output_type": "stream",
          "name": "stdout",
          "text": [
            "-------------------\n",
            "Model Size:  0.424 Mb\n",
            "File Size:  0.447 Mb\n",
            "Inference Time:  0.00059 s\n",
            "Mega FLOPS:  0.443648\n",
            "Mega MACs:  0.221824\n",
            "Mega Params:  0.111146\n"
          ]
        }
      ]
    },
    {
      "cell_type": "markdown",
      "metadata": {
        "id": "C3pnqXz8KpEn"
      },
      "source": [
        "#### Print the Model Sparsity\n",
        "\n",
        "- Model sparsity refers to the ratio of parameters with zero weights to the total number of parameters. \n",
        "- Eg : If a linear layer with 100 neurons and 25 of the neurons have been pruned (effectively set to zero) then the sparsity of the layer is 25%.\n",
        "- Sparsity can be calculated for each layers and for the entire model as well (referred to as Global sparsity)\n"
      ]
    },
    {
      "cell_type": "code",
      "metadata": {
        "colab": {
          "base_uri": "https://localhost:8080/"
        },
        "id": "Xv9V_gxdyB27",
        "outputId": "1a660572-0637-4686-e409-ef355ab9eab1"
      },
      "source": [
        "def get_model_sparsity(model : nn.Module):\n",
        "    \"\"\"Function prints sparsity of the model - the percentage of weights with 0.0 in each layer of the model\n",
        "    Args:\n",
        "        model (nn.Module): input model\n",
        "    \"\"\"    \n",
        "    print(\"Sparsity Information\")    \n",
        "    print(\"------------------------\")\n",
        "    totalElements = 0\n",
        "    totalZeroElements = 0\n",
        "    for name, module in model.named_children():\n",
        "        #print(module.weight)\n",
        "        numElementsInLayer = float(module.weight.nelement())\n",
        "        numZeroElementsInLayer = float(torch.sum(module.weight == 0))\n",
        "        layerWeightSparsity = 100.0 * (numZeroElementsInLayer/ numElementsInLayer)\n",
        "        print(f\"Sparsity in {name}.weight: {layerWeightSparsity}%.\")\n",
        "        \n",
        "        totalElements += numElementsInLayer\n",
        "        totalZeroElements += numZeroElementsInLayer\n",
        "    \n",
        "    if totalElements > 0 :\n",
        "        globalWeightSparsity = 100.0 * (totalZeroElements / totalElements)\n",
        "    else:\n",
        "        globalWeightSparsity = 0.0\n",
        "    return globalWeightSparsity\n",
        "    \n",
        "\n",
        "sparsity = get_model_sparsity(model)\n",
        "print(f\"Global Sparsity (weight): {sparsity}%\")"
      ],
      "execution_count": null,
      "outputs": [
        {
          "output_type": "stream",
          "name": "stdout",
          "text": [
            "Sparsity Information\n",
            "------------------------\n",
            "Sparsity in fc1.weight: 0.0%.\n",
            "Sparsity in fc2.weight: 0.0%.\n",
            "Sparsity in fc3.weight: 0.0%.\n",
            "Sparsity in fc4.weight: 0.0%.\n",
            "Global Sparsity (weight): 0.0%\n"
          ]
        }
      ]
    },
    {
      "cell_type": "markdown",
      "source": [
        "- ***As expected, the original model has 0 sparsity***"
      ],
      "metadata": {
        "id": "zCowIb-tq0UV"
      }
    },
    {
      "cell_type": "markdown",
      "metadata": {
        "id": "m61RFdw53XPR"
      },
      "source": [
        "### 3. Train the Model on FashionMNIST, record baseline accuracy\n",
        "\n",
        "Before we train our model, we'll define some helper functions to calculate metric, plot training results etc"
      ]
    },
    {
      "cell_type": "code",
      "metadata": {
        "id": "f2g_-5EOAQo1"
      },
      "source": [
        "## CLASSIFICATION ACCURACY AS METRIC FUNCTION\n",
        "\n",
        "class meanClassificationAccuracyMetric:\n",
        "    \"\"\"\n",
        "    Class to find the avg accuracy of softmax predictions to ground truth label\n",
        "        CFG (Any): object containing num_classes \n",
        "        device (torch.device): compute device\n",
        "    \"\"\"    \n",
        "    def __init__(self, CFG=None, device=None):\n",
        "        self.batchAccuracies = []\n",
        "        self.meanClassificationAccuracy = 0.0\n",
        "\n",
        "    def update(self, y_preds: torch.Tensor, labels: torch.Tensor):\n",
        "        \"\"\" Function finds the classification accuracy for the input batch\n",
        "\n",
        "        Args:\n",
        "            y_preds (torch.Tensor): model predictions\n",
        "            labels (torch.Tensor): groundtruth labels        \n",
        "        Returns\n",
        "        \"\"\"\n",
        "        # predicted output class\n",
        "        modelPredictions = np.argmax(torch.softmax(y_preds, axis=1).numpy(), axis=1)\n",
        "        self.batchAccuracies.append(accuracy_score(labels.numpy(), modelPredictions))\n",
        "\n",
        "    def compute(self):\n",
        "        \"\"\" returns meanClassificationAccuracy \"\"\"\n",
        "        self.meanClassificationAccuracy = np.mean(self.batchAccuracies) * 100.0\n",
        "        return self.meanClassificationAccuracy\n",
        "\n",
        "    def reset(self):\n",
        "        self.batchAccuracies = []\n",
        "        self.meanClassificationAccuracy = 0.0"
      ],
      "execution_count": null,
      "outputs": []
    },
    {
      "cell_type": "code",
      "metadata": {
        "id": "mYx7TDugArEJ"
      },
      "source": [
        "## UTILITY FUNCTION TO PLOT TRAINING RESULTS\n",
        "\n",
        "def plotTrainingResults(df:pd.DataFrame, modelName:str):\n",
        "    \"\"\"Function plots training, validation losses vs epoch\n",
        "    Args:\n",
        "        df (pd.DataFrame): Dataframe with the columns ['epoch', 'trainLoss', 'validationLoss']\n",
        "        modelName (str): name of the model\n",
        "    \"\"\"   \n",
        "    fig, ax1 = plt.subplots(figsize=(10,4))\n",
        "    ax1_color = 'tab:red'\n",
        "    ax1.set_ylabel('trainLoss', color=ax1_color)\n",
        "    ax1.plot(df['epoch'].values, df['trainLoss'].values, color=ax1_color)\n",
        "    ax1.tick_params(axis='y', labelcolor=ax1_color)\n",
        "\n",
        "    ax2 = ax1.twinx()  \n",
        "    ax2_color = 'tab:blue'    \n",
        "    ax2.set_ylabel('validationLoss', color=ax2_color)\n",
        "    ax2.plot(df['epoch'].values, df['validationLoss'].values, color=ax2_color)\n",
        "    ax2.tick_params(axis='y', labelcolor=ax2_color)\n",
        "\n",
        "    fig.tight_layout()\n",
        "    plt.show()"
      ],
      "execution_count": null,
      "outputs": []
    },
    {
      "cell_type": "code",
      "metadata": {
        "id": "4RAZS8Wj3YzP"
      },
      "source": [
        "## TRAIN VALIDATE FUNCTION\n",
        "\n",
        "def trainValidateModel(model, criterion, optimizer, dataloader_train, \n",
        "                       dataloader_valid, metricClass, metricName, device,\n",
        "                       modelName):\n",
        "    print(\"------------------------\")\n",
        "    print(f\"Train Validate Pipeline for - {modelName} on {str(device)}\")\n",
        "    print(\"------------------------\")\n",
        "    results = []    \n",
        "    minValidationLoss = np.Inf\n",
        "    lenTrainLoader = len(dataloader_train)\n",
        "\n",
        "    # move model to target device\n",
        "    model.to(device)\n",
        "    \n",
        "    for epoch in range(N_EPOCHS):\n",
        "        print(f\"Starting {epoch + 1} epoch ...\")\n",
        "        \n",
        "        # Training\n",
        "        model.train()\n",
        "        trainLoss = 0.0\n",
        "        for i, (inputs, labels) in tqdm(enumerate(dataloader_train), total=lenTrainLoader):\n",
        "            inputs = inputs.to(device)\n",
        "            labels = labels.to(device)  \n",
        "\n",
        "            # Forward pass\n",
        "            y_preds = model(inputs)\n",
        "            loss = criterion(y_preds, labels)\n",
        "            trainLoss += loss.item()\n",
        "              \n",
        "            # Backward pass\n",
        "            loss.backward()\n",
        "            optimizer.step()\n",
        "            optimizer.zero_grad() \n",
        "            \n",
        "        # Validate\n",
        "        model.eval()\n",
        "        validationLoss = 0.0\n",
        "        metricObject = metricClass(device=device)\n",
        "\n",
        "        with torch.no_grad():\n",
        "            for inputs, labels in dataloader_valid:\n",
        "                inputs = inputs.to(device)\n",
        "                labels = labels.to(device)                \n",
        "                y_preds = model(inputs)\n",
        "            \n",
        "                # calculate loss\n",
        "                loss = criterion(y_preds, labels)\n",
        "                validationLoss += loss.item()\n",
        "\n",
        "                # update batch metric information            \n",
        "                metricObject.update(y_preds.cpu().detach(), labels.cpu().detach())\n",
        "\n",
        "        # compute per batch losses\n",
        "        trainLoss = trainLoss / len(dataloader_train)\n",
        "        validationLoss = validationLoss / len(dataloader_valid)\n",
        "\n",
        "        # compute metric\n",
        "        validationMetric = metricObject.compute()\n",
        "\n",
        "        print(f'Epoch: {epoch+1}, trainLoss:{trainLoss:6.5f}, validationLoss:{validationLoss:6.5f}, {metricName}:{validationMetric: 4.2f}%')\n",
        "        \n",
        "        # store results\n",
        "        results.append({'epoch': epoch, 'trainLoss': trainLoss, \n",
        "                        'validationLoss': validationLoss, f'{metricName}': validationMetric})\n",
        "        \n",
        "        # if validation loss has decreased, save model and reset variable\n",
        "        if validationLoss <= minValidationLoss:\n",
        "            minValidationLoss = validationLoss\n",
        "            torch.save(model.state_dict(), f'{modelName}.pt')\n",
        "\n",
        "    # plot results\n",
        "    results = pd.DataFrame(results)\n",
        "    plotTrainingResults(results, f'{modelName}')\n",
        "\n",
        "    return results"
      ],
      "execution_count": null,
      "outputs": []
    },
    {
      "cell_type": "code",
      "metadata": {
        "colab": {
          "base_uri": "https://localhost:8080/",
          "height": 494
        },
        "id": "5syAT4MTA0ly",
        "outputId": "4687f23e-3a84-44cb-d46c-10314721e14a"
      },
      "source": [
        "# Hyper parameters for training model\n",
        "N_EPOCHS = 3\n",
        "LR = 1e-2\n",
        "\n",
        "# Define the Loss\n",
        "criterion = nn.CrossEntropyLoss()\n",
        "\n",
        "# Define the Optimizer\n",
        "optimizer = optim.Adam(model.parameters(), lr=LR)\n",
        "\n",
        "# train, validate standard model\n",
        "modelResults = trainValidateModel(model, criterion, optimizer, trainLoader, validLoader, meanClassificationAccuracyMetric, 'accuracy', device, \"Custom_MLP\")"
      ],
      "execution_count": null,
      "outputs": [
        {
          "output_type": "stream",
          "name": "stdout",
          "text": [
            "------------------------\n",
            "Train Validate Pipeline for - Custom_MLP on cuda\n",
            "------------------------\n",
            "Starting 1 epoch ...\n"
          ]
        },
        {
          "output_type": "stream",
          "name": "stderr",
          "text": [
            "100%|██████████| 3000/3000 [00:41<00:00, 72.19it/s]\n"
          ]
        },
        {
          "output_type": "stream",
          "name": "stdout",
          "text": [
            "Epoch: 1, trainLoss:0.68065, validationLoss:0.62817, accuracy: 76.01%\n",
            "Starting 2 epoch ...\n"
          ]
        },
        {
          "output_type": "stream",
          "name": "stderr",
          "text": [
            "100%|██████████| 3000/3000 [00:32<00:00, 90.97it/s]\n"
          ]
        },
        {
          "output_type": "stream",
          "name": "stdout",
          "text": [
            "Epoch: 2, trainLoss:0.56924, validationLoss:0.53861, accuracy: 81.15%\n",
            "Starting 3 epoch ...\n"
          ]
        },
        {
          "output_type": "stream",
          "name": "stderr",
          "text": [
            "100%|██████████| 3000/3000 [00:33<00:00, 90.20it/s]\n"
          ]
        },
        {
          "output_type": "stream",
          "name": "stdout",
          "text": [
            "Epoch: 3, trainLoss:0.55530, validationLoss:0.62552, accuracy: 78.53%\n"
          ]
        },
        {
          "output_type": "display_data",
          "data": {
            "image/png": "[encoded data removed]",
            "text/plain": [
              "<Figure size 720x288 with 2 Axes>"
            ]
          },
          "metadata": {
            "needs_background": "light"
          }
        }
      ]
    },
    {
      "cell_type": "code",
      "metadata": {
        "id": "xVO8n_JpE1QK"
      },
      "source": [
        "## UTILITY FUNCTION TO EVALUATE MODEL ON TEST SET\n",
        "def evaluteOnTestData(model, pretrainedModelPath, device, \n",
        "                     dataloader_test, metricClass, metricName, modelName):\n",
        "\n",
        "    # print(\"------------------------\")\n",
        "    # print(f\"Test Data Results for {modelName} using {str(device)}\")\n",
        "    # print(\"------------------------\")\n",
        "\n",
        "    testSetMetric = 0.0\n",
        "    \n",
        "    modelLoadStatus = False\n",
        "    if pretrainedModelPath is not None:\n",
        "        if os.path.isfile(pretrainedModelPath) == True:\n",
        "            model.load_state_dict(torch.load(pretrainedModelPath, map_location=device))\n",
        "            modelLoadStatus = True\n",
        "    # no need to load model\n",
        "    else:\n",
        "        modelLoadStatus = True\n",
        "\n",
        "    if modelLoadStatus == True:\n",
        "        lenTestLoader = len(dataloader_test)\n",
        "        model.to(device)\n",
        "        # set to inference mode\n",
        "        model.eval()\n",
        "        metricObject = metricClass(device=device)\n",
        "\n",
        "        with torch.no_grad():\n",
        "            for inputs, labels in tqdm(dataloader_test, total=lenTestLoader):\n",
        "                inputs = inputs.to(device)\n",
        "                labels = labels.to(device)\n",
        "                y_preds = model(inputs)\n",
        "            \n",
        "                # update batch metric information            \n",
        "                metricObject.update(y_preds.cpu().detach(), labels.cpu().detach())\n",
        "\n",
        "        # compute metric of test set predictions\n",
        "        testSetMetric = metricObject.compute()\n",
        "        print(f'\\n{modelName} has {testSetMetric} {metricName} on testData')\n",
        "\n",
        "    else:\n",
        "        print(f'Model cannot load state_dict from {pretrainedModelPath}')\n",
        "    return testSetMetric"
      ],
      "execution_count": null,
      "outputs": []
    },
    {
      "cell_type": "code",
      "source": [
        "testSetMetric = evaluteOnTestData(model, \"./Custom_MLP.pt\", device, testLoader, \n",
        "                    meanClassificationAccuracyMetric, \"Test_Accuracy\", \"Custom_MLP\")"
      ],
      "metadata": {
        "colab": {
          "base_uri": "https://localhost:8080/"
        },
        "id": "UgvNmjTOtnVW",
        "outputId": "fff29c3d-bd04-48df-f4a8-24877d1520dd"
      },
      "execution_count": null,
      "outputs": [
        {
          "output_type": "stream",
          "name": "stderr",
          "text": [
            "100%|██████████| 157/157 [00:03<00:00, 45.73it/s]"
          ]
        },
        {
          "output_type": "stream",
          "name": "stdout",
          "text": [
            "\n",
            "Custom_MLP has 80.1453025477707 Test_Accuracy on testData\n"
          ]
        },
        {
          "output_type": "stream",
          "name": "stderr",
          "text": [
            "\n"
          ]
        }
      ]
    },
    {
      "cell_type": "markdown",
      "source": [
        "## 4. Learn different Pruning techniques in Pytorch\n"
      ],
      "metadata": {
        "id": "pVRWZT6e1qin"
      }
    },
    {
      "cell_type": "code",
      "source": [
        "# pruning header import\n",
        "import torch.nn.utils.prune as prune\n",
        "\n",
        "# pruning operations are done in-place, so take a copy of the model / module\n",
        "from copy import deepcopy\n",
        "\n",
        "# create a dummy module to understand pruning techniques\n",
        "fc_test = nn.Linear(10,10)\n",
        "\n",
        "module = deepcopy(fc_test)"
      ],
      "metadata": {
        "id": "-osTkEJglAff"
      },
      "execution_count": null,
      "outputs": []
    },
    {
      "cell_type": "markdown",
      "source": [
        "Before pruning, we'll inspect the module parameters"
      ],
      "metadata": {
        "id": "Mbz2G_3Vtflo"
      }
    },
    {
      "cell_type": "code",
      "source": [
        "# contains `weight` and `bias` parameters\n",
        "print('Before pruning, named_parameters()')\n",
        "print(list(module.named_parameters()))\n",
        "\n",
        "print('Before pruning, named_buffers()')\n",
        "# prior to pruning contains no buffers\n",
        "print(list(module.named_buffers()))"
      ],
      "metadata": {
        "colab": {
          "base_uri": "https://localhost:8080/"
        },
        "id": "JF0WeJZQsK2q",
        "outputId": "1096b2c1-a2b3-42d3-b5e2-d2a4a908f2f9"
      },
      "execution_count": null,
      "outputs": [
        {
          "output_type": "stream",
          "name": "stdout",
          "text": [
            "Before pruning, named_parameters()\n",
            "[('weight', Parameter containing:\n",
            "tensor([[ 0.2950,  0.2520,  0.0778,  0.0610,  0.2252,  0.1581,  0.0321, -0.2291,\n",
            "         -0.0132, -0.1017],\n",
            "        [-0.0696,  0.0357, -0.2342, -0.0112, -0.1979,  0.0146, -0.0983, -0.1648,\n",
            "         -0.1094, -0.1549],\n",
            "        [-0.0327,  0.1431, -0.0904,  0.0848,  0.3022,  0.0465,  0.2968, -0.0288,\n",
            "          0.0441, -0.1095],\n",
            "        [-0.1983,  0.1292,  0.0237,  0.2615,  0.1528,  0.1460, -0.3059,  0.0859,\n",
            "          0.0044,  0.1624],\n",
            "        [ 0.0965, -0.1191, -0.2815, -0.2946,  0.0046, -0.2745, -0.2245,  0.1769,\n",
            "          0.1681, -0.2291],\n",
            "        [ 0.2045, -0.2083, -0.2051,  0.2677,  0.1330, -0.0773, -0.3029, -0.2456,\n",
            "         -0.2548,  0.1832],\n",
            "        [ 0.2205, -0.1450,  0.0095,  0.1775,  0.1023,  0.1577, -0.0159,  0.2147,\n",
            "          0.0376,  0.2460],\n",
            "        [ 0.2935,  0.1356, -0.1321, -0.1462,  0.1315, -0.2623,  0.2768,  0.2142,\n",
            "         -0.1593, -0.2209],\n",
            "        [ 0.0331, -0.2156, -0.1278,  0.1049, -0.3136, -0.2862,  0.0046, -0.0611,\n",
            "          0.2317,  0.1223],\n",
            "        [-0.1629, -0.1007,  0.1973,  0.0565,  0.2339, -0.2045,  0.3144, -0.1109,\n",
            "          0.2003,  0.0743]], requires_grad=True)), ('bias', Parameter containing:\n",
            "tensor([-0.2342, -0.3090,  0.1633,  0.0275,  0.0574,  0.0301, -0.1112,  0.0386,\n",
            "        -0.2410,  0.1732], requires_grad=True))]\n",
            "Before pruning, named_buffers()\n",
            "[]\n"
          ]
        }
      ]
    },
    {
      "cell_type": "markdown",
      "source": [
        "Let's apply `Unstructured Pruning` to the module"
      ],
      "metadata": {
        "id": "DP-htQG_trwl"
      }
    },
    {
      "cell_type": "code",
      "source": [
        "# l1_unstructured means that weights are pruned according to their `L1_norm`\n",
        "# eg: the following line prunes 30% of weights in module according to their L1 norm\n",
        "prune.l1_unstructured(module, 'weight', amount=0.3);"
      ],
      "metadata": {
        "id": "W26rTidNpATK"
      },
      "execution_count": null,
      "outputs": []
    },
    {
      "cell_type": "markdown",
      "source": [
        "Now, we'll inspect the module parameters after pruning"
      ],
      "metadata": {
        "id": "JWs6sgnhtyiD"
      }
    },
    {
      "cell_type": "code",
      "source": [
        "# contains `weight_orig` and `bias` parameters\n",
        "print('After pruning, named_parameters()')\n",
        "print(list(module.named_parameters()))\n",
        "\n",
        "# after pruning contains `weight_mask`\n",
        "print('After pruning, named_buffers()')\n",
        "print(list(module.named_buffers()))"
      ],
      "metadata": {
        "colab": {
          "base_uri": "https://localhost:8080/"
        },
        "id": "RpXBsd2upO8i",
        "outputId": "ac6ac171-db71-4a49-bc09-d8f97e060052"
      },
      "execution_count": null,
      "outputs": [
        {
          "output_type": "stream",
          "name": "stdout",
          "text": [
            "After pruning, named_parameters()\n",
            "[('bias', Parameter containing:\n",
            "tensor([-0.2342, -0.3090,  0.1633,  0.0275,  0.0574,  0.0301, -0.1112,  0.0386,\n",
            "        -0.2410,  0.1732], requires_grad=True)), ('weight_orig', Parameter containing:\n",
            "tensor([[ 0.2950,  0.2520,  0.0778,  0.0610,  0.2252,  0.1581,  0.0321, -0.2291,\n",
            "         -0.0132, -0.1017],\n",
            "        [-0.0696,  0.0357, -0.2342, -0.0112, -0.1979,  0.0146, -0.0983, -0.1648,\n",
            "         -0.1094, -0.1549],\n",
            "        [-0.0327,  0.1431, -0.0904,  0.0848,  0.3022,  0.0465,  0.2968, -0.0288,\n",
            "          0.0441, -0.1095],\n",
            "        [-0.1983,  0.1292,  0.0237,  0.2615,  0.1528,  0.1460, -0.3059,  0.0859,\n",
            "          0.0044,  0.1624],\n",
            "        [ 0.0965, -0.1191, -0.2815, -0.2946,  0.0046, -0.2745, -0.2245,  0.1769,\n",
            "          0.1681, -0.2291],\n",
            "        [ 0.2045, -0.2083, -0.2051,  0.2677,  0.1330, -0.0773, -0.3029, -0.2456,\n",
            "         -0.2548,  0.1832],\n",
            "        [ 0.2205, -0.1450,  0.0095,  0.1775,  0.1023,  0.1577, -0.0159,  0.2147,\n",
            "          0.0376,  0.2460],\n",
            "        [ 0.2935,  0.1356, -0.1321, -0.1462,  0.1315, -0.2623,  0.2768,  0.2142,\n",
            "         -0.1593, -0.2209],\n",
            "        [ 0.0331, -0.2156, -0.1278,  0.1049, -0.3136, -0.2862,  0.0046, -0.0611,\n",
            "          0.2317,  0.1223],\n",
            "        [-0.1629, -0.1007,  0.1973,  0.0565,  0.2339, -0.2045,  0.3144, -0.1109,\n",
            "          0.2003,  0.0743]], requires_grad=True))]\n",
            "After pruning, named_buffers()\n",
            "[('weight_mask', tensor([[1., 1., 0., 0., 1., 1., 0., 1., 0., 1.],\n",
            "        [0., 0., 1., 0., 1., 0., 0., 1., 1., 1.],\n",
            "        [0., 1., 0., 0., 1., 0., 1., 0., 0., 1.],\n",
            "        [1., 1., 0., 1., 1., 1., 1., 0., 0., 1.],\n",
            "        [0., 1., 1., 1., 0., 1., 1., 1., 1., 1.],\n",
            "        [1., 1., 1., 1., 1., 0., 1., 1., 1., 1.],\n",
            "        [1., 1., 0., 1., 1., 1., 0., 1., 0., 1.],\n",
            "        [1., 1., 1., 1., 1., 1., 1., 1., 1., 1.],\n",
            "        [0., 1., 1., 1., 1., 1., 0., 0., 1., 1.],\n",
            "        [1., 0., 1., 0., 1., 1., 1., 1., 1., 0.]]))]\n"
          ]
        }
      ]
    },
    {
      "cell_type": "code",
      "source": [
        "# EQUIVALENT NUMPY OPERATION IS AS FOLLOWS:\n",
        "module = deepcopy(fc_test)\n",
        "weight = module.weight.cpu().detach().numpy()\n",
        "print(weight)\n",
        "sorted_array = np.sort(np.abs(weight.ravel()))\n",
        "print(sorted_array)\n",
        "pruned_array = np.abs(weight) > sorted_array[29]\n",
        "print(pruned_array.astype(int))"
      ],
      "metadata": {
        "colab": {
          "base_uri": "https://localhost:8080/"
        },
        "id": "ytR4RNDt8INO",
        "outputId": "18b47a11-760e-456d-f368-8540b2e79d8b"
      },
      "execution_count": null,
      "outputs": [
        {
          "output_type": "stream",
          "name": "stdout",
          "text": [
            "[[ 0.29501545  0.25199652  0.07775453  0.06098305  0.22517054  0.1580694\n",
            "   0.03205344 -0.22909568 -0.01317724 -0.10166031]\n",
            " [-0.06955828  0.03566054 -0.23423316 -0.01121136 -0.19785859  0.01463118\n",
            "  -0.09830224 -0.16480191 -0.10940243 -0.15494011]\n",
            " [-0.0327295   0.14311488 -0.09035267  0.08479156  0.3022364   0.04654382\n",
            "   0.2967612  -0.02884566  0.04414692 -0.10950545]\n",
            " [-0.19825158  0.12920628  0.02369685  0.26149327  0.15277907  0.14600156\n",
            "  -0.30585152  0.08589599  0.00437141  0.16243252]\n",
            " [ 0.09648319 -0.11909986 -0.2814593  -0.2945941   0.00464906 -0.27450764\n",
            "  -0.22452131  0.17686082  0.16805485 -0.22912803]\n",
            " [ 0.20453869 -0.20827411 -0.20512632  0.26774517  0.13304639 -0.07731389\n",
            "  -0.30291587 -0.2456031  -0.2547661   0.18318796]\n",
            " [ 0.22047074 -0.14501871  0.0094866   0.17747332  0.10230964  0.1576576\n",
            "  -0.01588311  0.21471108  0.03763908  0.24595214]\n",
            " [ 0.29350516  0.13560781 -0.1321434  -0.14615607  0.13148957 -0.26229444\n",
            "   0.27675223  0.21416323 -0.15934224 -0.22087573]\n",
            " [ 0.0331024  -0.2155958  -0.12783143  0.10491694 -0.3136438  -0.28620633\n",
            "   0.0045783  -0.0610609   0.23172612  0.12226222]\n",
            " [-0.16290577 -0.10068335  0.19730787  0.05646541  0.23391502 -0.20448309\n",
            "   0.31441996 -0.11091511  0.20027034  0.07434964]]\n",
            "[0.00437141 0.0045783  0.00464906 0.0094866  0.01121136 0.01317724\n",
            " 0.01463118 0.01588311 0.02369685 0.02884566 0.03205344 0.0327295\n",
            " 0.0331024  0.03566054 0.03763908 0.04414692 0.04654382 0.05646541\n",
            " 0.06098305 0.0610609  0.06955828 0.07434964 0.07731389 0.07775453\n",
            " 0.08479156 0.08589599 0.09035267 0.09648319 0.09830224 0.10068335\n",
            " 0.10166031 0.10230964 0.10491694 0.10940243 0.10950545 0.11091511\n",
            " 0.11909986 0.12226222 0.12783143 0.12920628 0.13148957 0.1321434\n",
            " 0.13304639 0.13560781 0.14311488 0.14501871 0.14600156 0.14615607\n",
            " 0.15277907 0.15494011 0.1576576  0.1580694  0.15934224 0.16243252\n",
            " 0.16290577 0.16480191 0.16805485 0.17686082 0.17747332 0.18318796\n",
            " 0.19730787 0.19785859 0.19825158 0.20027034 0.20448309 0.20453869\n",
            " 0.20512632 0.20827411 0.21416323 0.21471108 0.2155958  0.22047074\n",
            " 0.22087573 0.22452131 0.22517054 0.22909568 0.22912803 0.23172612\n",
            " 0.23391502 0.23423316 0.2456031  0.24595214 0.25199652 0.2547661\n",
            " 0.26149327 0.26229444 0.26774517 0.27450764 0.27675223 0.2814593\n",
            " 0.28620633 0.29350516 0.2945941  0.29501545 0.2967612  0.3022364\n",
            " 0.30291587 0.30585152 0.3136438  0.31441996]\n",
            "[[1 1 0 0 1 1 0 1 0 1]\n",
            " [0 0 1 0 1 0 0 1 1 1]\n",
            " [0 1 0 0 1 0 1 0 0 1]\n",
            " [1 1 0 1 1 1 1 0 0 1]\n",
            " [0 1 1 1 0 1 1 1 1 1]\n",
            " [1 1 1 1 1 0 1 1 1 1]\n",
            " [1 1 0 1 1 1 0 1 0 1]\n",
            " [1 1 1 1 1 1 1 1 1 1]\n",
            " [0 1 1 1 1 1 0 0 1 1]\n",
            " [1 0 1 0 1 1 1 1 1 0]]\n"
          ]
        }
      ]
    },
    {
      "cell_type": "markdown",
      "source": [
        "- As you can see, the `weight` in named_parameters() has been replaced by `weight_mask` and a new `weight_mask` has been added to named_buffers()\n",
        "\n",
        "- API for structured Pruning is also similiar as seen below"
      ],
      "metadata": {
        "id": "4JZJ2E1BuGBP"
      }
    },
    {
      "cell_type": "code",
      "source": [
        "import torch.nn.utils.prune as prune\n",
        "\n",
        "module = nn.Linear(10,10)\n",
        "prune.ln_structured(module, 'weight', amount=0.3, n=1, dim=0);"
      ],
      "metadata": {
        "id": "sirOJj6r6SdP"
      },
      "execution_count": null,
      "outputs": []
    },
    {
      "cell_type": "code",
      "source": [
        "module = deepcopy(fc_test)\n",
        "# n denotes the order of `L-norm` to use while pruning\n",
        "# dim indicates which dimension to prune\n",
        "prune.ln_structured(module, 'weight', amount=0.3, n=1, dim=0);"
      ],
      "metadata": {
        "id": "GLGtjMtnu7H6"
      },
      "execution_count": null,
      "outputs": []
    },
    {
      "cell_type": "code",
      "source": [
        "# We can observe entire rows of weights are set to zero, meaning all \n",
        "# connections to a neuron have been pruned\n",
        "list(module.named_buffers())"
      ],
      "metadata": {
        "colab": {
          "base_uri": "https://localhost:8080/"
        },
        "id": "1cSRlRWsuElI",
        "outputId": "9a42b9f5-0320-4f55-abb6-d7d37eabdb72"
      },
      "execution_count": null,
      "outputs": [
        {
          "output_type": "execute_result",
          "data": {
            "text/plain": [
              "[('weight_mask', tensor([[1., 1., 1., 1., 1., 1., 1., 1., 1., 1.],\n",
              "          [0., 0., 0., 0., 0., 0., 0., 0., 0., 0.],\n",
              "          [0., 0., 0., 0., 0., 0., 0., 0., 0., 0.],\n",
              "          [1., 1., 1., 1., 1., 1., 1., 1., 1., 1.],\n",
              "          [1., 1., 1., 1., 1., 1., 1., 1., 1., 1.],\n",
              "          [1., 1., 1., 1., 1., 1., 1., 1., 1., 1.],\n",
              "          [0., 0., 0., 0., 0., 0., 0., 0., 0., 0.],\n",
              "          [1., 1., 1., 1., 1., 1., 1., 1., 1., 1.],\n",
              "          [1., 1., 1., 1., 1., 1., 1., 1., 1., 1.],\n",
              "          [1., 1., 1., 1., 1., 1., 1., 1., 1., 1.]]))]"
            ]
          },
          "metadata": {},
          "execution_count": 27
        }
      ]
    },
    {
      "cell_type": "code",
      "source": [
        "# EQUIVALENT NUMPY OPERATION IS AS FOLLOWS:\n",
        "\n",
        "module = deepcopy(fc_test)\n",
        "\n",
        "weight = module.weight.cpu().detach().numpy()\n",
        "print(weight)\n",
        "\n",
        "# finding the L1 norm for each row (equivalent to \n",
        "# total norm of each neuron) and sort them \n",
        "sorted_array = np.argsort(np.sum(np.abs(weight), axis=1))\n",
        "print(sorted_array)\n",
        "\n",
        "pruned_array = np.ones_like(weight)\n",
        "\n",
        "# prune 30% (=3rows) with lowest L1 norm\n",
        "pruned_array[sorted_array[0:3], :] = 0\n",
        "print(pruned_array.astype(int))"
      ],
      "metadata": {
        "colab": {
          "base_uri": "https://localhost:8080/"
        },
        "id": "sghhOwCTC6V2",
        "outputId": "16ba3928-4059-426c-c9a9-714dd1ecef7f"
      },
      "execution_count": null,
      "outputs": [
        {
          "output_type": "stream",
          "name": "stdout",
          "text": [
            "[[ 0.29501545  0.25199652  0.07775453  0.06098305  0.22517054  0.1580694\n",
            "   0.03205344 -0.22909568 -0.01317724 -0.10166031]\n",
            " [-0.06955828  0.03566054 -0.23423316 -0.01121136 -0.19785859  0.01463118\n",
            "  -0.09830224 -0.16480191 -0.10940243 -0.15494011]\n",
            " [-0.0327295   0.14311488 -0.09035267  0.08479156  0.3022364   0.04654382\n",
            "   0.2967612  -0.02884566  0.04414692 -0.10950545]\n",
            " [-0.19825158  0.12920628  0.02369685  0.26149327  0.15277907  0.14600156\n",
            "  -0.30585152  0.08589599  0.00437141  0.16243252]\n",
            " [ 0.09648319 -0.11909986 -0.2814593  -0.2945941   0.00464906 -0.27450764\n",
            "  -0.22452131  0.17686082  0.16805485 -0.22912803]\n",
            " [ 0.20453869 -0.20827411 -0.20512632  0.26774517  0.13304639 -0.07731389\n",
            "  -0.30291587 -0.2456031  -0.2547661   0.18318796]\n",
            " [ 0.22047074 -0.14501871  0.0094866   0.17747332  0.10230964  0.1576576\n",
            "  -0.01588311  0.21471108  0.03763908  0.24595214]\n",
            " [ 0.29350516  0.13560781 -0.1321434  -0.14615607  0.13148957 -0.26229444\n",
            "   0.27675223  0.21416323 -0.15934224 -0.22087573]\n",
            " [ 0.0331024  -0.2155958  -0.12783143  0.10491694 -0.3136438  -0.28620633\n",
            "   0.0045783  -0.0610609   0.23172612  0.12226222]\n",
            " [-0.16290577 -0.10068335  0.19730787  0.05646541  0.23391502 -0.20448309\n",
            "   0.31441996 -0.11091511  0.20027034  0.07434964]]\n",
            "[1 2 6 0 3 8 9 4 7 5]\n",
            "[[1 1 1 1 1 1 1 1 1 1]\n",
            " [0 0 0 0 0 0 0 0 0 0]\n",
            " [0 0 0 0 0 0 0 0 0 0]\n",
            " [1 1 1 1 1 1 1 1 1 1]\n",
            " [1 1 1 1 1 1 1 1 1 1]\n",
            " [1 1 1 1 1 1 1 1 1 1]\n",
            " [0 0 0 0 0 0 0 0 0 0]\n",
            " [1 1 1 1 1 1 1 1 1 1]\n",
            " [1 1 1 1 1 1 1 1 1 1]\n",
            " [1 1 1 1 1 1 1 1 1 1]]\n"
          ]
        }
      ]
    },
    {
      "cell_type": "markdown",
      "source": [
        "### *Plot the Pruning results*"
      ],
      "metadata": {
        "id": "ri3jvuGcxiPz"
      }
    },
    {
      "cell_type": "code",
      "source": [
        "def plot_fc_weight(weight, ax=None, cmap='viridis'):\n",
        "  nrows, ncols = weight.shape\n",
        "  x = np.arange(0,ncols)\n",
        "  y = np.arange(0,nrows)\n",
        "  X, Y = np.meshgrid(x,y)\n",
        "  z_np = weight.detach().cpu().numpy()\n",
        "  ln = ax.pcolor(X, Y, z_np, cmap=cmap)\n",
        "  ax.axis('off')\n",
        "  return ln"
      ],
      "metadata": {
        "id": "29kdxzALxqOr"
      },
      "execution_count": null,
      "outputs": []
    },
    {
      "cell_type": "code",
      "source": [
        "fig, (ax1, ax2) = plt.subplots(1,2,figsize=(8, 4))\n",
        "plot_fc_weight(module.weight, ax1)\n",
        "\n",
        "# l1 unstructured pruning\n",
        "module = deepcopy(fc_test)\n",
        "prune.l1_unstructured(module, 'weight', amount=0.3);\n",
        "plot_fc_weight(module.weight, ax1);\n",
        "ax1.set_title('L1 Unstructured Pruning')\n",
        "\n",
        "# l1 Structured pruning\n",
        "module = deepcopy(fc_test)\n",
        "prune.ln_structured(module, 'weight', amount=0.3, n=1, dim=0);\n",
        "plot_fc_weight(module.weight, ax2);\n",
        "ax2.set_title('L1 Structured Pruning');"
      ],
      "metadata": {
        "colab": {
          "base_uri": "https://localhost:8080/",
          "height": 263
        },
        "id": "OqnPQ7ctpk3z",
        "outputId": "952ceae8-4189-4a06-93b4-b2dc0cec5421"
      },
      "execution_count": null,
      "outputs": [
        {
          "output_type": "display_data",
          "data": {
            "image/png": "[encoded data removed]",
            "text/plain": [
              "<Figure size 576x288 with 2 Axes>"
            ]
          },
          "metadata": {
            "needs_background": "light"
          }
        }
      ]
    },
    {
      "cell_type": "markdown",
      "metadata": {
        "id": "QUs9gbLYTAmW"
      },
      "source": [
        "## 5. Apply different Pruning techniques on our custom model\n",
        "\n",
        "Now that we understand the pruning APIs in Pytorch, we'll use them to \n",
        "prune our custom MLP model. In the next section, we'll do the following:\n",
        "\n",
        "- Apply the Unstructured pruning we learned above and also the Global version of it along with structured pruning on our trained model\n",
        "- Observe the Accuracy of both the pruned model on Test set\n",
        "- Apply different levels of Pruning percentages (*read sparsity levels*) and observe the different in performance metric"
      ]
    },
    {
      "cell_type": "code",
      "source": [
        "# Let's use different pruning percentages for each technique\n",
        "prunePercentages = np.linspace(0.05, 0.90, 8).tolist()\n",
        "print([round(x,3) for x in prunePercentages])"
      ],
      "metadata": {
        "colab": {
          "base_uri": "https://localhost:8080/"
        },
        "id": "eFJSzrwD2O6A",
        "outputId": "0f6114b4-8e03-4738-e849-56a350915d9d"
      },
      "execution_count": null,
      "outputs": [
        {
          "output_type": "stream",
          "name": "stdout",
          "text": [
            "[0.05, 0.171, 0.293, 0.414, 0.536, 0.657, 0.779, 0.9]\n"
          ]
        }
      ]
    },
    {
      "cell_type": "markdown",
      "source": [
        "\n",
        "### Layer wise Unstructured Pruning"
      ],
      "metadata": {
        "id": "-JgT32Ai1kzN"
      }
    },
    {
      "cell_type": "code",
      "metadata": {
        "execution": {
          "iopub.status.busy": "2021-10-04T00:18:16.472003Z",
          "iopub.execute_input": "2021-10-04T00:18:16.472259Z",
          "iopub.status.idle": "2021-10-04T00:18:16.480822Z",
          "shell.execute_reply.started": "2021-10-04T00:18:16.472228Z",
          "shell.execute_reply": "2021-10-04T00:18:16.480095Z"
        },
        "trusted": true,
        "id": "Xz0b8s4r2ube",
        "colab": {
          "base_uri": "https://localhost:8080/"
        },
        "outputId": "73354595-6acb-4130-a0ee-635353dd8d80"
      },
      "source": [
        "def layer_unstructured_prune(model:nn.Module, prunePercentage:float):\n",
        "    for name, module in model.named_modules():\n",
        "        if isinstance(module, torch.nn.Linear):\n",
        "            prune.l1_unstructured(module, name='weight', amount=prunePercentage)\n",
        "    return model\n",
        "\n",
        "# placeholder to store results\n",
        "l1_unstructured_accuracies = []\n",
        "\n",
        "# iterate through each prune percentage\n",
        "for perc in prunePercentages:\n",
        "    # load the pretrained model\n",
        "    model = MLPClassifier().to(device)\n",
        "    model.load_state_dict(torch.load(\"./Custom_MLP.pt\"))\n",
        "\n",
        "    # prune the model\n",
        "    unStructuredPruneModel = layer_unstructured_prune(model, perc)\n",
        "\n",
        "    # evaluate the pruned model on test data\n",
        "    l1_unstructured_accuracies.append(evaluteOnTestData(unStructuredPruneModel, None, \\\n",
        "          device, testLoader, meanClassificationAccuracyMetric, \"Test accuracy\", \"Unstructured Prune\"))    "
      ],
      "execution_count": null,
      "outputs": [
        {
          "output_type": "stream",
          "name": "stderr",
          "text": [
            "100%|██████████| 157/157 [00:03<00:00, 43.85it/s]\n"
          ]
        },
        {
          "output_type": "stream",
          "name": "stdout",
          "text": [
            "\n",
            "Unstructured Prune has 80.19506369426752 Test accuracy on testData\n"
          ]
        },
        {
          "output_type": "stream",
          "name": "stderr",
          "text": [
            "100%|██████████| 157/157 [00:03<00:00, 45.66it/s]\n"
          ]
        },
        {
          "output_type": "stream",
          "name": "stdout",
          "text": [
            "\n",
            "Unstructured Prune has 79.89649681528662 Test accuracy on testData\n"
          ]
        },
        {
          "output_type": "stream",
          "name": "stderr",
          "text": [
            "100%|██████████| 157/157 [00:03<00:00, 39.89it/s]\n"
          ]
        },
        {
          "output_type": "stream",
          "name": "stdout",
          "text": [
            "\n",
            "Unstructured Prune has 79.468550955414 Test accuracy on testData\n"
          ]
        },
        {
          "output_type": "stream",
          "name": "stderr",
          "text": [
            "100%|██████████| 157/157 [00:03<00:00, 39.94it/s]\n"
          ]
        },
        {
          "output_type": "stream",
          "name": "stdout",
          "text": [
            "\n",
            "Unstructured Prune has 79.37898089171973 Test accuracy on testData\n"
          ]
        },
        {
          "output_type": "stream",
          "name": "stderr",
          "text": [
            "100%|██████████| 157/157 [00:03<00:00, 44.77it/s]\n"
          ]
        },
        {
          "output_type": "stream",
          "name": "stdout",
          "text": [
            "\n",
            "Unstructured Prune has 80.83200636942675 Test accuracy on testData\n"
          ]
        },
        {
          "output_type": "stream",
          "name": "stderr",
          "text": [
            "100%|██████████| 157/157 [00:03<00:00, 44.54it/s]\n"
          ]
        },
        {
          "output_type": "stream",
          "name": "stdout",
          "text": [
            "\n",
            "Unstructured Prune has 73.61664012738854 Test accuracy on testData\n"
          ]
        },
        {
          "output_type": "stream",
          "name": "stderr",
          "text": [
            "100%|██████████| 157/157 [00:03<00:00, 44.79it/s]\n"
          ]
        },
        {
          "output_type": "stream",
          "name": "stdout",
          "text": [
            "\n",
            "Unstructured Prune has 14.769108280254779 Test accuracy on testData\n"
          ]
        },
        {
          "output_type": "stream",
          "name": "stderr",
          "text": [
            "100%|██████████| 157/157 [00:03<00:00, 44.85it/s]"
          ]
        },
        {
          "output_type": "stream",
          "name": "stdout",
          "text": [
            "\n",
            "Unstructured Prune has 16.261942675159236 Test accuracy on testData\n"
          ]
        },
        {
          "output_type": "stream",
          "name": "stderr",
          "text": [
            "\n"
          ]
        }
      ]
    },
    {
      "cell_type": "markdown",
      "source": [
        "## Layerwise structured pruning"
      ],
      "metadata": {
        "id": "0QVLudIt27QF"
      }
    },
    {
      "cell_type": "code",
      "source": [
        "def layer_structured_prune(model:nn.Module, prunePercentage:float):\n",
        "    for name, module in model.named_modules():\n",
        "        if isinstance(module, torch.nn.Linear):\n",
        "            prune.ln_structured(module, name='weight', amount=prunePercentage, n=1, dim=0)\n",
        "    return model\n",
        "\n",
        "\n",
        "# placeholder to store results\n",
        "l1_structured_accuracies = []\n",
        "\n",
        "# iterate through each prune percentage\n",
        "for perc in prunePercentages:\n",
        "    # load the pretrained model\n",
        "    model = MLPClassifier().to(device)\n",
        "    model.load_state_dict(torch.load(\"./Custom_MLP.pt\"))\n",
        "\n",
        "    # prune the model\n",
        "    structuredPruneModel = layer_structured_prune(model, perc)\n",
        "\n",
        "    # evaluate the pruned model on test data\n",
        "    l1_structured_accuracies.append(evaluteOnTestData(structuredPruneModel, None, \\\n",
        "          device, testLoader, meanClassificationAccuracyMetric, \"Test accuracy\", \"structured Prune\"))"
      ],
      "metadata": {
        "colab": {
          "base_uri": "https://localhost:8080/"
        },
        "id": "Zq3dZc_q3BzQ",
        "outputId": "189c5304-20ac-4a12-c854-810cd6f3e2b4"
      },
      "execution_count": null,
      "outputs": [
        {
          "output_type": "stream",
          "name": "stderr",
          "text": [
            "100%|██████████| 157/157 [00:03<00:00, 44.84it/s]\n"
          ]
        },
        {
          "output_type": "stream",
          "name": "stdout",
          "text": [
            "\n",
            "structured Prune has 80.17515923566879 Test accuracy on testData\n"
          ]
        },
        {
          "output_type": "stream",
          "name": "stderr",
          "text": [
            "100%|██████████| 157/157 [00:03<00:00, 45.25it/s]\n"
          ]
        },
        {
          "output_type": "stream",
          "name": "stdout",
          "text": [
            "\n",
            "structured Prune has 70.75039808917197 Test accuracy on testData\n"
          ]
        },
        {
          "output_type": "stream",
          "name": "stderr",
          "text": [
            "100%|██████████| 157/157 [00:03<00:00, 44.34it/s]\n"
          ]
        },
        {
          "output_type": "stream",
          "name": "stdout",
          "text": [
            "\n",
            "structured Prune has 56.041003184713375 Test accuracy on testData\n"
          ]
        },
        {
          "output_type": "stream",
          "name": "stderr",
          "text": [
            "100%|██████████| 157/157 [00:03<00:00, 45.00it/s]\n"
          ]
        },
        {
          "output_type": "stream",
          "name": "stdout",
          "text": [
            "\n",
            "structured Prune has 55.91162420382165 Test accuracy on testData\n"
          ]
        },
        {
          "output_type": "stream",
          "name": "stderr",
          "text": [
            "100%|██████████| 157/157 [00:03<00:00, 45.77it/s]\n"
          ]
        },
        {
          "output_type": "stream",
          "name": "stdout",
          "text": [
            "\n",
            "structured Prune has 36.82324840764331 Test accuracy on testData\n"
          ]
        },
        {
          "output_type": "stream",
          "name": "stderr",
          "text": [
            "100%|██████████| 157/157 [00:03<00:00, 45.57it/s]\n"
          ]
        },
        {
          "output_type": "stream",
          "name": "stdout",
          "text": [
            "\n",
            "structured Prune has 27.10987261146497 Test accuracy on testData\n"
          ]
        },
        {
          "output_type": "stream",
          "name": "stderr",
          "text": [
            "100%|██████████| 157/157 [00:03<00:00, 45.91it/s]\n"
          ]
        },
        {
          "output_type": "stream",
          "name": "stdout",
          "text": [
            "\n",
            "structured Prune has 18.441480891719745 Test accuracy on testData\n"
          ]
        },
        {
          "output_type": "stream",
          "name": "stderr",
          "text": [
            "100%|██████████| 157/157 [00:03<00:00, 45.89it/s]"
          ]
        },
        {
          "output_type": "stream",
          "name": "stdout",
          "text": [
            "\n",
            "structured Prune has 15.714570063694266 Test accuracy on testData\n"
          ]
        },
        {
          "output_type": "stream",
          "name": "stderr",
          "text": [
            "\n"
          ]
        }
      ]
    },
    {
      "cell_type": "markdown",
      "metadata": {
        "id": "qS5wCIUmTDxB"
      },
      "source": [
        "### Global Unstructured Pruning"
      ]
    },
    {
      "cell_type": "code",
      "metadata": {
        "execution": {
          "iopub.status.busy": "2021-10-04T00:18:16.482198Z",
          "iopub.execute_input": "2021-10-04T00:18:16.482508Z",
          "iopub.status.idle": "2021-10-04T00:18:16.490515Z",
          "shell.execute_reply.started": "2021-10-04T00:18:16.482474Z",
          "shell.execute_reply": "2021-10-04T00:18:16.489822Z"
        },
        "trusted": true,
        "id": "tezp6DKt2ubf",
        "colab": {
          "base_uri": "https://localhost:8080/"
        },
        "outputId": "0a8f8dbe-ff82-4963-d3f7-94eae7950527"
      },
      "source": [
        "def global_unstructured_prune(model:nn.Module, prunePercentage:float):\n",
        "    parameters_to_prune = []\n",
        "    for name, module in model.named_modules():\n",
        "        if isinstance(module, torch.nn.Linear):\n",
        "            parameters_to_prune.append((module, 'weight'))\n",
        "    prune.global_unstructured(parameters_to_prune, pruning_method=prune.L1Unstructured, amount=prunePercentage)\n",
        "    return model\n",
        "\n",
        "\n",
        "# placeholder to store results\n",
        "global_prune_accuracies = []\n",
        "\n",
        "# iterate through each prune percentage\n",
        "for perc in prunePercentages:\n",
        "    # load the pretrained model\n",
        "    model = MLPClassifier().to(device)\n",
        "    model.load_state_dict(torch.load(\"./Custom_MLP.pt\"))\n",
        "\n",
        "    # prune the model\n",
        "    globalPruneModel = global_unstructured_prune(model, perc)\n",
        "\n",
        "    # evaluate the pruned model on test data\n",
        "    global_prune_accuracies.append(evaluteOnTestData(globalPruneModel, None, \\\n",
        "          device, testLoader, meanClassificationAccuracyMetric, \"Test accuracy\", \"structured Prune\"))    "
      ],
      "execution_count": null,
      "outputs": [
        {
          "output_type": "stream",
          "name": "stderr",
          "text": [
            "100%|██████████| 157/157 [00:03<00:00, 44.87it/s]\n"
          ]
        },
        {
          "output_type": "stream",
          "name": "stdout",
          "text": [
            "\n",
            "structured Prune has 80.21496815286623 Test accuracy on testData\n"
          ]
        },
        {
          "output_type": "stream",
          "name": "stderr",
          "text": [
            "100%|██████████| 157/157 [00:03<00:00, 44.47it/s]\n"
          ]
        },
        {
          "output_type": "stream",
          "name": "stdout",
          "text": [
            "\n",
            "structured Prune has 80.20501592356688 Test accuracy on testData\n"
          ]
        },
        {
          "output_type": "stream",
          "name": "stderr",
          "text": [
            "100%|██████████| 157/157 [00:03<00:00, 45.49it/s]\n"
          ]
        },
        {
          "output_type": "stream",
          "name": "stdout",
          "text": [
            "\n",
            "structured Prune has 79.63773885350318 Test accuracy on testData\n"
          ]
        },
        {
          "output_type": "stream",
          "name": "stderr",
          "text": [
            "100%|██████████| 157/157 [00:03<00:00, 44.65it/s]\n"
          ]
        },
        {
          "output_type": "stream",
          "name": "stdout",
          "text": [
            "\n",
            "structured Prune has 78.8515127388535 Test accuracy on testData\n"
          ]
        },
        {
          "output_type": "stream",
          "name": "stderr",
          "text": [
            "100%|██████████| 157/157 [00:03<00:00, 45.13it/s]\n"
          ]
        },
        {
          "output_type": "stream",
          "name": "stdout",
          "text": [
            "\n",
            "structured Prune has 80.51353503184714 Test accuracy on testData\n"
          ]
        },
        {
          "output_type": "stream",
          "name": "stderr",
          "text": [
            "100%|██████████| 157/157 [00:03<00:00, 45.33it/s]\n"
          ]
        },
        {
          "output_type": "stream",
          "name": "stdout",
          "text": [
            "\n",
            "structured Prune has 44.327229299363054 Test accuracy on testData\n"
          ]
        },
        {
          "output_type": "stream",
          "name": "stderr",
          "text": [
            "100%|██████████| 157/157 [00:03<00:00, 44.75it/s]\n"
          ]
        },
        {
          "output_type": "stream",
          "name": "stdout",
          "text": [
            "\n",
            "structured Prune has 12.937898089171975 Test accuracy on testData\n"
          ]
        },
        {
          "output_type": "stream",
          "name": "stderr",
          "text": [
            "100%|██████████| 157/157 [00:03<00:00, 45.74it/s]"
          ]
        },
        {
          "output_type": "stream",
          "name": "stdout",
          "text": [
            "\n",
            "structured Prune has 10.051751592356688 Test accuracy on testData\n"
          ]
        },
        {
          "output_type": "stream",
          "name": "stderr",
          "text": [
            "\n"
          ]
        }
      ]
    },
    {
      "cell_type": "markdown",
      "metadata": {
        "id": "Oeb5myYYTNAG"
      },
      "source": [
        "### 6. Compare metrics of different Pruned models"
      ]
    },
    {
      "cell_type": "code",
      "metadata": {
        "id": "4srTWA7hTS5q",
        "colab": {
          "base_uri": "https://localhost:8080/",
          "height": 295
        },
        "outputId": "92a3f363-78ae-47ac-9917-468de24468d2"
      },
      "source": [
        "# plot results\n",
        "fig, ax = plt.subplots(1,1,figsize=(8,4))\n",
        "ax.plot(np.array(prunePercentages) * 100.0, np.array(l1_unstructured_accuracies), label='Layerwise Unstructured')\n",
        "ax.plot(np.array(prunePercentages) * 100.0, np.array(l1_structured_accuracies), label='Layerwise Structured')\n",
        "ax.plot(np.array(prunePercentages) * 100.0, np.array(global_prune_accuracies), label='Global Unstructured')\n",
        "ax.set(xlabel ='Prune percentage (Sparsity) %', ylabel = 'Test set Accuracy (%)', \\\n",
        "       title = 'METRICS FOR DIFFERENT PRUNING TECHNIQUES')\n",
        "ax.legend()\n",
        "ax.grid(True)\n",
        "plt.show()"
      ],
      "execution_count": null,
      "outputs": [
        {
          "output_type": "display_data",
          "data": {
            "image/png": "[encoded data removed]",
            "text/plain": [
              "<Figure size 576x288 with 1 Axes>"
            ]
          },
          "metadata": {
            "needs_background": "light"
          }
        }
      ]
    },
    {
      "cell_type": "markdown",
      "source": [
        "### Observations\n",
        "\n",
        " - We can observe that even at ~55% Sparsity, layer wise unstructured pruning techniques maintain roughly 80% test accuracy.\n",
        " - Beyond a threshold (60% in our case), test accuracy drops significantly for all 3 techniques indicating the model is not able to capture enough information with the remaining weights\n",
        " - At least in our case, structured pruning is worse than unstructured pruning. "
      ],
      "metadata": {
        "id": "rpTK594T5yhW"
      }
    },
    {
      "cell_type": "markdown",
      "source": [
        "#### ***Optional task, plot all 4 layers of our custom model and see how different techiques have pruned weights***"
      ],
      "metadata": {
        "id": "w1vYe8u69ikW"
      }
    },
    {
      "cell_type": "code",
      "source": [
        "def plot_custom_model(model, title=''):\n",
        "  fig, axes = plt.subplots(1,4,figsize=(16, 4), gridspec_kw={'width_ratios': [7,5,3,1]})\n",
        "  plot_fc_weight(model.fc1.weight, axes[0])\n",
        "  plot_fc_weight(model.fc2.weight, axes[1])\n",
        "  plot_fc_weight(model.fc3.weight, axes[2])\n",
        "  plot_fc_weight(model.fc4.weight, axes[3])\n",
        "  \n",
        "  axes[0].set_title('FC Layer1')\n",
        "  axes[1].set_title('FC Layer2')\n",
        "  axes[2].set_title('FC Layer3')\n",
        "  axes[3].set_title('FC Layer4')\n",
        "  \n",
        "  if title is not '':\n",
        "    plt.suptitle(title)"
      ],
      "metadata": {
        "id": "-zP9ADHA90fh"
      },
      "execution_count": null,
      "outputs": []
    },
    {
      "cell_type": "code",
      "source": [
        "plot_custom_model(unStructuredPruneModel, title='unStructuredPruneModel')"
      ],
      "metadata": {
        "colab": {
          "base_uri": "https://localhost:8080/",
          "height": 276
        },
        "id": "vuFJy6PV-iok",
        "outputId": "41c61acc-0c62-4c7e-977c-94467d6b2dd5"
      },
      "execution_count": null,
      "outputs": [
        {
          "output_type": "display_data",
          "data": {
            "image/png": "[encoded data removed]",
            "text/plain": [
              "<Figure size 1152x288 with 4 Axes>"
            ]
          },
          "metadata": {
            "needs_background": "light"
          }
        }
      ]
    },
    {
      "cell_type": "code",
      "source": [
        "plot_custom_model(structuredPruneModel, title='structuredPruneModel')"
      ],
      "metadata": {
        "colab": {
          "base_uri": "https://localhost:8080/",
          "height": 276
        },
        "id": "wcYSimd5_nil",
        "outputId": "ed3008c7-3501-48ae-86d6-6b851d8df361"
      },
      "execution_count": null,
      "outputs": [
        {
          "output_type": "display_data",
          "data": {
            "image/png": "[encoded data removed]",
            "text/plain": [
              "<Figure size 1152x288 with 4 Axes>"
            ]
          },
          "metadata": {
            "needs_background": "light"
          }
        }
      ]
    },
    {
      "cell_type": "code",
      "source": [
        "plot_custom_model(globalPruneModel, 'globalPruneModel')"
      ],
      "metadata": {
        "colab": {
          "base_uri": "https://localhost:8080/",
          "height": 276
        },
        "id": "WQxkWt7X_m-J",
        "outputId": "4f1844f1-c5d5-4b80-9b92-febd1925feee"
      },
      "execution_count": null,
      "outputs": [
        {
          "output_type": "display_data",
          "data": {
            "image/png": "[encoded data removed]",
            "text/plain": [
              "<Figure size 1152x288 with 4 Axes>"
            ]
          },
          "metadata": {
            "needs_background": "light"
          }
        }
      ]
    },
    {
      "cell_type": "markdown",
      "metadata": {
        "id": "v7XF7eJddRMZ"
      },
      "source": [
        "### Notes —\n",
        "\n",
        "Now that we pruned majority of our model, what performance improvement can we expect?\n",
        "\n",
        "- For now, ***Pytorch pruning doesn't improve the runtime performance of the model. This is because, even though large percentage of weights can be set to zero, the forward pass still uses operations on the entire dense tensors of the model***\n",
        "- ***Sparse tensor operations functionality is still very limited in Pytorch, but it has plans to incorporate optimizations to see effects of Pruning in production systems***\n",
        "- To truly see the effect of the different pruning methods, we need to use a separate library that can optimize the model for pruned weights and apply it to production or recreate the pruned model structure from scratch"
      ]
    },
    {
      "cell_type": "code",
      "source": [
        ""
      ],
      "metadata": {
        "id": "yn35CW9_WZ_5"
      },
      "execution_count": null,
      "outputs": []
    }
  ]
}