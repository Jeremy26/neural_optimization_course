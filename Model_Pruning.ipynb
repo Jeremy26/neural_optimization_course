{
  "nbformat": 4,
  "nbformat_minor": 0,
  "metadata": {
    "kernelspec": {
      "language": "python",
      "display_name": "Python 3",
      "name": "python3"
    },
    "language_info": {
      "name": "python",
      "version": "3.7.10",
      "mimetype": "text/x-python",
      "codemirror_mode": {
        "name": "ipython",
        "version": 3
      },
      "pygments_lexer": "ipython3",
      "nbconvert_exporter": "python",
      "file_extension": ".py"
    },
    "colab": {
      "name": "Model_Pruning.ipynb",
      "provenance": [],
      "collapsed_sections": [],
      "include_colab_link": true
    },
    "accelerator": "GPU",
    "widgets": {
      "application/vnd.jupyter.widget-state+json": {
        "57d5f51bdfe34fb6b93b7f1c226c24c9": {
          "model_module": "@jupyter-widgets/controls",
          "model_name": "HBoxModel",
          "model_module_version": "1.5.0",
          "state": {
            "_view_name": "HBoxView",
            "_dom_classes": [],
            "_model_name": "HBoxModel",
            "_view_module": "@jupyter-widgets/controls",
            "_model_module_version": "1.5.0",
            "_view_count": null,
            "_view_module_version": "1.5.0",
            "box_style": "",
            "layout": "IPY_MODEL_92638f080a21446099e742c1cfd9d666",
            "_model_module": "@jupyter-widgets/controls",
            "children": [
              "IPY_MODEL_9e1a2daf34434bd6aa2fc0acaede27a9",
              "IPY_MODEL_df1f3234b31c4bce8ef607e5ac481aab",
              "IPY_MODEL_6d3775eb525a4d49bfa068f6c2c197c7"
            ]
          }
        },
        "92638f080a21446099e742c1cfd9d666": {
          "model_module": "@jupyter-widgets/base",
          "model_name": "LayoutModel",
          "model_module_version": "1.2.0",
          "state": {
            "_view_name": "LayoutView",
            "grid_template_rows": null,
            "right": null,
            "justify_content": null,
            "_view_module": "@jupyter-widgets/base",
            "overflow": null,
            "_model_module_version": "1.2.0",
            "_view_count": null,
            "flex_flow": null,
            "width": null,
            "min_width": null,
            "border": null,
            "align_items": null,
            "bottom": null,
            "_model_module": "@jupyter-widgets/base",
            "top": null,
            "grid_column": null,
            "overflow_y": null,
            "overflow_x": null,
            "grid_auto_flow": null,
            "grid_area": null,
            "grid_template_columns": null,
            "flex": null,
            "_model_name": "LayoutModel",
            "justify_items": null,
            "grid_row": null,
            "max_height": null,
            "align_content": null,
            "visibility": null,
            "align_self": null,
            "height": null,
            "min_height": null,
            "padding": null,
            "grid_auto_rows": null,
            "grid_gap": null,
            "max_width": null,
            "order": null,
            "_view_module_version": "1.2.0",
            "grid_template_areas": null,
            "object_position": null,
            "object_fit": null,
            "grid_auto_columns": null,
            "margin": null,
            "display": null,
            "left": null
          }
        },
        "9e1a2daf34434bd6aa2fc0acaede27a9": {
          "model_module": "@jupyter-widgets/controls",
          "model_name": "HTMLModel",
          "model_module_version": "1.5.0",
          "state": {
            "_view_name": "HTMLView",
            "style": "IPY_MODEL_f0fff02829494486943cdd438e9a1ef6",
            "_dom_classes": [],
            "description": "",
            "_model_name": "HTMLModel",
            "placeholder": "​",
            "_view_module": "@jupyter-widgets/controls",
            "_model_module_version": "1.5.0",
            "value": "",
            "_view_count": null,
            "_view_module_version": "1.5.0",
            "description_tooltip": null,
            "_model_module": "@jupyter-widgets/controls",
            "layout": "IPY_MODEL_7951bcdda6ef4dd3b4c74020e1f9e23f"
          }
        },
        "df1f3234b31c4bce8ef607e5ac481aab": {
          "model_module": "@jupyter-widgets/controls",
          "model_name": "FloatProgressModel",
          "model_module_version": "1.5.0",
          "state": {
            "_view_name": "ProgressView",
            "style": "IPY_MODEL_f721a4cdbe164b10a688723a857397a6",
            "_dom_classes": [],
            "description": "",
            "_model_name": "FloatProgressModel",
            "bar_style": "success",
            "max": 26421880,
            "_view_module": "@jupyter-widgets/controls",
            "_model_module_version": "1.5.0",
            "value": 26421880,
            "_view_count": null,
            "_view_module_version": "1.5.0",
            "orientation": "horizontal",
            "min": 0,
            "description_tooltip": null,
            "_model_module": "@jupyter-widgets/controls",
            "layout": "IPY_MODEL_997fe4736d8948158e3b8a3eb3e43b8e"
          }
        },
        "6d3775eb525a4d49bfa068f6c2c197c7": {
          "model_module": "@jupyter-widgets/controls",
          "model_name": "HTMLModel",
          "model_module_version": "1.5.0",
          "state": {
            "_view_name": "HTMLView",
            "style": "IPY_MODEL_f891c2cfb72a4a80bd4030f8ff2e1b80",
            "_dom_classes": [],
            "description": "",
            "_model_name": "HTMLModel",
            "placeholder": "​",
            "_view_module": "@jupyter-widgets/controls",
            "_model_module_version": "1.5.0",
            "value": " 26422272/? [00:01&lt;00:00, 21562163.59it/s]",
            "_view_count": null,
            "_view_module_version": "1.5.0",
            "description_tooltip": null,
            "_model_module": "@jupyter-widgets/controls",
            "layout": "IPY_MODEL_3c25a82ea84d4907ad7800f45a529855"
          }
        },
        "f0fff02829494486943cdd438e9a1ef6": {
          "model_module": "@jupyter-widgets/controls",
          "model_name": "DescriptionStyleModel",
          "model_module_version": "1.5.0",
          "state": {
            "_view_name": "StyleView",
            "_model_name": "DescriptionStyleModel",
            "description_width": "",
            "_view_module": "@jupyter-widgets/base",
            "_model_module_version": "1.5.0",
            "_view_count": null,
            "_view_module_version": "1.2.0",
            "_model_module": "@jupyter-widgets/controls"
          }
        },
        "7951bcdda6ef4dd3b4c74020e1f9e23f": {
          "model_module": "@jupyter-widgets/base",
          "model_name": "LayoutModel",
          "model_module_version": "1.2.0",
          "state": {
            "_view_name": "LayoutView",
            "grid_template_rows": null,
            "right": null,
            "justify_content": null,
            "_view_module": "@jupyter-widgets/base",
            "overflow": null,
            "_model_module_version": "1.2.0",
            "_view_count": null,
            "flex_flow": null,
            "width": null,
            "min_width": null,
            "border": null,
            "align_items": null,
            "bottom": null,
            "_model_module": "@jupyter-widgets/base",
            "top": null,
            "grid_column": null,
            "overflow_y": null,
            "overflow_x": null,
            "grid_auto_flow": null,
            "grid_area": null,
            "grid_template_columns": null,
            "flex": null,
            "_model_name": "LayoutModel",
            "justify_items": null,
            "grid_row": null,
            "max_height": null,
            "align_content": null,
            "visibility": null,
            "align_self": null,
            "height": null,
            "min_height": null,
            "padding": null,
            "grid_auto_rows": null,
            "grid_gap": null,
            "max_width": null,
            "order": null,
            "_view_module_version": "1.2.0",
            "grid_template_areas": null,
            "object_position": null,
            "object_fit": null,
            "grid_auto_columns": null,
            "margin": null,
            "display": null,
            "left": null
          }
        },
        "f721a4cdbe164b10a688723a857397a6": {
          "model_module": "@jupyter-widgets/controls",
          "model_name": "ProgressStyleModel",
          "model_module_version": "1.5.0",
          "state": {
            "_view_name": "StyleView",
            "_model_name": "ProgressStyleModel",
            "description_width": "",
            "_view_module": "@jupyter-widgets/base",
            "_model_module_version": "1.5.0",
            "_view_count": null,
            "_view_module_version": "1.2.0",
            "bar_color": null,
            "_model_module": "@jupyter-widgets/controls"
          }
        },
        "997fe4736d8948158e3b8a3eb3e43b8e": {
          "model_module": "@jupyter-widgets/base",
          "model_name": "LayoutModel",
          "model_module_version": "1.2.0",
          "state": {
            "_view_name": "LayoutView",
            "grid_template_rows": null,
            "right": null,
            "justify_content": null,
            "_view_module": "@jupyter-widgets/base",
            "overflow": null,
            "_model_module_version": "1.2.0",
            "_view_count": null,
            "flex_flow": null,
            "width": null,
            "min_width": null,
            "border": null,
            "align_items": null,
            "bottom": null,
            "_model_module": "@jupyter-widgets/base",
            "top": null,
            "grid_column": null,
            "overflow_y": null,
            "overflow_x": null,
            "grid_auto_flow": null,
            "grid_area": null,
            "grid_template_columns": null,
            "flex": null,
            "_model_name": "LayoutModel",
            "justify_items": null,
            "grid_row": null,
            "max_height": null,
            "align_content": null,
            "visibility": null,
            "align_self": null,
            "height": null,
            "min_height": null,
            "padding": null,
            "grid_auto_rows": null,
            "grid_gap": null,
            "max_width": null,
            "order": null,
            "_view_module_version": "1.2.0",
            "grid_template_areas": null,
            "object_position": null,
            "object_fit": null,
            "grid_auto_columns": null,
            "margin": null,
            "display": null,
            "left": null
          }
        },
        "f891c2cfb72a4a80bd4030f8ff2e1b80": {
          "model_module": "@jupyter-widgets/controls",
          "model_name": "DescriptionStyleModel",
          "model_module_version": "1.5.0",
          "state": {
            "_view_name": "StyleView",
            "_model_name": "DescriptionStyleModel",
            "description_width": "",
            "_view_module": "@jupyter-widgets/base",
            "_model_module_version": "1.5.0",
            "_view_count": null,
            "_view_module_version": "1.2.0",
            "_model_module": "@jupyter-widgets/controls"
          }
        },
        "3c25a82ea84d4907ad7800f45a529855": {
          "model_module": "@jupyter-widgets/base",
          "model_name": "LayoutModel",
          "model_module_version": "1.2.0",
          "state": {
            "_view_name": "LayoutView",
            "grid_template_rows": null,
            "right": null,
            "justify_content": null,
            "_view_module": "@jupyter-widgets/base",
            "overflow": null,
            "_model_module_version": "1.2.0",
            "_view_count": null,
            "flex_flow": null,
            "width": null,
            "min_width": null,
            "border": null,
            "align_items": null,
            "bottom": null,
            "_model_module": "@jupyter-widgets/base",
            "top": null,
            "grid_column": null,
            "overflow_y": null,
            "overflow_x": null,
            "grid_auto_flow": null,
            "grid_area": null,
            "grid_template_columns": null,
            "flex": null,
            "_model_name": "LayoutModel",
            "justify_items": null,
            "grid_row": null,
            "max_height": null,
            "align_content": null,
            "visibility": null,
            "align_self": null,
            "height": null,
            "min_height": null,
            "padding": null,
            "grid_auto_rows": null,
            "grid_gap": null,
            "max_width": null,
            "order": null,
            "_view_module_version": "1.2.0",
            "grid_template_areas": null,
            "object_position": null,
            "object_fit": null,
            "grid_auto_columns": null,
            "margin": null,
            "display": null,
            "left": null
          }
        },
        "b692cf9ec11b4de3b81e511d5cd3303f": {
          "model_module": "@jupyter-widgets/controls",
          "model_name": "HBoxModel",
          "model_module_version": "1.5.0",
          "state": {
            "_view_name": "HBoxView",
            "_dom_classes": [],
            "_model_name": "HBoxModel",
            "_view_module": "@jupyter-widgets/controls",
            "_model_module_version": "1.5.0",
            "_view_count": null,
            "_view_module_version": "1.5.0",
            "box_style": "",
            "layout": "IPY_MODEL_305c5b221af14633b36243779dba1117",
            "_model_module": "@jupyter-widgets/controls",
            "children": [
              "IPY_MODEL_d9a919b916724eadb6f67fd0fce96691",
              "IPY_MODEL_e2a08cf24d5647faa74592225de1e0d5",
              "IPY_MODEL_e76682d95035425c89acb05a7525dc1b"
            ]
          }
        },
        "305c5b221af14633b36243779dba1117": {
          "model_module": "@jupyter-widgets/base",
          "model_name": "LayoutModel",
          "model_module_version": "1.2.0",
          "state": {
            "_view_name": "LayoutView",
            "grid_template_rows": null,
            "right": null,
            "justify_content": null,
            "_view_module": "@jupyter-widgets/base",
            "overflow": null,
            "_model_module_version": "1.2.0",
            "_view_count": null,
            "flex_flow": null,
            "width": null,
            "min_width": null,
            "border": null,
            "align_items": null,
            "bottom": null,
            "_model_module": "@jupyter-widgets/base",
            "top": null,
            "grid_column": null,
            "overflow_y": null,
            "overflow_x": null,
            "grid_auto_flow": null,
            "grid_area": null,
            "grid_template_columns": null,
            "flex": null,
            "_model_name": "LayoutModel",
            "justify_items": null,
            "grid_row": null,
            "max_height": null,
            "align_content": null,
            "visibility": null,
            "align_self": null,
            "height": null,
            "min_height": null,
            "padding": null,
            "grid_auto_rows": null,
            "grid_gap": null,
            "max_width": null,
            "order": null,
            "_view_module_version": "1.2.0",
            "grid_template_areas": null,
            "object_position": null,
            "object_fit": null,
            "grid_auto_columns": null,
            "margin": null,
            "display": null,
            "left": null
          }
        },
        "d9a919b916724eadb6f67fd0fce96691": {
          "model_module": "@jupyter-widgets/controls",
          "model_name": "HTMLModel",
          "model_module_version": "1.5.0",
          "state": {
            "_view_name": "HTMLView",
            "style": "IPY_MODEL_12c2c20d13e24360b8320401fb121ec3",
            "_dom_classes": [],
            "description": "",
            "_model_name": "HTMLModel",
            "placeholder": "​",
            "_view_module": "@jupyter-widgets/controls",
            "_model_module_version": "1.5.0",
            "value": "",
            "_view_count": null,
            "_view_module_version": "1.5.0",
            "description_tooltip": null,
            "_model_module": "@jupyter-widgets/controls",
            "layout": "IPY_MODEL_67fe4e51acb9483780528c0e6cb863a8"
          }
        },
        "e2a08cf24d5647faa74592225de1e0d5": {
          "model_module": "@jupyter-widgets/controls",
          "model_name": "FloatProgressModel",
          "model_module_version": "1.5.0",
          "state": {
            "_view_name": "ProgressView",
            "style": "IPY_MODEL_b1874afe4eb74d8e916d2cbfae7c100f",
            "_dom_classes": [],
            "description": "",
            "_model_name": "FloatProgressModel",
            "bar_style": "success",
            "max": 29515,
            "_view_module": "@jupyter-widgets/controls",
            "_model_module_version": "1.5.0",
            "value": 29515,
            "_view_count": null,
            "_view_module_version": "1.5.0",
            "orientation": "horizontal",
            "min": 0,
            "description_tooltip": null,
            "_model_module": "@jupyter-widgets/controls",
            "layout": "IPY_MODEL_5488073466d440aabdccc4006c87ca40"
          }
        },
        "e76682d95035425c89acb05a7525dc1b": {
          "model_module": "@jupyter-widgets/controls",
          "model_name": "HTMLModel",
          "model_module_version": "1.5.0",
          "state": {
            "_view_name": "HTMLView",
            "style": "IPY_MODEL_d4d41719d85143e2af9c1cae357cfb1d",
            "_dom_classes": [],
            "description": "",
            "_model_name": "HTMLModel",
            "placeholder": "​",
            "_view_module": "@jupyter-widgets/controls",
            "_model_module_version": "1.5.0",
            "value": " 29696/? [00:00&lt;00:00, 123854.17it/s]",
            "_view_count": null,
            "_view_module_version": "1.5.0",
            "description_tooltip": null,
            "_model_module": "@jupyter-widgets/controls",
            "layout": "IPY_MODEL_23d298bacb394aa3ba78bf5e1e9fc41b"
          }
        },
        "12c2c20d13e24360b8320401fb121ec3": {
          "model_module": "@jupyter-widgets/controls",
          "model_name": "DescriptionStyleModel",
          "model_module_version": "1.5.0",
          "state": {
            "_view_name": "StyleView",
            "_model_name": "DescriptionStyleModel",
            "description_width": "",
            "_view_module": "@jupyter-widgets/base",
            "_model_module_version": "1.5.0",
            "_view_count": null,
            "_view_module_version": "1.2.0",
            "_model_module": "@jupyter-widgets/controls"
          }
        },
        "67fe4e51acb9483780528c0e6cb863a8": {
          "model_module": "@jupyter-widgets/base",
          "model_name": "LayoutModel",
          "model_module_version": "1.2.0",
          "state": {
            "_view_name": "LayoutView",
            "grid_template_rows": null,
            "right": null,
            "justify_content": null,
            "_view_module": "@jupyter-widgets/base",
            "overflow": null,
            "_model_module_version": "1.2.0",
            "_view_count": null,
            "flex_flow": null,
            "width": null,
            "min_width": null,
            "border": null,
            "align_items": null,
            "bottom": null,
            "_model_module": "@jupyter-widgets/base",
            "top": null,
            "grid_column": null,
            "overflow_y": null,
            "overflow_x": null,
            "grid_auto_flow": null,
            "grid_area": null,
            "grid_template_columns": null,
            "flex": null,
            "_model_name": "LayoutModel",
            "justify_items": null,
            "grid_row": null,
            "max_height": null,
            "align_content": null,
            "visibility": null,
            "align_self": null,
            "height": null,
            "min_height": null,
            "padding": null,
            "grid_auto_rows": null,
            "grid_gap": null,
            "max_width": null,
            "order": null,
            "_view_module_version": "1.2.0",
            "grid_template_areas": null,
            "object_position": null,
            "object_fit": null,
            "grid_auto_columns": null,
            "margin": null,
            "display": null,
            "left": null
          }
        },
        "b1874afe4eb74d8e916d2cbfae7c100f": {
          "model_module": "@jupyter-widgets/controls",
          "model_name": "ProgressStyleModel",
          "model_module_version": "1.5.0",
          "state": {
            "_view_name": "StyleView",
            "_model_name": "ProgressStyleModel",
            "description_width": "",
            "_view_module": "@jupyter-widgets/base",
            "_model_module_version": "1.5.0",
            "_view_count": null,
            "_view_module_version": "1.2.0",
            "bar_color": null,
            "_model_module": "@jupyter-widgets/controls"
          }
        },
        "5488073466d440aabdccc4006c87ca40": {
          "model_module": "@jupyter-widgets/base",
          "model_name": "LayoutModel",
          "model_module_version": "1.2.0",
          "state": {
            "_view_name": "LayoutView",
            "grid_template_rows": null,
            "right": null,
            "justify_content": null,
            "_view_module": "@jupyter-widgets/base",
            "overflow": null,
            "_model_module_version": "1.2.0",
            "_view_count": null,
            "flex_flow": null,
            "width": null,
            "min_width": null,
            "border": null,
            "align_items": null,
            "bottom": null,
            "_model_module": "@jupyter-widgets/base",
            "top": null,
            "grid_column": null,
            "overflow_y": null,
            "overflow_x": null,
            "grid_auto_flow": null,
            "grid_area": null,
            "grid_template_columns": null,
            "flex": null,
            "_model_name": "LayoutModel",
            "justify_items": null,
            "grid_row": null,
            "max_height": null,
            "align_content": null,
            "visibility": null,
            "align_self": null,
            "height": null,
            "min_height": null,
            "padding": null,
            "grid_auto_rows": null,
            "grid_gap": null,
            "max_width": null,
            "order": null,
            "_view_module_version": "1.2.0",
            "grid_template_areas": null,
            "object_position": null,
            "object_fit": null,
            "grid_auto_columns": null,
            "margin": null,
            "display": null,
            "left": null
          }
        },
        "d4d41719d85143e2af9c1cae357cfb1d": {
          "model_module": "@jupyter-widgets/controls",
          "model_name": "DescriptionStyleModel",
          "model_module_version": "1.5.0",
          "state": {
            "_view_name": "StyleView",
            "_model_name": "DescriptionStyleModel",
            "description_width": "",
            "_view_module": "@jupyter-widgets/base",
            "_model_module_version": "1.5.0",
            "_view_count": null,
            "_view_module_version": "1.2.0",
            "_model_module": "@jupyter-widgets/controls"
          }
        },
        "23d298bacb394aa3ba78bf5e1e9fc41b": {
          "model_module": "@jupyter-widgets/base",
          "model_name": "LayoutModel",
          "model_module_version": "1.2.0",
          "state": {
            "_view_name": "LayoutView",
            "grid_template_rows": null,
            "right": null,
            "justify_content": null,
            "_view_module": "@jupyter-widgets/base",
            "overflow": null,
            "_model_module_version": "1.2.0",
            "_view_count": null,
            "flex_flow": null,
            "width": null,
            "min_width": null,
            "border": null,
            "align_items": null,
            "bottom": null,
            "_model_module": "@jupyter-widgets/base",
            "top": null,
            "grid_column": null,
            "overflow_y": null,
            "overflow_x": null,
            "grid_auto_flow": null,
            "grid_area": null,
            "grid_template_columns": null,
            "flex": null,
            "_model_name": "LayoutModel",
            "justify_items": null,
            "grid_row": null,
            "max_height": null,
            "align_content": null,
            "visibility": null,
            "align_self": null,
            "height": null,
            "min_height": null,
            "padding": null,
            "grid_auto_rows": null,
            "grid_gap": null,
            "max_width": null,
            "order": null,
            "_view_module_version": "1.2.0",
            "grid_template_areas": null,
            "object_position": null,
            "object_fit": null,
            "grid_auto_columns": null,
            "margin": null,
            "display": null,
            "left": null
          }
        },
        "58e8aa165a5848afb87cb6c06652e6fd": {
          "model_module": "@jupyter-widgets/controls",
          "model_name": "HBoxModel",
          "model_module_version": "1.5.0",
          "state": {
            "_view_name": "HBoxView",
            "_dom_classes": [],
            "_model_name": "HBoxModel",
            "_view_module": "@jupyter-widgets/controls",
            "_model_module_version": "1.5.0",
            "_view_count": null,
            "_view_module_version": "1.5.0",
            "box_style": "",
            "layout": "IPY_MODEL_0fb9ad1080cd4720bcb5d2070b44af77",
            "_model_module": "@jupyter-widgets/controls",
            "children": [
              "IPY_MODEL_8fe87484cb364404a30c94b26716641b",
              "IPY_MODEL_de8f088a563e4c4d8de4584e8cef9ef1",
              "IPY_MODEL_c2085e653ab34558bb8e86f6d624ed82"
            ]
          }
        },
        "0fb9ad1080cd4720bcb5d2070b44af77": {
          "model_module": "@jupyter-widgets/base",
          "model_name": "LayoutModel",
          "model_module_version": "1.2.0",
          "state": {
            "_view_name": "LayoutView",
            "grid_template_rows": null,
            "right": null,
            "justify_content": null,
            "_view_module": "@jupyter-widgets/base",
            "overflow": null,
            "_model_module_version": "1.2.0",
            "_view_count": null,
            "flex_flow": null,
            "width": null,
            "min_width": null,
            "border": null,
            "align_items": null,
            "bottom": null,
            "_model_module": "@jupyter-widgets/base",
            "top": null,
            "grid_column": null,
            "overflow_y": null,
            "overflow_x": null,
            "grid_auto_flow": null,
            "grid_area": null,
            "grid_template_columns": null,
            "flex": null,
            "_model_name": "LayoutModel",
            "justify_items": null,
            "grid_row": null,
            "max_height": null,
            "align_content": null,
            "visibility": null,
            "align_self": null,
            "height": null,
            "min_height": null,
            "padding": null,
            "grid_auto_rows": null,
            "grid_gap": null,
            "max_width": null,
            "order": null,
            "_view_module_version": "1.2.0",
            "grid_template_areas": null,
            "object_position": null,
            "object_fit": null,
            "grid_auto_columns": null,
            "margin": null,
            "display": null,
            "left": null
          }
        },
        "8fe87484cb364404a30c94b26716641b": {
          "model_module": "@jupyter-widgets/controls",
          "model_name": "HTMLModel",
          "model_module_version": "1.5.0",
          "state": {
            "_view_name": "HTMLView",
            "style": "IPY_MODEL_6ec9f900028b4b95a16e4b42b5621a7d",
            "_dom_classes": [],
            "description": "",
            "_model_name": "HTMLModel",
            "placeholder": "​",
            "_view_module": "@jupyter-widgets/controls",
            "_model_module_version": "1.5.0",
            "value": "",
            "_view_count": null,
            "_view_module_version": "1.5.0",
            "description_tooltip": null,
            "_model_module": "@jupyter-widgets/controls",
            "layout": "IPY_MODEL_e15a1115efbc4cb8b809146731ba4e25"
          }
        },
        "de8f088a563e4c4d8de4584e8cef9ef1": {
          "model_module": "@jupyter-widgets/controls",
          "model_name": "FloatProgressModel",
          "model_module_version": "1.5.0",
          "state": {
            "_view_name": "ProgressView",
            "style": "IPY_MODEL_8f8c8bd9aa85435aa4090b7a1a0a3b8a",
            "_dom_classes": [],
            "description": "",
            "_model_name": "FloatProgressModel",
            "bar_style": "success",
            "max": 4422102,
            "_view_module": "@jupyter-widgets/controls",
            "_model_module_version": "1.5.0",
            "value": 4422102,
            "_view_count": null,
            "_view_module_version": "1.5.0",
            "orientation": "horizontal",
            "min": 0,
            "description_tooltip": null,
            "_model_module": "@jupyter-widgets/controls",
            "layout": "IPY_MODEL_a33210926aa64c49a9d5ae7b96280124"
          }
        },
        "c2085e653ab34558bb8e86f6d624ed82": {
          "model_module": "@jupyter-widgets/controls",
          "model_name": "HTMLModel",
          "model_module_version": "1.5.0",
          "state": {
            "_view_name": "HTMLView",
            "style": "IPY_MODEL_73a8706cc0254300ad4a085677b213f2",
            "_dom_classes": [],
            "description": "",
            "_model_name": "HTMLModel",
            "placeholder": "​",
            "_view_module": "@jupyter-widgets/controls",
            "_model_module_version": "1.5.0",
            "value": " 4422656/? [00:00&lt;00:00, 7612951.89it/s]",
            "_view_count": null,
            "_view_module_version": "1.5.0",
            "description_tooltip": null,
            "_model_module": "@jupyter-widgets/controls",
            "layout": "IPY_MODEL_174de9f0f2d04d44a1a11699236e5dda"
          }
        },
        "6ec9f900028b4b95a16e4b42b5621a7d": {
          "model_module": "@jupyter-widgets/controls",
          "model_name": "DescriptionStyleModel",
          "model_module_version": "1.5.0",
          "state": {
            "_view_name": "StyleView",
            "_model_name": "DescriptionStyleModel",
            "description_width": "",
            "_view_module": "@jupyter-widgets/base",
            "_model_module_version": "1.5.0",
            "_view_count": null,
            "_view_module_version": "1.2.0",
            "_model_module": "@jupyter-widgets/controls"
          }
        },
        "e15a1115efbc4cb8b809146731ba4e25": {
          "model_module": "@jupyter-widgets/base",
          "model_name": "LayoutModel",
          "model_module_version": "1.2.0",
          "state": {
            "_view_name": "LayoutView",
            "grid_template_rows": null,
            "right": null,
            "justify_content": null,
            "_view_module": "@jupyter-widgets/base",
            "overflow": null,
            "_model_module_version": "1.2.0",
            "_view_count": null,
            "flex_flow": null,
            "width": null,
            "min_width": null,
            "border": null,
            "align_items": null,
            "bottom": null,
            "_model_module": "@jupyter-widgets/base",
            "top": null,
            "grid_column": null,
            "overflow_y": null,
            "overflow_x": null,
            "grid_auto_flow": null,
            "grid_area": null,
            "grid_template_columns": null,
            "flex": null,
            "_model_name": "LayoutModel",
            "justify_items": null,
            "grid_row": null,
            "max_height": null,
            "align_content": null,
            "visibility": null,
            "align_self": null,
            "height": null,
            "min_height": null,
            "padding": null,
            "grid_auto_rows": null,
            "grid_gap": null,
            "max_width": null,
            "order": null,
            "_view_module_version": "1.2.0",
            "grid_template_areas": null,
            "object_position": null,
            "object_fit": null,
            "grid_auto_columns": null,
            "margin": null,
            "display": null,
            "left": null
          }
        },
        "8f8c8bd9aa85435aa4090b7a1a0a3b8a": {
          "model_module": "@jupyter-widgets/controls",
          "model_name": "ProgressStyleModel",
          "model_module_version": "1.5.0",
          "state": {
            "_view_name": "StyleView",
            "_model_name": "ProgressStyleModel",
            "description_width": "",
            "_view_module": "@jupyter-widgets/base",
            "_model_module_version": "1.5.0",
            "_view_count": null,
            "_view_module_version": "1.2.0",
            "bar_color": null,
            "_model_module": "@jupyter-widgets/controls"
          }
        },
        "a33210926aa64c49a9d5ae7b96280124": {
          "model_module": "@jupyter-widgets/base",
          "model_name": "LayoutModel",
          "model_module_version": "1.2.0",
          "state": {
            "_view_name": "LayoutView",
            "grid_template_rows": null,
            "right": null,
            "justify_content": null,
            "_view_module": "@jupyter-widgets/base",
            "overflow": null,
            "_model_module_version": "1.2.0",
            "_view_count": null,
            "flex_flow": null,
            "width": null,
            "min_width": null,
            "border": null,
            "align_items": null,
            "bottom": null,
            "_model_module": "@jupyter-widgets/base",
            "top": null,
            "grid_column": null,
            "overflow_y": null,
            "overflow_x": null,
            "grid_auto_flow": null,
            "grid_area": null,
            "grid_template_columns": null,
            "flex": null,
            "_model_name": "LayoutModel",
            "justify_items": null,
            "grid_row": null,
            "max_height": null,
            "align_content": null,
            "visibility": null,
            "align_self": null,
            "height": null,
            "min_height": null,
            "padding": null,
            "grid_auto_rows": null,
            "grid_gap": null,
            "max_width": null,
            "order": null,
            "_view_module_version": "1.2.0",
            "grid_template_areas": null,
            "object_position": null,
            "object_fit": null,
            "grid_auto_columns": null,
            "margin": null,
            "display": null,
            "left": null
          }
        },
        "73a8706cc0254300ad4a085677b213f2": {
          "model_module": "@jupyter-widgets/controls",
          "model_name": "DescriptionStyleModel",
          "model_module_version": "1.5.0",
          "state": {
            "_view_name": "StyleView",
            "_model_name": "DescriptionStyleModel",
            "description_width": "",
            "_view_module": "@jupyter-widgets/base",
            "_model_module_version": "1.5.0",
            "_view_count": null,
            "_view_module_version": "1.2.0",
            "_model_module": "@jupyter-widgets/controls"
          }
        },
        "174de9f0f2d04d44a1a11699236e5dda": {
          "model_module": "@jupyter-widgets/base",
          "model_name": "LayoutModel",
          "model_module_version": "1.2.0",
          "state": {
            "_view_name": "LayoutView",
            "grid_template_rows": null,
            "right": null,
            "justify_content": null,
            "_view_module": "@jupyter-widgets/base",
            "overflow": null,
            "_model_module_version": "1.2.0",
            "_view_count": null,
            "flex_flow": null,
            "width": null,
            "min_width": null,
            "border": null,
            "align_items": null,
            "bottom": null,
            "_model_module": "@jupyter-widgets/base",
            "top": null,
            "grid_column": null,
            "overflow_y": null,
            "overflow_x": null,
            "grid_auto_flow": null,
            "grid_area": null,
            "grid_template_columns": null,
            "flex": null,
            "_model_name": "LayoutModel",
            "justify_items": null,
            "grid_row": null,
            "max_height": null,
            "align_content": null,
            "visibility": null,
            "align_self": null,
            "height": null,
            "min_height": null,
            "padding": null,
            "grid_auto_rows": null,
            "grid_gap": null,
            "max_width": null,
            "order": null,
            "_view_module_version": "1.2.0",
            "grid_template_areas": null,
            "object_position": null,
            "object_fit": null,
            "grid_auto_columns": null,
            "margin": null,
            "display": null,
            "left": null
          }
        },
        "e442496b3ce845669985727ab695befe": {
          "model_module": "@jupyter-widgets/controls",
          "model_name": "HBoxModel",
          "model_module_version": "1.5.0",
          "state": {
            "_view_name": "HBoxView",
            "_dom_classes": [],
            "_model_name": "HBoxModel",
            "_view_module": "@jupyter-widgets/controls",
            "_model_module_version": "1.5.0",
            "_view_count": null,
            "_view_module_version": "1.5.0",
            "box_style": "",
            "layout": "IPY_MODEL_43c02053cba64112b35543fe3620fd1a",
            "_model_module": "@jupyter-widgets/controls",
            "children": [
              "IPY_MODEL_4272172eac914fb594322201bb28df15",
              "IPY_MODEL_b0cff5a7fae6468ebbf0c74c766ad851",
              "IPY_MODEL_27fc98dc6a314b6899a7066b04487c87"
            ]
          }
        },
        "43c02053cba64112b35543fe3620fd1a": {
          "model_module": "@jupyter-widgets/base",
          "model_name": "LayoutModel",
          "model_module_version": "1.2.0",
          "state": {
            "_view_name": "LayoutView",
            "grid_template_rows": null,
            "right": null,
            "justify_content": null,
            "_view_module": "@jupyter-widgets/base",
            "overflow": null,
            "_model_module_version": "1.2.0",
            "_view_count": null,
            "flex_flow": null,
            "width": null,
            "min_width": null,
            "border": null,
            "align_items": null,
            "bottom": null,
            "_model_module": "@jupyter-widgets/base",
            "top": null,
            "grid_column": null,
            "overflow_y": null,
            "overflow_x": null,
            "grid_auto_flow": null,
            "grid_area": null,
            "grid_template_columns": null,
            "flex": null,
            "_model_name": "LayoutModel",
            "justify_items": null,
            "grid_row": null,
            "max_height": null,
            "align_content": null,
            "visibility": null,
            "align_self": null,
            "height": null,
            "min_height": null,
            "padding": null,
            "grid_auto_rows": null,
            "grid_gap": null,
            "max_width": null,
            "order": null,
            "_view_module_version": "1.2.0",
            "grid_template_areas": null,
            "object_position": null,
            "object_fit": null,
            "grid_auto_columns": null,
            "margin": null,
            "display": null,
            "left": null
          }
        },
        "4272172eac914fb594322201bb28df15": {
          "model_module": "@jupyter-widgets/controls",
          "model_name": "HTMLModel",
          "model_module_version": "1.5.0",
          "state": {
            "_view_name": "HTMLView",
            "style": "IPY_MODEL_a6e230791f1b4e64bbca5fddf913b739",
            "_dom_classes": [],
            "description": "",
            "_model_name": "HTMLModel",
            "placeholder": "​",
            "_view_module": "@jupyter-widgets/controls",
            "_model_module_version": "1.5.0",
            "value": "",
            "_view_count": null,
            "_view_module_version": "1.5.0",
            "description_tooltip": null,
            "_model_module": "@jupyter-widgets/controls",
            "layout": "IPY_MODEL_c9063b8a4a1048f3843fc077547782c6"
          }
        },
        "b0cff5a7fae6468ebbf0c74c766ad851": {
          "model_module": "@jupyter-widgets/controls",
          "model_name": "FloatProgressModel",
          "model_module_version": "1.5.0",
          "state": {
            "_view_name": "ProgressView",
            "style": "IPY_MODEL_33fa548132fa4da9810f1ffed039adfa",
            "_dom_classes": [],
            "description": "",
            "_model_name": "FloatProgressModel",
            "bar_style": "success",
            "max": 5148,
            "_view_module": "@jupyter-widgets/controls",
            "_model_module_version": "1.5.0",
            "value": 5148,
            "_view_count": null,
            "_view_module_version": "1.5.0",
            "orientation": "horizontal",
            "min": 0,
            "description_tooltip": null,
            "_model_module": "@jupyter-widgets/controls",
            "layout": "IPY_MODEL_4ff3882280dc4ba4bbf223db1f155529"
          }
        },
        "27fc98dc6a314b6899a7066b04487c87": {
          "model_module": "@jupyter-widgets/controls",
          "model_name": "HTMLModel",
          "model_module_version": "1.5.0",
          "state": {
            "_view_name": "HTMLView",
            "style": "IPY_MODEL_3271bac691ff40399227890acfcd4e57",
            "_dom_classes": [],
            "description": "",
            "_model_name": "HTMLModel",
            "placeholder": "​",
            "_view_module": "@jupyter-widgets/controls",
            "_model_module_version": "1.5.0",
            "value": " 6144/? [00:00&lt;00:00, 147546.90it/s]",
            "_view_count": null,
            "_view_module_version": "1.5.0",
            "description_tooltip": null,
            "_model_module": "@jupyter-widgets/controls",
            "layout": "IPY_MODEL_d79718f6906448019d763695bbd2ecfd"
          }
        },
        "a6e230791f1b4e64bbca5fddf913b739": {
          "model_module": "@jupyter-widgets/controls",
          "model_name": "DescriptionStyleModel",
          "model_module_version": "1.5.0",
          "state": {
            "_view_name": "StyleView",
            "_model_name": "DescriptionStyleModel",
            "description_width": "",
            "_view_module": "@jupyter-widgets/base",
            "_model_module_version": "1.5.0",
            "_view_count": null,
            "_view_module_version": "1.2.0",
            "_model_module": "@jupyter-widgets/controls"
          }
        },
        "c9063b8a4a1048f3843fc077547782c6": {
          "model_module": "@jupyter-widgets/base",
          "model_name": "LayoutModel",
          "model_module_version": "1.2.0",
          "state": {
            "_view_name": "LayoutView",
            "grid_template_rows": null,
            "right": null,
            "justify_content": null,
            "_view_module": "@jupyter-widgets/base",
            "overflow": null,
            "_model_module_version": "1.2.0",
            "_view_count": null,
            "flex_flow": null,
            "width": null,
            "min_width": null,
            "border": null,
            "align_items": null,
            "bottom": null,
            "_model_module": "@jupyter-widgets/base",
            "top": null,
            "grid_column": null,
            "overflow_y": null,
            "overflow_x": null,
            "grid_auto_flow": null,
            "grid_area": null,
            "grid_template_columns": null,
            "flex": null,
            "_model_name": "LayoutModel",
            "justify_items": null,
            "grid_row": null,
            "max_height": null,
            "align_content": null,
            "visibility": null,
            "align_self": null,
            "height": null,
            "min_height": null,
            "padding": null,
            "grid_auto_rows": null,
            "grid_gap": null,
            "max_width": null,
            "order": null,
            "_view_module_version": "1.2.0",
            "grid_template_areas": null,
            "object_position": null,
            "object_fit": null,
            "grid_auto_columns": null,
            "margin": null,
            "display": null,
            "left": null
          }
        },
        "33fa548132fa4da9810f1ffed039adfa": {
          "model_module": "@jupyter-widgets/controls",
          "model_name": "ProgressStyleModel",
          "model_module_version": "1.5.0",
          "state": {
            "_view_name": "StyleView",
            "_model_name": "ProgressStyleModel",
            "description_width": "",
            "_view_module": "@jupyter-widgets/base",
            "_model_module_version": "1.5.0",
            "_view_count": null,
            "_view_module_version": "1.2.0",
            "bar_color": null,
            "_model_module": "@jupyter-widgets/controls"
          }
        },
        "4ff3882280dc4ba4bbf223db1f155529": {
          "model_module": "@jupyter-widgets/base",
          "model_name": "LayoutModel",
          "model_module_version": "1.2.0",
          "state": {
            "_view_name": "LayoutView",
            "grid_template_rows": null,
            "right": null,
            "justify_content": null,
            "_view_module": "@jupyter-widgets/base",
            "overflow": null,
            "_model_module_version": "1.2.0",
            "_view_count": null,
            "flex_flow": null,
            "width": null,
            "min_width": null,
            "border": null,
            "align_items": null,
            "bottom": null,
            "_model_module": "@jupyter-widgets/base",
            "top": null,
            "grid_column": null,
            "overflow_y": null,
            "overflow_x": null,
            "grid_auto_flow": null,
            "grid_area": null,
            "grid_template_columns": null,
            "flex": null,
            "_model_name": "LayoutModel",
            "justify_items": null,
            "grid_row": null,
            "max_height": null,
            "align_content": null,
            "visibility": null,
            "align_self": null,
            "height": null,
            "min_height": null,
            "padding": null,
            "grid_auto_rows": null,
            "grid_gap": null,
            "max_width": null,
            "order": null,
            "_view_module_version": "1.2.0",
            "grid_template_areas": null,
            "object_position": null,
            "object_fit": null,
            "grid_auto_columns": null,
            "margin": null,
            "display": null,
            "left": null
          }
        },
        "3271bac691ff40399227890acfcd4e57": {
          "model_module": "@jupyter-widgets/controls",
          "model_name": "DescriptionStyleModel",
          "model_module_version": "1.5.0",
          "state": {
            "_view_name": "StyleView",
            "_model_name": "DescriptionStyleModel",
            "description_width": "",
            "_view_module": "@jupyter-widgets/base",
            "_model_module_version": "1.5.0",
            "_view_count": null,
            "_view_module_version": "1.2.0",
            "_model_module": "@jupyter-widgets/controls"
          }
        },
        "d79718f6906448019d763695bbd2ecfd": {
          "model_module": "@jupyter-widgets/base",
          "model_name": "LayoutModel",
          "model_module_version": "1.2.0",
          "state": {
            "_view_name": "LayoutView",
            "grid_template_rows": null,
            "right": null,
            "justify_content": null,
            "_view_module": "@jupyter-widgets/base",
            "overflow": null,
            "_model_module_version": "1.2.0",
            "_view_count": null,
            "flex_flow": null,
            "width": null,
            "min_width": null,
            "border": null,
            "align_items": null,
            "bottom": null,
            "_model_module": "@jupyter-widgets/base",
            "top": null,
            "grid_column": null,
            "overflow_y": null,
            "overflow_x": null,
            "grid_auto_flow": null,
            "grid_area": null,
            "grid_template_columns": null,
            "flex": null,
            "_model_name": "LayoutModel",
            "justify_items": null,
            "grid_row": null,
            "max_height": null,
            "align_content": null,
            "visibility": null,
            "align_self": null,
            "height": null,
            "min_height": null,
            "padding": null,
            "grid_auto_rows": null,
            "grid_gap": null,
            "max_width": null,
            "order": null,
            "_view_module_version": "1.2.0",
            "grid_template_areas": null,
            "object_position": null,
            "object_fit": null,
            "grid_auto_columns": null,
            "margin": null,
            "display": null,
            "left": null
          }
        }
      }
    }
  },
  "cells": [
    {
      "cell_type": "markdown",
      "metadata": {
        "id": "view-in-github",
        "colab_type": "text"
      },
      "source": [
        "<a href=\"https://colab.research.google.com/github/Jeremy26/neural_optimization_course/blob/main/Model_Pruning.ipynb\" target=\"_parent\"><img src=\"https://colab.research.google.com/assets/colab-badge.svg\" alt=\"Open In Colab\"/></a>"
      ]
    },
    {
      "cell_type": "markdown",
      "metadata": {
        "id": "MMxCcDUqq_j0"
      },
      "source": [
        "# Welcome to the Pruning Workshop!\n",
        "\n",
        "In this workshop, we'll learn the concept of Pruning Neural Network models using Pytorch. We'll do the following tasks:\n",
        "1. **Dataset** — Download and use FashionMNIST dataset\n",
        "2. **Network** — Define a custom neural net and measure the metrics\n",
        "3. **Training** — Train the model on the dataset, and record the accuracy metrics\n",
        "4. **Pruning** — Apply different Pruning techniques on the model\n",
        "5. **Analysis** — Visualize the results and find the best!"
      ]
    },
    {
      "cell_type": "markdown",
      "source": [
        "### Basic Imports"
      ],
      "metadata": {
        "id": "fF98w4wsUkhs"
      }
    },
    {
      "cell_type": "code",
      "source": [
        "import os\n",
        "import random\n",
        "import numpy as np\n",
        "import matplotlib.pyplot as plt\n",
        "from typing import Any, List\n",
        "import pandas as pd\n",
        "from tqdm import tqdm\n",
        "\n",
        "# DL library imports\n",
        "import torch\n",
        "from torch.utils.data import DataLoader\n",
        "from torchvision import datasets, transforms\n",
        "from torch.utils.data.sampler import SubsetRandomSampler\n",
        "from torch import nn, optim\n",
        "import torch.nn.functional as F"
      ],
      "metadata": {
        "id": "K2OpaXGMl00E"
      },
      "execution_count": 1,
      "outputs": []
    },
    {
      "cell_type": "code",
      "source": [
        "!wget https://optimization-thinkautonomous.s3.eu-west-3.amazonaws.com/pruning.zip && unzip -q pruning.zip && rm pruning.zip"
      ],
      "metadata": {
        "colab": {
          "base_uri": "https://localhost:8080/"
        },
        "id": "fs6XNZIzZ4i4",
        "outputId": "2fc90dcf-dd07-47c7-b4ba-d80bef212479"
      },
      "execution_count": 2,
      "outputs": [
        {
          "output_type": "stream",
          "name": "stdout",
          "text": [
            "--2022-02-06 11:47:40--  https://optimization-thinkautonomous.s3.eu-west-3.amazonaws.com/pruning.zip\n",
            "Resolving optimization-thinkautonomous.s3.eu-west-3.amazonaws.com (optimization-thinkautonomous.s3.eu-west-3.amazonaws.com)... 52.95.154.48\n",
            "Connecting to optimization-thinkautonomous.s3.eu-west-3.amazonaws.com (optimization-thinkautonomous.s3.eu-west-3.amazonaws.com)|52.95.154.48|:443... connected.\n",
            "HTTP request sent, awaiting response... 200 OK\n",
            "Length: 78150 (76K) [application/zip]\n",
            "Saving to: ‘pruning.zip’\n",
            "\n",
            "pruning.zip         100%[===================>]  76.32K   372KB/s    in 0.2s    \n",
            "\n",
            "2022-02-06 11:47:41 (372 KB/s) - ‘pruning.zip’ saved [78150/78150]\n",
            "\n"
          ]
        }
      ]
    },
    {
      "cell_type": "markdown",
      "metadata": {
        "id": "JJjoKpSLratv"
      },
      "source": [
        "## 1 — **Dataset**: Download and use the Fashion MNIST Dataset\n",
        "\n",
        "\n",
        "Here, we're going to use the FashionMNIST dataset for this case study.\n",
        "- Fashion MNIST dataset is Zalando's collection of grayscale images of different apparels and their associated labels for Deep Learning research and development\n",
        "- It consists of 60k train images and 10k test images, each of resolution 28 X 28 pixels\n",
        "- The images contain integer values in range [0-255] and there are 10 labels. eg : 0 = T-shirt/top, 1 = Trouser, 2 = Pullover, 3 = Dress etc\n",
        "- [Zalando FashionMNIST git repo](https://github.com/zalandoresearch/fashion-mnist)"
      ]
    },
    {
      "cell_type": "code",
      "metadata": {
        "id": "gKtJfEkirQLG",
        "colab": {
          "base_uri": "https://localhost:8080/",
          "height": 369,
          "referenced_widgets": [
            "57d5f51bdfe34fb6b93b7f1c226c24c9",
            "92638f080a21446099e742c1cfd9d666",
            "9e1a2daf34434bd6aa2fc0acaede27a9",
            "df1f3234b31c4bce8ef607e5ac481aab",
            "6d3775eb525a4d49bfa068f6c2c197c7",
            "f0fff02829494486943cdd438e9a1ef6",
            "7951bcdda6ef4dd3b4c74020e1f9e23f",
            "f721a4cdbe164b10a688723a857397a6",
            "997fe4736d8948158e3b8a3eb3e43b8e",
            "f891c2cfb72a4a80bd4030f8ff2e1b80",
            "3c25a82ea84d4907ad7800f45a529855",
            "b692cf9ec11b4de3b81e511d5cd3303f",
            "305c5b221af14633b36243779dba1117",
            "d9a919b916724eadb6f67fd0fce96691",
            "e2a08cf24d5647faa74592225de1e0d5",
            "e76682d95035425c89acb05a7525dc1b",
            "12c2c20d13e24360b8320401fb121ec3",
            "67fe4e51acb9483780528c0e6cb863a8",
            "b1874afe4eb74d8e916d2cbfae7c100f",
            "5488073466d440aabdccc4006c87ca40",
            "d4d41719d85143e2af9c1cae357cfb1d",
            "23d298bacb394aa3ba78bf5e1e9fc41b",
            "58e8aa165a5848afb87cb6c06652e6fd",
            "0fb9ad1080cd4720bcb5d2070b44af77",
            "8fe87484cb364404a30c94b26716641b",
            "de8f088a563e4c4d8de4584e8cef9ef1",
            "c2085e653ab34558bb8e86f6d624ed82",
            "6ec9f900028b4b95a16e4b42b5621a7d",
            "e15a1115efbc4cb8b809146731ba4e25",
            "8f8c8bd9aa85435aa4090b7a1a0a3b8a",
            "a33210926aa64c49a9d5ae7b96280124",
            "73a8706cc0254300ad4a085677b213f2",
            "174de9f0f2d04d44a1a11699236e5dda",
            "e442496b3ce845669985727ab695befe",
            "43c02053cba64112b35543fe3620fd1a",
            "4272172eac914fb594322201bb28df15",
            "b0cff5a7fae6468ebbf0c74c766ad851",
            "27fc98dc6a314b6899a7066b04487c87",
            "a6e230791f1b4e64bbca5fddf913b739",
            "c9063b8a4a1048f3843fc077547782c6",
            "33fa548132fa4da9810f1ffed039adfa",
            "4ff3882280dc4ba4bbf223db1f155529",
            "3271bac691ff40399227890acfcd4e57",
            "d79718f6906448019d763695bbd2ecfd"
          ]
        },
        "outputId": "60c82ee8-0642-4578-b434-64495c91b406"
      },
      "source": [
        "dataset_labels = ['TShirt', 'Trouser', 'Pullover', 'Dress', 'Coat', 'Sandal', 'Shirt', 'Sneaker', 'Bag', 'AnkleBoot']\n",
        "\n",
        "# necessary image transform i.e. convert to Tensor, normalize\n",
        "train_transform = transforms.Compose([transforms.ToTensor(), transforms.Normalize((0.5,), (0.5,)) ])\n",
        "test_transform  = transforms.Compose([transforms.ToTensor(), transforms.Normalize((0.5,), (0.5,)) ])\n",
        "\n",
        "# Download the Train and Test set\n",
        "train_set = datasets.FashionMNIST('.', train=True, download=True, transform=train_transform)\n",
        "test_set = datasets.FashionMNIST('.', train=False, download=True, transform=test_transform)"
      ],
      "execution_count": 3,
      "outputs": [
        {
          "output_type": "stream",
          "name": "stdout",
          "text": [
            "Downloading http://fashion-mnist.s3-website.eu-central-1.amazonaws.com/train-images-idx3-ubyte.gz\n",
            "Downloading http://fashion-mnist.s3-website.eu-central-1.amazonaws.com/train-images-idx3-ubyte.gz to ./FashionMNIST/raw/train-images-idx3-ubyte.gz\n"
          ]
        },
        {
          "output_type": "display_data",
          "data": {
            "application/vnd.jupyter.widget-view+json": {
              "model_id": "57d5f51bdfe34fb6b93b7f1c226c24c9",
              "version_minor": 0,
              "version_major": 2
            },
            "text/plain": [
              "  0%|          | 0/26421880 [00:00<?, ?it/s]"
            ]
          },
          "metadata": {}
        },
        {
          "output_type": "stream",
          "name": "stdout",
          "text": [
            "Extracting ./FashionMNIST/raw/train-images-idx3-ubyte.gz to ./FashionMNIST/raw\n",
            "\n",
            "Downloading http://fashion-mnist.s3-website.eu-central-1.amazonaws.com/train-labels-idx1-ubyte.gz\n",
            "Downloading http://fashion-mnist.s3-website.eu-central-1.amazonaws.com/train-labels-idx1-ubyte.gz to ./FashionMNIST/raw/train-labels-idx1-ubyte.gz\n"
          ]
        },
        {
          "output_type": "display_data",
          "data": {
            "application/vnd.jupyter.widget-view+json": {
              "model_id": "b692cf9ec11b4de3b81e511d5cd3303f",
              "version_minor": 0,
              "version_major": 2
            },
            "text/plain": [
              "  0%|          | 0/29515 [00:00<?, ?it/s]"
            ]
          },
          "metadata": {}
        },
        {
          "output_type": "stream",
          "name": "stdout",
          "text": [
            "Extracting ./FashionMNIST/raw/train-labels-idx1-ubyte.gz to ./FashionMNIST/raw\n",
            "\n",
            "Downloading http://fashion-mnist.s3-website.eu-central-1.amazonaws.com/t10k-images-idx3-ubyte.gz\n",
            "Downloading http://fashion-mnist.s3-website.eu-central-1.amazonaws.com/t10k-images-idx3-ubyte.gz to ./FashionMNIST/raw/t10k-images-idx3-ubyte.gz\n"
          ]
        },
        {
          "output_type": "display_data",
          "data": {
            "application/vnd.jupyter.widget-view+json": {
              "model_id": "58e8aa165a5848afb87cb6c06652e6fd",
              "version_minor": 0,
              "version_major": 2
            },
            "text/plain": [
              "  0%|          | 0/4422102 [00:00<?, ?it/s]"
            ]
          },
          "metadata": {}
        },
        {
          "output_type": "stream",
          "name": "stdout",
          "text": [
            "Extracting ./FashionMNIST/raw/t10k-images-idx3-ubyte.gz to ./FashionMNIST/raw\n",
            "\n",
            "Downloading http://fashion-mnist.s3-website.eu-central-1.amazonaws.com/t10k-labels-idx1-ubyte.gz\n",
            "Downloading http://fashion-mnist.s3-website.eu-central-1.amazonaws.com/t10k-labels-idx1-ubyte.gz to ./FashionMNIST/raw/t10k-labels-idx1-ubyte.gz\n"
          ]
        },
        {
          "output_type": "display_data",
          "data": {
            "application/vnd.jupyter.widget-view+json": {
              "model_id": "e442496b3ce845669985727ab695befe",
              "version_minor": 0,
              "version_major": 2
            },
            "text/plain": [
              "  0%|          | 0/5148 [00:00<?, ?it/s]"
            ]
          },
          "metadata": {}
        },
        {
          "output_type": "stream",
          "name": "stdout",
          "text": [
            "Extracting ./FashionMNIST/raw/t10k-labels-idx1-ubyte.gz to ./FashionMNIST/raw\n",
            "\n"
          ]
        }
      ]
    },
    {
      "cell_type": "markdown",
      "source": [
        "### Define HyperParameters"
      ],
      "metadata": {
        "id": "XXWsvzDCpvmR"
      }
    },
    {
      "cell_type": "code",
      "metadata": {
        "id": "-M3AAtqmrpt8"
      },
      "source": [
        "NUM_WORKERS = 1 \n",
        "TEST_BATCH_SIZE  = 64\n",
        "TRAIN_BATCH_SIZE = 16\n",
        "VALID_SIZE = 0.2 "
      ],
      "execution_count": 4,
      "outputs": []
    },
    {
      "cell_type": "markdown",
      "source": [
        "### Train/Test Split"
      ],
      "metadata": {
        "id": "SdBRuxCDpy0p"
      }
    },
    {
      "cell_type": "code",
      "source": [
        "len_train_set = len(train_set)\n",
        "index_list = list(range(len_train_set))\n",
        "np.random.shuffle(index_list)\n",
        "split_index = int(len_train_set * VALID_SIZE)\n",
        "train_idx, valid_idx = index_list[split_index:], index_list[:split_index]\n",
        "train_sampler = SubsetRandomSampler(train_idx)\n",
        "valid_sampler = SubsetRandomSampler(valid_idx)"
      ],
      "metadata": {
        "id": "6LjM75BpnIXt"
      },
      "execution_count": 5,
      "outputs": []
    },
    {
      "cell_type": "markdown",
      "source": [
        "### DataLoader"
      ],
      "metadata": {
        "id": "McUG4hN-p0cj"
      }
    },
    {
      "cell_type": "code",
      "metadata": {
        "id": "p8eoLuPUriUy"
      },
      "source": [
        "train_loader = DataLoader(train_set, batch_size=TRAIN_BATCH_SIZE, sampler=train_sampler, num_workers=NUM_WORKERS)\n",
        "valid_loader = DataLoader(train_set, batch_size=TEST_BATCH_SIZE,  sampler=valid_sampler, num_workers=NUM_WORKERS)\n",
        "test_loader  = DataLoader(test_set,  batch_size=TEST_BATCH_SIZE,  shuffle=True,num_workers=NUM_WORKERS)"
      ],
      "execution_count": 6,
      "outputs": []
    },
    {
      "cell_type": "markdown",
      "source": [
        "### Visualization"
      ],
      "metadata": {
        "id": "XO4PZqhSp2da"
      }
    },
    {
      "cell_type": "code",
      "metadata": {
        "id": "Dux6sdHjr9pH",
        "colab": {
          "base_uri": "https://localhost:8080/",
          "height": 281
        },
        "outputId": "d07da99c-f1f8-4057-aeac-92869e44af81"
      },
      "source": [
        "img, label = next(iter(train_loader))\n",
        "plt.imshow(img[0].numpy().squeeze(), cmap = 'Greys_r')\n",
        "plt.title(f'{dataset_labels[label[0].item()]}')\n",
        "plt.show()"
      ],
      "execution_count": 7,
      "outputs": [
        {
          "output_type": "display_data",
          "data": {
            "image/png": "[encoded data removed]",
            "text/plain": [
              "<Figure size 432x288 with 1 Axes>"
            ]
          },
          "metadata": {
            "needs_background": "light"
          }
        }
      ]
    },
    {
      "cell_type": "markdown",
      "metadata": {
        "id": "SqJJerJuPvL9",
        "execution": {
          "iopub.status.busy": "2021-09-28T01:43:44.278299Z",
          "iopub.execute_input": "2021-09-28T01:43:44.278753Z",
          "iopub.status.idle": "2021-09-28T01:43:44.293447Z",
          "shell.execute_reply.started": "2021-09-28T01:43:44.278691Z",
          "shell.execute_reply": "2021-09-28T01:43:44.292329Z"
        }
      },
      "source": [
        "## 2 — **Network**: Define a custom neural net and measure the metrics\n",
        "\n",
        "- We'll use a simple feed forward model that takes in flattened image vector (28x28=784) and outputs probabilities for each of 10 classes.\n",
        "- In Pytorch, we can create the Neural Network model by defining a custom class (inherits from [nn.Module](https://pytorch.org/docs/stable/generated/torch.nn.Module.html)).\n",
        "- The `forward` function in the class defines the forward pass of the network."
      ]
    },
    {
      "cell_type": "code",
      "metadata": {
        "id": "EMTr3uuYSC7Q",
        "execution": {
          "iopub.status.busy": "2021-10-04T00:18:22.767828Z",
          "iopub.execute_input": "2021-10-04T00:18:22.768660Z",
          "iopub.status.idle": "2021-10-04T00:18:22.777640Z",
          "shell.execute_reply.started": "2021-10-04T00:18:22.768624Z",
          "shell.execute_reply": "2021-10-04T00:18:22.776910Z"
        },
        "trusted": true
      },
      "source": [
        "class MLPClassifier(nn.Module):\n",
        "    def __init__(self):\n",
        "        super().__init__()\n",
        "        self.fc1 = nn.Linear(784, 128, bias=True)\n",
        "        self.fc2 = nn.Linear(128, 64, bias=True)\n",
        "        self.fc3 = nn.Linear(64, 32, bias=True)\n",
        "        self.fc4 = nn.Linear(32, 10, bias=True)\n",
        "\n",
        "    def forward(self, x):\n",
        "        x = x.view(x.shape[0], -1)\n",
        "        x = F.relu(self.fc1(x))\n",
        "        x = F.relu(self.fc2(x))\n",
        "        x = F.relu(self.fc3(x))\n",
        "        x = self.fc4(x)\n",
        "        return x"
      ],
      "execution_count": 8,
      "outputs": []
    },
    {
      "cell_type": "markdown",
      "metadata": {
        "id": "ENSTEeJw3QCs"
      },
      "source": [
        "#### Print the Model Metrics\n",
        "\n",
        "We'll use the functions used in the `metrics` notebook to print inference parameters of our custom model "
      ]
    },
    {
      "cell_type": "code",
      "source": [
        "# Load the Model\n",
        "device = torch.device(\"cuda\" if torch.cuda.is_available() else \"cpu\")\n",
        "model = MLPClassifier().to(device)"
      ],
      "metadata": {
        "id": "nMno4EVdwYGr"
      },
      "execution_count": 9,
      "outputs": []
    },
    {
      "cell_type": "code",
      "source": [
        "from modelMetrics import computeInferenceTime, getModelFileSize, profile, getModelSize\n",
        "\n",
        "def print_model_metrics(model, input):\n",
        "  print(\"Model Size: \", str(round(getModelSize(model),3)),\"Mb\")\n",
        "  print(\"File Size: \", str(round(getModelFileSize(model),3)),\"Mb\")\n",
        "  print(\"Inference Time: \",str(round(computeInferenceTime(model,input, device),5)),\"s\")\n",
        "  macs, params = profile(model, inputs=(input,), verbose=False)\n",
        "  flops = 2 * macs\n",
        "  print(\"Mega FLOPS: \", str(flops * 1e-6))\n",
        "  print(\"Mega MACs: \", str(macs * 1e-6))\n",
        "  print(\"Mega Params: \", str(params * 1e-6))\n",
        "\n",
        "\n",
        "random_input = torch.rand(2, 28, 28).to(device)\n",
        "print_model_metrics(model, random_input)"
      ],
      "metadata": {
        "id": "d4VnR1yAXWSO",
        "colab": {
          "base_uri": "https://localhost:8080/"
        },
        "outputId": "9f8f901e-73a7-4dd9-b47c-8a122308f9a1"
      },
      "execution_count": 10,
      "outputs": [
        {
          "output_type": "stream",
          "name": "stdout",
          "text": [
            "Model Size:  0.424 Mb\n",
            "File Size:  0.447 Mb\n",
            "Inference Time:  0.00058 s\n",
            "Mega FLOPS:  0.443648\n",
            "Mega MACs:  0.221824\n",
            "Mega Params:  0.111146\n"
          ]
        }
      ]
    },
    {
      "cell_type": "markdown",
      "metadata": {
        "id": "C3pnqXz8KpEn"
      },
      "source": [
        "#### Print the Model Sparsity\n",
        "\n",
        "- Model sparsity refers to the ratio of parameters with zero weights to the total number of parameters. \n",
        "- Eg : If a linear layer with 100 neurons and 25 of the neurons have been pruned (effectively set to zero) then the sparsity of the layer is 25%.\n",
        "- Sparsity can be calculated for each layers and for the entire model as well (referred to as Global sparsity)\n"
      ]
    },
    {
      "cell_type": "code",
      "metadata": {
        "id": "Xv9V_gxdyB27"
      },
      "source": [
        "def get_model_sparsity(model):\n",
        "    totalElements = 0\n",
        "    totalZeroElements = 0\n",
        "    for name, module in model.named_children():\n",
        "        numElementsInLayer = float(module.weight.nelement())\n",
        "        numZeroElementsInLayer = float(torch.sum(module.weight == 0))\n",
        "        layerWeightSparsity = 100.0 * (numZeroElementsInLayer/ numElementsInLayer)\n",
        "        print(f\"Sparsity in {name}.weight: {layerWeightSparsity}%.\")\n",
        "        \n",
        "        totalElements += numElementsInLayer\n",
        "        totalZeroElements += numZeroElementsInLayer\n",
        "    \n",
        "    if totalElements > 0 :\n",
        "        globalWeightSparsity = 100.0 * (totalZeroElements / totalElements)\n",
        "    else:\n",
        "        globalWeightSparsity = 0.0\n",
        "    return globalWeightSparsity\n",
        "    \n",
        "sparsity = get_model_sparsity(model)\n",
        "print(f\"Global Sparsity (weight): {sparsity}%\")"
      ],
      "execution_count": null,
      "outputs": []
    },
    {
      "cell_type": "markdown",
      "metadata": {
        "id": "m61RFdw53XPR"
      },
      "source": [
        "## 3 - **Training**: Train the model on the dataset, and record the accuracy metrics\n",
        "\n",
        "Before we train our model, we'll define some helper functions to calculate metric, plot training results etc"
      ]
    },
    {
      "cell_type": "code",
      "metadata": {
        "id": "f2g_-5EOAQo1"
      },
      "source": [
        "from sklearn.metrics import accuracy_score\n",
        "\n",
        "class meanClassificationAccuracyMetric:\n",
        "    \"\"\" Class to find the avg accuracy of softmax predictions to ground truth label \"\"\"    \n",
        "    def __init__(self):\n",
        "        self.batchAccuracies = []\n",
        "        self.meanClassificationAccuracy = 0.0\n",
        "\n",
        "    def update(self, y_preds: torch.Tensor, labels: torch.Tensor):\n",
        "        # predicted output class\n",
        "        modelPredictions = np.argmax(torch.softmax(y_preds, axis=1).numpy(), axis=1)\n",
        "        self.batchAccuracies.append(accuracy_score(labels.numpy(), modelPredictions))\n",
        "\n",
        "    def compute(self):\n",
        "        self.meanClassificationAccuracy = np.mean(self.batchAccuracies) * 100.0\n",
        "        return self.meanClassificationAccuracy"
      ],
      "execution_count": 11,
      "outputs": []
    },
    {
      "cell_type": "code",
      "metadata": {
        "id": "mYx7TDugArEJ"
      },
      "source": [
        "def plotTrainingResults(df, model_name):\n",
        "    fig, ax1 = plt.subplots(figsize=(10,4))\n",
        "    ax1.set_ylabel('trainLoss', color='tab:red')\n",
        "    ax1.plot(df['epoch'].values, df['trainLoss'].values, color='tab:red')\n",
        "    ax1.tick_params(axis='y', labelcolor='tab:red')\n",
        "\n",
        "    ax2 = ax1.twinx()  \n",
        "    ax2.set_ylabel('validationLoss', color='tab:blue')\n",
        "    ax2.plot(df['epoch'].values, df['validationLoss'].values, color='tab:blue')\n",
        "    ax2.tick_params(axis='y', labelcolor='tab:blue')\n",
        "\n",
        "    plt.suptitle(f'{model_name} Training, Validation Curves')\n",
        "    plt.show()"
      ],
      "execution_count": 12,
      "outputs": []
    },
    {
      "cell_type": "code",
      "metadata": {
        "id": "4RAZS8Wj3YzP"
      },
      "source": [
        "def trainValidateModel(model, criterion, optimizer, dataloader_train, \n",
        "                       dataloader_valid, metricClass, metricName, device):\n",
        "    results = []    \n",
        "    min_val_loss = np.Inf\n",
        "    len_train_loader = len(dataloader_train)\n",
        "\n",
        "    # move model to target device\n",
        "    model.to(device)\n",
        "    \n",
        "    for epoch in range(N_EPOCHS):\n",
        "        print(f\"Starting {epoch + 1} epoch ...\")\n",
        "        \n",
        "        # Training\n",
        "        model.train()\n",
        "        train_loss = 0.0\n",
        "        for i, (inputs, labels) in tqdm(enumerate(dataloader_train), total=len_train_loader):\n",
        "            inputs = inputs.to(device)\n",
        "            labels = labels.to(device)  \n",
        "\n",
        "            # Forward pass\n",
        "            y_preds = model(inputs)\n",
        "            loss = criterion(y_preds, labels)\n",
        "            train_loss += loss.item()\n",
        "              \n",
        "            # Backward pass\n",
        "            loss.backward()\n",
        "            optimizer.step()\n",
        "            optimizer.zero_grad() \n",
        "            \n",
        "        # Validate\n",
        "        model.eval()\n",
        "        validation_loss = 0.0\n",
        "        metric_object = metricClass()\n",
        "\n",
        "        with torch.no_grad():\n",
        "            for inputs, labels in dataloader_valid:\n",
        "                inputs = inputs.to(device)\n",
        "                labels = labels.to(device)                \n",
        "                y_preds = model(inputs)\n",
        "            \n",
        "                # calculate loss\n",
        "                loss = criterion(y_preds, labels)\n",
        "                validation_loss += loss.item()\n",
        "\n",
        "                # update batch metric information            \n",
        "                metric_object.update(y_preds.cpu().detach(), labels.cpu().detach())\n",
        "\n",
        "        # compute per batch losses, metric value\n",
        "        train_loss = train_loss / len(dataloader_train)\n",
        "        validation_loss = validation_loss / len(dataloader_valid)\n",
        "        validationMetric = metric_object.compute()\n",
        "\n",
        "        print(f'Epoch: {epoch+1}, trainLoss:{train_loss:6.5f}, validationLoss:{validation_loss:6.5f}, {metricName}:{validationMetric: 4.2f}%')\n",
        "        \n",
        "        # store results\n",
        "        results.append({'epoch': epoch, 'trainLoss': train_loss, \n",
        "                        'validationLoss': validation_loss, f'{metricName}': validationMetric})\n",
        "        \n",
        "        # if validation loss has decreased, save model and reset variable\n",
        "        if validation_loss <= min_val_loss:\n",
        "            min_val_loss = validation_loss\n",
        "            torch.save(model.state_dict(), \"MLP.pt\")\n",
        "\n",
        "    # plot results\n",
        "    results = pd.DataFrame(results)\n",
        "    plotTrainingResults(results, \"MLP\")\n",
        "    return results"
      ],
      "execution_count": 13,
      "outputs": []
    },
    {
      "cell_type": "code",
      "metadata": {
        "id": "5syAT4MTA0ly",
        "colab": {
          "base_uri": "https://localhost:8080/",
          "height": 504
        },
        "outputId": "7a631031-bf47-4e77-f3af-a8ae0311ed64"
      },
      "source": [
        "# Hyper parameters for training model\n",
        "N_EPOCHS = 5\n",
        "LR = 1e-2\n",
        "\n",
        "# Define the Loss\n",
        "criterion = nn.CrossEntropyLoss()\n",
        "\n",
        "# Define the Optimizer\n",
        "optimizer = optim.Adam(model.parameters(), lr=LR)\n",
        "\n",
        "# train, validate standard model\n",
        "modelResults = trainValidateModel(model, criterion, optimizer, train_loader, valid_loader, meanClassificationAccuracyMetric, 'accuracy', device)"
      ],
      "execution_count": 14,
      "outputs": [
        {
          "output_type": "stream",
          "name": "stdout",
          "text": [
            "Starting 1 epoch ...\n"
          ]
        },
        {
          "output_type": "stream",
          "name": "stderr",
          "text": [
            "100%|██████████| 3000/3000 [00:31<00:00, 94.28it/s]\n"
          ]
        },
        {
          "output_type": "stream",
          "name": "stdout",
          "text": [
            "Epoch: 1, trainLoss:0.67707, validationLoss:0.61759, accuracy: 80.57%\n",
            "Starting 2 epoch ...\n"
          ]
        },
        {
          "output_type": "stream",
          "name": "stderr",
          "text": [
            "100%|██████████| 3000/3000 [00:32<00:00, 93.56it/s]\n"
          ]
        },
        {
          "output_type": "stream",
          "name": "stdout",
          "text": [
            "Epoch: 2, trainLoss:0.55990, validationLoss:0.55869, accuracy: 81.87%\n",
            "Starting 3 epoch ...\n"
          ]
        },
        {
          "output_type": "stream",
          "name": "stderr",
          "text": [
            "100%|██████████| 3000/3000 [00:41<00:00, 72.97it/s]\n"
          ]
        },
        {
          "output_type": "stream",
          "name": "stdout",
          "text": [
            "Epoch: 3, trainLoss:0.53907, validationLoss:0.63039, accuracy: 79.00%\n",
            "Starting 4 epoch ...\n"
          ]
        },
        {
          "output_type": "stream",
          "name": "stderr",
          "text": [
            "100%|██████████| 3000/3000 [00:36<00:00, 81.79it/s]\n"
          ]
        },
        {
          "output_type": "stream",
          "name": "stdout",
          "text": [
            "Epoch: 4, trainLoss:0.52641, validationLoss:0.49797, accuracy: 83.43%\n",
            "Starting 5 epoch ...\n"
          ]
        },
        {
          "output_type": "stream",
          "name": "stderr",
          "text": [
            "100%|██████████| 3000/3000 [00:35<00:00, 84.81it/s]\n"
          ]
        },
        {
          "output_type": "stream",
          "name": "stdout",
          "text": [
            "Epoch: 5, trainLoss:0.53123, validationLoss:0.50605, accuracy: 83.05%\n"
          ]
        },
        {
          "output_type": "display_data",
          "data": {
            "image/png": "[encoded data removed]",
            "text/plain": [
              "<Figure size 720x288 with 2 Axes>"
            ]
          },
          "metadata": {
            "needs_background": "light"
          }
        }
      ]
    },
    {
      "cell_type": "code",
      "metadata": {
        "id": "xVO8n_JpE1QK"
      },
      "source": [
        "def evaluteOnTestData(model, pretrainedModelPath, device, \n",
        "                     dataloader_test, metricClass, metricName, modelName):\n",
        "    testSetMetric = 0.0\n",
        "    if pretrainedModelPath is not None:\n",
        "        if os.path.isfile(pretrainedModelPath) == True:\n",
        "            model.load_state_dict(torch.load(pretrainedModelPath, map_location=device))\n",
        "\n",
        "    model.to(device)\n",
        "    model.eval()\n",
        "    metricObject = metricClass()\n",
        "\n",
        "    with torch.no_grad():\n",
        "      for inputs, labels in tqdm(dataloader_test, total=len(dataloader_test)):\n",
        "        inputs = inputs.to(device)\n",
        "        labels = labels.to(device)\n",
        "        y_preds = model(inputs)\n",
        "            \n",
        "        # update batch metric information            \n",
        "        metricObject.update(y_preds.cpu().detach(), labels.cpu().detach())\n",
        "\n",
        "    testSetMetric = metricObject.compute()    \n",
        "    print(f'\\n{modelName} has {testSetMetric} {metricName} on testData')\n",
        "    return testSetMetric"
      ],
      "execution_count": 15,
      "outputs": []
    },
    {
      "cell_type": "code",
      "source": [
        "testSetMetric = evaluteOnTestData(model, \"./MLP.pt\", device, test_loader, \n",
        "                    meanClassificationAccuracyMetric, \"Test_Accuracy\", \"Custom_MLP\")"
      ],
      "metadata": {
        "id": "UgvNmjTOtnVW",
        "colab": {
          "base_uri": "https://localhost:8080/"
        },
        "outputId": "4faca1f5-d16c-4dfa-cecb-8524c22616eb"
      },
      "execution_count": 16,
      "outputs": [
        {
          "output_type": "stream",
          "name": "stderr",
          "text": [
            "100%|██████████| 157/157 [00:03<00:00, 45.87it/s]"
          ]
        },
        {
          "output_type": "stream",
          "name": "stdout",
          "text": [
            "\n",
            "Custom_MLP has 82.40445859872611 Test_Accuracy on testData\n"
          ]
        },
        {
          "output_type": "stream",
          "name": "stderr",
          "text": [
            "\n"
          ]
        }
      ]
    },
    {
      "cell_type": "markdown",
      "metadata": {
        "id": "QUs9gbLYTAmW"
      },
      "source": [
        "## 4 - **Pruning**: Apply different Pruning techniques on the model\n",
        "\n",
        "Now that we understand the pruning APIs in Pytorch, we'll use them to \n",
        "prune our custom MLP model. In the next section, we'll do the following:\n",
        "\n",
        "- Apply the Unstructured pruning we learned above and also the Global version of it along with structured pruning on our trained model\n",
        "- Observe the Accuracy of both the pruned model on Test set\n",
        "- Apply different levels of Pruning percentages (*read sparsity levels*) and observe the different in performance metric"
      ]
    },
    {
      "cell_type": "code",
      "source": [
        "import torch.nn.utils.prune as prune"
      ],
      "metadata": {
        "id": "nSC1fjsCcveG"
      },
      "execution_count": 17,
      "outputs": []
    },
    {
      "cell_type": "code",
      "source": [
        "# Let's use different pruning percentages for each technique\n",
        "prunePercentages = np.linspace(0.05, 0.90, 8).tolist()\n",
        "print([round(x,3) for x in prunePercentages])"
      ],
      "metadata": {
        "id": "eFJSzrwD2O6A",
        "colab": {
          "base_uri": "https://localhost:8080/"
        },
        "outputId": "2058ddd1-2763-453e-e7ee-5f23589552fc"
      },
      "execution_count": 18,
      "outputs": [
        {
          "output_type": "stream",
          "name": "stdout",
          "text": [
            "[0.05, 0.171, 0.293, 0.414, 0.536, 0.657, 0.779, 0.9]\n"
          ]
        }
      ]
    },
    {
      "cell_type": "markdown",
      "source": [
        "### Layerwise Unstructured Pruning"
      ],
      "metadata": {
        "id": "-JgT32Ai1kzN"
      }
    },
    {
      "cell_type": "code",
      "source": [
        "def layer_unstructured_prune(model:nn.Module, prunePercentage:float):\n",
        "    for name, module in model.named_modules():\n",
        "        if isinstance(module, torch.nn.Linear):\n",
        "            prune.l1_unstructured(module, name='weight', amount=prunePercentage)\n",
        "    return model"
      ],
      "metadata": {
        "id": "SWPoFtnM46Ld"
      },
      "execution_count": null,
      "outputs": []
    },
    {
      "cell_type": "code",
      "metadata": {
        "execution": {
          "iopub.status.busy": "2021-10-04T00:18:16.472003Z",
          "iopub.execute_input": "2021-10-04T00:18:16.472259Z",
          "iopub.status.idle": "2021-10-04T00:18:16.480822Z",
          "shell.execute_reply.started": "2021-10-04T00:18:16.472228Z",
          "shell.execute_reply": "2021-10-04T00:18:16.480095Z"
        },
        "trusted": true,
        "id": "Xz0b8s4r2ube",
        "colab": {
          "base_uri": "https://localhost:8080/"
        },
        "outputId": "a39e4b61-9d9e-46d7-c677-925cc3c94c3a"
      },
      "source": [
        "# placeholder to store results\n",
        "l1_unstructured_accuracies = []\n",
        "\n",
        "# iterate through each prune percentage\n",
        "for perc in prunePercentages:\n",
        "    # load the pretrained model\n",
        "    model = MLPClassifier().to(device)\n",
        "    model.load_state_dict(torch.load(\"./MLP.pt\"))\n",
        "\n",
        "    # prune the model\n",
        "    unStructuredPruneModel = layer_unstructured_prune(model, perc)\n",
        "\n",
        "    # evaluate the pruned model on test data\n",
        "    l1_unstructured_accuracies.append(evaluteOnTestData(unStructuredPruneModel, None, \\\n",
        "          device, test_loader, meanClassificationAccuracyMetric, \"Test accuracy\", \"Unstructured Prune\"))    "
      ],
      "execution_count": 19,
      "outputs": [
        {
          "output_type": "stream",
          "name": "stderr",
          "text": [
            "100%|██████████| 157/157 [00:03<00:00, 45.04it/s]\n"
          ]
        },
        {
          "output_type": "stream",
          "name": "stdout",
          "text": [
            "\n",
            "Unstructured Prune has 82.42436305732484 Test accuracy on testData\n"
          ]
        },
        {
          "output_type": "stream",
          "name": "stderr",
          "text": [
            "100%|██████████| 157/157 [00:04<00:00, 39.14it/s]\n"
          ]
        },
        {
          "output_type": "stream",
          "name": "stdout",
          "text": [
            "\n",
            "Unstructured Prune has 82.51393312101911 Test accuracy on testData\n"
          ]
        },
        {
          "output_type": "stream",
          "name": "stderr",
          "text": [
            "100%|██████████| 157/157 [00:03<00:00, 41.67it/s]\n"
          ]
        },
        {
          "output_type": "stream",
          "name": "stdout",
          "text": [
            "\n",
            "Unstructured Prune has 82.18550955414013 Test accuracy on testData\n"
          ]
        },
        {
          "output_type": "stream",
          "name": "stderr",
          "text": [
            "100%|██████████| 157/157 [00:03<00:00, 45.58it/s]\n"
          ]
        },
        {
          "output_type": "stream",
          "name": "stdout",
          "text": [
            "\n",
            "Unstructured Prune has 80.89171974522293 Test accuracy on testData\n"
          ]
        },
        {
          "output_type": "stream",
          "name": "stderr",
          "text": [
            "100%|██████████| 157/157 [00:03<00:00, 47.65it/s]\n"
          ]
        },
        {
          "output_type": "stream",
          "name": "stdout",
          "text": [
            "\n",
            "Unstructured Prune has 66.0031847133758 Test accuracy on testData\n"
          ]
        },
        {
          "output_type": "stream",
          "name": "stderr",
          "text": [
            "100%|██████████| 157/157 [00:03<00:00, 46.21it/s]\n"
          ]
        },
        {
          "output_type": "stream",
          "name": "stdout",
          "text": [
            "\n",
            "Unstructured Prune has 37.708996815286625 Test accuracy on testData\n"
          ]
        },
        {
          "output_type": "stream",
          "name": "stderr",
          "text": [
            "100%|██████████| 157/157 [00:03<00:00, 46.41it/s]\n"
          ]
        },
        {
          "output_type": "stream",
          "name": "stdout",
          "text": [
            "\n",
            "Unstructured Prune has 7.513933121019107 Test accuracy on testData\n"
          ]
        },
        {
          "output_type": "stream",
          "name": "stderr",
          "text": [
            "100%|██████████| 157/157 [00:03<00:00, 45.76it/s]"
          ]
        },
        {
          "output_type": "stream",
          "name": "stdout",
          "text": [
            "\n",
            "Unstructured Prune has 9.693471337579618 Test accuracy on testData\n"
          ]
        },
        {
          "output_type": "stream",
          "name": "stderr",
          "text": [
            "\n"
          ]
        }
      ]
    },
    {
      "cell_type": "markdown",
      "source": [
        "### Layerwise structured pruning"
      ],
      "metadata": {
        "id": "0QVLudIt27QF"
      }
    },
    {
      "cell_type": "code",
      "source": [
        "def layer_structured_prune(model:nn.Module, prunePercentage:float):\n",
        "    for name, module in model.named_modules():\n",
        "        if isinstance(module, torch.nn.Linear):\n",
        "            prune.ln_structured(module, name='weight', amount=prunePercentage, n=1, dim=0)\n",
        "    return model"
      ],
      "metadata": {
        "id": "DiTCqPEj4-Pg"
      },
      "execution_count": null,
      "outputs": []
    },
    {
      "cell_type": "code",
      "source": [
        "# placeholder to store results\n",
        "l1_structured_accuracies = []\n",
        "\n",
        "# iterate through each prune percentage\n",
        "for perc in prunePercentages:\n",
        "    # load the pretrained model\n",
        "    model = MLPClassifier().to(device)\n",
        "    model.load_state_dict(torch.load(\"./MLP.pt\"))\n",
        "\n",
        "    # prune the model\n",
        "    structuredPruneModel = layer_structured_prune(model, perc)\n",
        "\n",
        "    # evaluate the pruned model on test data\n",
        "    l1_structured_accuracies.append(evaluteOnTestData(structuredPruneModel, None, \\\n",
        "          device, test_loader, meanClassificationAccuracyMetric, \"Test accuracy\", \"structured Prune\"))"
      ],
      "metadata": {
        "id": "Zq3dZc_q3BzQ",
        "colab": {
          "base_uri": "https://localhost:8080/"
        },
        "outputId": "5866d0ba-bd82-4410-b960-606f63321a0e"
      },
      "execution_count": 20,
      "outputs": [
        {
          "output_type": "stream",
          "name": "stderr",
          "text": [
            "100%|██████████| 157/157 [00:03<00:00, 42.29it/s]\n"
          ]
        },
        {
          "output_type": "stream",
          "name": "stdout",
          "text": [
            "\n",
            "structured Prune has 82.55374203821655 Test accuracy on testData\n"
          ]
        },
        {
          "output_type": "stream",
          "name": "stderr",
          "text": [
            "100%|██████████| 157/157 [00:07<00:00, 21.76it/s]\n"
          ]
        },
        {
          "output_type": "stream",
          "name": "stdout",
          "text": [
            "\n",
            "structured Prune has 74.10429936305732 Test accuracy on testData\n"
          ]
        },
        {
          "output_type": "stream",
          "name": "stderr",
          "text": [
            "100%|██████████| 157/157 [00:05<00:00, 29.52it/s]\n"
          ]
        },
        {
          "output_type": "stream",
          "name": "stdout",
          "text": [
            "\n",
            "structured Prune has 72.40246815286623 Test accuracy on testData\n"
          ]
        },
        {
          "output_type": "stream",
          "name": "stderr",
          "text": [
            "100%|██████████| 157/157 [00:04<00:00, 34.71it/s]\n"
          ]
        },
        {
          "output_type": "stream",
          "name": "stdout",
          "text": [
            "\n",
            "structured Prune has 62.927945859872615 Test accuracy on testData\n"
          ]
        },
        {
          "output_type": "stream",
          "name": "stderr",
          "text": [
            "100%|██████████| 157/157 [00:03<00:00, 47.22it/s]\n"
          ]
        },
        {
          "output_type": "stream",
          "name": "stdout",
          "text": [
            "\n",
            "structured Prune has 55.12539808917197 Test accuracy on testData\n"
          ]
        },
        {
          "output_type": "stream",
          "name": "stderr",
          "text": [
            "100%|██████████| 157/157 [00:03<00:00, 40.42it/s]\n"
          ]
        },
        {
          "output_type": "stream",
          "name": "stdout",
          "text": [
            "\n",
            "structured Prune has 25.69665605095541 Test accuracy on testData\n"
          ]
        },
        {
          "output_type": "stream",
          "name": "stderr",
          "text": [
            "100%|██████████| 157/157 [00:03<00:00, 45.68it/s]\n"
          ]
        },
        {
          "output_type": "stream",
          "name": "stdout",
          "text": [
            "\n",
            "structured Prune has 9.952229299363058 Test accuracy on testData\n"
          ]
        },
        {
          "output_type": "stream",
          "name": "stderr",
          "text": [
            "100%|██████████| 157/157 [00:03<00:00, 46.54it/s]"
          ]
        },
        {
          "output_type": "stream",
          "name": "stdout",
          "text": [
            "\n",
            "structured Prune has 10.011942675159236 Test accuracy on testData\n"
          ]
        },
        {
          "output_type": "stream",
          "name": "stderr",
          "text": [
            "\n"
          ]
        }
      ]
    },
    {
      "cell_type": "markdown",
      "metadata": {
        "id": "qS5wCIUmTDxB"
      },
      "source": [
        "### Global Unstructured Pruning"
      ]
    },
    {
      "cell_type": "code",
      "source": [
        "def global_unstructured_prune(model:nn.Module, prunePercentage:float):\n",
        "    parameters_to_prune = []\n",
        "    for name, module in model.named_modules():\n",
        "        if isinstance(module, torch.nn.Linear):\n",
        "            parameters_to_prune.append((module, 'weight'))\n",
        "    prune.global_unstructured(parameters_to_prune, pruning_method=prune.L1Unstructured, amount=prunePercentage)\n",
        "    return model"
      ],
      "metadata": {
        "id": "xiBEGySO5A5h"
      },
      "execution_count": null,
      "outputs": []
    },
    {
      "cell_type": "code",
      "metadata": {
        "execution": {
          "iopub.status.busy": "2021-10-04T00:18:16.482198Z",
          "iopub.execute_input": "2021-10-04T00:18:16.482508Z",
          "iopub.status.idle": "2021-10-04T00:18:16.490515Z",
          "shell.execute_reply.started": "2021-10-04T00:18:16.482474Z",
          "shell.execute_reply": "2021-10-04T00:18:16.489822Z"
        },
        "trusted": true,
        "id": "tezp6DKt2ubf",
        "colab": {
          "base_uri": "https://localhost:8080/"
        },
        "outputId": "b39f3567-3633-498b-ab25-b85065c7a522"
      },
      "source": [
        "# placeholder to store results\n",
        "global_prune_accuracies = []\n",
        "\n",
        "# iterate through each prune percentage\n",
        "for perc in prunePercentages:\n",
        "    # load the pretrained model\n",
        "    model = MLPClassifier().to(device)\n",
        "    model.load_state_dict(torch.load(\"./MLP.pt\"))\n",
        "\n",
        "    # prune the model\n",
        "    globalPruneModel = global_unstructured_prune(model, perc)\n",
        "\n",
        "    # evaluate the pruned model on test data\n",
        "    global_prune_accuracies.append(evaluteOnTestData(globalPruneModel, None, \\\n",
        "          device, test_loader, meanClassificationAccuracyMetric, \"Test accuracy\", \"structured Prune\"))    "
      ],
      "execution_count": 21,
      "outputs": [
        {
          "output_type": "stream",
          "name": "stderr",
          "text": [
            "100%|██████████| 157/157 [00:03<00:00, 45.69it/s]\n"
          ]
        },
        {
          "output_type": "stream",
          "name": "stdout",
          "text": [
            "\n",
            "structured Prune has 82.50398089171973 Test accuracy on testData\n"
          ]
        },
        {
          "output_type": "stream",
          "name": "stderr",
          "text": [
            "100%|██████████| 157/157 [00:03<00:00, 47.56it/s]\n"
          ]
        },
        {
          "output_type": "stream",
          "name": "stdout",
          "text": [
            "\n",
            "structured Prune has 82.40445859872611 Test accuracy on testData\n"
          ]
        },
        {
          "output_type": "stream",
          "name": "stderr",
          "text": [
            "100%|██████████| 157/157 [00:03<00:00, 46.10it/s]\n"
          ]
        },
        {
          "output_type": "stream",
          "name": "stdout",
          "text": [
            "\n",
            "structured Prune has 80.1453025477707 Test accuracy on testData\n"
          ]
        },
        {
          "output_type": "stream",
          "name": "stderr",
          "text": [
            "100%|██████████| 157/157 [00:03<00:00, 45.14it/s]\n"
          ]
        },
        {
          "output_type": "stream",
          "name": "stdout",
          "text": [
            "\n",
            "structured Prune has 73.76592356687898 Test accuracy on testData\n"
          ]
        },
        {
          "output_type": "stream",
          "name": "stderr",
          "text": [
            "100%|██████████| 157/157 [00:03<00:00, 46.22it/s]\n"
          ]
        },
        {
          "output_type": "stream",
          "name": "stdout",
          "text": [
            "\n",
            "structured Prune has 64.95820063694268 Test accuracy on testData\n"
          ]
        },
        {
          "output_type": "stream",
          "name": "stderr",
          "text": [
            "100%|██████████| 157/157 [00:03<00:00, 46.19it/s]\n"
          ]
        },
        {
          "output_type": "stream",
          "name": "stdout",
          "text": [
            "\n",
            "structured Prune has 35.509554140127385 Test accuracy on testData\n"
          ]
        },
        {
          "output_type": "stream",
          "name": "stderr",
          "text": [
            "100%|██████████| 157/157 [00:03<00:00, 46.11it/s]\n"
          ]
        },
        {
          "output_type": "stream",
          "name": "stdout",
          "text": [
            "\n",
            "structured Prune has 10.748407643312103 Test accuracy on testData\n"
          ]
        },
        {
          "output_type": "stream",
          "name": "stderr",
          "text": [
            "100%|██████████| 157/157 [00:03<00:00, 45.88it/s]"
          ]
        },
        {
          "output_type": "stream",
          "name": "stdout",
          "text": [
            "\n",
            "structured Prune has 10.041799363057324 Test accuracy on testData\n"
          ]
        },
        {
          "output_type": "stream",
          "name": "stderr",
          "text": [
            "\n"
          ]
        }
      ]
    },
    {
      "cell_type": "markdown",
      "metadata": {
        "id": "Oeb5myYYTNAG"
      },
      "source": [
        "## 5 - **Analysis**: Visualize the results and find the best!\n"
      ]
    },
    {
      "cell_type": "code",
      "metadata": {
        "id": "4srTWA7hTS5q",
        "colab": {
          "base_uri": "https://localhost:8080/",
          "height": 295
        },
        "outputId": "c658baa7-2714-4638-ece4-e40dcbb47dc1"
      },
      "source": [
        "fig, ax = plt.subplots(1,1,figsize=(8,4))\n",
        "ax.plot(np.array(prunePercentages) * 100.0, np.array(l1_unstructured_accuracies), label='Layerwise Unstructured')\n",
        "ax.plot(np.array(prunePercentages) * 100.0, np.array(l1_structured_accuracies), label='Layerwise Structured')\n",
        "ax.plot(np.array(prunePercentages) * 100.0, np.array(global_prune_accuracies), label='Global Unstructured')\n",
        "ax.set(xlabel ='Prune percentage (Sparsity) %', ylabel = 'Test set Accuracy (%)', title = 'METRICS FOR DIFFERENT PRUNING TECHNIQUES')\n",
        "ax.legend()\n",
        "ax.grid(True)\n",
        "plt.show()"
      ],
      "execution_count": 22,
      "outputs": [
        {
          "output_type": "display_data",
          "data": {
            "image/png": "[encoded data removed]",
            "text/plain": [
              "<Figure size 576x288 with 1 Axes>"
            ]
          },
          "metadata": {
            "needs_background": "light"
          }
        }
      ]
    },
    {
      "cell_type": "markdown",
      "source": [
        "—— Observations\n",
        "\n",
        " - We can observe that even at ~55% Sparsity, layer wise unstructured pruning techniques maintain ~75% test accuracy.\n",
        " - Beyond a threshold (60% in our case), test accuracy drops significantly for all 3 techniques indicating the model is not able to capture enough information with the remaining weights\n",
        " - At least in our case, structured pruning is worse than unstructured pruning. "
      ],
      "metadata": {
        "id": "rpTK594T5yhW"
      }
    },
    {
      "cell_type": "markdown",
      "source": [
        "**Now, let's plot all 4 layers of our custom model and see how different techiques have pruned weights**"
      ],
      "metadata": {
        "id": "w1vYe8u69ikW"
      }
    },
    {
      "cell_type": "code",
      "source": [
        "def plot_fc_weight(weight, ax=None, cmap='viridis'):\n",
        "  nrows, ncols = weight.shape\n",
        "  x = np.arange(0,ncols)\n",
        "  y = np.arange(0,nrows)\n",
        "  X, Y = np.meshgrid(x,y)\n",
        "  z_np = weight.detach().cpu().numpy()\n",
        "  ln = ax.pcolor(X, Y, z_np, cmap=cmap)\n",
        "  ax.axis('off')\n",
        "  return ln"
      ],
      "metadata": {
        "id": "g_LtAMphdSqN"
      },
      "execution_count": null,
      "outputs": []
    },
    {
      "cell_type": "code",
      "source": [
        "def plot_custom_model(model, title=''):\n",
        "  fig, axes = plt.subplots(1,4,figsize=(16, 4), gridspec_kw={'width_ratios': [7,5,3,1]})\n",
        "  plot_fc_weight(model.fc1.weight, axes[0])\n",
        "  plot_fc_weight(model.fc2.weight, axes[1])\n",
        "  plot_fc_weight(model.fc3.weight, axes[2])\n",
        "  plot_fc_weight(model.fc4.weight, axes[3])\n",
        "  \n",
        "  axes[0].set_title('FC Layer1')\n",
        "  axes[1].set_title('FC Layer2')\n",
        "  axes[2].set_title('FC Layer3')\n",
        "  axes[3].set_title('FC Layer4')\n",
        "  \n",
        "  if title is not '':\n",
        "    plt.suptitle(title)"
      ],
      "metadata": {
        "id": "-zP9ADHA90fh"
      },
      "execution_count": null,
      "outputs": []
    },
    {
      "cell_type": "code",
      "source": [
        "plot_custom_model(unStructuredPruneModel, title='Unstructured Pruned Model')"
      ],
      "metadata": {
        "id": "vuFJy6PV-iok",
        "colab": {
          "base_uri": "https://localhost:8080/",
          "height": 266
        },
        "outputId": "6ea1660e-830c-4a5e-a395-eb3f34fd8614"
      },
      "execution_count": null,
      "outputs": [
        {
          "output_type": "display_data",
          "data": {
            "image/png": "[encoded data removed]",
            "text/plain": [
              "<Figure size 1152x288 with 4 Axes>"
            ]
          },
          "metadata": {
            "needs_background": "light"
          }
        }
      ]
    },
    {
      "cell_type": "code",
      "source": [
        "plot_custom_model(structuredPruneModel, title='Structured Pruned Model')"
      ],
      "metadata": {
        "id": "wcYSimd5_nil",
        "colab": {
          "base_uri": "https://localhost:8080/",
          "height": 266
        },
        "outputId": "37efea7d-86b2-4037-d629-530124826a20"
      },
      "execution_count": null,
      "outputs": [
        {
          "output_type": "display_data",
          "data": {
            "image/png": "[encoded data removed]",
            "text/plain": [
              "<Figure size 1152x288 with 4 Axes>"
            ]
          },
          "metadata": {
            "needs_background": "light"
          }
        }
      ]
    },
    {
      "cell_type": "code",
      "source": [
        "plot_custom_model(globalPruneModel, 'Global Unstructured Pruned Model')"
      ],
      "metadata": {
        "id": "WQxkWt7X_m-J",
        "colab": {
          "base_uri": "https://localhost:8080/",
          "height": 266
        },
        "outputId": "20a2b812-daa5-49c3-dd28-eb26ea245061"
      },
      "execution_count": null,
      "outputs": [
        {
          "output_type": "display_data",
          "data": {
            "image/png": "[encoded data removed]",
            "text/plain": [
              "<Figure size 1152x288 with 4 Axes>"
            ]
          },
          "metadata": {
            "needs_background": "light"
          }
        }
      ]
    },
    {
      "cell_type": "markdown",
      "metadata": {
        "id": "v7XF7eJddRMZ"
      },
      "source": [
        "### Notes —\n",
        "\n",
        "Now that we pruned majority of our model, what performance improvement can we expect?\n",
        "\n",
        "- For now, ***Pytorch pruning doesn't improve the runtime performance of the model. This is because, even though large percentage of weights can be set to zero, the forward pass still uses operations on the entire dense tensors of the model***\n",
        "- ***Sparse tensor operations functionality is still very limited in Pytorch, but it has plans to incorporate optimizations to see effects of Pruning in production systems***\n",
        "- To truly see the effect of the different pruning methods, we need to use a separate library that can optimize the model for pruned weights and apply it to production or recreate the pruned model structure from scratch"
      ]
    }
  ]
}