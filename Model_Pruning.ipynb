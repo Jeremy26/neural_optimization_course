{
  "nbformat": 4,
  "nbformat_minor": 0,
  "metadata": {
    "kernelspec": {
      "language": "python",
      "display_name": "Python 3",
      "name": "python3"
    },
    "language_info": {
      "name": "python",
      "version": "3.7.10",
      "mimetype": "text/x-python",
      "codemirror_mode": {
        "name": "ipython",
        "version": 3
      },
      "pygments_lexer": "ipython3",
      "nbconvert_exporter": "python",
      "file_extension": ".py"
    },
    "colab": {
      "name": "Model_Pruning.ipynb",
      "provenance": [],
      "collapsed_sections": [],
      "include_colab_link": true
    },
    "accelerator": "GPU",
    "widgets": {
      "application/vnd.jupyter.widget-state+json": {
        "0a797eadd08d494a92cafcaf172991c5": {
          "model_module": "@jupyter-widgets/controls",
          "model_name": "HBoxModel",
          "model_module_version": "1.5.0",
          "state": {
            "_view_name": "HBoxView",
            "_dom_classes": [],
            "_model_name": "HBoxModel",
            "_view_module": "@jupyter-widgets/controls",
            "_model_module_version": "1.5.0",
            "_view_count": null,
            "_view_module_version": "1.5.0",
            "box_style": "",
            "layout": "IPY_MODEL_adc8c981bf8f410ba87e8d2b323c0462",
            "_model_module": "@jupyter-widgets/controls",
            "children": [
              "IPY_MODEL_aeafe7abc56640bbb574918c807943a4",
              "IPY_MODEL_aacd6e321b724f2f83e0d948bac78a0b",
              "IPY_MODEL_c2479db791ae4d16a9087ea2b16132e5"
            ]
          }
        },
        "adc8c981bf8f410ba87e8d2b323c0462": {
          "model_module": "@jupyter-widgets/base",
          "model_name": "LayoutModel",
          "model_module_version": "1.2.0",
          "state": {
            "_view_name": "LayoutView",
            "grid_template_rows": null,
            "right": null,
            "justify_content": null,
            "_view_module": "@jupyter-widgets/base",
            "overflow": null,
            "_model_module_version": "1.2.0",
            "_view_count": null,
            "flex_flow": null,
            "width": null,
            "min_width": null,
            "border": null,
            "align_items": null,
            "bottom": null,
            "_model_module": "@jupyter-widgets/base",
            "top": null,
            "grid_column": null,
            "overflow_y": null,
            "overflow_x": null,
            "grid_auto_flow": null,
            "grid_area": null,
            "grid_template_columns": null,
            "flex": null,
            "_model_name": "LayoutModel",
            "justify_items": null,
            "grid_row": null,
            "max_height": null,
            "align_content": null,
            "visibility": null,
            "align_self": null,
            "height": null,
            "min_height": null,
            "padding": null,
            "grid_auto_rows": null,
            "grid_gap": null,
            "max_width": null,
            "order": null,
            "_view_module_version": "1.2.0",
            "grid_template_areas": null,
            "object_position": null,
            "object_fit": null,
            "grid_auto_columns": null,
            "margin": null,
            "display": null,
            "left": null
          }
        },
        "aeafe7abc56640bbb574918c807943a4": {
          "model_module": "@jupyter-widgets/controls",
          "model_name": "HTMLModel",
          "model_module_version": "1.5.0",
          "state": {
            "_view_name": "HTMLView",
            "style": "IPY_MODEL_1d58973cb6684491b3540068ccb8606a",
            "_dom_classes": [],
            "description": "",
            "_model_name": "HTMLModel",
            "placeholder": "​",
            "_view_module": "@jupyter-widgets/controls",
            "_model_module_version": "1.5.0",
            "value": "",
            "_view_count": null,
            "_view_module_version": "1.5.0",
            "description_tooltip": null,
            "_model_module": "@jupyter-widgets/controls",
            "layout": "IPY_MODEL_9647220161d443609d9663035b1f4c56"
          }
        },
        "aacd6e321b724f2f83e0d948bac78a0b": {
          "model_module": "@jupyter-widgets/controls",
          "model_name": "FloatProgressModel",
          "model_module_version": "1.5.0",
          "state": {
            "_view_name": "ProgressView",
            "style": "IPY_MODEL_a6d592a29a0642908537570f545229a6",
            "_dom_classes": [],
            "description": "",
            "_model_name": "FloatProgressModel",
            "bar_style": "success",
            "max": 26421880,
            "_view_module": "@jupyter-widgets/controls",
            "_model_module_version": "1.5.0",
            "value": 26421880,
            "_view_count": null,
            "_view_module_version": "1.5.0",
            "orientation": "horizontal",
            "min": 0,
            "description_tooltip": null,
            "_model_module": "@jupyter-widgets/controls",
            "layout": "IPY_MODEL_1653e32fbd9042e2b102ff941486fab7"
          }
        },
        "c2479db791ae4d16a9087ea2b16132e5": {
          "model_module": "@jupyter-widgets/controls",
          "model_name": "HTMLModel",
          "model_module_version": "1.5.0",
          "state": {
            "_view_name": "HTMLView",
            "style": "IPY_MODEL_c3537535364946d49c0879cb4d979330",
            "_dom_classes": [],
            "description": "",
            "_model_name": "HTMLModel",
            "placeholder": "​",
            "_view_module": "@jupyter-widgets/controls",
            "_model_module_version": "1.5.0",
            "value": " 26422272/? [00:02&lt;00:00, 17669561.21it/s]",
            "_view_count": null,
            "_view_module_version": "1.5.0",
            "description_tooltip": null,
            "_model_module": "@jupyter-widgets/controls",
            "layout": "IPY_MODEL_bedd2bf821ec4100b8c252ceaa95cad5"
          }
        },
        "1d58973cb6684491b3540068ccb8606a": {
          "model_module": "@jupyter-widgets/controls",
          "model_name": "DescriptionStyleModel",
          "model_module_version": "1.5.0",
          "state": {
            "_view_name": "StyleView",
            "_model_name": "DescriptionStyleModel",
            "description_width": "",
            "_view_module": "@jupyter-widgets/base",
            "_model_module_version": "1.5.0",
            "_view_count": null,
            "_view_module_version": "1.2.0",
            "_model_module": "@jupyter-widgets/controls"
          }
        },
        "9647220161d443609d9663035b1f4c56": {
          "model_module": "@jupyter-widgets/base",
          "model_name": "LayoutModel",
          "model_module_version": "1.2.0",
          "state": {
            "_view_name": "LayoutView",
            "grid_template_rows": null,
            "right": null,
            "justify_content": null,
            "_view_module": "@jupyter-widgets/base",
            "overflow": null,
            "_model_module_version": "1.2.0",
            "_view_count": null,
            "flex_flow": null,
            "width": null,
            "min_width": null,
            "border": null,
            "align_items": null,
            "bottom": null,
            "_model_module": "@jupyter-widgets/base",
            "top": null,
            "grid_column": null,
            "overflow_y": null,
            "overflow_x": null,
            "grid_auto_flow": null,
            "grid_area": null,
            "grid_template_columns": null,
            "flex": null,
            "_model_name": "LayoutModel",
            "justify_items": null,
            "grid_row": null,
            "max_height": null,
            "align_content": null,
            "visibility": null,
            "align_self": null,
            "height": null,
            "min_height": null,
            "padding": null,
            "grid_auto_rows": null,
            "grid_gap": null,
            "max_width": null,
            "order": null,
            "_view_module_version": "1.2.0",
            "grid_template_areas": null,
            "object_position": null,
            "object_fit": null,
            "grid_auto_columns": null,
            "margin": null,
            "display": null,
            "left": null
          }
        },
        "a6d592a29a0642908537570f545229a6": {
          "model_module": "@jupyter-widgets/controls",
          "model_name": "ProgressStyleModel",
          "model_module_version": "1.5.0",
          "state": {
            "_view_name": "StyleView",
            "_model_name": "ProgressStyleModel",
            "description_width": "",
            "_view_module": "@jupyter-widgets/base",
            "_model_module_version": "1.5.0",
            "_view_count": null,
            "_view_module_version": "1.2.0",
            "bar_color": null,
            "_model_module": "@jupyter-widgets/controls"
          }
        },
        "1653e32fbd9042e2b102ff941486fab7": {
          "model_module": "@jupyter-widgets/base",
          "model_name": "LayoutModel",
          "model_module_version": "1.2.0",
          "state": {
            "_view_name": "LayoutView",
            "grid_template_rows": null,
            "right": null,
            "justify_content": null,
            "_view_module": "@jupyter-widgets/base",
            "overflow": null,
            "_model_module_version": "1.2.0",
            "_view_count": null,
            "flex_flow": null,
            "width": null,
            "min_width": null,
            "border": null,
            "align_items": null,
            "bottom": null,
            "_model_module": "@jupyter-widgets/base",
            "top": null,
            "grid_column": null,
            "overflow_y": null,
            "overflow_x": null,
            "grid_auto_flow": null,
            "grid_area": null,
            "grid_template_columns": null,
            "flex": null,
            "_model_name": "LayoutModel",
            "justify_items": null,
            "grid_row": null,
            "max_height": null,
            "align_content": null,
            "visibility": null,
            "align_self": null,
            "height": null,
            "min_height": null,
            "padding": null,
            "grid_auto_rows": null,
            "grid_gap": null,
            "max_width": null,
            "order": null,
            "_view_module_version": "1.2.0",
            "grid_template_areas": null,
            "object_position": null,
            "object_fit": null,
            "grid_auto_columns": null,
            "margin": null,
            "display": null,
            "left": null
          }
        },
        "c3537535364946d49c0879cb4d979330": {
          "model_module": "@jupyter-widgets/controls",
          "model_name": "DescriptionStyleModel",
          "model_module_version": "1.5.0",
          "state": {
            "_view_name": "StyleView",
            "_model_name": "DescriptionStyleModel",
            "description_width": "",
            "_view_module": "@jupyter-widgets/base",
            "_model_module_version": "1.5.0",
            "_view_count": null,
            "_view_module_version": "1.2.0",
            "_model_module": "@jupyter-widgets/controls"
          }
        },
        "bedd2bf821ec4100b8c252ceaa95cad5": {
          "model_module": "@jupyter-widgets/base",
          "model_name": "LayoutModel",
          "model_module_version": "1.2.0",
          "state": {
            "_view_name": "LayoutView",
            "grid_template_rows": null,
            "right": null,
            "justify_content": null,
            "_view_module": "@jupyter-widgets/base",
            "overflow": null,
            "_model_module_version": "1.2.0",
            "_view_count": null,
            "flex_flow": null,
            "width": null,
            "min_width": null,
            "border": null,
            "align_items": null,
            "bottom": null,
            "_model_module": "@jupyter-widgets/base",
            "top": null,
            "grid_column": null,
            "overflow_y": null,
            "overflow_x": null,
            "grid_auto_flow": null,
            "grid_area": null,
            "grid_template_columns": null,
            "flex": null,
            "_model_name": "LayoutModel",
            "justify_items": null,
            "grid_row": null,
            "max_height": null,
            "align_content": null,
            "visibility": null,
            "align_self": null,
            "height": null,
            "min_height": null,
            "padding": null,
            "grid_auto_rows": null,
            "grid_gap": null,
            "max_width": null,
            "order": null,
            "_view_module_version": "1.2.0",
            "grid_template_areas": null,
            "object_position": null,
            "object_fit": null,
            "grid_auto_columns": null,
            "margin": null,
            "display": null,
            "left": null
          }
        },
        "40d1f0fa70fb4abf9c0ae4fa6c83dc1c": {
          "model_module": "@jupyter-widgets/controls",
          "model_name": "HBoxModel",
          "model_module_version": "1.5.0",
          "state": {
            "_view_name": "HBoxView",
            "_dom_classes": [],
            "_model_name": "HBoxModel",
            "_view_module": "@jupyter-widgets/controls",
            "_model_module_version": "1.5.0",
            "_view_count": null,
            "_view_module_version": "1.5.0",
            "box_style": "",
            "layout": "IPY_MODEL_1d8fe099af664c1185fb3f8464337991",
            "_model_module": "@jupyter-widgets/controls",
            "children": [
              "IPY_MODEL_223c44e72a264197b1c67314638831b6",
              "IPY_MODEL_4b0291b5458e4a56b8dc80e2dbd39e47",
              "IPY_MODEL_3812189d6f7f43ce973505ae2b21e0c0"
            ]
          }
        },
        "1d8fe099af664c1185fb3f8464337991": {
          "model_module": "@jupyter-widgets/base",
          "model_name": "LayoutModel",
          "model_module_version": "1.2.0",
          "state": {
            "_view_name": "LayoutView",
            "grid_template_rows": null,
            "right": null,
            "justify_content": null,
            "_view_module": "@jupyter-widgets/base",
            "overflow": null,
            "_model_module_version": "1.2.0",
            "_view_count": null,
            "flex_flow": null,
            "width": null,
            "min_width": null,
            "border": null,
            "align_items": null,
            "bottom": null,
            "_model_module": "@jupyter-widgets/base",
            "top": null,
            "grid_column": null,
            "overflow_y": null,
            "overflow_x": null,
            "grid_auto_flow": null,
            "grid_area": null,
            "grid_template_columns": null,
            "flex": null,
            "_model_name": "LayoutModel",
            "justify_items": null,
            "grid_row": null,
            "max_height": null,
            "align_content": null,
            "visibility": null,
            "align_self": null,
            "height": null,
            "min_height": null,
            "padding": null,
            "grid_auto_rows": null,
            "grid_gap": null,
            "max_width": null,
            "order": null,
            "_view_module_version": "1.2.0",
            "grid_template_areas": null,
            "object_position": null,
            "object_fit": null,
            "grid_auto_columns": null,
            "margin": null,
            "display": null,
            "left": null
          }
        },
        "223c44e72a264197b1c67314638831b6": {
          "model_module": "@jupyter-widgets/controls",
          "model_name": "HTMLModel",
          "model_module_version": "1.5.0",
          "state": {
            "_view_name": "HTMLView",
            "style": "IPY_MODEL_381cbd61838a440aad400f8f23eddf45",
            "_dom_classes": [],
            "description": "",
            "_model_name": "HTMLModel",
            "placeholder": "​",
            "_view_module": "@jupyter-widgets/controls",
            "_model_module_version": "1.5.0",
            "value": "",
            "_view_count": null,
            "_view_module_version": "1.5.0",
            "description_tooltip": null,
            "_model_module": "@jupyter-widgets/controls",
            "layout": "IPY_MODEL_4790333197084a28b226c88b493de5dc"
          }
        },
        "4b0291b5458e4a56b8dc80e2dbd39e47": {
          "model_module": "@jupyter-widgets/controls",
          "model_name": "FloatProgressModel",
          "model_module_version": "1.5.0",
          "state": {
            "_view_name": "ProgressView",
            "style": "IPY_MODEL_175cdd56a3ec4d379666ad7eaf488820",
            "_dom_classes": [],
            "description": "",
            "_model_name": "FloatProgressModel",
            "bar_style": "success",
            "max": 29515,
            "_view_module": "@jupyter-widgets/controls",
            "_model_module_version": "1.5.0",
            "value": 29515,
            "_view_count": null,
            "_view_module_version": "1.5.0",
            "orientation": "horizontal",
            "min": 0,
            "description_tooltip": null,
            "_model_module": "@jupyter-widgets/controls",
            "layout": "IPY_MODEL_28e79fc76a8b438ca3741eb492a0eaeb"
          }
        },
        "3812189d6f7f43ce973505ae2b21e0c0": {
          "model_module": "@jupyter-widgets/controls",
          "model_name": "HTMLModel",
          "model_module_version": "1.5.0",
          "state": {
            "_view_name": "HTMLView",
            "style": "IPY_MODEL_59cd456c2b0c4e88a2a33f45dabb27c3",
            "_dom_classes": [],
            "description": "",
            "_model_name": "HTMLModel",
            "placeholder": "​",
            "_view_module": "@jupyter-widgets/controls",
            "_model_module_version": "1.5.0",
            "value": " 29696/? [00:00&lt;00:00, 96467.09it/s]",
            "_view_count": null,
            "_view_module_version": "1.5.0",
            "description_tooltip": null,
            "_model_module": "@jupyter-widgets/controls",
            "layout": "IPY_MODEL_0a1a2d1ece334e82b6ab7a2c98c381aa"
          }
        },
        "381cbd61838a440aad400f8f23eddf45": {
          "model_module": "@jupyter-widgets/controls",
          "model_name": "DescriptionStyleModel",
          "model_module_version": "1.5.0",
          "state": {
            "_view_name": "StyleView",
            "_model_name": "DescriptionStyleModel",
            "description_width": "",
            "_view_module": "@jupyter-widgets/base",
            "_model_module_version": "1.5.0",
            "_view_count": null,
            "_view_module_version": "1.2.0",
            "_model_module": "@jupyter-widgets/controls"
          }
        },
        "4790333197084a28b226c88b493de5dc": {
          "model_module": "@jupyter-widgets/base",
          "model_name": "LayoutModel",
          "model_module_version": "1.2.0",
          "state": {
            "_view_name": "LayoutView",
            "grid_template_rows": null,
            "right": null,
            "justify_content": null,
            "_view_module": "@jupyter-widgets/base",
            "overflow": null,
            "_model_module_version": "1.2.0",
            "_view_count": null,
            "flex_flow": null,
            "width": null,
            "min_width": null,
            "border": null,
            "align_items": null,
            "bottom": null,
            "_model_module": "@jupyter-widgets/base",
            "top": null,
            "grid_column": null,
            "overflow_y": null,
            "overflow_x": null,
            "grid_auto_flow": null,
            "grid_area": null,
            "grid_template_columns": null,
            "flex": null,
            "_model_name": "LayoutModel",
            "justify_items": null,
            "grid_row": null,
            "max_height": null,
            "align_content": null,
            "visibility": null,
            "align_self": null,
            "height": null,
            "min_height": null,
            "padding": null,
            "grid_auto_rows": null,
            "grid_gap": null,
            "max_width": null,
            "order": null,
            "_view_module_version": "1.2.0",
            "grid_template_areas": null,
            "object_position": null,
            "object_fit": null,
            "grid_auto_columns": null,
            "margin": null,
            "display": null,
            "left": null
          }
        },
        "175cdd56a3ec4d379666ad7eaf488820": {
          "model_module": "@jupyter-widgets/controls",
          "model_name": "ProgressStyleModel",
          "model_module_version": "1.5.0",
          "state": {
            "_view_name": "StyleView",
            "_model_name": "ProgressStyleModel",
            "description_width": "",
            "_view_module": "@jupyter-widgets/base",
            "_model_module_version": "1.5.0",
            "_view_count": null,
            "_view_module_version": "1.2.0",
            "bar_color": null,
            "_model_module": "@jupyter-widgets/controls"
          }
        },
        "28e79fc76a8b438ca3741eb492a0eaeb": {
          "model_module": "@jupyter-widgets/base",
          "model_name": "LayoutModel",
          "model_module_version": "1.2.0",
          "state": {
            "_view_name": "LayoutView",
            "grid_template_rows": null,
            "right": null,
            "justify_content": null,
            "_view_module": "@jupyter-widgets/base",
            "overflow": null,
            "_model_module_version": "1.2.0",
            "_view_count": null,
            "flex_flow": null,
            "width": null,
            "min_width": null,
            "border": null,
            "align_items": null,
            "bottom": null,
            "_model_module": "@jupyter-widgets/base",
            "top": null,
            "grid_column": null,
            "overflow_y": null,
            "overflow_x": null,
            "grid_auto_flow": null,
            "grid_area": null,
            "grid_template_columns": null,
            "flex": null,
            "_model_name": "LayoutModel",
            "justify_items": null,
            "grid_row": null,
            "max_height": null,
            "align_content": null,
            "visibility": null,
            "align_self": null,
            "height": null,
            "min_height": null,
            "padding": null,
            "grid_auto_rows": null,
            "grid_gap": null,
            "max_width": null,
            "order": null,
            "_view_module_version": "1.2.0",
            "grid_template_areas": null,
            "object_position": null,
            "object_fit": null,
            "grid_auto_columns": null,
            "margin": null,
            "display": null,
            "left": null
          }
        },
        "59cd456c2b0c4e88a2a33f45dabb27c3": {
          "model_module": "@jupyter-widgets/controls",
          "model_name": "DescriptionStyleModel",
          "model_module_version": "1.5.0",
          "state": {
            "_view_name": "StyleView",
            "_model_name": "DescriptionStyleModel",
            "description_width": "",
            "_view_module": "@jupyter-widgets/base",
            "_model_module_version": "1.5.0",
            "_view_count": null,
            "_view_module_version": "1.2.0",
            "_model_module": "@jupyter-widgets/controls"
          }
        },
        "0a1a2d1ece334e82b6ab7a2c98c381aa": {
          "model_module": "@jupyter-widgets/base",
          "model_name": "LayoutModel",
          "model_module_version": "1.2.0",
          "state": {
            "_view_name": "LayoutView",
            "grid_template_rows": null,
            "right": null,
            "justify_content": null,
            "_view_module": "@jupyter-widgets/base",
            "overflow": null,
            "_model_module_version": "1.2.0",
            "_view_count": null,
            "flex_flow": null,
            "width": null,
            "min_width": null,
            "border": null,
            "align_items": null,
            "bottom": null,
            "_model_module": "@jupyter-widgets/base",
            "top": null,
            "grid_column": null,
            "overflow_y": null,
            "overflow_x": null,
            "grid_auto_flow": null,
            "grid_area": null,
            "grid_template_columns": null,
            "flex": null,
            "_model_name": "LayoutModel",
            "justify_items": null,
            "grid_row": null,
            "max_height": null,
            "align_content": null,
            "visibility": null,
            "align_self": null,
            "height": null,
            "min_height": null,
            "padding": null,
            "grid_auto_rows": null,
            "grid_gap": null,
            "max_width": null,
            "order": null,
            "_view_module_version": "1.2.0",
            "grid_template_areas": null,
            "object_position": null,
            "object_fit": null,
            "grid_auto_columns": null,
            "margin": null,
            "display": null,
            "left": null
          }
        },
        "70e886f037c64c5f90789f5d3ed5c9a0": {
          "model_module": "@jupyter-widgets/controls",
          "model_name": "HBoxModel",
          "model_module_version": "1.5.0",
          "state": {
            "_view_name": "HBoxView",
            "_dom_classes": [],
            "_model_name": "HBoxModel",
            "_view_module": "@jupyter-widgets/controls",
            "_model_module_version": "1.5.0",
            "_view_count": null,
            "_view_module_version": "1.5.0",
            "box_style": "",
            "layout": "IPY_MODEL_06f70d6ecafe421b9ddeb917f6101258",
            "_model_module": "@jupyter-widgets/controls",
            "children": [
              "IPY_MODEL_bdb628e60b414dbea3e11bb5ce4bed6e",
              "IPY_MODEL_009835f5b39e4a2489f231b7e38c64a9",
              "IPY_MODEL_37b186b665374b70ba60cf2fc498d144"
            ]
          }
        },
        "06f70d6ecafe421b9ddeb917f6101258": {
          "model_module": "@jupyter-widgets/base",
          "model_name": "LayoutModel",
          "model_module_version": "1.2.0",
          "state": {
            "_view_name": "LayoutView",
            "grid_template_rows": null,
            "right": null,
            "justify_content": null,
            "_view_module": "@jupyter-widgets/base",
            "overflow": null,
            "_model_module_version": "1.2.0",
            "_view_count": null,
            "flex_flow": null,
            "width": null,
            "min_width": null,
            "border": null,
            "align_items": null,
            "bottom": null,
            "_model_module": "@jupyter-widgets/base",
            "top": null,
            "grid_column": null,
            "overflow_y": null,
            "overflow_x": null,
            "grid_auto_flow": null,
            "grid_area": null,
            "grid_template_columns": null,
            "flex": null,
            "_model_name": "LayoutModel",
            "justify_items": null,
            "grid_row": null,
            "max_height": null,
            "align_content": null,
            "visibility": null,
            "align_self": null,
            "height": null,
            "min_height": null,
            "padding": null,
            "grid_auto_rows": null,
            "grid_gap": null,
            "max_width": null,
            "order": null,
            "_view_module_version": "1.2.0",
            "grid_template_areas": null,
            "object_position": null,
            "object_fit": null,
            "grid_auto_columns": null,
            "margin": null,
            "display": null,
            "left": null
          }
        },
        "bdb628e60b414dbea3e11bb5ce4bed6e": {
          "model_module": "@jupyter-widgets/controls",
          "model_name": "HTMLModel",
          "model_module_version": "1.5.0",
          "state": {
            "_view_name": "HTMLView",
            "style": "IPY_MODEL_f5d252ca6b5243a1a15613c79f672f2b",
            "_dom_classes": [],
            "description": "",
            "_model_name": "HTMLModel",
            "placeholder": "​",
            "_view_module": "@jupyter-widgets/controls",
            "_model_module_version": "1.5.0",
            "value": "",
            "_view_count": null,
            "_view_module_version": "1.5.0",
            "description_tooltip": null,
            "_model_module": "@jupyter-widgets/controls",
            "layout": "IPY_MODEL_9ea25d4dccf94a5fba85a4d4a9962648"
          }
        },
        "009835f5b39e4a2489f231b7e38c64a9": {
          "model_module": "@jupyter-widgets/controls",
          "model_name": "FloatProgressModel",
          "model_module_version": "1.5.0",
          "state": {
            "_view_name": "ProgressView",
            "style": "IPY_MODEL_4697dc4105ef46ad83f44dbd030c0a43",
            "_dom_classes": [],
            "description": "",
            "_model_name": "FloatProgressModel",
            "bar_style": "success",
            "max": 4422102,
            "_view_module": "@jupyter-widgets/controls",
            "_model_module_version": "1.5.0",
            "value": 4422102,
            "_view_count": null,
            "_view_module_version": "1.5.0",
            "orientation": "horizontal",
            "min": 0,
            "description_tooltip": null,
            "_model_module": "@jupyter-widgets/controls",
            "layout": "IPY_MODEL_3913d066e9044f46956e140fc6426b09"
          }
        },
        "37b186b665374b70ba60cf2fc498d144": {
          "model_module": "@jupyter-widgets/controls",
          "model_name": "HTMLModel",
          "model_module_version": "1.5.0",
          "state": {
            "_view_name": "HTMLView",
            "style": "IPY_MODEL_ee7e87ce4a5b49bab0e8e1438eba53b6",
            "_dom_classes": [],
            "description": "",
            "_model_name": "HTMLModel",
            "placeholder": "​",
            "_view_module": "@jupyter-widgets/controls",
            "_model_module_version": "1.5.0",
            "value": " 4422656/? [00:01&lt;00:00, 6859916.69it/s]",
            "_view_count": null,
            "_view_module_version": "1.5.0",
            "description_tooltip": null,
            "_model_module": "@jupyter-widgets/controls",
            "layout": "IPY_MODEL_201ef5bb58f9490db7d1bf5cbe180c53"
          }
        },
        "f5d252ca6b5243a1a15613c79f672f2b": {
          "model_module": "@jupyter-widgets/controls",
          "model_name": "DescriptionStyleModel",
          "model_module_version": "1.5.0",
          "state": {
            "_view_name": "StyleView",
            "_model_name": "DescriptionStyleModel",
            "description_width": "",
            "_view_module": "@jupyter-widgets/base",
            "_model_module_version": "1.5.0",
            "_view_count": null,
            "_view_module_version": "1.2.0",
            "_model_module": "@jupyter-widgets/controls"
          }
        },
        "9ea25d4dccf94a5fba85a4d4a9962648": {
          "model_module": "@jupyter-widgets/base",
          "model_name": "LayoutModel",
          "model_module_version": "1.2.0",
          "state": {
            "_view_name": "LayoutView",
            "grid_template_rows": null,
            "right": null,
            "justify_content": null,
            "_view_module": "@jupyter-widgets/base",
            "overflow": null,
            "_model_module_version": "1.2.0",
            "_view_count": null,
            "flex_flow": null,
            "width": null,
            "min_width": null,
            "border": null,
            "align_items": null,
            "bottom": null,
            "_model_module": "@jupyter-widgets/base",
            "top": null,
            "grid_column": null,
            "overflow_y": null,
            "overflow_x": null,
            "grid_auto_flow": null,
            "grid_area": null,
            "grid_template_columns": null,
            "flex": null,
            "_model_name": "LayoutModel",
            "justify_items": null,
            "grid_row": null,
            "max_height": null,
            "align_content": null,
            "visibility": null,
            "align_self": null,
            "height": null,
            "min_height": null,
            "padding": null,
            "grid_auto_rows": null,
            "grid_gap": null,
            "max_width": null,
            "order": null,
            "_view_module_version": "1.2.0",
            "grid_template_areas": null,
            "object_position": null,
            "object_fit": null,
            "grid_auto_columns": null,
            "margin": null,
            "display": null,
            "left": null
          }
        },
        "4697dc4105ef46ad83f44dbd030c0a43": {
          "model_module": "@jupyter-widgets/controls",
          "model_name": "ProgressStyleModel",
          "model_module_version": "1.5.0",
          "state": {
            "_view_name": "StyleView",
            "_model_name": "ProgressStyleModel",
            "description_width": "",
            "_view_module": "@jupyter-widgets/base",
            "_model_module_version": "1.5.0",
            "_view_count": null,
            "_view_module_version": "1.2.0",
            "bar_color": null,
            "_model_module": "@jupyter-widgets/controls"
          }
        },
        "3913d066e9044f46956e140fc6426b09": {
          "model_module": "@jupyter-widgets/base",
          "model_name": "LayoutModel",
          "model_module_version": "1.2.0",
          "state": {
            "_view_name": "LayoutView",
            "grid_template_rows": null,
            "right": null,
            "justify_content": null,
            "_view_module": "@jupyter-widgets/base",
            "overflow": null,
            "_model_module_version": "1.2.0",
            "_view_count": null,
            "flex_flow": null,
            "width": null,
            "min_width": null,
            "border": null,
            "align_items": null,
            "bottom": null,
            "_model_module": "@jupyter-widgets/base",
            "top": null,
            "grid_column": null,
            "overflow_y": null,
            "overflow_x": null,
            "grid_auto_flow": null,
            "grid_area": null,
            "grid_template_columns": null,
            "flex": null,
            "_model_name": "LayoutModel",
            "justify_items": null,
            "grid_row": null,
            "max_height": null,
            "align_content": null,
            "visibility": null,
            "align_self": null,
            "height": null,
            "min_height": null,
            "padding": null,
            "grid_auto_rows": null,
            "grid_gap": null,
            "max_width": null,
            "order": null,
            "_view_module_version": "1.2.0",
            "grid_template_areas": null,
            "object_position": null,
            "object_fit": null,
            "grid_auto_columns": null,
            "margin": null,
            "display": null,
            "left": null
          }
        },
        "ee7e87ce4a5b49bab0e8e1438eba53b6": {
          "model_module": "@jupyter-widgets/controls",
          "model_name": "DescriptionStyleModel",
          "model_module_version": "1.5.0",
          "state": {
            "_view_name": "StyleView",
            "_model_name": "DescriptionStyleModel",
            "description_width": "",
            "_view_module": "@jupyter-widgets/base",
            "_model_module_version": "1.5.0",
            "_view_count": null,
            "_view_module_version": "1.2.0",
            "_model_module": "@jupyter-widgets/controls"
          }
        },
        "201ef5bb58f9490db7d1bf5cbe180c53": {
          "model_module": "@jupyter-widgets/base",
          "model_name": "LayoutModel",
          "model_module_version": "1.2.0",
          "state": {
            "_view_name": "LayoutView",
            "grid_template_rows": null,
            "right": null,
            "justify_content": null,
            "_view_module": "@jupyter-widgets/base",
            "overflow": null,
            "_model_module_version": "1.2.0",
            "_view_count": null,
            "flex_flow": null,
            "width": null,
            "min_width": null,
            "border": null,
            "align_items": null,
            "bottom": null,
            "_model_module": "@jupyter-widgets/base",
            "top": null,
            "grid_column": null,
            "overflow_y": null,
            "overflow_x": null,
            "grid_auto_flow": null,
            "grid_area": null,
            "grid_template_columns": null,
            "flex": null,
            "_model_name": "LayoutModel",
            "justify_items": null,
            "grid_row": null,
            "max_height": null,
            "align_content": null,
            "visibility": null,
            "align_self": null,
            "height": null,
            "min_height": null,
            "padding": null,
            "grid_auto_rows": null,
            "grid_gap": null,
            "max_width": null,
            "order": null,
            "_view_module_version": "1.2.0",
            "grid_template_areas": null,
            "object_position": null,
            "object_fit": null,
            "grid_auto_columns": null,
            "margin": null,
            "display": null,
            "left": null
          }
        },
        "e3e8f6c7344947c8af83e98f6c99533e": {
          "model_module": "@jupyter-widgets/controls",
          "model_name": "HBoxModel",
          "model_module_version": "1.5.0",
          "state": {
            "_view_name": "HBoxView",
            "_dom_classes": [],
            "_model_name": "HBoxModel",
            "_view_module": "@jupyter-widgets/controls",
            "_model_module_version": "1.5.0",
            "_view_count": null,
            "_view_module_version": "1.5.0",
            "box_style": "",
            "layout": "IPY_MODEL_eeffcf23212d40f1813923c593ce1e31",
            "_model_module": "@jupyter-widgets/controls",
            "children": [
              "IPY_MODEL_f8981f97bb864d25af327ad2b9dbfdc6",
              "IPY_MODEL_e879849108844a4fbd8fb6d2b0e2a113",
              "IPY_MODEL_ebdc88d72f10461aa1e15a3c56e523f1"
            ]
          }
        },
        "eeffcf23212d40f1813923c593ce1e31": {
          "model_module": "@jupyter-widgets/base",
          "model_name": "LayoutModel",
          "model_module_version": "1.2.0",
          "state": {
            "_view_name": "LayoutView",
            "grid_template_rows": null,
            "right": null,
            "justify_content": null,
            "_view_module": "@jupyter-widgets/base",
            "overflow": null,
            "_model_module_version": "1.2.0",
            "_view_count": null,
            "flex_flow": null,
            "width": null,
            "min_width": null,
            "border": null,
            "align_items": null,
            "bottom": null,
            "_model_module": "@jupyter-widgets/base",
            "top": null,
            "grid_column": null,
            "overflow_y": null,
            "overflow_x": null,
            "grid_auto_flow": null,
            "grid_area": null,
            "grid_template_columns": null,
            "flex": null,
            "_model_name": "LayoutModel",
            "justify_items": null,
            "grid_row": null,
            "max_height": null,
            "align_content": null,
            "visibility": null,
            "align_self": null,
            "height": null,
            "min_height": null,
            "padding": null,
            "grid_auto_rows": null,
            "grid_gap": null,
            "max_width": null,
            "order": null,
            "_view_module_version": "1.2.0",
            "grid_template_areas": null,
            "object_position": null,
            "object_fit": null,
            "grid_auto_columns": null,
            "margin": null,
            "display": null,
            "left": null
          }
        },
        "f8981f97bb864d25af327ad2b9dbfdc6": {
          "model_module": "@jupyter-widgets/controls",
          "model_name": "HTMLModel",
          "model_module_version": "1.5.0",
          "state": {
            "_view_name": "HTMLView",
            "style": "IPY_MODEL_b4844f7238d64570b80bd5ac0ac9678d",
            "_dom_classes": [],
            "description": "",
            "_model_name": "HTMLModel",
            "placeholder": "​",
            "_view_module": "@jupyter-widgets/controls",
            "_model_module_version": "1.5.0",
            "value": "",
            "_view_count": null,
            "_view_module_version": "1.5.0",
            "description_tooltip": null,
            "_model_module": "@jupyter-widgets/controls",
            "layout": "IPY_MODEL_4b9f80b0f2524c63860849f36b8c5faf"
          }
        },
        "e879849108844a4fbd8fb6d2b0e2a113": {
          "model_module": "@jupyter-widgets/controls",
          "model_name": "FloatProgressModel",
          "model_module_version": "1.5.0",
          "state": {
            "_view_name": "ProgressView",
            "style": "IPY_MODEL_7443461bb2d64295820a56e02ecfa905",
            "_dom_classes": [],
            "description": "",
            "_model_name": "FloatProgressModel",
            "bar_style": "success",
            "max": 5148,
            "_view_module": "@jupyter-widgets/controls",
            "_model_module_version": "1.5.0",
            "value": 5148,
            "_view_count": null,
            "_view_module_version": "1.5.0",
            "orientation": "horizontal",
            "min": 0,
            "description_tooltip": null,
            "_model_module": "@jupyter-widgets/controls",
            "layout": "IPY_MODEL_7c86440c94144d3fa9f8b4ff51176265"
          }
        },
        "ebdc88d72f10461aa1e15a3c56e523f1": {
          "model_module": "@jupyter-widgets/controls",
          "model_name": "HTMLModel",
          "model_module_version": "1.5.0",
          "state": {
            "_view_name": "HTMLView",
            "style": "IPY_MODEL_cc480fd8399e4917a923fd5f2331d3b5",
            "_dom_classes": [],
            "description": "",
            "_model_name": "HTMLModel",
            "placeholder": "​",
            "_view_module": "@jupyter-widgets/controls",
            "_model_module_version": "1.5.0",
            "value": " 6144/? [00:00&lt;00:00, 177032.97it/s]",
            "_view_count": null,
            "_view_module_version": "1.5.0",
            "description_tooltip": null,
            "_model_module": "@jupyter-widgets/controls",
            "layout": "IPY_MODEL_12a114b072114118a790914f991fbc76"
          }
        },
        "b4844f7238d64570b80bd5ac0ac9678d": {
          "model_module": "@jupyter-widgets/controls",
          "model_name": "DescriptionStyleModel",
          "model_module_version": "1.5.0",
          "state": {
            "_view_name": "StyleView",
            "_model_name": "DescriptionStyleModel",
            "description_width": "",
            "_view_module": "@jupyter-widgets/base",
            "_model_module_version": "1.5.0",
            "_view_count": null,
            "_view_module_version": "1.2.0",
            "_model_module": "@jupyter-widgets/controls"
          }
        },
        "4b9f80b0f2524c63860849f36b8c5faf": {
          "model_module": "@jupyter-widgets/base",
          "model_name": "LayoutModel",
          "model_module_version": "1.2.0",
          "state": {
            "_view_name": "LayoutView",
            "grid_template_rows": null,
            "right": null,
            "justify_content": null,
            "_view_module": "@jupyter-widgets/base",
            "overflow": null,
            "_model_module_version": "1.2.0",
            "_view_count": null,
            "flex_flow": null,
            "width": null,
            "min_width": null,
            "border": null,
            "align_items": null,
            "bottom": null,
            "_model_module": "@jupyter-widgets/base",
            "top": null,
            "grid_column": null,
            "overflow_y": null,
            "overflow_x": null,
            "grid_auto_flow": null,
            "grid_area": null,
            "grid_template_columns": null,
            "flex": null,
            "_model_name": "LayoutModel",
            "justify_items": null,
            "grid_row": null,
            "max_height": null,
            "align_content": null,
            "visibility": null,
            "align_self": null,
            "height": null,
            "min_height": null,
            "padding": null,
            "grid_auto_rows": null,
            "grid_gap": null,
            "max_width": null,
            "order": null,
            "_view_module_version": "1.2.0",
            "grid_template_areas": null,
            "object_position": null,
            "object_fit": null,
            "grid_auto_columns": null,
            "margin": null,
            "display": null,
            "left": null
          }
        },
        "7443461bb2d64295820a56e02ecfa905": {
          "model_module": "@jupyter-widgets/controls",
          "model_name": "ProgressStyleModel",
          "model_module_version": "1.5.0",
          "state": {
            "_view_name": "StyleView",
            "_model_name": "ProgressStyleModel",
            "description_width": "",
            "_view_module": "@jupyter-widgets/base",
            "_model_module_version": "1.5.0",
            "_view_count": null,
            "_view_module_version": "1.2.0",
            "bar_color": null,
            "_model_module": "@jupyter-widgets/controls"
          }
        },
        "7c86440c94144d3fa9f8b4ff51176265": {
          "model_module": "@jupyter-widgets/base",
          "model_name": "LayoutModel",
          "model_module_version": "1.2.0",
          "state": {
            "_view_name": "LayoutView",
            "grid_template_rows": null,
            "right": null,
            "justify_content": null,
            "_view_module": "@jupyter-widgets/base",
            "overflow": null,
            "_model_module_version": "1.2.0",
            "_view_count": null,
            "flex_flow": null,
            "width": null,
            "min_width": null,
            "border": null,
            "align_items": null,
            "bottom": null,
            "_model_module": "@jupyter-widgets/base",
            "top": null,
            "grid_column": null,
            "overflow_y": null,
            "overflow_x": null,
            "grid_auto_flow": null,
            "grid_area": null,
            "grid_template_columns": null,
            "flex": null,
            "_model_name": "LayoutModel",
            "justify_items": null,
            "grid_row": null,
            "max_height": null,
            "align_content": null,
            "visibility": null,
            "align_self": null,
            "height": null,
            "min_height": null,
            "padding": null,
            "grid_auto_rows": null,
            "grid_gap": null,
            "max_width": null,
            "order": null,
            "_view_module_version": "1.2.0",
            "grid_template_areas": null,
            "object_position": null,
            "object_fit": null,
            "grid_auto_columns": null,
            "margin": null,
            "display": null,
            "left": null
          }
        },
        "cc480fd8399e4917a923fd5f2331d3b5": {
          "model_module": "@jupyter-widgets/controls",
          "model_name": "DescriptionStyleModel",
          "model_module_version": "1.5.0",
          "state": {
            "_view_name": "StyleView",
            "_model_name": "DescriptionStyleModel",
            "description_width": "",
            "_view_module": "@jupyter-widgets/base",
            "_model_module_version": "1.5.0",
            "_view_count": null,
            "_view_module_version": "1.2.0",
            "_model_module": "@jupyter-widgets/controls"
          }
        },
        "12a114b072114118a790914f991fbc76": {
          "model_module": "@jupyter-widgets/base",
          "model_name": "LayoutModel",
          "model_module_version": "1.2.0",
          "state": {
            "_view_name": "LayoutView",
            "grid_template_rows": null,
            "right": null,
            "justify_content": null,
            "_view_module": "@jupyter-widgets/base",
            "overflow": null,
            "_model_module_version": "1.2.0",
            "_view_count": null,
            "flex_flow": null,
            "width": null,
            "min_width": null,
            "border": null,
            "align_items": null,
            "bottom": null,
            "_model_module": "@jupyter-widgets/base",
            "top": null,
            "grid_column": null,
            "overflow_y": null,
            "overflow_x": null,
            "grid_auto_flow": null,
            "grid_area": null,
            "grid_template_columns": null,
            "flex": null,
            "_model_name": "LayoutModel",
            "justify_items": null,
            "grid_row": null,
            "max_height": null,
            "align_content": null,
            "visibility": null,
            "align_self": null,
            "height": null,
            "min_height": null,
            "padding": null,
            "grid_auto_rows": null,
            "grid_gap": null,
            "max_width": null,
            "order": null,
            "_view_module_version": "1.2.0",
            "grid_template_areas": null,
            "object_position": null,
            "object_fit": null,
            "grid_auto_columns": null,
            "margin": null,
            "display": null,
            "left": null
          }
        }
      }
    }
  },
  "cells": [
    {
      "cell_type": "markdown",
      "metadata": {
        "id": "view-in-github",
        "colab_type": "text"
      },
      "source": [
        "<a href=\"https://colab.research.google.com/github/Jeremy26/neural_optimization_course/blob/main/Model_Pruning.ipynb\" target=\"_parent\"><img src=\"https://colab.research.google.com/assets/colab-badge.svg\" alt=\"Open In Colab\"/></a>"
      ]
    },
    {
      "cell_type": "markdown",
      "metadata": {
        "id": "MMxCcDUqq_j0"
      },
      "source": [
        "# Welcome to the Pruning Workshop!\n",
        "\n",
        "In this workshop, we'll learn the concept of Pruning Neural Network models using Pytorch. We'll do the following tasks:\n",
        "1. **Dataset** — Download and use FashionMNIST dataset\n",
        "2. **Network** — Define a custom neural net and measure the metrics\n",
        "3. **Training** — Train the model on the dataset, and record the accuracy metrics\n",
        "4. **Pruning** — Apply different Pruning techniques on the model\n",
        "5. **Analysis** — Visualize the results and find the best!"
      ]
    },
    {
      "cell_type": "markdown",
      "source": [
        "### Basic Imports"
      ],
      "metadata": {
        "id": "fF98w4wsUkhs"
      }
    },
    {
      "cell_type": "code",
      "source": [
        "import os\n",
        "import random\n",
        "import numpy as np\n",
        "import matplotlib.pyplot as plt\n",
        "from typing import Any, List\n",
        "import pandas as pd\n",
        "from tqdm import tqdm\n",
        "\n",
        "# DL library imports\n",
        "import torch\n",
        "from torch.utils.data import DataLoader\n",
        "from torchvision import datasets, transforms\n",
        "from torch.utils.data.sampler import SubsetRandomSampler\n",
        "from torch import nn, optim\n",
        "import torch.nn.functional as F"
      ],
      "metadata": {
        "id": "K2OpaXGMl00E"
      },
      "execution_count": 1,
      "outputs": []
    },
    {
      "cell_type": "code",
      "source": [
        "!wget https://optimization-thinkautonomous.s3.eu-west-3.amazonaws.com/pruning.zip && unzip -q pruning.zip && rm pruning.zip"
      ],
      "metadata": {
        "colab": {
          "base_uri": "https://localhost:8080/"
        },
        "id": "fs6XNZIzZ4i4",
        "outputId": "9793eb28-188b-44fb-d164-4ad3a6aaf839"
      },
      "execution_count": 2,
      "outputs": [
        {
          "output_type": "stream",
          "name": "stdout",
          "text": [
            "--2022-02-03 17:35:24--  https://optimization-thinkautonomous.s3.eu-west-3.amazonaws.com/pruning.zip\n",
            "Resolving optimization-thinkautonomous.s3.eu-west-3.amazonaws.com (optimization-thinkautonomous.s3.eu-west-3.amazonaws.com)... 52.95.154.82\n",
            "Connecting to optimization-thinkautonomous.s3.eu-west-3.amazonaws.com (optimization-thinkautonomous.s3.eu-west-3.amazonaws.com)|52.95.154.82|:443... connected.\n",
            "HTTP request sent, awaiting response... 200 OK\n",
            "Length: 78150 (76K) [application/zip]\n",
            "Saving to: ‘pruning.zip’\n",
            "\n",
            "pruning.zip         100%[===================>]  76.32K   284KB/s    in 0.3s    \n",
            "\n",
            "2022-02-03 17:35:25 (284 KB/s) - ‘pruning.zip’ saved [78150/78150]\n",
            "\n"
          ]
        }
      ]
    },
    {
      "cell_type": "markdown",
      "metadata": {
        "id": "JJjoKpSLratv"
      },
      "source": [
        "## 1 — **Dataset**: Download and use the Fashion MNIST Dataset\n",
        "\n",
        "\n",
        "Here, we're going to use the FashionMNIST dataset for this case study.\n",
        "- Fashion MNIST dataset is Zalando's collection of grayscale images of different apparels and their associated labels for Deep Learning research and development\n",
        "- It consists of 60k train images and 10k test images, each of resolution 28 X 28 pixels\n",
        "- The images contain integer values in range [0-255] and there are 10 labels. eg : 0 = T-shirt/top, 1 = Trouser, 2 = Pullover, 3 = Dress etc\n",
        "- [Zalando FashionMNIST git repo](https://github.com/zalandoresearch/fashion-mnist)"
      ]
    },
    {
      "cell_type": "code",
      "metadata": {
        "id": "gKtJfEkirQLG",
        "colab": {
          "base_uri": "https://localhost:8080/",
          "height": 369,
          "referenced_widgets": [
            "0a797eadd08d494a92cafcaf172991c5",
            "adc8c981bf8f410ba87e8d2b323c0462",
            "aeafe7abc56640bbb574918c807943a4",
            "aacd6e321b724f2f83e0d948bac78a0b",
            "c2479db791ae4d16a9087ea2b16132e5",
            "1d58973cb6684491b3540068ccb8606a",
            "9647220161d443609d9663035b1f4c56",
            "a6d592a29a0642908537570f545229a6",
            "1653e32fbd9042e2b102ff941486fab7",
            "c3537535364946d49c0879cb4d979330",
            "bedd2bf821ec4100b8c252ceaa95cad5",
            "40d1f0fa70fb4abf9c0ae4fa6c83dc1c",
            "1d8fe099af664c1185fb3f8464337991",
            "223c44e72a264197b1c67314638831b6",
            "4b0291b5458e4a56b8dc80e2dbd39e47",
            "3812189d6f7f43ce973505ae2b21e0c0",
            "381cbd61838a440aad400f8f23eddf45",
            "4790333197084a28b226c88b493de5dc",
            "175cdd56a3ec4d379666ad7eaf488820",
            "28e79fc76a8b438ca3741eb492a0eaeb",
            "59cd456c2b0c4e88a2a33f45dabb27c3",
            "0a1a2d1ece334e82b6ab7a2c98c381aa",
            "70e886f037c64c5f90789f5d3ed5c9a0",
            "06f70d6ecafe421b9ddeb917f6101258",
            "bdb628e60b414dbea3e11bb5ce4bed6e",
            "009835f5b39e4a2489f231b7e38c64a9",
            "37b186b665374b70ba60cf2fc498d144",
            "f5d252ca6b5243a1a15613c79f672f2b",
            "9ea25d4dccf94a5fba85a4d4a9962648",
            "4697dc4105ef46ad83f44dbd030c0a43",
            "3913d066e9044f46956e140fc6426b09",
            "ee7e87ce4a5b49bab0e8e1438eba53b6",
            "201ef5bb58f9490db7d1bf5cbe180c53",
            "e3e8f6c7344947c8af83e98f6c99533e",
            "eeffcf23212d40f1813923c593ce1e31",
            "f8981f97bb864d25af327ad2b9dbfdc6",
            "e879849108844a4fbd8fb6d2b0e2a113",
            "ebdc88d72f10461aa1e15a3c56e523f1",
            "b4844f7238d64570b80bd5ac0ac9678d",
            "4b9f80b0f2524c63860849f36b8c5faf",
            "7443461bb2d64295820a56e02ecfa905",
            "7c86440c94144d3fa9f8b4ff51176265",
            "cc480fd8399e4917a923fd5f2331d3b5",
            "12a114b072114118a790914f991fbc76"
          ]
        },
        "outputId": "78bb58f3-d971-4b81-ff6a-f883c11ffc2f"
      },
      "source": [
        "dataset_labels = ['TShirt', 'Trouser', 'Pullover', 'Dress', 'Coat', 'Sandal', 'Shirt', 'Sneaker', 'Bag', 'AnkleBoot']\n",
        "\n",
        "# necessary image transform i.e. convert to Tensor, normalize\n",
        "train_transform = transforms.Compose([transforms.ToTensor(), transforms.Normalize((0.5,), (0.5,)) ])\n",
        "test_transform  = transforms.Compose([transforms.ToTensor(), transforms.Normalize((0.5,), (0.5,)) ])\n",
        "\n",
        "# Download the Train and Test set\n",
        "train_set = datasets.FashionMNIST('.', train=True, download=True, transform=train_transform)\n",
        "test_set = datasets.FashionMNIST('.', train=False, download=True, transform=test_transform)"
      ],
      "execution_count": 3,
      "outputs": [
        {
          "output_type": "stream",
          "name": "stdout",
          "text": [
            "Downloading http://fashion-mnist.s3-website.eu-central-1.amazonaws.com/train-images-idx3-ubyte.gz\n",
            "Downloading http://fashion-mnist.s3-website.eu-central-1.amazonaws.com/train-images-idx3-ubyte.gz to ./FashionMNIST/raw/train-images-idx3-ubyte.gz\n"
          ]
        },
        {
          "output_type": "display_data",
          "data": {
            "application/vnd.jupyter.widget-view+json": {
              "model_id": "0a797eadd08d494a92cafcaf172991c5",
              "version_minor": 0,
              "version_major": 2
            },
            "text/plain": [
              "  0%|          | 0/26421880 [00:00<?, ?it/s]"
            ]
          },
          "metadata": {}
        },
        {
          "output_type": "stream",
          "name": "stdout",
          "text": [
            "Extracting ./FashionMNIST/raw/train-images-idx3-ubyte.gz to ./FashionMNIST/raw\n",
            "\n",
            "Downloading http://fashion-mnist.s3-website.eu-central-1.amazonaws.com/train-labels-idx1-ubyte.gz\n",
            "Downloading http://fashion-mnist.s3-website.eu-central-1.amazonaws.com/train-labels-idx1-ubyte.gz to ./FashionMNIST/raw/train-labels-idx1-ubyte.gz\n"
          ]
        },
        {
          "output_type": "display_data",
          "data": {
            "application/vnd.jupyter.widget-view+json": {
              "model_id": "40d1f0fa70fb4abf9c0ae4fa6c83dc1c",
              "version_minor": 0,
              "version_major": 2
            },
            "text/plain": [
              "  0%|          | 0/29515 [00:00<?, ?it/s]"
            ]
          },
          "metadata": {}
        },
        {
          "output_type": "stream",
          "name": "stdout",
          "text": [
            "Extracting ./FashionMNIST/raw/train-labels-idx1-ubyte.gz to ./FashionMNIST/raw\n",
            "\n",
            "Downloading http://fashion-mnist.s3-website.eu-central-1.amazonaws.com/t10k-images-idx3-ubyte.gz\n",
            "Downloading http://fashion-mnist.s3-website.eu-central-1.amazonaws.com/t10k-images-idx3-ubyte.gz to ./FashionMNIST/raw/t10k-images-idx3-ubyte.gz\n"
          ]
        },
        {
          "output_type": "display_data",
          "data": {
            "application/vnd.jupyter.widget-view+json": {
              "model_id": "70e886f037c64c5f90789f5d3ed5c9a0",
              "version_minor": 0,
              "version_major": 2
            },
            "text/plain": [
              "  0%|          | 0/4422102 [00:00<?, ?it/s]"
            ]
          },
          "metadata": {}
        },
        {
          "output_type": "stream",
          "name": "stdout",
          "text": [
            "Extracting ./FashionMNIST/raw/t10k-images-idx3-ubyte.gz to ./FashionMNIST/raw\n",
            "\n",
            "Downloading http://fashion-mnist.s3-website.eu-central-1.amazonaws.com/t10k-labels-idx1-ubyte.gz\n",
            "Downloading http://fashion-mnist.s3-website.eu-central-1.amazonaws.com/t10k-labels-idx1-ubyte.gz to ./FashionMNIST/raw/t10k-labels-idx1-ubyte.gz\n"
          ]
        },
        {
          "output_type": "display_data",
          "data": {
            "application/vnd.jupyter.widget-view+json": {
              "model_id": "e3e8f6c7344947c8af83e98f6c99533e",
              "version_minor": 0,
              "version_major": 2
            },
            "text/plain": [
              "  0%|          | 0/5148 [00:00<?, ?it/s]"
            ]
          },
          "metadata": {}
        },
        {
          "output_type": "stream",
          "name": "stdout",
          "text": [
            "Extracting ./FashionMNIST/raw/t10k-labels-idx1-ubyte.gz to ./FashionMNIST/raw\n",
            "\n"
          ]
        }
      ]
    },
    {
      "cell_type": "markdown",
      "source": [
        "### Define HyperParameters"
      ],
      "metadata": {
        "id": "XXWsvzDCpvmR"
      }
    },
    {
      "cell_type": "code",
      "metadata": {
        "id": "-M3AAtqmrpt8"
      },
      "source": [
        "NUM_WORKERS = 1 \n",
        "TEST_BATCH_SIZE  = 64\n",
        "TRAIN_BATCH_SIZE = 16\n",
        "VALID_SIZE = 0.2 "
      ],
      "execution_count": 4,
      "outputs": []
    },
    {
      "cell_type": "markdown",
      "source": [
        "### Train/Test Split"
      ],
      "metadata": {
        "id": "SdBRuxCDpy0p"
      }
    },
    {
      "cell_type": "code",
      "source": [
        "len_train_set = len(train_set)\n",
        "index_list = list(range(len_train_set))\n",
        "np.random.shuffle(index_list)\n",
        "split_index = int(len_train_set * VALID_SIZE)\n",
        "train_idx, valid_idx = index_list[split_index:], index_list[:split_index]\n",
        "train_sampler = SubsetRandomSampler(train_idx)\n",
        "valid_sampler = SubsetRandomSampler(valid_idx)"
      ],
      "metadata": {
        "id": "6LjM75BpnIXt"
      },
      "execution_count": 7,
      "outputs": []
    },
    {
      "cell_type": "markdown",
      "source": [
        "### DataLoader"
      ],
      "metadata": {
        "id": "McUG4hN-p0cj"
      }
    },
    {
      "cell_type": "code",
      "metadata": {
        "id": "p8eoLuPUriUy"
      },
      "source": [
        "train_loader = DataLoader(train_set, batch_size=TRAIN_BATCH_SIZE, sampler=train_sampler, num_workers=NUM_WORKERS)\n",
        "valid_loader = DataLoader(train_set, batch_size=TEST_BATCH_SIZE,  sampler=valid_sampler, num_workers=NUM_WORKERS)\n",
        "test_loader  = DataLoader(test_set,  batch_size=TEST_BATCH_SIZE,  shuffle=True,num_workers=NUM_WORKERS)"
      ],
      "execution_count": 8,
      "outputs": []
    },
    {
      "cell_type": "markdown",
      "source": [
        "### Visualization"
      ],
      "metadata": {
        "id": "XO4PZqhSp2da"
      }
    },
    {
      "cell_type": "code",
      "metadata": {
        "id": "Dux6sdHjr9pH",
        "colab": {
          "base_uri": "https://localhost:8080/",
          "height": 281
        },
        "outputId": "c725d22a-7200-49a2-a4de-801bd3e5c90d"
      },
      "source": [
        "img, label = next(iter(train_loader))\n",
        "plt.imshow(img[0].numpy().squeeze(), cmap = 'Greys_r')\n",
        "plt.title(f'{dataset_labels[label[0].item()]}')\n",
        "plt.show()"
      ],
      "execution_count": 9,
      "outputs": [
        {
          "output_type": "display_data",
          "data": {
            "image/png": "[encoded data removed]",
            "text/plain": [
              "<Figure size 432x288 with 1 Axes>"
            ]
          },
          "metadata": {
            "needs_background": "light"
          }
        }
      ]
    },
    {
      "cell_type": "markdown",
      "metadata": {
        "id": "SqJJerJuPvL9",
        "execution": {
          "iopub.status.busy": "2021-09-28T01:43:44.278299Z",
          "iopub.execute_input": "2021-09-28T01:43:44.278753Z",
          "iopub.status.idle": "2021-09-28T01:43:44.293447Z",
          "shell.execute_reply.started": "2021-09-28T01:43:44.278691Z",
          "shell.execute_reply": "2021-09-28T01:43:44.292329Z"
        }
      },
      "source": [
        "## 2 — **Network**: Define a custom neural net and measure the metrics\n",
        "\n",
        "- We'll use a simple feed forward model that takes in flattened image vector (28x28=784) and outputs probabilities for each of 10 classes.\n",
        "- In Pytorch, we can create the Neural Network model by defining a custom class (inherits from [nn.Module](https://pytorch.org/docs/stable/generated/torch.nn.Module.html)).\n",
        "- The `forward` function in the class defines the forward pass of the network."
      ]
    },
    {
      "cell_type": "code",
      "metadata": {
        "id": "EMTr3uuYSC7Q",
        "execution": {
          "iopub.status.busy": "2021-10-04T00:18:22.767828Z",
          "iopub.execute_input": "2021-10-04T00:18:22.768660Z",
          "iopub.status.idle": "2021-10-04T00:18:22.777640Z",
          "shell.execute_reply.started": "2021-10-04T00:18:22.768624Z",
          "shell.execute_reply": "2021-10-04T00:18:22.776910Z"
        },
        "trusted": true
      },
      "source": [
        "class MLPClassifier(nn.Module):\n",
        "    def __init__(self):\n",
        "        super().__init__()\n",
        "        self.fc1 = nn.Linear(784, 128, bias=True)\n",
        "        self.fc2 = nn.Linear(128, 64, bias=True)\n",
        "        self.fc3 = nn.Linear(64, 32, bias=True)\n",
        "        self.fc4 = nn.Linear(32, 10, bias=True)\n",
        "\n",
        "    def forward(self, x):\n",
        "        x = x.view(x.shape[0], -1)\n",
        "        x = F.relu(self.fc1(x))\n",
        "        x = F.relu(self.fc2(x))\n",
        "        x = F.relu(self.fc3(x))\n",
        "        x = self.fc4(x)\n",
        "        return x"
      ],
      "execution_count": 11,
      "outputs": []
    },
    {
      "cell_type": "markdown",
      "metadata": {
        "id": "ENSTEeJw3QCs"
      },
      "source": [
        "#### Print the Model Metrics\n",
        "\n",
        "We'll use the functions used in the `metrics` notebook to print inference parameters of our custom model "
      ]
    },
    {
      "cell_type": "code",
      "source": [
        "# Load the Model\n",
        "device = torch.device(\"cuda\" if torch.cuda.is_available() else \"cpu\")\n",
        "model = MLPClassifier().to(device)"
      ],
      "metadata": {
        "id": "nMno4EVdwYGr"
      },
      "execution_count": 12,
      "outputs": []
    },
    {
      "cell_type": "code",
      "source": [
        "from modelMetrics import computeInferenceTime, getModelFileSize, profile, getModelSize\n",
        "\n",
        "def print_model_metrics(model, input):\n",
        "  print(\"Model Size: \", str(round(getModelSize(model),3)),\"Mb\")\n",
        "  print(\"File Size: \", str(round(getModelFileSize(model),3)),\"Mb\")\n",
        "  print(\"Inference Time: \",str(round(computeInferenceTime(model,input, device),5)),\"s\")\n",
        "  macs, params = profile(model, inputs=(input,), verbose=False)\n",
        "  flops = 2 * macs\n",
        "  print(\"Mega FLOPS: \", str(flops * 1e-6))\n",
        "  print(\"Mega MACs: \", str(macs * 1e-6))\n",
        "  print(\"Mega Params: \", str(params * 1e-6))\n",
        "\n",
        "\n",
        "random_input = torch.rand(2, 28, 28).to(device)\n",
        "print_model_metrics(model, random_input)"
      ],
      "metadata": {
        "id": "d4VnR1yAXWSO",
        "colab": {
          "base_uri": "https://localhost:8080/"
        },
        "outputId": "71223bf1-3902-4b55-9d11-889a6d55ed7b"
      },
      "execution_count": 13,
      "outputs": [
        {
          "output_type": "stream",
          "name": "stdout",
          "text": [
            "Model Size:  0.424 Mb\n",
            "File Size:  0.447 Mb\n",
            "Inference Time:  0.00042 s\n",
            "Mega FLOPS:  0.443648\n",
            "Mega MACs:  0.221824\n",
            "Mega Params:  0.111146\n"
          ]
        }
      ]
    },
    {
      "cell_type": "markdown",
      "metadata": {
        "id": "C3pnqXz8KpEn"
      },
      "source": [
        "#### Print the Model Sparsity\n",
        "\n",
        "- Model sparsity refers to the ratio of parameters with zero weights to the total number of parameters. \n",
        "- Eg : If a linear layer with 100 neurons and 25 of the neurons have been pruned (effectively set to zero) then the sparsity of the layer is 25%.\n",
        "- Sparsity can be calculated for each layers and for the entire model as well (referred to as Global sparsity)\n"
      ]
    },
    {
      "cell_type": "code",
      "metadata": {
        "id": "Xv9V_gxdyB27",
        "colab": {
          "base_uri": "https://localhost:8080/"
        },
        "outputId": "7e6529cc-0661-487e-9cf2-bc7018c97780"
      },
      "source": [
        "def get_model_sparsity(model):\n",
        "    totalElements = 0\n",
        "    totalZeroElements = 0\n",
        "    for name, module in model.named_children():\n",
        "        numElementsInLayer = float(module.weight.nelement())\n",
        "        numZeroElementsInLayer = float(torch.sum(module.weight == 0))\n",
        "        layerWeightSparsity = 100.0 * (numZeroElementsInLayer/ numElementsInLayer)\n",
        "        print(f\"Sparsity in {name}.weight: {layerWeightSparsity}%.\")\n",
        "        \n",
        "        totalElements += numElementsInLayer\n",
        "        totalZeroElements += numZeroElementsInLayer\n",
        "    \n",
        "    if totalElements > 0 :\n",
        "        globalWeightSparsity = 100.0 * (totalZeroElements / totalElements)\n",
        "    else:\n",
        "        globalWeightSparsity = 0.0\n",
        "    return globalWeightSparsity\n",
        "    \n",
        "sparsity = get_model_sparsity(model)\n",
        "print(f\"Global Sparsity (weight): {sparsity}%\")"
      ],
      "execution_count": 16,
      "outputs": [
        {
          "output_type": "stream",
          "name": "stdout",
          "text": [
            "Sparsity in fc1.weight: 0.0%.\n",
            "Sparsity in fc2.weight: 0.0%.\n",
            "Sparsity in fc3.weight: 0.0%.\n",
            "Sparsity in fc4.weight: 0.0%.\n",
            "Global Sparsity (weight): 0.0%\n"
          ]
        }
      ]
    },
    {
      "cell_type": "markdown",
      "metadata": {
        "id": "m61RFdw53XPR"
      },
      "source": [
        "## 3 - **Training**: Train the model on the dataset, and record the accuracy metrics\n",
        "\n",
        "Before we train our model, we'll define some helper functions to calculate metric, plot training results etc"
      ]
    },
    {
      "cell_type": "code",
      "metadata": {
        "id": "f2g_-5EOAQo1"
      },
      "source": [
        "from sklearn.metrics import accuracy_score\n",
        "\n",
        "class meanClassificationAccuracyMetric:\n",
        "    \"\"\" Class to find the avg accuracy of softmax predictions to ground truth label \"\"\"    \n",
        "    def __init__(self):\n",
        "        self.batchAccuracies = []\n",
        "        self.meanClassificationAccuracy = 0.0\n",
        "\n",
        "    def update(self, y_preds: torch.Tensor, labels: torch.Tensor):\n",
        "        # predicted output class\n",
        "        modelPredictions = np.argmax(torch.softmax(y_preds, axis=1).numpy(), axis=1)\n",
        "        self.batchAccuracies.append(accuracy_score(labels.numpy(), modelPredictions))\n",
        "\n",
        "    def compute(self):\n",
        "        self.meanClassificationAccuracy = np.mean(self.batchAccuracies) * 100.0\n",
        "        return self.meanClassificationAccuracy"
      ],
      "execution_count": 18,
      "outputs": []
    },
    {
      "cell_type": "code",
      "metadata": {
        "id": "mYx7TDugArEJ"
      },
      "source": [
        "def plotTrainingResults(df, model_name):\n",
        "    fig, ax1 = plt.subplots(figsize=(10,4))\n",
        "    ax1.set_ylabel('trainLoss', color='tab:red')\n",
        "    ax1.plot(df['epoch'].values, df['trainLoss'].values, color='tab:red')\n",
        "    ax1.tick_params(axis='y', labelcolor='tab:red')\n",
        "\n",
        "    ax2 = ax1.twinx()  \n",
        "    ax2.set_ylabel('validationLoss', color='tab:blue')\n",
        "    ax2.plot(df['epoch'].values, df['validationLoss'].values, color='tab:blue')\n",
        "    ax2.tick_params(axis='y', labelcolor='tab:blue')\n",
        "\n",
        "    plt.suptitle(f'{model_name} Training, Validation Curves')\n",
        "    plt.show()"
      ],
      "execution_count": 17,
      "outputs": []
    },
    {
      "cell_type": "code",
      "metadata": {
        "id": "4RAZS8Wj3YzP"
      },
      "source": [
        "def trainValidateModel(model, criterion, optimizer, dataloader_train, \n",
        "                       dataloader_valid, metricClass, metricName, device):\n",
        "    results = []    \n",
        "    min_val_loss = np.Inf\n",
        "    len_train_loader = len(dataloader_train)\n",
        "\n",
        "    # move model to target device\n",
        "    model.to(device)\n",
        "    \n",
        "    for epoch in range(N_EPOCHS):\n",
        "        print(f\"Starting {epoch + 1} epoch ...\")\n",
        "        \n",
        "        # Training\n",
        "        model.train()\n",
        "        train_loss = 0.0\n",
        "        for i, (inputs, labels) in tqdm(enumerate(dataloader_train), total=len_train_loader):\n",
        "            inputs = inputs.to(device)\n",
        "            labels = labels.to(device)  \n",
        "\n",
        "            # Forward pass\n",
        "            y_preds = model(inputs)\n",
        "            loss = criterion(y_preds, labels)\n",
        "            train_loss += loss.item()\n",
        "              \n",
        "            # Backward pass\n",
        "            loss.backward()\n",
        "            optimizer.step()\n",
        "            optimizer.zero_grad() \n",
        "            \n",
        "        # Validate\n",
        "        model.eval()\n",
        "        validation_loss = 0.0\n",
        "        metric_object = metricClass()\n",
        "\n",
        "        with torch.no_grad():\n",
        "            for inputs, labels in dataloader_valid:\n",
        "                inputs = inputs.to(device)\n",
        "                labels = labels.to(device)                \n",
        "                y_preds = model(inputs)\n",
        "            \n",
        "                # calculate loss\n",
        "                loss = criterion(y_preds, labels)\n",
        "                validation_loss += loss.item()\n",
        "\n",
        "                # update batch metric information            \n",
        "                metric_object.update(y_preds.cpu().detach(), labels.cpu().detach())\n",
        "\n",
        "        # compute per batch losses, metric value\n",
        "        train_loss = train_loss / len(dataloader_train)\n",
        "        validation_loss = validation_loss / len(dataloader_valid)\n",
        "        validationMetric = metric_object.compute()\n",
        "\n",
        "        print(f'Epoch: {epoch+1}, trainLoss:{train_loss:6.5f}, validationLoss:{validation_loss:6.5f}, {metricName}:{validationMetric: 4.2f}%')\n",
        "        \n",
        "        # store results\n",
        "        results.append({'epoch': epoch, 'trainLoss': train_loss, \n",
        "                        'validationLoss': validation_loss, f'{metricName}': validationMetric})\n",
        "        \n",
        "        # if validation loss has decreased, save model and reset variable\n",
        "        if validation_loss <= min_val_loss:\n",
        "            min_val_loss = validation_loss\n",
        "            torch.save(model.state_dict(), \"MLP.pt\")\n",
        "\n",
        "    # plot results\n",
        "    results = pd.DataFrame(results)\n",
        "    plotTrainingResults(results, \"MLP\")\n",
        "    return results"
      ],
      "execution_count": 21,
      "outputs": []
    },
    {
      "cell_type": "code",
      "metadata": {
        "id": "5syAT4MTA0ly",
        "colab": {
          "base_uri": "https://localhost:8080/",
          "height": 504
        },
        "outputId": "e9ec6575-93ce-4c2b-9067-ceb7623c21e2"
      },
      "source": [
        "# Hyper parameters for training model\n",
        "N_EPOCHS = 5\n",
        "LR = 1e-2\n",
        "\n",
        "# Define the Loss\n",
        "criterion = nn.CrossEntropyLoss()\n",
        "\n",
        "# Define the Optimizer\n",
        "optimizer = optim.Adam(model.parameters(), lr=LR)\n",
        "\n",
        "# train, validate standard model\n",
        "modelResults = trainValidateModel(model, criterion, optimizer, train_loader, valid_loader, meanClassificationAccuracyMetric, 'accuracy', device)"
      ],
      "execution_count": 23,
      "outputs": [
        {
          "output_type": "stream",
          "name": "stdout",
          "text": [
            "Starting 1 epoch ...\n"
          ]
        },
        {
          "output_type": "stream",
          "name": "stderr",
          "text": [
            "100%|██████████| 3000/3000 [00:19<00:00, 154.48it/s]\n"
          ]
        },
        {
          "output_type": "stream",
          "name": "stdout",
          "text": [
            "Epoch: 1, trainLoss:0.61596, validationLoss:0.54974, accuracy: 82.35%\n",
            "Starting 2 epoch ...\n"
          ]
        },
        {
          "output_type": "stream",
          "name": "stderr",
          "text": [
            "100%|██████████| 3000/3000 [00:18<00:00, 164.96it/s]\n"
          ]
        },
        {
          "output_type": "stream",
          "name": "stdout",
          "text": [
            "Epoch: 2, trainLoss:0.57652, validationLoss:0.50102, accuracy: 83.74%\n",
            "Starting 3 epoch ...\n"
          ]
        },
        {
          "output_type": "stream",
          "name": "stderr",
          "text": [
            "100%|██████████| 3000/3000 [00:18<00:00, 164.25it/s]\n"
          ]
        },
        {
          "output_type": "stream",
          "name": "stdout",
          "text": [
            "Epoch: 3, trainLoss:0.54554, validationLoss:0.56161, accuracy: 81.64%\n",
            "Starting 4 epoch ...\n"
          ]
        },
        {
          "output_type": "stream",
          "name": "stderr",
          "text": [
            "100%|██████████| 3000/3000 [00:18<00:00, 165.85it/s]\n"
          ]
        },
        {
          "output_type": "stream",
          "name": "stdout",
          "text": [
            "Epoch: 4, trainLoss:0.54516, validationLoss:0.57936, accuracy: 80.60%\n",
            "Starting 5 epoch ...\n"
          ]
        },
        {
          "output_type": "stream",
          "name": "stderr",
          "text": [
            "100%|██████████| 3000/3000 [00:18<00:00, 165.24it/s]\n"
          ]
        },
        {
          "output_type": "stream",
          "name": "stdout",
          "text": [
            "Epoch: 5, trainLoss:0.54788, validationLoss:0.59450, accuracy: 80.97%\n"
          ]
        },
        {
          "output_type": "display_data",
          "data": {
            "image/png": "[encoded data removed]",
            "text/plain": [
              "<Figure size 720x288 with 2 Axes>"
            ]
          },
          "metadata": {
            "needs_background": "light"
          }
        }
      ]
    },
    {
      "cell_type": "code",
      "metadata": {
        "id": "xVO8n_JpE1QK"
      },
      "source": [
        "def evaluteOnTestData(model, pretrainedModelPath, device, \n",
        "                     dataloader_test, metricClass, metricName, modelName):\n",
        "    testSetMetric = 0.0\n",
        "    if pretrainedModelPath is not None:\n",
        "        if os.path.isfile(pretrainedModelPath) == True:\n",
        "            model.load_state_dict(torch.load(pretrainedModelPath, map_location=device))\n",
        "\n",
        "    model.to(device)\n",
        "    model.eval()\n",
        "    metricObject = metricClass()\n",
        "\n",
        "    with torch.no_grad():\n",
        "      for inputs, labels in tqdm(dataloader_test, total=len(dataloader_test)):\n",
        "        inputs = inputs.to(device)\n",
        "        labels = labels.to(device)\n",
        "        y_preds = model(inputs)\n",
        "            \n",
        "        # update batch metric information            \n",
        "        metricObject.update(y_preds.cpu().detach(), labels.cpu().detach())\n",
        "\n",
        "    testSetMetric = metricObject.compute()    \n",
        "    print(f'\\n{modelName} has {testSetMetric} {metricName} on testData')\n",
        "    return testSetMetric"
      ],
      "execution_count": 24,
      "outputs": []
    },
    {
      "cell_type": "code",
      "source": [
        "testSetMetric = evaluteOnTestData(model, \"./MLP.pt\", device, test_loader, \n",
        "                    meanClassificationAccuracyMetric, \"Test_Accuracy\", \"Custom_MLP\")"
      ],
      "metadata": {
        "id": "UgvNmjTOtnVW",
        "colab": {
          "base_uri": "https://localhost:8080/"
        },
        "outputId": "697d79cd-4943-48dc-85aa-7f1e1a841ff3"
      },
      "execution_count": 30,
      "outputs": [
        {
          "output_type": "stream",
          "name": "stderr",
          "text": [
            "100%|██████████| 157/157 [00:02<00:00, 72.16it/s]"
          ]
        },
        {
          "output_type": "stream",
          "name": "stdout",
          "text": [
            "\n",
            "Custom_MLP has 82.49402866242038 Test_Accuracy on testData\n"
          ]
        },
        {
          "output_type": "stream",
          "name": "stderr",
          "text": [
            "\n"
          ]
        }
      ]
    },
    {
      "cell_type": "markdown",
      "metadata": {
        "id": "QUs9gbLYTAmW"
      },
      "source": [
        "## 4 - **Pruning**: Apply different Pruning techniques on the model\n",
        "\n",
        "Now that we understand the pruning APIs in Pytorch, we'll use them to \n",
        "prune our custom MLP model. In the next section, we'll do the following:\n",
        "\n",
        "- Apply the Unstructured pruning we learned above and also the Global version of it along with structured pruning on our trained model\n",
        "- Observe the Accuracy of both the pruned model on Test set\n",
        "- Apply different levels of Pruning percentages (*read sparsity levels*) and observe the different in performance metric"
      ]
    },
    {
      "cell_type": "code",
      "source": [
        "import torch.nn.utils.prune as prune"
      ],
      "metadata": {
        "id": "nSC1fjsCcveG"
      },
      "execution_count": 27,
      "outputs": []
    },
    {
      "cell_type": "code",
      "source": [
        "# Let's use different pruning percentages for each technique\n",
        "prunePercentages = np.linspace(0.05, 0.90, 8).tolist()\n",
        "print([round(x,3) for x in prunePercentages])"
      ],
      "metadata": {
        "id": "eFJSzrwD2O6A",
        "colab": {
          "base_uri": "https://localhost:8080/"
        },
        "outputId": "c623c950-02ce-45d0-b587-46f83f9217a9"
      },
      "execution_count": 28,
      "outputs": [
        {
          "output_type": "stream",
          "name": "stdout",
          "text": [
            "[0.05, 0.171, 0.293, 0.414, 0.536, 0.657, 0.779, 0.9]\n"
          ]
        }
      ]
    },
    {
      "cell_type": "markdown",
      "source": [
        "### Layerwise Unstructured Pruning"
      ],
      "metadata": {
        "id": "-JgT32Ai1kzN"
      }
    },
    {
      "cell_type": "code",
      "metadata": {
        "execution": {
          "iopub.status.busy": "2021-10-04T00:18:16.472003Z",
          "iopub.execute_input": "2021-10-04T00:18:16.472259Z",
          "iopub.status.idle": "2021-10-04T00:18:16.480822Z",
          "shell.execute_reply.started": "2021-10-04T00:18:16.472228Z",
          "shell.execute_reply": "2021-10-04T00:18:16.480095Z"
        },
        "trusted": true,
        "id": "Xz0b8s4r2ube",
        "colab": {
          "base_uri": "https://localhost:8080/"
        },
        "outputId": "5b51e94b-c2c1-4520-cffc-d995deb25cf8"
      },
      "source": [
        "def layer_unstructured_prune(model:nn.Module, prunePercentage:float):\n",
        "    for name, module in model.named_modules():\n",
        "        if isinstance(module, torch.nn.Linear):\n",
        "            prune.l1_unstructured(module, name='weight', amount=prunePercentage)\n",
        "    return model\n",
        "\n",
        "# placeholder to store results\n",
        "l1_unstructured_accuracies = []\n",
        "\n",
        "# iterate through each prune percentage\n",
        "for perc in prunePercentages:\n",
        "    # load the pretrained model\n",
        "    model = MLPClassifier().to(device)\n",
        "    model.load_state_dict(torch.load(\"./MLP.pt\"))\n",
        "\n",
        "    # prune the model\n",
        "    unStructuredPruneModel = layer_unstructured_prune(model, perc)\n",
        "\n",
        "    # evaluate the pruned model on test data\n",
        "    l1_unstructured_accuracies.append(evaluteOnTestData(unStructuredPruneModel, None, \\\n",
        "          device, test_loader, meanClassificationAccuracyMetric, \"Test accuracy\", \"Unstructured Prune\"))    "
      ],
      "execution_count": 31,
      "outputs": [
        {
          "output_type": "stream",
          "name": "stderr",
          "text": [
            "100%|██████████| 157/157 [00:01<00:00, 78.91it/s]\n"
          ]
        },
        {
          "output_type": "stream",
          "name": "stdout",
          "text": [
            "\n",
            "Unstructured Prune has 82.66321656050955 Test accuracy on testData\n"
          ]
        },
        {
          "output_type": "stream",
          "name": "stderr",
          "text": [
            "100%|██████████| 157/157 [00:02<00:00, 78.14it/s]\n"
          ]
        },
        {
          "output_type": "stream",
          "name": "stdout",
          "text": [
            "\n",
            "Unstructured Prune has 69.50636942675159 Test accuracy on testData\n"
          ]
        },
        {
          "output_type": "stream",
          "name": "stderr",
          "text": [
            "100%|██████████| 157/157 [00:02<00:00, 66.49it/s]\n"
          ]
        },
        {
          "output_type": "stream",
          "name": "stdout",
          "text": [
            "\n",
            "Unstructured Prune has 38.62460191082803 Test accuracy on testData\n"
          ]
        },
        {
          "output_type": "stream",
          "name": "stderr",
          "text": [
            "100%|██████████| 157/157 [00:02<00:00, 64.54it/s]\n"
          ]
        },
        {
          "output_type": "stream",
          "name": "stdout",
          "text": [
            "\n",
            "Unstructured Prune has 35.71855095541402 Test accuracy on testData\n"
          ]
        },
        {
          "output_type": "stream",
          "name": "stderr",
          "text": [
            "100%|██████████| 157/157 [00:02<00:00, 62.20it/s]\n"
          ]
        },
        {
          "output_type": "stream",
          "name": "stdout",
          "text": [
            "\n",
            "Unstructured Prune has 34.056528662420384 Test accuracy on testData\n"
          ]
        },
        {
          "output_type": "stream",
          "name": "stderr",
          "text": [
            "100%|██████████| 157/157 [00:01<00:00, 80.26it/s]\n"
          ]
        },
        {
          "output_type": "stream",
          "name": "stdout",
          "text": [
            "\n",
            "Unstructured Prune has 16.24203821656051 Test accuracy on testData\n"
          ]
        },
        {
          "output_type": "stream",
          "name": "stderr",
          "text": [
            "100%|██████████| 157/157 [00:02<00:00, 55.41it/s]\n"
          ]
        },
        {
          "output_type": "stream",
          "name": "stdout",
          "text": [
            "\n",
            "Unstructured Prune has 19.89450636942675 Test accuracy on testData\n"
          ]
        },
        {
          "output_type": "stream",
          "name": "stderr",
          "text": [
            "100%|██████████| 157/157 [00:02<00:00, 64.81it/s]"
          ]
        },
        {
          "output_type": "stream",
          "name": "stdout",
          "text": [
            "\n",
            "Unstructured Prune has 18.312101910828023 Test accuracy on testData\n"
          ]
        },
        {
          "output_type": "stream",
          "name": "stderr",
          "text": [
            "\n"
          ]
        }
      ]
    },
    {
      "cell_type": "markdown",
      "source": [
        "### Layerwise structured pruning"
      ],
      "metadata": {
        "id": "0QVLudIt27QF"
      }
    },
    {
      "cell_type": "code",
      "source": [
        "def layer_structured_prune(model:nn.Module, prunePercentage:float):\n",
        "    for name, module in model.named_modules():\n",
        "        if isinstance(module, torch.nn.Linear):\n",
        "            prune.ln_structured(module, name='weight', amount=prunePercentage, n=1, dim=0)\n",
        "    return model\n",
        "\n",
        "\n",
        "# placeholder to store results\n",
        "l1_structured_accuracies = []\n",
        "\n",
        "# iterate through each prune percentage\n",
        "for perc in prunePercentages:\n",
        "    # load the pretrained model\n",
        "    model = MLPClassifier().to(device)\n",
        "    model.load_state_dict(torch.load(\"./MLP.pt\"))\n",
        "\n",
        "    # prune the model\n",
        "    structuredPruneModel = layer_structured_prune(model, perc)\n",
        "\n",
        "    # evaluate the pruned model on test data\n",
        "    l1_structured_accuracies.append(evaluteOnTestData(structuredPruneModel, None, \\\n",
        "          device, test_loader, meanClassificationAccuracyMetric, \"Test accuracy\", \"structured Prune\"))"
      ],
      "metadata": {
        "id": "Zq3dZc_q3BzQ",
        "colab": {
          "base_uri": "https://localhost:8080/"
        },
        "outputId": "0db0fc7c-85ec-4a64-83e5-9a44efbc7839"
      },
      "execution_count": 32,
      "outputs": [
        {
          "output_type": "stream",
          "name": "stderr",
          "text": [
            "100%|██████████| 157/157 [00:01<00:00, 79.65it/s]\n"
          ]
        },
        {
          "output_type": "stream",
          "name": "stdout",
          "text": [
            "\n",
            "structured Prune has 82.61345541401273 Test accuracy on testData\n"
          ]
        },
        {
          "output_type": "stream",
          "name": "stderr",
          "text": [
            "100%|██████████| 157/157 [00:01<00:00, 80.00it/s]\n"
          ]
        },
        {
          "output_type": "stream",
          "name": "stdout",
          "text": [
            "\n",
            "structured Prune has 59.583996815286625 Test accuracy on testData\n"
          ]
        },
        {
          "output_type": "stream",
          "name": "stderr",
          "text": [
            "100%|██████████| 157/157 [00:01<00:00, 79.83it/s]\n"
          ]
        },
        {
          "output_type": "stream",
          "name": "stdout",
          "text": [
            "\n",
            "structured Prune has 53.68232484076433 Test accuracy on testData\n"
          ]
        },
        {
          "output_type": "stream",
          "name": "stderr",
          "text": [
            "100%|██████████| 157/157 [00:01<00:00, 80.52it/s]\n"
          ]
        },
        {
          "output_type": "stream",
          "name": "stdout",
          "text": [
            "\n",
            "structured Prune has 46.078821656050955 Test accuracy on testData\n"
          ]
        },
        {
          "output_type": "stream",
          "name": "stderr",
          "text": [
            "100%|██████████| 157/157 [00:01<00:00, 81.08it/s]\n"
          ]
        },
        {
          "output_type": "stream",
          "name": "stdout",
          "text": [
            "\n",
            "structured Prune has 14.261544585987263 Test accuracy on testData\n"
          ]
        },
        {
          "output_type": "stream",
          "name": "stderr",
          "text": [
            "100%|██████████| 157/157 [00:02<00:00, 72.66it/s]\n"
          ]
        },
        {
          "output_type": "stream",
          "name": "stdout",
          "text": [
            "\n",
            "structured Prune has 10.041799363057324 Test accuracy on testData\n"
          ]
        },
        {
          "output_type": "stream",
          "name": "stderr",
          "text": [
            "100%|██████████| 157/157 [00:02<00:00, 73.20it/s]\n"
          ]
        },
        {
          "output_type": "stream",
          "name": "stdout",
          "text": [
            "\n",
            "structured Prune has 10.011942675159236 Test accuracy on testData\n"
          ]
        },
        {
          "output_type": "stream",
          "name": "stderr",
          "text": [
            "100%|██████████| 157/157 [00:02<00:00, 66.63it/s]"
          ]
        },
        {
          "output_type": "stream",
          "name": "stdout",
          "text": [
            "\n",
            "structured Prune has 9.982085987261147 Test accuracy on testData\n"
          ]
        },
        {
          "output_type": "stream",
          "name": "stderr",
          "text": [
            "\n"
          ]
        }
      ]
    },
    {
      "cell_type": "markdown",
      "metadata": {
        "id": "qS5wCIUmTDxB"
      },
      "source": [
        "### Global Unstructured Pruning"
      ]
    },
    {
      "cell_type": "code",
      "metadata": {
        "execution": {
          "iopub.status.busy": "2021-10-04T00:18:16.482198Z",
          "iopub.execute_input": "2021-10-04T00:18:16.482508Z",
          "iopub.status.idle": "2021-10-04T00:18:16.490515Z",
          "shell.execute_reply.started": "2021-10-04T00:18:16.482474Z",
          "shell.execute_reply": "2021-10-04T00:18:16.489822Z"
        },
        "trusted": true,
        "id": "tezp6DKt2ubf",
        "colab": {
          "base_uri": "https://localhost:8080/"
        },
        "outputId": "99d67b30-a374-430b-e795-fb82653abcb3"
      },
      "source": [
        "def global_unstructured_prune(model:nn.Module, prunePercentage:float):\n",
        "    parameters_to_prune = []\n",
        "    for name, module in model.named_modules():\n",
        "        if isinstance(module, torch.nn.Linear):\n",
        "            parameters_to_prune.append((module, 'weight'))\n",
        "    prune.global_unstructured(parameters_to_prune, pruning_method=prune.L1Unstructured, amount=prunePercentage)\n",
        "    return model\n",
        "\n",
        "\n",
        "# placeholder to store results\n",
        "global_prune_accuracies = []\n",
        "\n",
        "# iterate through each prune percentage\n",
        "for perc in prunePercentages:\n",
        "    # load the pretrained model\n",
        "    model = MLPClassifier().to(device)\n",
        "    model.load_state_dict(torch.load(\"./MLP.pt\"))\n",
        "\n",
        "    # prune the model\n",
        "    globalPruneModel = global_unstructured_prune(model, perc)\n",
        "\n",
        "    # evaluate the pruned model on test data\n",
        "    global_prune_accuracies.append(evaluteOnTestData(globalPruneModel, None, \\\n",
        "          device, test_loader, meanClassificationAccuracyMetric, \"Test accuracy\", \"structured Prune\"))    "
      ],
      "execution_count": 34,
      "outputs": [
        {
          "output_type": "stream",
          "name": "stderr",
          "text": [
            "100%|██████████| 157/157 [00:01<00:00, 79.50it/s]\n"
          ]
        },
        {
          "output_type": "stream",
          "name": "stdout",
          "text": [
            "\n",
            "structured Prune has 82.62340764331209 Test accuracy on testData\n"
          ]
        },
        {
          "output_type": "stream",
          "name": "stderr",
          "text": [
            "100%|██████████| 157/157 [00:01<00:00, 79.30it/s]\n"
          ]
        },
        {
          "output_type": "stream",
          "name": "stdout",
          "text": [
            "\n",
            "structured Prune has 82.64331210191082 Test accuracy on testData\n"
          ]
        },
        {
          "output_type": "stream",
          "name": "stderr",
          "text": [
            "100%|██████████| 157/157 [00:01<00:00, 80.51it/s]\n"
          ]
        },
        {
          "output_type": "stream",
          "name": "stdout",
          "text": [
            "\n",
            "structured Prune has 82.21536624203821 Test accuracy on testData\n"
          ]
        },
        {
          "output_type": "stream",
          "name": "stderr",
          "text": [
            "100%|██████████| 157/157 [00:01<00:00, 79.79it/s]\n"
          ]
        },
        {
          "output_type": "stream",
          "name": "stdout",
          "text": [
            "\n",
            "structured Prune has 55.27468152866242 Test accuracy on testData\n"
          ]
        },
        {
          "output_type": "stream",
          "name": "stderr",
          "text": [
            "100%|██████████| 157/157 [00:01<00:00, 79.10it/s]\n"
          ]
        },
        {
          "output_type": "stream",
          "name": "stdout",
          "text": [
            "\n",
            "structured Prune has 27.796576433121018 Test accuracy on testData\n"
          ]
        },
        {
          "output_type": "stream",
          "name": "stderr",
          "text": [
            "100%|██████████| 157/157 [00:01<00:00, 80.58it/s]\n"
          ]
        },
        {
          "output_type": "stream",
          "name": "stdout",
          "text": [
            "\n",
            "structured Prune has 26.184315286624205 Test accuracy on testData\n"
          ]
        },
        {
          "output_type": "stream",
          "name": "stderr",
          "text": [
            "100%|██████████| 157/157 [00:01<00:00, 80.25it/s]\n"
          ]
        },
        {
          "output_type": "stream",
          "name": "stdout",
          "text": [
            "\n",
            "structured Prune has 16.82921974522293 Test accuracy on testData\n"
          ]
        },
        {
          "output_type": "stream",
          "name": "stderr",
          "text": [
            "100%|██████████| 157/157 [00:01<00:00, 79.97it/s]"
          ]
        },
        {
          "output_type": "stream",
          "name": "stdout",
          "text": [
            "\n",
            "structured Prune has 19.59593949044586 Test accuracy on testData\n"
          ]
        },
        {
          "output_type": "stream",
          "name": "stderr",
          "text": [
            "\n"
          ]
        }
      ]
    },
    {
      "cell_type": "markdown",
      "metadata": {
        "id": "Oeb5myYYTNAG"
      },
      "source": [
        "## 5 - **Analysis**: Visualize the results and find the best!\n"
      ]
    },
    {
      "cell_type": "code",
      "metadata": {
        "id": "4srTWA7hTS5q",
        "colab": {
          "base_uri": "https://localhost:8080/",
          "height": 295
        },
        "outputId": "17aa8d53-c6e3-4eb6-d5bd-241a6f5830ca"
      },
      "source": [
        "fig, ax = plt.subplots(1,1,figsize=(8,4))\n",
        "ax.plot(np.array(prunePercentages) * 100.0, np.array(l1_unstructured_accuracies), label='Layerwise Unstructured')\n",
        "ax.plot(np.array(prunePercentages) * 100.0, np.array(l1_structured_accuracies), label='Layerwise Structured')\n",
        "ax.plot(np.array(prunePercentages) * 100.0, np.array(global_prune_accuracies), label='Global Unstructured')\n",
        "ax.set(xlabel ='Prune percentage (Sparsity) %', ylabel = 'Test set Accuracy (%)', title = 'METRICS FOR DIFFERENT PRUNING TECHNIQUES')\n",
        "ax.legend()\n",
        "ax.grid(True)\n",
        "plt.show()"
      ],
      "execution_count": 35,
      "outputs": [
        {
          "output_type": "display_data",
          "data": {
            "image/png": "[encoded data removed]",
            "text/plain": [
              "<Figure size 576x288 with 1 Axes>"
            ]
          },
          "metadata": {
            "needs_background": "light"
          }
        }
      ]
    },
    {
      "cell_type": "markdown",
      "source": [
        "### Observations\n",
        "\n",
        " - We can observe that even at ~55% Sparsity, layer wise unstructured pruning techniques maintain ~75% test accuracy.\n",
        " - Beyond a threshold (60% in our case), test accuracy drops significantly for all 3 techniques indicating the model is not able to capture enough information with the remaining weights\n",
        " - At least in our case, structured pruning is worse than unstructured pruning. "
      ],
      "metadata": {
        "id": "rpTK594T5yhW"
      }
    },
    {
      "cell_type": "markdown",
      "source": [
        "**Now, let's plot all 4 layers of our custom model and see how different techiques have pruned weights**"
      ],
      "metadata": {
        "id": "w1vYe8u69ikW"
      }
    },
    {
      "cell_type": "code",
      "source": [
        "def plot_fc_weight(weight, ax=None, cmap='viridis'):\n",
        "  nrows, ncols = weight.shape\n",
        "  x = np.arange(0,ncols)\n",
        "  y = np.arange(0,nrows)\n",
        "  X, Y = np.meshgrid(x,y)\n",
        "  z_np = weight.detach().cpu().numpy()\n",
        "  ln = ax.pcolor(X, Y, z_np, cmap=cmap)\n",
        "  ax.axis('off')\n",
        "  return ln"
      ],
      "metadata": {
        "id": "g_LtAMphdSqN"
      },
      "execution_count": 36,
      "outputs": []
    },
    {
      "cell_type": "code",
      "source": [
        "def plot_custom_model(model, title=''):\n",
        "  fig, axes = plt.subplots(1,4,figsize=(16, 4), gridspec_kw={'width_ratios': [7,5,3,1]})\n",
        "  plot_fc_weight(model.fc1.weight, axes[0])\n",
        "  plot_fc_weight(model.fc2.weight, axes[1])\n",
        "  plot_fc_weight(model.fc3.weight, axes[2])\n",
        "  plot_fc_weight(model.fc4.weight, axes[3])\n",
        "  \n",
        "  axes[0].set_title('FC Layer1')\n",
        "  axes[1].set_title('FC Layer2')\n",
        "  axes[2].set_title('FC Layer3')\n",
        "  axes[3].set_title('FC Layer4')\n",
        "  \n",
        "  if title is not '':\n",
        "    plt.suptitle(title)"
      ],
      "metadata": {
        "id": "-zP9ADHA90fh"
      },
      "execution_count": 37,
      "outputs": []
    },
    {
      "cell_type": "code",
      "source": [
        "plot_custom_model(unStructuredPruneModel, title='Unstructured Pruned Model')"
      ],
      "metadata": {
        "id": "vuFJy6PV-iok",
        "colab": {
          "base_uri": "https://localhost:8080/",
          "height": 277
        },
        "outputId": "1b2e4ae0-0d39-423b-9b2d-edaef7dd24aa"
      },
      "execution_count": 38,
      "outputs": [
        {
          "output_type": "display_data",
          "data": {
            "image/png": "[encoded data removed]",
            "text/plain": [
              "<Figure size 1152x288 with 4 Axes>"
            ]
          },
          "metadata": {
            "needs_background": "light"
          }
        }
      ]
    },
    {
      "cell_type": "code",
      "source": [
        "plot_custom_model(structuredPruneModel, title='Structured Pruned Model')"
      ],
      "metadata": {
        "id": "wcYSimd5_nil",
        "colab": {
          "base_uri": "https://localhost:8080/",
          "height": 277
        },
        "outputId": "93778622-d264-4624-cd0e-f64aeee75ea2"
      },
      "execution_count": 39,
      "outputs": [
        {
          "output_type": "display_data",
          "data": {
            "image/png": "[encoded data removed]",
            "text/plain": [
              "<Figure size 1152x288 with 4 Axes>"
            ]
          },
          "metadata": {
            "needs_background": "light"
          }
        }
      ]
    },
    {
      "cell_type": "code",
      "source": [
        "plot_custom_model(globalPruneModel, 'Global Unstructured Pruned Model')"
      ],
      "metadata": {
        "id": "WQxkWt7X_m-J",
        "colab": {
          "base_uri": "https://localhost:8080/",
          "height": 277
        },
        "outputId": "aaf0fd3c-ec98-4af9-a074-e06084830c47"
      },
      "execution_count": 40,
      "outputs": [
        {
          "output_type": "display_data",
          "data": {
            "image/png": "[encoded data removed]",
            "text/plain": [
              "<Figure size 1152x288 with 4 Axes>"
            ]
          },
          "metadata": {
            "needs_background": "light"
          }
        }
      ]
    },
    {
      "cell_type": "markdown",
      "metadata": {
        "id": "v7XF7eJddRMZ"
      },
      "source": [
        "### Notes —\n",
        "\n",
        "Now that we pruned majority of our model, what performance improvement can we expect?\n",
        "\n",
        "- For now, ***Pytorch pruning doesn't improve the runtime performance of the model. This is because, even though large percentage of weights can be set to zero, the forward pass still uses operations on the entire dense tensors of the model***\n",
        "- ***Sparse tensor operations functionality is still very limited in Pytorch, but it has plans to incorporate optimizations to see effects of Pruning in production systems***\n",
        "- To truly see the effect of the different pruning methods, we need to use a separate library that can optimize the model for pruned weights and apply it to production or recreate the pruned model structure from scratch"
      ]
    }
  ]
}